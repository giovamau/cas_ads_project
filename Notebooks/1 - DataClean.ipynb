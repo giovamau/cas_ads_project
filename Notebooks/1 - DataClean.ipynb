{
 "cells": [
  {
   "cell_type": "code",
   "execution_count": 175,
   "id": "84ff60dc",
   "metadata": {},
   "outputs": [],
   "source": [
    "import pandas as pd\n",
    "import numpy as np\n",
    "import matplotlib.pyplot as plt"
   ]
  },
  {
   "cell_type": "markdown",
   "id": "95ad6c6a",
   "metadata": {},
   "source": [
    "## Load Updated Archive Data\n",
    "\n",
    "- The Raw dataset from the Archive contained information about 681'835 archived video items stored in 13 columns\n",
    "\n",
    "Initial columns:\n",
    "    \n",
    "    'Sendedatum'\n",
    "\n",
    "    'Prg-Id'\n",
    "    'Item-Id'\n",
    "    'Item-Titel'\n",
    "    'Item-Abstract'\n",
    "    'Deskriptoren'\n",
    "    'Deskriptoren-Pfad'\n",
    "    'Personen',\n",
    "\n",
    "    'Program-WebCmsId'\n",
    "    'Item-WebCmsId'\n",
    "    'Web-Titel'\n",
    "    'Web-Lead'\n",
    "    'Web-Description'\n",
    "\n",
    "- In order to reach the goal of this project it was decided to keep only video Items which are part of the SRF online portfolio.\n",
    "- Therefore, all items without Play-SRF identifier or those where the information was not up to date have been removed.\n",
    "- In order to do so all items have been checked against the actual metadata available online (srf.ch/play) and the metadata was updated where this was necessary.\n",
    "- The remaining cleaned and filtered dataset contains 135'741 rows and 15 columns\n",
    "\n",
    "New columns (updated web information): \n",
    "\n",
    "    'title' \n",
    "    'lead'\n",
    "\n",
    "- The video items available where mostly published after 2009-01-01\n",
    "\n",
    "\n",
    " \n",
    "\n",
    "\n",
    "\n"
   ]
  },
  {
   "cell_type": "code",
   "execution_count": 176,
   "id": "404f5a91",
   "metadata": {},
   "outputs": [],
   "source": [
    "df_faro_clean = pd.read_pickle('../Daten/FINAL_il_data_play_srf_v2.pkl')"
   ]
  },
  {
   "cell_type": "code",
   "execution_count": 177,
   "id": "51d2ab06",
   "metadata": {
    "scrolled": true
   },
   "outputs": [
    {
     "data": {
      "text/html": [
       "<div>\n",
       "<style scoped>\n",
       "    .dataframe tbody tr th:only-of-type {\n",
       "        vertical-align: middle;\n",
       "    }\n",
       "\n",
       "    .dataframe tbody tr th {\n",
       "        vertical-align: top;\n",
       "    }\n",
       "\n",
       "    .dataframe thead th {\n",
       "        text-align: right;\n",
       "    }\n",
       "</style>\n",
       "<table border=\"1\" class=\"dataframe\">\n",
       "  <thead>\n",
       "    <tr style=\"text-align: right;\">\n",
       "      <th></th>\n",
       "      <th>Prg-Id</th>\n",
       "      <th>Sendedatum</th>\n",
       "      <th>Item-Id</th>\n",
       "      <th>Item-Titel</th>\n",
       "      <th>Item-Abstract</th>\n",
       "      <th>Web-Titel</th>\n",
       "      <th>Web-Lead</th>\n",
       "      <th>Web-Description</th>\n",
       "      <th>Deskriptoren</th>\n",
       "      <th>Deskriptoren-Pfad</th>\n",
       "      <th>Item-WebCmsId</th>\n",
       "      <th>Program-WebCmsId</th>\n",
       "      <th>title</th>\n",
       "      <th>lead</th>\n",
       "    </tr>\n",
       "  </thead>\n",
       "  <tbody>\n",
       "    <tr>\n",
       "      <th>0</th>\n",
       "      <td>00D32669-925D-4D33-B876-62CA2EE36EC5</td>\n",
       "      <td>2023-09-01</td>\n",
       "      <td>AE73357D-C460-4E34-978A-3BDFDC677DB3</td>\n",
       "      <td>Kurznachrichten Wirtschaft</td>\n",
       "      <td>China: Die Immobilien-Krise hat auch Auswirkun...</td>\n",
       "      <td>SRF Börse vom 01.09.2023</td>\n",
       "      <td>Chinas Immobilienkrise spitzt sich zu. Betroff...</td>\n",
       "      <td>NaN</td>\n",
       "      <td>IMMOBILIENBRANCHE</td>\n",
       "      <td>¦GEWERBE.¦IMMOBILIENBRANCHE¦</td>\n",
       "      <td>91E2FEBE-8E1F-4E39-A492-F1DAF7F49743</td>\n",
       "      <td>24B5D313-B0D3-4C87-88E1-B876DFE1A1B0</td>\n",
       "      <td>SRF Börse vom 01.09.2023</td>\n",
       "      <td>Chinas Immobilienkrise spitzt sich zu. Betroff...</td>\n",
       "    </tr>\n",
       "    <tr>\n",
       "      <th>1</th>\n",
       "      <td>D77CAD26-A970-4520-A060-3986ABE50976</td>\n",
       "      <td>2023-09-01</td>\n",
       "      <td>910284E0-E09D-40DD-A7E8-DE48684ED259</td>\n",
       "      <td>Neues russisches Geschichtsbuch legitimiert Uk...</td>\n",
       "      <td>Russland: Einführung neues russisches Schulbuc...</td>\n",
       "      <td>Russland: Neues Geschichtsbuch legitimiert Ukr...</td>\n",
       "      <td>Russland führt zu Schulbeginn ein neues Geschi...</td>\n",
       "      <td>NaN</td>\n",
       "      <td>KRIEG SCHULE</td>\n",
       "      <td>¦STAAT UND POLITIK.¦KRIEG¦ ¦BILDUNG.¦SCHULE¦</td>\n",
       "      <td>2138EBA9-4A83-4874-A95F-05B7A05DE714</td>\n",
       "      <td>EE05756E-641C-4442-B585-CDF18239202E</td>\n",
       "      <td>Russland: Neues Geschichtsbuch legitimiert Ukr...</td>\n",
       "      <td>Russland führt zu Schulbeginn ein neues Geschi...</td>\n",
       "    </tr>\n",
       "    <tr>\n",
       "      <th>2</th>\n",
       "      <td>D77CAD26-A970-4520-A060-3986ABE50976</td>\n",
       "      <td>2023-09-01</td>\n",
       "      <td>0CBD79FF-FED0-4D94-B5B0-F715F625EE55</td>\n",
       "      <td>Häftlinge halten Gefängnispersonal als Geiseln...</td>\n",
       "      <td>Ecuador: In 6 Gefängnissen halten Häftlinge Wä...</td>\n",
       "      <td>Ecuador: Häftlinge halten Gefängnispersonal al...</td>\n",
       "      <td>In sechs ecuadorianischen Gefängnissen halten ...</td>\n",
       "      <td>NaN</td>\n",
       "      <td>UNRUHEN GEFÄNGNIS</td>\n",
       "      <td>¦STAAT UND POLITIK.¦UNRUHEN¦ ¦JUSTIZ.¦STRAFVOL...</td>\n",
       "      <td>316A3995-C4BF-4333-AC51-E8621D63C151</td>\n",
       "      <td>EE05756E-641C-4442-B585-CDF18239202E</td>\n",
       "      <td>Ecuador: Häftlinge halten Gefängnispersonal al...</td>\n",
       "      <td>In sechs ecuadorianischen Gefängnissen halten ...</td>\n",
       "    </tr>\n",
       "    <tr>\n",
       "      <th>3</th>\n",
       "      <td>D77CAD26-A970-4520-A060-3986ABE50976</td>\n",
       "      <td>2023-09-01</td>\n",
       "      <td>ABEE4AE4-2667-4CE7-A43A-7BF0B39DD147</td>\n",
       "      <td>Neues Datenschutzgesetz in Kraft</td>\n",
       "      <td>Schweiz: Mit dem revidierten Datenschutzgesetz...</td>\n",
       "      <td>Neues Datenschutzgesetz in Kraft</td>\n",
       "      <td>Krankenkasse  Treueprogramme oder Zugfahrten: ...</td>\n",
       "      <td>NaN</td>\n",
       "      <td>GESETZ DATENSCHUTZ</td>\n",
       "      <td>¦JUSTIZ.¦GESETZ¦ ¦JUSTIZ.¦PERSÖNLICHKEITSSCHUT...</td>\n",
       "      <td>408E7B78-58C8-4C1B-B6D4-32C1FD277C9C</td>\n",
       "      <td>EE05756E-641C-4442-B585-CDF18239202E</td>\n",
       "      <td>Neues Datenschutzgesetz in Kraft</td>\n",
       "      <td>Krankenkasse, Treueprogramme oder Zugfahrten: ...</td>\n",
       "    </tr>\n",
       "    <tr>\n",
       "      <th>4</th>\n",
       "      <td>D77CAD26-A970-4520-A060-3986ABE50976</td>\n",
       "      <td>2023-09-01</td>\n",
       "      <td>8F41D6A2-D66B-4260-AEFB-94F1AE4E4E28</td>\n",
       "      <td>Rentenreform in Frankreich in Kraft</td>\n",
       "      <td>Frankreich: Nach monatelangen Protesten gilt n...</td>\n",
       "      <td>Rentenreform in Frankreich in Kraft</td>\n",
       "      <td>Nach monatelangen Protesten gilt in Frankreich...</td>\n",
       "      <td>NaN</td>\n",
       "      <td>GEWERKSCHAFT PENSIONIERUNG</td>\n",
       "      <td>¦ARBEIT.¦SOZIALPARTNERSCHAFT¦GEWERKSCHAFT¦ ¦AR...</td>\n",
       "      <td>88DCB1FA-EE0A-4E40-AA0A-12269FDC7BDD</td>\n",
       "      <td>EE05756E-641C-4442-B585-CDF18239202E</td>\n",
       "      <td>Rentenreform in Frankreich in Kraft</td>\n",
       "      <td>Nach monatelangen Protesten gilt in Frankreich...</td>\n",
       "    </tr>\n",
       "  </tbody>\n",
       "</table>\n",
       "</div>"
      ],
      "text/plain": [
       "                                 Prg-Id Sendedatum  \\\n",
       "0  00D32669-925D-4D33-B876-62CA2EE36EC5 2023-09-01   \n",
       "1  D77CAD26-A970-4520-A060-3986ABE50976 2023-09-01   \n",
       "2  D77CAD26-A970-4520-A060-3986ABE50976 2023-09-01   \n",
       "3  D77CAD26-A970-4520-A060-3986ABE50976 2023-09-01   \n",
       "4  D77CAD26-A970-4520-A060-3986ABE50976 2023-09-01   \n",
       "\n",
       "                                Item-Id  \\\n",
       "0  AE73357D-C460-4E34-978A-3BDFDC677DB3   \n",
       "1  910284E0-E09D-40DD-A7E8-DE48684ED259   \n",
       "2  0CBD79FF-FED0-4D94-B5B0-F715F625EE55   \n",
       "3  ABEE4AE4-2667-4CE7-A43A-7BF0B39DD147   \n",
       "4  8F41D6A2-D66B-4260-AEFB-94F1AE4E4E28   \n",
       "\n",
       "                                          Item-Titel  \\\n",
       "0                         Kurznachrichten Wirtschaft   \n",
       "1  Neues russisches Geschichtsbuch legitimiert Uk...   \n",
       "2  Häftlinge halten Gefängnispersonal als Geiseln...   \n",
       "3                   Neues Datenschutzgesetz in Kraft   \n",
       "4                Rentenreform in Frankreich in Kraft   \n",
       "\n",
       "                                       Item-Abstract  \\\n",
       "0  China: Die Immobilien-Krise hat auch Auswirkun...   \n",
       "1  Russland: Einführung neues russisches Schulbuc...   \n",
       "2  Ecuador: In 6 Gefängnissen halten Häftlinge Wä...   \n",
       "3  Schweiz: Mit dem revidierten Datenschutzgesetz...   \n",
       "4  Frankreich: Nach monatelangen Protesten gilt n...   \n",
       "\n",
       "                                           Web-Titel  \\\n",
       "0                           SRF Börse vom 01.09.2023   \n",
       "1  Russland: Neues Geschichtsbuch legitimiert Ukr...   \n",
       "2  Ecuador: Häftlinge halten Gefängnispersonal al...   \n",
       "3                   Neues Datenschutzgesetz in Kraft   \n",
       "4                Rentenreform in Frankreich in Kraft   \n",
       "\n",
       "                                            Web-Lead Web-Description  \\\n",
       "0  Chinas Immobilienkrise spitzt sich zu. Betroff...             NaN   \n",
       "1  Russland führt zu Schulbeginn ein neues Geschi...             NaN   \n",
       "2  In sechs ecuadorianischen Gefängnissen halten ...             NaN   \n",
       "3  Krankenkasse  Treueprogramme oder Zugfahrten: ...             NaN   \n",
       "4  Nach monatelangen Protesten gilt in Frankreich...             NaN   \n",
       "\n",
       "                 Deskriptoren  \\\n",
       "0           IMMOBILIENBRANCHE   \n",
       "1                KRIEG SCHULE   \n",
       "2           UNRUHEN GEFÄNGNIS   \n",
       "3          GESETZ DATENSCHUTZ   \n",
       "4  GEWERKSCHAFT PENSIONIERUNG   \n",
       "\n",
       "                                   Deskriptoren-Pfad  \\\n",
       "0                       ¦GEWERBE.¦IMMOBILIENBRANCHE¦   \n",
       "1       ¦STAAT UND POLITIK.¦KRIEG¦ ¦BILDUNG.¦SCHULE¦   \n",
       "2  ¦STAAT UND POLITIK.¦UNRUHEN¦ ¦JUSTIZ.¦STRAFVOL...   \n",
       "3  ¦JUSTIZ.¦GESETZ¦ ¦JUSTIZ.¦PERSÖNLICHKEITSSCHUT...   \n",
       "4  ¦ARBEIT.¦SOZIALPARTNERSCHAFT¦GEWERKSCHAFT¦ ¦AR...   \n",
       "\n",
       "                          Item-WebCmsId                      Program-WebCmsId  \\\n",
       "0  91E2FEBE-8E1F-4E39-A492-F1DAF7F49743  24B5D313-B0D3-4C87-88E1-B876DFE1A1B0   \n",
       "1  2138EBA9-4A83-4874-A95F-05B7A05DE714  EE05756E-641C-4442-B585-CDF18239202E   \n",
       "2  316A3995-C4BF-4333-AC51-E8621D63C151  EE05756E-641C-4442-B585-CDF18239202E   \n",
       "3  408E7B78-58C8-4C1B-B6D4-32C1FD277C9C  EE05756E-641C-4442-B585-CDF18239202E   \n",
       "4  88DCB1FA-EE0A-4E40-AA0A-12269FDC7BDD  EE05756E-641C-4442-B585-CDF18239202E   \n",
       "\n",
       "                                               title  \\\n",
       "0                           SRF Börse vom 01.09.2023   \n",
       "1  Russland: Neues Geschichtsbuch legitimiert Ukr...   \n",
       "2  Ecuador: Häftlinge halten Gefängnispersonal al...   \n",
       "3                   Neues Datenschutzgesetz in Kraft   \n",
       "4                Rentenreform in Frankreich in Kraft   \n",
       "\n",
       "                                                lead  \n",
       "0  Chinas Immobilienkrise spitzt sich zu. Betroff...  \n",
       "1  Russland führt zu Schulbeginn ein neues Geschi...  \n",
       "2  In sechs ecuadorianischen Gefängnissen halten ...  \n",
       "3  Krankenkasse, Treueprogramme oder Zugfahrten: ...  \n",
       "4  Nach monatelangen Protesten gilt in Frankreich...  "
      ]
     },
     "execution_count": 177,
     "metadata": {},
     "output_type": "execute_result"
    }
   ],
   "source": [
    "df_faro_clean.head()"
   ]
  },
  {
   "cell_type": "code",
   "execution_count": 178,
   "id": "1742404e",
   "metadata": {},
   "outputs": [
    {
     "data": {
      "text/html": [
       "<div>\n",
       "<style scoped>\n",
       "    .dataframe tbody tr th:only-of-type {\n",
       "        vertical-align: middle;\n",
       "    }\n",
       "\n",
       "    .dataframe tbody tr th {\n",
       "        vertical-align: top;\n",
       "    }\n",
       "\n",
       "    .dataframe thead th {\n",
       "        text-align: right;\n",
       "    }\n",
       "</style>\n",
       "<table border=\"1\" class=\"dataframe\">\n",
       "  <thead>\n",
       "    <tr style=\"text-align: right;\">\n",
       "      <th></th>\n",
       "      <th>118279</th>\n",
       "    </tr>\n",
       "  </thead>\n",
       "  <tbody>\n",
       "    <tr>\n",
       "      <th>Prg-Id</th>\n",
       "      <td>5476DE54-0B16-4CF6-B4B8-6FE296724B2E</td>\n",
       "    </tr>\n",
       "    <tr>\n",
       "      <th>Sendedatum</th>\n",
       "      <td>2021-06-18 00:00:00</td>\n",
       "    </tr>\n",
       "    <tr>\n",
       "      <th>Item-Id</th>\n",
       "      <td>13B5C3D4-FFB9-4457-BAEE-A02D74C6AF5B</td>\n",
       "    </tr>\n",
       "    <tr>\n",
       "      <th>Item-Titel</th>\n",
       "      <td>Echte Tierhelden (5/6)</td>\n",
       "    </tr>\n",
       "    <tr>\n",
       "      <th>Item-Abstract</th>\n",
       "      <td>Schweiz: Porträts von Menschen und deren Einri...</td>\n",
       "    </tr>\n",
       "    <tr>\n",
       "      <th>Web-Titel</th>\n",
       "      <td>Vergnügliche Spielstunden des Affenbabys Gery</td>\n",
       "    </tr>\n",
       "    <tr>\n",
       "      <th>Web-Lead</th>\n",
       "      <td>Die Tatkraft der Menschen, die sich für Tiere ...</td>\n",
       "    </tr>\n",
       "    <tr>\n",
       "      <th>Web-Description</th>\n",
       "      <td>In insgesamt sechs Folgen erzählt «SRF bi de L...</td>\n",
       "    </tr>\n",
       "    <tr>\n",
       "      <th>Deskriptoren</th>\n",
       "      <td>TIERHALTUNG VETERINÄRMEDIZIN TIERSCHUTZ</td>\n",
       "    </tr>\n",
       "    <tr>\n",
       "      <th>Deskriptoren-Pfad</th>\n",
       "      <td>¦LANDWIRTSCHAFT.¦TIERHALTUNG¦ ¦LANDWIRTSCHAFT....</td>\n",
       "    </tr>\n",
       "    <tr>\n",
       "      <th>Item-WebCmsId</th>\n",
       "      <td>35517116-E962-4A72-A032-87A551E18A78</td>\n",
       "    </tr>\n",
       "    <tr>\n",
       "      <th>Program-WebCmsId</th>\n",
       "      <td>D9F4C4A4-3D82-4AE1-9498-EFEF3C118460</td>\n",
       "    </tr>\n",
       "    <tr>\n",
       "      <th>title</th>\n",
       "      <td>Vergnügliche Spielstunden des Affenbabys Gery ...</td>\n",
       "    </tr>\n",
       "    <tr>\n",
       "      <th>lead</th>\n",
       "      <td>Die Tatkraft der Menschen, die sich für Tiere ...</td>\n",
       "    </tr>\n",
       "  </tbody>\n",
       "</table>\n",
       "</div>"
      ],
      "text/plain": [
       "                                                              118279\n",
       "Prg-Id                          5476DE54-0B16-4CF6-B4B8-6FE296724B2E\n",
       "Sendedatum                                       2021-06-18 00:00:00\n",
       "Item-Id                         13B5C3D4-FFB9-4457-BAEE-A02D74C6AF5B\n",
       "Item-Titel                                    Echte Tierhelden (5/6)\n",
       "Item-Abstract      Schweiz: Porträts von Menschen und deren Einri...\n",
       "Web-Titel              Vergnügliche Spielstunden des Affenbabys Gery\n",
       "Web-Lead           Die Tatkraft der Menschen, die sich für Tiere ...\n",
       "Web-Description    In insgesamt sechs Folgen erzählt «SRF bi de L...\n",
       "Deskriptoren                 TIERHALTUNG VETERINÄRMEDIZIN TIERSCHUTZ\n",
       "Deskriptoren-Pfad  ¦LANDWIRTSCHAFT.¦TIERHALTUNG¦ ¦LANDWIRTSCHAFT....\n",
       "Item-WebCmsId                   35517116-E962-4A72-A032-87A551E18A78\n",
       "Program-WebCmsId                D9F4C4A4-3D82-4AE1-9498-EFEF3C118460\n",
       "title              Vergnügliche Spielstunden des Affenbabys Gery ...\n",
       "lead               Die Tatkraft der Menschen, die sich für Tiere ..."
      ]
     },
     "execution_count": 178,
     "metadata": {},
     "output_type": "execute_result"
    }
   ],
   "source": [
    "test = df_faro_clean.copy()\n",
    "test['Web-Titel'] = test['Web-Titel'].str.replace('  ', ', ')\n",
    "test['Web-Lead'] = test['Web-Lead'].str.replace('  ', ', ')\n",
    "\n",
    "test_ = test[test['Web-Titel']!=test['title']].sample(1).transpose()\n",
    "test_.to_clipboard()\n",
    "test_"
   ]
  },
  {
   "cell_type": "code",
   "execution_count": 179,
   "id": "c9d4ac43",
   "metadata": {
    "scrolled": false
   },
   "outputs": [
    {
     "name": "stderr",
     "output_type": "stream",
     "text": [
      "<ipython-input-179-b00056ddccff>:2: SettingWithCopyWarning: \n",
      "A value is trying to be set on a copy of a slice from a DataFrame.\n",
      "Try using .loc[row_indexer,col_indexer] = value instead\n",
      "\n",
      "See the caveats in the documentation: https://pandas.pydata.org/pandas-docs/stable/user_guide/indexing.html#returning-a-view-versus-a-copy\n",
      "  df_upload_year['count'] = 1\n"
     ]
    },
    {
     "data": {
      "image/png": "[encoded data removed]",
      "text/plain": [
       "<Figure size 640x480 with 1 Axes>"
      ]
     },
     "metadata": {},
     "output_type": "display_data"
    }
   ],
   "source": [
    "df_upload_year = df_faro_clean[['Sendedatum']]\n",
    "df_upload_year['count'] = 1\n",
    "df_upload_year.groupby('Sendedatum').sum()\n",
    "\n",
    "\n",
    "# Plot the results\n",
    "df_upload_year.groupby('Sendedatum').sum().plot()\n",
    "plt.title('Publication Dates of the Video-Items')\n",
    "#plt.xlabel('Columns')\n",
    "plt.ylabel('Count')\n",
    "plt.show()"
   ]
  },
  {
   "cell_type": "markdown",
   "id": "ac900088",
   "metadata": {},
   "source": [
    "#### Filter out old videos (outliers)"
   ]
  },
  {
   "cell_type": "code",
   "execution_count": 180,
   "id": "118ec1ab",
   "metadata": {},
   "outputs": [
    {
     "data": {
      "text/plain": [
       "(8, 14)"
      ]
     },
     "execution_count": 180,
     "metadata": {},
     "output_type": "execute_result"
    }
   ],
   "source": [
    "df_faro_clean[df_faro_clean['Sendedatum']<='2009-01-01'].shape"
   ]
  },
  {
   "cell_type": "code",
   "execution_count": 181,
   "id": "c1601206",
   "metadata": {},
   "outputs": [],
   "source": [
    "df_faro_clean = df_faro_clean[df_faro_clean['Sendedatum']>='2009-01-01']"
   ]
  },
  {
   "cell_type": "markdown",
   "id": "17ecc47f",
   "metadata": {},
   "source": [
    "## Split Sachdeskriptoren\n",
    "\n",
    "- Because of data quality was not perfect in the initial dataset and in order to keep all the hierarchical information available in the 'Sachdeskriptor' it was decided to extract the tags step by step from scratch"
   ]
  },
  {
   "cell_type": "code",
   "execution_count": 182,
   "id": "2bade263",
   "metadata": {},
   "outputs": [],
   "source": [
    "df_faro_clean['Deskriptoren-Pfad-Split'] = df_faro_clean['Deskriptoren-Pfad'].str.replace('¦ ', '¦---')\n",
    "df_faro_clean['Deskriptoren-Pfad-Split'] = df_faro_clean['Deskriptoren-Pfad-Split'].str.split('---')"
   ]
  },
  {
   "cell_type": "code",
   "execution_count": 183,
   "id": "0ed66725",
   "metadata": {},
   "outputs": [
    {
     "data": {
      "text/plain": [
       "0                            [¦GEWERBE.¦IMMOBILIENBRANCHE¦]\n",
       "1           [¦STAAT UND POLITIK.¦KRIEG¦, ¦BILDUNG.¦SCHULE¦]\n",
       "2         [¦STAAT UND POLITIK.¦UNRUHEN¦, ¦JUSTIZ.¦STRAFV...\n",
       "3         [¦JUSTIZ.¦GESETZ¦, ¦JUSTIZ.¦PERSÖNLICHKEITSSCH...\n",
       "4         [¦ARBEIT.¦SOZIALPARTNERSCHAFT¦GEWERKSCHAFT¦, ¦...\n",
       "                                ...                        \n",
       "127293    [¦UMWELT.¦GEWÄSSER¦SEE¦, ¦UMWELT.¦UMWELT¦NATUR...\n",
       "127294    [¦LANDWIRTSCHAFT.¦LANDWIRTSCHAFT¦, ¦UMWELT.¦UM...\n",
       "127295    [¦STAAT UND POLITIK.¦POLITIK¦, ¦GESUNDHEIT.¦KR...\n",
       "127296    [¦STAAT UND POLITIK.¦POLIZEI¦, ¦STRAFTAT.¦GEWA...\n",
       "127297    [¦STAAT UND POLITIK.¦KRIEG¦, ¦INDUSTRIE.¦RÜSTU...\n",
       "Name: Deskriptoren-Pfad-Split, Length: 127288, dtype: object"
      ]
     },
     "execution_count": 183,
     "metadata": {},
     "output_type": "execute_result"
    }
   ],
   "source": [
    "df_faro_clean['Deskriptoren-Pfad-Split']"
   ]
  },
  {
   "cell_type": "markdown",
   "id": "57e47162",
   "metadata": {},
   "source": [
    "### Explode DataFrame\n",
    "\n",
    "- Because one item can contain more than one 'Sachdeskriptor' the dataset had to be exploded first - resulting in a dataset with one 'Sachdeskriptor' for each row (and duplicated video items)"
   ]
  },
  {
   "cell_type": "code",
   "execution_count": 184,
   "id": "aeadd2dc",
   "metadata": {},
   "outputs": [],
   "source": [
    "df_faro_expl = df_faro_clean.explode('Deskriptoren-Pfad-Split').reset_index(drop=True)"
   ]
  },
  {
   "cell_type": "code",
   "execution_count": 185,
   "id": "283009a4",
   "metadata": {},
   "outputs": [
    {
     "data": {
      "text/plain": [
       "(261689, 15)"
      ]
     },
     "execution_count": 185,
     "metadata": {},
     "output_type": "execute_result"
    }
   ],
   "source": [
    "df_faro_expl.shape"
   ]
  },
  {
   "cell_type": "markdown",
   "id": "5f09a5df",
   "metadata": {},
   "source": [
    "### Check for multiple values"
   ]
  },
  {
   "cell_type": "code",
   "execution_count": 186,
   "id": "d8c8af82",
   "metadata": {},
   "outputs": [
    {
     "data": {
      "text/html": [
       "<div>\n",
       "<style scoped>\n",
       "    .dataframe tbody tr th:only-of-type {\n",
       "        vertical-align: middle;\n",
       "    }\n",
       "\n",
       "    .dataframe tbody tr th {\n",
       "        vertical-align: top;\n",
       "    }\n",
       "\n",
       "    .dataframe thead th {\n",
       "        text-align: right;\n",
       "    }\n",
       "</style>\n",
       "<table border=\"1\" class=\"dataframe\">\n",
       "  <thead>\n",
       "    <tr style=\"text-align: right;\">\n",
       "      <th></th>\n",
       "      <th>Prg-Id</th>\n",
       "      <th>Sendedatum</th>\n",
       "      <th>Item-Id</th>\n",
       "      <th>Item-Titel</th>\n",
       "      <th>Item-Abstract</th>\n",
       "      <th>Web-Titel</th>\n",
       "      <th>Web-Lead</th>\n",
       "      <th>Web-Description</th>\n",
       "      <th>Deskriptoren</th>\n",
       "      <th>Deskriptoren-Pfad</th>\n",
       "      <th>Item-WebCmsId</th>\n",
       "      <th>Program-WebCmsId</th>\n",
       "      <th>title</th>\n",
       "      <th>lead</th>\n",
       "      <th>Deskriptoren-Pfad-Split</th>\n",
       "    </tr>\n",
       "  </thead>\n",
       "  <tbody>\n",
       "  </tbody>\n",
       "</table>\n",
       "</div>"
      ],
      "text/plain": [
       "Empty DataFrame\n",
       "Columns: [Prg-Id, Sendedatum, Item-Id, Item-Titel, Item-Abstract, Web-Titel, Web-Lead, Web-Description, Deskriptoren, Deskriptoren-Pfad, Item-WebCmsId, Program-WebCmsId, title, lead, Deskriptoren-Pfad-Split]\n",
       "Index: []"
      ]
     },
     "execution_count": 186,
     "metadata": {},
     "output_type": "execute_result"
    }
   ],
   "source": [
    "df_faro_expl[(df_faro_expl['Deskriptoren-Pfad-Split'].isna())]"
   ]
  },
  {
   "cell_type": "code",
   "execution_count": 187,
   "id": "95e7d577",
   "metadata": {},
   "outputs": [
    {
     "data": {
      "text/html": [
       "<div>\n",
       "<style scoped>\n",
       "    .dataframe tbody tr th:only-of-type {\n",
       "        vertical-align: middle;\n",
       "    }\n",
       "\n",
       "    .dataframe tbody tr th {\n",
       "        vertical-align: top;\n",
       "    }\n",
       "\n",
       "    .dataframe thead th {\n",
       "        text-align: right;\n",
       "    }\n",
       "</style>\n",
       "<table border=\"1\" class=\"dataframe\">\n",
       "  <thead>\n",
       "    <tr style=\"text-align: right;\">\n",
       "      <th></th>\n",
       "      <th>Prg-Id</th>\n",
       "      <th>Sendedatum</th>\n",
       "      <th>Item-Id</th>\n",
       "      <th>Item-Titel</th>\n",
       "      <th>Item-Abstract</th>\n",
       "      <th>Web-Titel</th>\n",
       "      <th>Web-Lead</th>\n",
       "      <th>Web-Description</th>\n",
       "      <th>Deskriptoren</th>\n",
       "      <th>Deskriptoren-Pfad</th>\n",
       "      <th>Item-WebCmsId</th>\n",
       "      <th>Program-WebCmsId</th>\n",
       "      <th>title</th>\n",
       "      <th>lead</th>\n",
       "      <th>Deskriptoren-Pfad-Split</th>\n",
       "    </tr>\n",
       "  </thead>\n",
       "  <tbody>\n",
       "  </tbody>\n",
       "</table>\n",
       "</div>"
      ],
      "text/plain": [
       "Empty DataFrame\n",
       "Columns: [Prg-Id, Sendedatum, Item-Id, Item-Titel, Item-Abstract, Web-Titel, Web-Lead, Web-Description, Deskriptoren, Deskriptoren-Pfad, Item-WebCmsId, Program-WebCmsId, title, lead, Deskriptoren-Pfad-Split]\n",
       "Index: []"
      ]
     },
     "execution_count": 187,
     "metadata": {},
     "output_type": "execute_result"
    }
   ],
   "source": [
    "df_faro_expl[df_faro_expl['Item-Id'].fillna('').str.contains(',')]"
   ]
  },
  {
   "cell_type": "code",
   "execution_count": 188,
   "id": "2723f6ae",
   "metadata": {},
   "outputs": [
    {
     "data": {
      "text/html": [
       "<div>\n",
       "<style scoped>\n",
       "    .dataframe tbody tr th:only-of-type {\n",
       "        vertical-align: middle;\n",
       "    }\n",
       "\n",
       "    .dataframe tbody tr th {\n",
       "        vertical-align: top;\n",
       "    }\n",
       "\n",
       "    .dataframe thead th {\n",
       "        text-align: right;\n",
       "    }\n",
       "</style>\n",
       "<table border=\"1\" class=\"dataframe\">\n",
       "  <thead>\n",
       "    <tr style=\"text-align: right;\">\n",
       "      <th></th>\n",
       "      <th>Prg-Id</th>\n",
       "      <th>Sendedatum</th>\n",
       "      <th>Item-Id</th>\n",
       "      <th>Item-Titel</th>\n",
       "      <th>Item-Abstract</th>\n",
       "      <th>Web-Titel</th>\n",
       "      <th>Web-Lead</th>\n",
       "      <th>Web-Description</th>\n",
       "      <th>Deskriptoren</th>\n",
       "      <th>Deskriptoren-Pfad</th>\n",
       "      <th>Item-WebCmsId</th>\n",
       "      <th>Program-WebCmsId</th>\n",
       "      <th>title</th>\n",
       "      <th>lead</th>\n",
       "      <th>Deskriptoren-Pfad-Split</th>\n",
       "    </tr>\n",
       "  </thead>\n",
       "  <tbody>\n",
       "  </tbody>\n",
       "</table>\n",
       "</div>"
      ],
      "text/plain": [
       "Empty DataFrame\n",
       "Columns: [Prg-Id, Sendedatum, Item-Id, Item-Titel, Item-Abstract, Web-Titel, Web-Lead, Web-Description, Deskriptoren, Deskriptoren-Pfad, Item-WebCmsId, Program-WebCmsId, title, lead, Deskriptoren-Pfad-Split]\n",
       "Index: []"
      ]
     },
     "execution_count": 188,
     "metadata": {},
     "output_type": "execute_result"
    }
   ],
   "source": [
    "df_faro_expl[df_faro_expl['Program-WebCmsId'].fillna('').str.contains(',')]"
   ]
  },
  {
   "cell_type": "code",
   "execution_count": 189,
   "id": "b5fb37fc",
   "metadata": {},
   "outputs": [
    {
     "data": {
      "text/html": [
       "<div>\n",
       "<style scoped>\n",
       "    .dataframe tbody tr th:only-of-type {\n",
       "        vertical-align: middle;\n",
       "    }\n",
       "\n",
       "    .dataframe tbody tr th {\n",
       "        vertical-align: top;\n",
       "    }\n",
       "\n",
       "    .dataframe thead th {\n",
       "        text-align: right;\n",
       "    }\n",
       "</style>\n",
       "<table border=\"1\" class=\"dataframe\">\n",
       "  <thead>\n",
       "    <tr style=\"text-align: right;\">\n",
       "      <th></th>\n",
       "      <th>Prg-Id</th>\n",
       "      <th>Sendedatum</th>\n",
       "      <th>Item-Id</th>\n",
       "      <th>Item-Titel</th>\n",
       "      <th>Item-Abstract</th>\n",
       "      <th>Web-Titel</th>\n",
       "      <th>Web-Lead</th>\n",
       "      <th>Web-Description</th>\n",
       "      <th>Deskriptoren</th>\n",
       "      <th>Deskriptoren-Pfad</th>\n",
       "      <th>Item-WebCmsId</th>\n",
       "      <th>Program-WebCmsId</th>\n",
       "      <th>title</th>\n",
       "      <th>lead</th>\n",
       "      <th>Deskriptoren-Pfad-Split</th>\n",
       "    </tr>\n",
       "  </thead>\n",
       "  <tbody>\n",
       "  </tbody>\n",
       "</table>\n",
       "</div>"
      ],
      "text/plain": [
       "Empty DataFrame\n",
       "Columns: [Prg-Id, Sendedatum, Item-Id, Item-Titel, Item-Abstract, Web-Titel, Web-Lead, Web-Description, Deskriptoren, Deskriptoren-Pfad, Item-WebCmsId, Program-WebCmsId, title, lead, Deskriptoren-Pfad-Split]\n",
       "Index: []"
      ]
     },
     "execution_count": 189,
     "metadata": {},
     "output_type": "execute_result"
    }
   ],
   "source": [
    "df_faro_expl[df_faro_expl['Item-WebCmsId'].fillna('').str.contains(',')]"
   ]
  },
  {
   "cell_type": "markdown",
   "id": "9bc0bf7c",
   "metadata": {},
   "source": [
    "### Split Deskriptoren-Pfad in Levels"
   ]
  },
  {
   "cell_type": "code",
   "execution_count": 190,
   "id": "affcfa49",
   "metadata": {},
   "outputs": [],
   "source": [
    "def parse_levels(row):\n",
    "    \"\"\"\n",
    "    Simple function to slpit the 'Sachdeskriptoren' into theyr hierarchical structure\n",
    "    returns: part 1 - n for every 'Sachdeskriptor' where n is the available depth of the hierarchy per item (max depth is 4)\n",
    "    \"\"\"\n",
    "    if isinstance(row, str):\n",
    "        # Check if the string starts and ends with '¦'\n",
    "        if (row.startswith('¦') and row.endswith('¦')):\n",
    "\n",
    "            # Split the string by '¦' and remove empty strings\n",
    "            parts = [part for part in row.split('¦') if part]\n",
    "\n",
    "            # Check if the first element is properly formatted\n",
    "            if len(parts) > 1 and parts[0].endswith('.'):\n",
    "\n",
    "                # Return the levels\n",
    "                return parts"
   ]
  },
  {
   "cell_type": "code",
   "execution_count": 191,
   "id": "3ef4b543",
   "metadata": {},
   "outputs": [],
   "source": [
    "df_faro_expl['Deskriptoren-Pfad-Split-Level'] = df_faro_expl['Deskriptoren-Pfad-Split'].apply(parse_levels)"
   ]
  },
  {
   "cell_type": "code",
   "execution_count": 192,
   "id": "0b597db0",
   "metadata": {},
   "outputs": [
    {
     "data": {
      "text/plain": [
       "4"
      ]
     },
     "execution_count": 192,
     "metadata": {},
     "output_type": "execute_result"
    }
   ],
   "source": [
    "df_faro_expl['Deskriptoren-Pfad-Split-Level'].dropna().apply(len).max()"
   ]
  },
  {
   "cell_type": "code",
   "execution_count": 193,
   "id": "814f397c",
   "metadata": {},
   "outputs": [],
   "source": [
    "df_faro_expl[['descriptor_lvl_1', 'descriptor_lvl_2', 'descriptor_lvl_3', 'descriptor_lvl_4']] = df_faro_expl['Deskriptoren-Pfad-Split-Level'].apply(pd.Series, dtype='object')"
   ]
  },
  {
   "cell_type": "code",
   "execution_count": 238,
   "id": "defd3cea",
   "metadata": {},
   "outputs": [
    {
     "data": {
      "text/html": [
       "<div>\n",
       "<style scoped>\n",
       "    .dataframe tbody tr th:only-of-type {\n",
       "        vertical-align: middle;\n",
       "    }\n",
       "\n",
       "    .dataframe tbody tr th {\n",
       "        vertical-align: top;\n",
       "    }\n",
       "\n",
       "    .dataframe thead th {\n",
       "        text-align: right;\n",
       "    }\n",
       "</style>\n",
       "<table border=\"1\" class=\"dataframe\">\n",
       "  <thead>\n",
       "    <tr style=\"text-align: right;\">\n",
       "      <th></th>\n",
       "      <th>Prg-Id</th>\n",
       "      <th>Sendedatum</th>\n",
       "      <th>Item-Id</th>\n",
       "      <th>Item-Titel</th>\n",
       "      <th>Item-Abstract</th>\n",
       "      <th>Web-Titel</th>\n",
       "      <th>Web-Lead</th>\n",
       "      <th>Web-Description</th>\n",
       "      <th>Deskriptoren</th>\n",
       "      <th>Deskriptoren-Pfad</th>\n",
       "      <th>Item-WebCmsId</th>\n",
       "      <th>Program-WebCmsId</th>\n",
       "      <th>title</th>\n",
       "      <th>lead</th>\n",
       "      <th>Deskriptoren-Pfad-Split</th>\n",
       "      <th>Deskriptoren-Pfad-Split-Level</th>\n",
       "      <th>descriptor_lvl_1</th>\n",
       "      <th>descriptor_lvl_2</th>\n",
       "      <th>descriptor_lvl_3</th>\n",
       "      <th>descriptor_lvl_4</th>\n",
       "    </tr>\n",
       "  </thead>\n",
       "  <tbody>\n",
       "    <tr>\n",
       "      <th>0</th>\n",
       "      <td>00D32669-925D-4D33-B876-62CA2EE36EC5</td>\n",
       "      <td>2023-09-01</td>\n",
       "      <td>AE73357D-C460-4E34-978A-3BDFDC677DB3</td>\n",
       "      <td>Kurznachrichten Wirtschaft</td>\n",
       "      <td>China: Die Immobilien-Krise hat auch Auswirkun...</td>\n",
       "      <td>SRF Börse vom 01.09.2023</td>\n",
       "      <td>Chinas Immobilienkrise spitzt sich zu. Betroff...</td>\n",
       "      <td>NaN</td>\n",
       "      <td>IMMOBILIENBRANCHE</td>\n",
       "      <td>¦GEWERBE.¦IMMOBILIENBRANCHE¦</td>\n",
       "      <td>91E2FEBE-8E1F-4E39-A492-F1DAF7F49743</td>\n",
       "      <td>24B5D313-B0D3-4C87-88E1-B876DFE1A1B0</td>\n",
       "      <td>SRF Börse vom 01.09.2023</td>\n",
       "      <td>Chinas Immobilienkrise spitzt sich zu. Betroff...</td>\n",
       "      <td>¦GEWERBE.¦IMMOBILIENBRANCHE¦</td>\n",
       "      <td>[GEWERBE., IMMOBILIENBRANCHE]</td>\n",
       "      <td>GEWERBE.</td>\n",
       "      <td>IMMOBILIENBRANCHE</td>\n",
       "      <td>NaN</td>\n",
       "      <td>NaN</td>\n",
       "    </tr>\n",
       "    <tr>\n",
       "      <th>1</th>\n",
       "      <td>D77CAD26-A970-4520-A060-3986ABE50976</td>\n",
       "      <td>2023-09-01</td>\n",
       "      <td>910284E0-E09D-40DD-A7E8-DE48684ED259</td>\n",
       "      <td>Neues russisches Geschichtsbuch legitimiert Uk...</td>\n",
       "      <td>Russland: Einführung neues russisches Schulbuc...</td>\n",
       "      <td>Russland: Neues Geschichtsbuch legitimiert Ukr...</td>\n",
       "      <td>Russland führt zu Schulbeginn ein neues Geschi...</td>\n",
       "      <td>NaN</td>\n",
       "      <td>KRIEG SCHULE</td>\n",
       "      <td>¦STAAT UND POLITIK.¦KRIEG¦ ¦BILDUNG.¦SCHULE¦</td>\n",
       "      <td>2138EBA9-4A83-4874-A95F-05B7A05DE714</td>\n",
       "      <td>EE05756E-641C-4442-B585-CDF18239202E</td>\n",
       "      <td>Russland: Neues Geschichtsbuch legitimiert Ukr...</td>\n",
       "      <td>Russland führt zu Schulbeginn ein neues Geschi...</td>\n",
       "      <td>¦STAAT UND POLITIK.¦KRIEG¦</td>\n",
       "      <td>[STAAT UND POLITIK., KRIEG]</td>\n",
       "      <td>STAAT UND POLITIK.</td>\n",
       "      <td>KRIEG</td>\n",
       "      <td>NaN</td>\n",
       "      <td>NaN</td>\n",
       "    </tr>\n",
       "    <tr>\n",
       "      <th>2</th>\n",
       "      <td>D77CAD26-A970-4520-A060-3986ABE50976</td>\n",
       "      <td>2023-09-01</td>\n",
       "      <td>910284E0-E09D-40DD-A7E8-DE48684ED259</td>\n",
       "      <td>Neues russisches Geschichtsbuch legitimiert Uk...</td>\n",
       "      <td>Russland: Einführung neues russisches Schulbuc...</td>\n",
       "      <td>Russland: Neues Geschichtsbuch legitimiert Ukr...</td>\n",
       "      <td>Russland führt zu Schulbeginn ein neues Geschi...</td>\n",
       "      <td>NaN</td>\n",
       "      <td>KRIEG SCHULE</td>\n",
       "      <td>¦STAAT UND POLITIK.¦KRIEG¦ ¦BILDUNG.¦SCHULE¦</td>\n",
       "      <td>2138EBA9-4A83-4874-A95F-05B7A05DE714</td>\n",
       "      <td>EE05756E-641C-4442-B585-CDF18239202E</td>\n",
       "      <td>Russland: Neues Geschichtsbuch legitimiert Ukr...</td>\n",
       "      <td>Russland führt zu Schulbeginn ein neues Geschi...</td>\n",
       "      <td>¦BILDUNG.¦SCHULE¦</td>\n",
       "      <td>[BILDUNG., SCHULE]</td>\n",
       "      <td>BILDUNG.</td>\n",
       "      <td>SCHULE</td>\n",
       "      <td>NaN</td>\n",
       "      <td>NaN</td>\n",
       "    </tr>\n",
       "    <tr>\n",
       "      <th>3</th>\n",
       "      <td>D77CAD26-A970-4520-A060-3986ABE50976</td>\n",
       "      <td>2023-09-01</td>\n",
       "      <td>0CBD79FF-FED0-4D94-B5B0-F715F625EE55</td>\n",
       "      <td>Häftlinge halten Gefängnispersonal als Geiseln...</td>\n",
       "      <td>Ecuador: In 6 Gefängnissen halten Häftlinge Wä...</td>\n",
       "      <td>Ecuador: Häftlinge halten Gefängnispersonal al...</td>\n",
       "      <td>In sechs ecuadorianischen Gefängnissen halten ...</td>\n",
       "      <td>NaN</td>\n",
       "      <td>UNRUHEN GEFÄNGNIS</td>\n",
       "      <td>¦STAAT UND POLITIK.¦UNRUHEN¦ ¦JUSTIZ.¦STRAFVOL...</td>\n",
       "      <td>316A3995-C4BF-4333-AC51-E8621D63C151</td>\n",
       "      <td>EE05756E-641C-4442-B585-CDF18239202E</td>\n",
       "      <td>Ecuador: Häftlinge halten Gefängnispersonal al...</td>\n",
       "      <td>In sechs ecuadorianischen Gefängnissen halten ...</td>\n",
       "      <td>¦STAAT UND POLITIK.¦UNRUHEN¦</td>\n",
       "      <td>[STAAT UND POLITIK., UNRUHEN]</td>\n",
       "      <td>STAAT UND POLITIK.</td>\n",
       "      <td>UNRUHEN</td>\n",
       "      <td>NaN</td>\n",
       "      <td>NaN</td>\n",
       "    </tr>\n",
       "    <tr>\n",
       "      <th>4</th>\n",
       "      <td>D77CAD26-A970-4520-A060-3986ABE50976</td>\n",
       "      <td>2023-09-01</td>\n",
       "      <td>0CBD79FF-FED0-4D94-B5B0-F715F625EE55</td>\n",
       "      <td>Häftlinge halten Gefängnispersonal als Geiseln...</td>\n",
       "      <td>Ecuador: In 6 Gefängnissen halten Häftlinge Wä...</td>\n",
       "      <td>Ecuador: Häftlinge halten Gefängnispersonal al...</td>\n",
       "      <td>In sechs ecuadorianischen Gefängnissen halten ...</td>\n",
       "      <td>NaN</td>\n",
       "      <td>UNRUHEN GEFÄNGNIS</td>\n",
       "      <td>¦STAAT UND POLITIK.¦UNRUHEN¦ ¦JUSTIZ.¦STRAFVOL...</td>\n",
       "      <td>316A3995-C4BF-4333-AC51-E8621D63C151</td>\n",
       "      <td>EE05756E-641C-4442-B585-CDF18239202E</td>\n",
       "      <td>Ecuador: Häftlinge halten Gefängnispersonal al...</td>\n",
       "      <td>In sechs ecuadorianischen Gefängnissen halten ...</td>\n",
       "      <td>¦JUSTIZ.¦STRAFVOLLZUGSANSTALT¦GEFÄNGNIS¦</td>\n",
       "      <td>[JUSTIZ., STRAFVOLLZUGSANSTALT, GEFÄNGNIS]</td>\n",
       "      <td>JUSTIZ.</td>\n",
       "      <td>STRAFVOLLZUGSANSTALT</td>\n",
       "      <td>GEFÄNGNIS</td>\n",
       "      <td>NaN</td>\n",
       "    </tr>\n",
       "  </tbody>\n",
       "</table>\n",
       "</div>"
      ],
      "text/plain": [
       "                                 Prg-Id Sendedatum  \\\n",
       "0  00D32669-925D-4D33-B876-62CA2EE36EC5 2023-09-01   \n",
       "1  D77CAD26-A970-4520-A060-3986ABE50976 2023-09-01   \n",
       "2  D77CAD26-A970-4520-A060-3986ABE50976 2023-09-01   \n",
       "3  D77CAD26-A970-4520-A060-3986ABE50976 2023-09-01   \n",
       "4  D77CAD26-A970-4520-A060-3986ABE50976 2023-09-01   \n",
       "\n",
       "                                Item-Id  \\\n",
       "0  AE73357D-C460-4E34-978A-3BDFDC677DB3   \n",
       "1  910284E0-E09D-40DD-A7E8-DE48684ED259   \n",
       "2  910284E0-E09D-40DD-A7E8-DE48684ED259   \n",
       "3  0CBD79FF-FED0-4D94-B5B0-F715F625EE55   \n",
       "4  0CBD79FF-FED0-4D94-B5B0-F715F625EE55   \n",
       "\n",
       "                                          Item-Titel  \\\n",
       "0                         Kurznachrichten Wirtschaft   \n",
       "1  Neues russisches Geschichtsbuch legitimiert Uk...   \n",
       "2  Neues russisches Geschichtsbuch legitimiert Uk...   \n",
       "3  Häftlinge halten Gefängnispersonal als Geiseln...   \n",
       "4  Häftlinge halten Gefängnispersonal als Geiseln...   \n",
       "\n",
       "                                       Item-Abstract  \\\n",
       "0  China: Die Immobilien-Krise hat auch Auswirkun...   \n",
       "1  Russland: Einführung neues russisches Schulbuc...   \n",
       "2  Russland: Einführung neues russisches Schulbuc...   \n",
       "3  Ecuador: In 6 Gefängnissen halten Häftlinge Wä...   \n",
       "4  Ecuador: In 6 Gefängnissen halten Häftlinge Wä...   \n",
       "\n",
       "                                           Web-Titel  \\\n",
       "0                           SRF Börse vom 01.09.2023   \n",
       "1  Russland: Neues Geschichtsbuch legitimiert Ukr...   \n",
       "2  Russland: Neues Geschichtsbuch legitimiert Ukr...   \n",
       "3  Ecuador: Häftlinge halten Gefängnispersonal al...   \n",
       "4  Ecuador: Häftlinge halten Gefängnispersonal al...   \n",
       "\n",
       "                                            Web-Lead Web-Description  \\\n",
       "0  Chinas Immobilienkrise spitzt sich zu. Betroff...             NaN   \n",
       "1  Russland führt zu Schulbeginn ein neues Geschi...             NaN   \n",
       "2  Russland führt zu Schulbeginn ein neues Geschi...             NaN   \n",
       "3  In sechs ecuadorianischen Gefängnissen halten ...             NaN   \n",
       "4  In sechs ecuadorianischen Gefängnissen halten ...             NaN   \n",
       "\n",
       "        Deskriptoren                                  Deskriptoren-Pfad  \\\n",
       "0  IMMOBILIENBRANCHE                       ¦GEWERBE.¦IMMOBILIENBRANCHE¦   \n",
       "1       KRIEG SCHULE       ¦STAAT UND POLITIK.¦KRIEG¦ ¦BILDUNG.¦SCHULE¦   \n",
       "2       KRIEG SCHULE       ¦STAAT UND POLITIK.¦KRIEG¦ ¦BILDUNG.¦SCHULE¦   \n",
       "3  UNRUHEN GEFÄNGNIS  ¦STAAT UND POLITIK.¦UNRUHEN¦ ¦JUSTIZ.¦STRAFVOL...   \n",
       "4  UNRUHEN GEFÄNGNIS  ¦STAAT UND POLITIK.¦UNRUHEN¦ ¦JUSTIZ.¦STRAFVOL...   \n",
       "\n",
       "                          Item-WebCmsId                      Program-WebCmsId  \\\n",
       "0  91E2FEBE-8E1F-4E39-A492-F1DAF7F49743  24B5D313-B0D3-4C87-88E1-B876DFE1A1B0   \n",
       "1  2138EBA9-4A83-4874-A95F-05B7A05DE714  EE05756E-641C-4442-B585-CDF18239202E   \n",
       "2  2138EBA9-4A83-4874-A95F-05B7A05DE714  EE05756E-641C-4442-B585-CDF18239202E   \n",
       "3  316A3995-C4BF-4333-AC51-E8621D63C151  EE05756E-641C-4442-B585-CDF18239202E   \n",
       "4  316A3995-C4BF-4333-AC51-E8621D63C151  EE05756E-641C-4442-B585-CDF18239202E   \n",
       "\n",
       "                                               title  \\\n",
       "0                           SRF Börse vom 01.09.2023   \n",
       "1  Russland: Neues Geschichtsbuch legitimiert Ukr...   \n",
       "2  Russland: Neues Geschichtsbuch legitimiert Ukr...   \n",
       "3  Ecuador: Häftlinge halten Gefängnispersonal al...   \n",
       "4  Ecuador: Häftlinge halten Gefängnispersonal al...   \n",
       "\n",
       "                                                lead  \\\n",
       "0  Chinas Immobilienkrise spitzt sich zu. Betroff...   \n",
       "1  Russland führt zu Schulbeginn ein neues Geschi...   \n",
       "2  Russland führt zu Schulbeginn ein neues Geschi...   \n",
       "3  In sechs ecuadorianischen Gefängnissen halten ...   \n",
       "4  In sechs ecuadorianischen Gefängnissen halten ...   \n",
       "\n",
       "                    Deskriptoren-Pfad-Split  \\\n",
       "0              ¦GEWERBE.¦IMMOBILIENBRANCHE¦   \n",
       "1                ¦STAAT UND POLITIK.¦KRIEG¦   \n",
       "2                         ¦BILDUNG.¦SCHULE¦   \n",
       "3              ¦STAAT UND POLITIK.¦UNRUHEN¦   \n",
       "4  ¦JUSTIZ.¦STRAFVOLLZUGSANSTALT¦GEFÄNGNIS¦   \n",
       "\n",
       "                Deskriptoren-Pfad-Split-Level    descriptor_lvl_1  \\\n",
       "0               [GEWERBE., IMMOBILIENBRANCHE]            GEWERBE.   \n",
       "1                 [STAAT UND POLITIK., KRIEG]  STAAT UND POLITIK.   \n",
       "2                          [BILDUNG., SCHULE]            BILDUNG.   \n",
       "3               [STAAT UND POLITIK., UNRUHEN]  STAAT UND POLITIK.   \n",
       "4  [JUSTIZ., STRAFVOLLZUGSANSTALT, GEFÄNGNIS]             JUSTIZ.   \n",
       "\n",
       "       descriptor_lvl_2 descriptor_lvl_3 descriptor_lvl_4  \n",
       "0     IMMOBILIENBRANCHE              NaN              NaN  \n",
       "1                 KRIEG              NaN              NaN  \n",
       "2                SCHULE              NaN              NaN  \n",
       "3               UNRUHEN              NaN              NaN  \n",
       "4  STRAFVOLLZUGSANSTALT        GEFÄNGNIS              NaN  "
      ]
     },
     "execution_count": 238,
     "metadata": {},
     "output_type": "execute_result"
    }
   ],
   "source": [
    "df_faro_expl.head()"
   ]
  },
  {
   "cell_type": "markdown",
   "id": "4aaf0a0e",
   "metadata": {},
   "source": [
    "## Build deduplicated DataFrame\n",
    "\n",
    "- Because the same item can have the same 'Sachdeskriptor' on level 1 the dataset had to be deduplicated on level 1\n",
    "- Otherwise the dataset would contain doubble entries"
   ]
  },
  {
   "cell_type": "markdown",
   "id": "30bcacc9",
   "metadata": {},
   "source": [
    "#### Quick-check deduplicated length"
   ]
  },
  {
   "cell_type": "code",
   "execution_count": 239,
   "id": "9c5e3e5e",
   "metadata": {},
   "outputs": [
    {
     "data": {
      "text/plain": [
       "(109116, 19)"
      ]
     },
     "execution_count": 239,
     "metadata": {},
     "output_type": "execute_result"
    }
   ],
   "source": [
    "df_faro_expl[\n",
    "    ~(df_faro_expl['Web-Lead'].isna()) &\n",
    "    ~(df_faro_expl['Item-WebCmsId'].isna())\n",
    "    ].groupby('Item-WebCmsId').count().shape"
   ]
  },
  {
   "cell_type": "markdown",
   "id": "5623e474",
   "metadata": {},
   "source": [
    "### Minimal data definition for my final dataset:\n",
    "\n",
    "For every video item in the final dataset:\n",
    "- Web-Titel must be available (the updated one from column `title`)\n",
    "- 'Sachdeskriptor' information at level 1 must be available (column `descriptor_lvl_1`)"
   ]
  },
  {
   "cell_type": "code",
   "execution_count": 240,
   "id": "146f457b",
   "metadata": {},
   "outputs": [],
   "source": [
    "df_faro_web = df_faro_expl[(~df_faro_expl['title'].isna())&\n",
    "                          (~df_faro_expl['descriptor_lvl_1'].isna())].reset_index(drop=True).drop(columns=[\n",
    "                                'Deskriptoren',\n",
    "                                'Deskriptoren-Pfad',\n",
    "\n",
    "                            ])\n",
    "\n",
    "df_faro_web_level_1 = df_faro_web[['title', 'lead', 'Item-WebCmsId', 'Program-WebCmsId', 'descriptor_lvl_1']]"
   ]
  },
  {
   "cell_type": "markdown",
   "id": "2bfd171d",
   "metadata": {},
   "source": [
    "### CLEAN - Remove SPORT. special case\n",
    "\n",
    "- In previous archive databases, the sport \"Sachdeskriptoren\" (SDES) were part of this \"Sachdeskriptoren\". With the introduction of the current system, the sport terms (types of sport etc.) were mapped in the database fields of the so-called \"sport tab\". With the revision of the \"sSachdeskriptoren\" in 2020, some terms were brought back into the \"Sachdeskriptoren\" and categorised at different sub-levels. \n",
    "\n",
    "- SPORT uses a seperate Tagging System and the label SPORT. is only available because of the possibility to decide individually how to label the items."
   ]
  },
  {
   "cell_type": "code",
   "execution_count": 241,
   "id": "3824a10f",
   "metadata": {},
   "outputs": [],
   "source": [
    "df_faro_web_level_1 = df_faro_web_level_1[~df_faro_web_level_1['descriptor_lvl_1'].str.startswith('SPORT')].reset_index(drop=True)"
   ]
  },
  {
   "cell_type": "code",
   "execution_count": 242,
   "id": "2fbd5179",
   "metadata": {},
   "outputs": [
    {
     "data": {
      "text/plain": [
       "(260963, 5)"
      ]
     },
     "execution_count": 242,
     "metadata": {},
     "output_type": "execute_result"
    }
   ],
   "source": [
    "df_faro_web_level_1.shape"
   ]
  },
  {
   "cell_type": "markdown",
   "id": "85d21dca",
   "metadata": {},
   "source": [
    "### Drop Duplicates"
   ]
  },
  {
   "cell_type": "code",
   "execution_count": 243,
   "id": "cdc469d7",
   "metadata": {},
   "outputs": [],
   "source": [
    "df_faro_web_level_1_dedupl = df_faro_web_level_1.drop_duplicates().reset_index(drop=True)"
   ]
  },
  {
   "cell_type": "code",
   "execution_count": 244,
   "id": "c8e224ef",
   "metadata": {},
   "outputs": [
    {
     "data": {
      "text/plain": [
       "(207817, 5)"
      ]
     },
     "execution_count": 244,
     "metadata": {},
     "output_type": "execute_result"
    }
   ],
   "source": [
    "df_faro_web_level_1_dedupl.shape"
   ]
  },
  {
   "cell_type": "code",
   "execution_count": 245,
   "id": "6cf3e8a8",
   "metadata": {},
   "outputs": [
    {
     "data": {
      "text/html": [
       "<div>\n",
       "<style scoped>\n",
       "    .dataframe tbody tr th:only-of-type {\n",
       "        vertical-align: middle;\n",
       "    }\n",
       "\n",
       "    .dataframe tbody tr th {\n",
       "        vertical-align: top;\n",
       "    }\n",
       "\n",
       "    .dataframe thead th {\n",
       "        text-align: right;\n",
       "    }\n",
       "</style>\n",
       "<table border=\"1\" class=\"dataframe\">\n",
       "  <thead>\n",
       "    <tr style=\"text-align: right;\">\n",
       "      <th></th>\n",
       "      <th>title</th>\n",
       "      <th>lead</th>\n",
       "      <th>Item-WebCmsId</th>\n",
       "      <th>Program-WebCmsId</th>\n",
       "      <th>descriptor_lvl_1</th>\n",
       "    </tr>\n",
       "  </thead>\n",
       "  <tbody>\n",
       "    <tr>\n",
       "      <th>0</th>\n",
       "      <td>SRF Börse vom 01.09.2023</td>\n",
       "      <td>Chinas Immobilienkrise spitzt sich zu. Betroff...</td>\n",
       "      <td>91E2FEBE-8E1F-4E39-A492-F1DAF7F49743</td>\n",
       "      <td>24B5D313-B0D3-4C87-88E1-B876DFE1A1B0</td>\n",
       "      <td>GEWERBE.</td>\n",
       "    </tr>\n",
       "    <tr>\n",
       "      <th>1</th>\n",
       "      <td>Russland: Neues Geschichtsbuch legitimiert Ukr...</td>\n",
       "      <td>Russland führt zu Schulbeginn ein neues Geschi...</td>\n",
       "      <td>2138EBA9-4A83-4874-A95F-05B7A05DE714</td>\n",
       "      <td>EE05756E-641C-4442-B585-CDF18239202E</td>\n",
       "      <td>STAAT UND POLITIK.</td>\n",
       "    </tr>\n",
       "    <tr>\n",
       "      <th>2</th>\n",
       "      <td>Russland: Neues Geschichtsbuch legitimiert Ukr...</td>\n",
       "      <td>Russland führt zu Schulbeginn ein neues Geschi...</td>\n",
       "      <td>2138EBA9-4A83-4874-A95F-05B7A05DE714</td>\n",
       "      <td>EE05756E-641C-4442-B585-CDF18239202E</td>\n",
       "      <td>BILDUNG.</td>\n",
       "    </tr>\n",
       "    <tr>\n",
       "      <th>3</th>\n",
       "      <td>Ecuador: Häftlinge halten Gefängnispersonal al...</td>\n",
       "      <td>In sechs ecuadorianischen Gefängnissen halten ...</td>\n",
       "      <td>316A3995-C4BF-4333-AC51-E8621D63C151</td>\n",
       "      <td>EE05756E-641C-4442-B585-CDF18239202E</td>\n",
       "      <td>STAAT UND POLITIK.</td>\n",
       "    </tr>\n",
       "    <tr>\n",
       "      <th>4</th>\n",
       "      <td>Ecuador: Häftlinge halten Gefängnispersonal al...</td>\n",
       "      <td>In sechs ecuadorianischen Gefängnissen halten ...</td>\n",
       "      <td>316A3995-C4BF-4333-AC51-E8621D63C151</td>\n",
       "      <td>EE05756E-641C-4442-B585-CDF18239202E</td>\n",
       "      <td>JUSTIZ.</td>\n",
       "    </tr>\n",
       "  </tbody>\n",
       "</table>\n",
       "</div>"
      ],
      "text/plain": [
       "                                               title  \\\n",
       "0                           SRF Börse vom 01.09.2023   \n",
       "1  Russland: Neues Geschichtsbuch legitimiert Ukr...   \n",
       "2  Russland: Neues Geschichtsbuch legitimiert Ukr...   \n",
       "3  Ecuador: Häftlinge halten Gefängnispersonal al...   \n",
       "4  Ecuador: Häftlinge halten Gefängnispersonal al...   \n",
       "\n",
       "                                                lead  \\\n",
       "0  Chinas Immobilienkrise spitzt sich zu. Betroff...   \n",
       "1  Russland führt zu Schulbeginn ein neues Geschi...   \n",
       "2  Russland führt zu Schulbeginn ein neues Geschi...   \n",
       "3  In sechs ecuadorianischen Gefängnissen halten ...   \n",
       "4  In sechs ecuadorianischen Gefängnissen halten ...   \n",
       "\n",
       "                          Item-WebCmsId                      Program-WebCmsId  \\\n",
       "0  91E2FEBE-8E1F-4E39-A492-F1DAF7F49743  24B5D313-B0D3-4C87-88E1-B876DFE1A1B0   \n",
       "1  2138EBA9-4A83-4874-A95F-05B7A05DE714  EE05756E-641C-4442-B585-CDF18239202E   \n",
       "2  2138EBA9-4A83-4874-A95F-05B7A05DE714  EE05756E-641C-4442-B585-CDF18239202E   \n",
       "3  316A3995-C4BF-4333-AC51-E8621D63C151  EE05756E-641C-4442-B585-CDF18239202E   \n",
       "4  316A3995-C4BF-4333-AC51-E8621D63C151  EE05756E-641C-4442-B585-CDF18239202E   \n",
       "\n",
       "     descriptor_lvl_1  \n",
       "0            GEWERBE.  \n",
       "1  STAAT UND POLITIK.  \n",
       "2            BILDUNG.  \n",
       "3  STAAT UND POLITIK.  \n",
       "4             JUSTIZ.  "
      ]
     },
     "execution_count": 245,
     "metadata": {},
     "output_type": "execute_result"
    }
   ],
   "source": [
    "df_faro_web_level_1_dedupl.head()"
   ]
  },
  {
   "cell_type": "markdown",
   "id": "90b4259b",
   "metadata": {},
   "source": [
    "### CLEAN 'Sammelkategorien' where video leads are seperated with '/'\n",
    "\n",
    "- The SDES make no sense if the video description contains information on multiple segments which are aggregated in one item\n",
    "- For ecxample the \"Tagesschau\" video item \"Nachrichten Schweiz\" contains smultiple sequences covering different topics\n",
    "- The same is true for \"Nachrichten Ausland\", \"Nachrichten Inland\" and \"Nachrichten\""
   ]
  },
  {
   "cell_type": "code",
   "execution_count": 246,
   "id": "811e0863",
   "metadata": {},
   "outputs": [
    {
     "data": {
      "text/plain": [
       "(202107, 5)"
      ]
     },
     "execution_count": 246,
     "metadata": {},
     "output_type": "execute_result"
    }
   ],
   "source": [
    "df_faro_web_level_1_dedupl = df_faro_web_level_1_dedupl[~(((df_faro_web_level_1_dedupl['title']=='Nachrichten Ausland') |\n",
    "                           (df_faro_web_level_1_dedupl['title']=='Nachrichten Inland') |\n",
    "                           (df_faro_web_level_1_dedupl['title']=='Nachrichten Schweiz') |\n",
    "                           (df_faro_web_level_1_dedupl['title']=='Nachrichten') |\n",
    "                           (df_faro_web_level_1_dedupl['title']=='News Ausland') |\n",
    "                           (df_faro_web_level_1_dedupl['title']=='News Inland') |\n",
    "                           (df_faro_web_level_1_dedupl['title']=='News Schweiz') |\n",
    "                           (df_faro_web_level_1_dedupl['title']=='News') |\n",
    "                           (df_faro_web_level_1_dedupl['title']=='News des Tages')) &\n",
    "                           ((df_faro_web_level_1_dedupl['lead'].str.contains(' / ')) |\n",
    "                           (df_faro_web_level_1_dedupl['lead']==(''))))\n",
    "                          ].reset_index(drop=True)\n",
    "df_faro_web_level_1_dedupl.shape"
   ]
  },
  {
   "cell_type": "code",
   "execution_count": 247,
   "id": "25b752eb",
   "metadata": {},
   "outputs": [
    {
     "name": "stdout",
     "output_type": "stream",
     "text": [
      "Knatsch in der BDP\n",
      "\n",
      "STAAT UND POLITIK.\n",
      "https://www.srf.ch/play/tv/tagesschau/video/bla?urn=urn:srf:video:0d7957c5-2ec2-4cb6-82e7-895681770292\n",
      "\n",
      "Uri (Staffel 2, Folge 4)\n",
      "In der vierten Folge geniesst Nik Hartmann unter anderem auf dem Schartihöreli die Aussicht.\n",
      "UMWELT.\n",
      "https://www.srf.ch/play/tv/tagesschau/video/bla?urn=urn:srf:video:da727a11-2197-46b2-9d19-2d45cb84185d\n",
      "\n",
      "Premiere im St.Galler Komiktheater\n",
      "Unter der Leitung des Komiker Olli Hauenstein, feiert das Stück «Glücksentdecker» Premiere. Die Schauspieler sind junge Erwachsene mit Handicap: Für sie ist es ein grosses Stück Glück, auf der Bühne zu stehen.\n",
      "MENSCH.\n",
      "https://www.srf.ch/play/tv/tagesschau/video/bla?urn=urn:srf:video:b35a2744-d5fc-41ca-bd08-01f0147389c7\n",
      "\n",
      "Christoph Trummer - Musik über Familiengeschichten\n",
      "Der Berner Musiker Christoph Trummer verlor als 20-Jähriger beide Eltern. Heute fragt er sich, welche Spuren sie wohl in seinem Leben nachhaltig hinterlassen haben. Sein neues multimediales Album vereint Essay, Malerei und Musik. Es ist ein Versuch, Familiengeschichte zu verstehen und weiterzugeben.\n",
      "KULTUR.\n",
      "https://www.srf.ch/play/tv/tagesschau/video/bla?urn=urn:srf:video:1d740e1b-42a3-4006-b114-819b9da19e0e\n",
      "\n",
      "Deutsche Munition für Ukraine: Schweiz muss erneut entscheiden\n",
      "Die Schweiz soll den Export der Munition für den im Ukraine-Krieg eingesetzten Gepard-Panzer freigeben. Das fordert die deutsche Verteidigungsministerin Lambrecht. Die Sicherheitskommission des Ständerats prüft nun mögliche Lockerungen.\n",
      "STAAT UND POLITIK.\n",
      "https://www.srf.ch/play/tv/tagesschau/video/bla?urn=urn:srf:video:fff16112-476a-4639-8212-93961800a4c6\n",
      "\n",
      "Ukraine-Krieg: Kiew will Bachmut nicht aufgeben\n",
      "Die Hinweise verdichten sich, dass die Schlacht um Bachmut bald zu Ende sein könnte. Kiew sagt zwar, die Positionen in der ostukrainischen Stadt weiter stärken zu wollen. Westliche Militärbeobachter glauben jedoch, dass die Ukraine versucht, ihre Truppen kontrolliert zu evakuieren.\n",
      "STAAT UND POLITIK.\n",
      "https://www.srf.ch/play/tv/tagesschau/video/bla?urn=urn:srf:video:3cb9c015-4399-4f35-a120-48d8ad0249a5\n",
      "\n"
     ]
    }
   ],
   "source": [
    "for i,row in df_faro_web_level_1_dedupl[['Item-WebCmsId', 'lead', 'title', 'descriptor_lvl_1']].sample(6).iterrows():\n",
    "    print(row['title'])\n",
    "    print(row['lead'])\n",
    "    print(row['descriptor_lvl_1'])\n",
    "    print('https://www.srf.ch/play/tv/tagesschau/video/bla?urn=urn:srf:video:' + row['Item-WebCmsId'].lower())\n",
    "    print()"
   ]
  },
  {
   "cell_type": "code",
   "execution_count": 248,
   "id": "49197411",
   "metadata": {},
   "outputs": [
    {
     "data": {
      "text/plain": [
       "26"
      ]
     },
     "execution_count": 248,
     "metadata": {},
     "output_type": "execute_result"
    }
   ],
   "source": [
    "df_faro_web_level_1_dedupl['descriptor_lvl_1'].nunique()"
   ]
  },
  {
   "cell_type": "code",
   "execution_count": 249,
   "id": "de790034",
   "metadata": {},
   "outputs": [
    {
     "data": {
      "text/plain": [
       "STAAT UND POLITIK.           30826\n",
       "KULTUR.                      17545\n",
       "MENSCH.                      15788\n",
       "WIRTSCHAFT.                  13363\n",
       "GESUNDHEIT.                  12874\n",
       "UMWELT.                      11070\n",
       "PORTRÄT.                     10618\n",
       "SENSATION.                    9909\n",
       "SOZIALES.                     9498\n",
       "STRAFTAT.                     7976\n",
       "JUSTIZ.                       7122\n",
       "GEWERBE.                      7096\n",
       "MEDIEN UND KOMMUNIKATION.     6751\n",
       "VERKEHR.                      6119\n",
       "FREIZEIT.                     5434\n",
       "ARBEIT.                       4233\n",
       "LANDWIRTSCHAFT.               3798\n",
       "INDUSTRIE.                    3180\n",
       "ENERGIE.                      3025\n",
       "MILITÄR.                      2903\n",
       "RELIGION.                     2861\n",
       "WISSENSCHAFT.                 2826\n",
       "BILDUNG.                      2373\n",
       "VOLKSKULTUR.                  1845\n",
       "TECHNIK.                      1671\n",
       "GESCHICHTE.                   1403\n",
       "Name: descriptor_lvl_1, dtype: int64"
      ]
     },
     "execution_count": 249,
     "metadata": {},
     "output_type": "execute_result"
    }
   ],
   "source": [
    "df_faro_web_level_1_dedupl['descriptor_lvl_1'].value_counts()"
   ]
  },
  {
   "cell_type": "code",
   "execution_count": 250,
   "id": "23057dbd",
   "metadata": {},
   "outputs": [
    {
     "data": {
      "text/plain": [
       "202107"
      ]
     },
     "execution_count": 250,
     "metadata": {},
     "output_type": "execute_result"
    }
   ],
   "source": [
    "df_faro_web_level_1_dedupl['descriptor_lvl_1'].value_counts().sum()"
   ]
  },
  {
   "cell_type": "markdown",
   "id": "5b8c7b8b",
   "metadata": {},
   "source": [
    "### Deduplicate dataset\n",
    "\n",
    "- Pivot does deduplication because multiple Tags on same Level 1 are possible\n",
    "- Pivot ERROR with NaNs\n",
    "- If there are duplicate entries for the same combination of index values and a 'descriptor_lvl_1' value, the default aggregation function (mean) is applied. Since the 'indicator' values are all 1, this will not change the value."
   ]
  },
  {
   "cell_type": "code",
   "execution_count": 251,
   "id": "909e54dd",
   "metadata": {},
   "outputs": [],
   "source": [
    "# Create an indicator column\n",
    "df_faro_web_level_1_dedupl['indicator'] = 1\n",
    "\n",
    "# With fillna 40'000 entries are added which have no Web Lead\n",
    "#df_faro_web_level_1_dedupl[['Web-Titel', 'Web-Lead', 'Item-WebCmsId', 'Program-WebCmsId']] = df_faro_web_level_1_dedupl[['Web-Titel', 'Web-Lead', 'Item-WebCmsId', 'Program-WebCmsId']].fillna('')\n",
    "\n",
    "#Remove NAN\n",
    "df_faro_web_level_1_dedupl = df_faro_web_level_1_dedupl[~(df_faro_web_level_1_dedupl['lead'].isna())]\n",
    "df_faro_web_level_1_dedupl['Web-Text'] = df_faro_web_level_1_dedupl['title'].fillna(' ') + '\\n' + df_faro_web_level_1_dedupl['lead']\n",
    "\n",
    "# Pivot the DataFrame\n",
    "df_web_lvl_1 = df_faro_web_level_1_dedupl.pivot_table(\n",
    "    index=['Web-Text', 'Item-WebCmsId', 'Program-WebCmsId'], \n",
    "    columns='descriptor_lvl_1', \n",
    "    values='indicator', \n",
    "    fill_value=0)\n",
    "\n",
    "# Resetting the index to flatten the DataFrame\n",
    "df_web_lvl_1 = df_web_lvl_1.reset_index()\n",
    "\n",
    "# Handling MultiLevel column names if needed\n",
    "df_web_lvl_1.columns.name = None\n",
    "df_web_lvl_1 = df_web_lvl_1.rename_axis(None, axis=1)"
   ]
  },
  {
   "cell_type": "code",
   "execution_count": 252,
   "id": "84b0a27b",
   "metadata": {},
   "outputs": [
    {
     "data": {
      "text/html": [
       "<div>\n",
       "<style scoped>\n",
       "    .dataframe tbody tr th:only-of-type {\n",
       "        vertical-align: middle;\n",
       "    }\n",
       "\n",
       "    .dataframe tbody tr th {\n",
       "        vertical-align: top;\n",
       "    }\n",
       "\n",
       "    .dataframe thead th {\n",
       "        text-align: right;\n",
       "    }\n",
       "</style>\n",
       "<table border=\"1\" class=\"dataframe\">\n",
       "  <thead>\n",
       "    <tr style=\"text-align: right;\">\n",
       "      <th></th>\n",
       "      <th>Web-Text</th>\n",
       "      <th>Item-WebCmsId</th>\n",
       "      <th>Program-WebCmsId</th>\n",
       "      <th>ARBEIT.</th>\n",
       "      <th>BILDUNG.</th>\n",
       "      <th>ENERGIE.</th>\n",
       "      <th>FREIZEIT.</th>\n",
       "      <th>GESCHICHTE.</th>\n",
       "      <th>GESUNDHEIT.</th>\n",
       "      <th>GEWERBE.</th>\n",
       "      <th>...</th>\n",
       "      <th>SENSATION.</th>\n",
       "      <th>SOZIALES.</th>\n",
       "      <th>STAAT UND POLITIK.</th>\n",
       "      <th>STRAFTAT.</th>\n",
       "      <th>TECHNIK.</th>\n",
       "      <th>UMWELT.</th>\n",
       "      <th>VERKEHR.</th>\n",
       "      <th>VOLKSKULTUR.</th>\n",
       "      <th>WIRTSCHAFT.</th>\n",
       "      <th>WISSENSCHAFT.</th>\n",
       "    </tr>\n",
       "  </thead>\n",
       "  <tbody>\n",
       "    <tr>\n",
       "      <th>41946</th>\n",
       "      <td>Genf ist Spitzenreiter bei elektronischen Pati...</td>\n",
       "      <td>904D50E4-D1C0-426C-A599-B1ED9559FC88</td>\n",
       "      <td>FF50B97E-78A1-442F-B13D-C34E93923BF9</td>\n",
       "      <td>0</td>\n",
       "      <td>0</td>\n",
       "      <td>0</td>\n",
       "      <td>0</td>\n",
       "      <td>0</td>\n",
       "      <td>1</td>\n",
       "      <td>0</td>\n",
       "      <td>...</td>\n",
       "      <td>0</td>\n",
       "      <td>0</td>\n",
       "      <td>0</td>\n",
       "      <td>0</td>\n",
       "      <td>1</td>\n",
       "      <td>0</td>\n",
       "      <td>0</td>\n",
       "      <td>0</td>\n",
       "      <td>0</td>\n",
       "      <td>0</td>\n",
       "    </tr>\n",
       "    <tr>\n",
       "      <th>80260</th>\n",
       "      <td>Roger Schawinski im Gespräch mit Moritz Leuenb...</td>\n",
       "      <td>E958CDD9-3FD4-4DDA-8DB4-72FA1075155E</td>\n",
       "      <td>91F49893-B5F0-4021-AA30-8E6CF977E235</td>\n",
       "      <td>0</td>\n",
       "      <td>0</td>\n",
       "      <td>0</td>\n",
       "      <td>0</td>\n",
       "      <td>0</td>\n",
       "      <td>0</td>\n",
       "      <td>0</td>\n",
       "      <td>...</td>\n",
       "      <td>0</td>\n",
       "      <td>0</td>\n",
       "      <td>0</td>\n",
       "      <td>0</td>\n",
       "      <td>0</td>\n",
       "      <td>0</td>\n",
       "      <td>0</td>\n",
       "      <td>0</td>\n",
       "      <td>0</td>\n",
       "      <td>0</td>\n",
       "    </tr>\n",
       "    <tr>\n",
       "      <th>80678</th>\n",
       "      <td>RuPaul gewinnt zum elften Mal den Emmy Award\\n...</td>\n",
       "      <td>D4934C47-CF8B-400F-BC9A-8BB8E60891DF</td>\n",
       "      <td>79855E67-1B9D-4DD5-AA60-1B7BF072C989</td>\n",
       "      <td>0</td>\n",
       "      <td>0</td>\n",
       "      <td>0</td>\n",
       "      <td>0</td>\n",
       "      <td>0</td>\n",
       "      <td>0</td>\n",
       "      <td>0</td>\n",
       "      <td>...</td>\n",
       "      <td>1</td>\n",
       "      <td>0</td>\n",
       "      <td>0</td>\n",
       "      <td>0</td>\n",
       "      <td>0</td>\n",
       "      <td>0</td>\n",
       "      <td>0</td>\n",
       "      <td>0</td>\n",
       "      <td>0</td>\n",
       "      <td>0</td>\n",
       "    </tr>\n",
       "    <tr>\n",
       "      <th>105916</th>\n",
       "      <td>Von Menschen und Tieren – wie alles begann\\nBi...</td>\n",
       "      <td>5175D462-7C07-4E45-BC8B-F65641DBF9C3</td>\n",
       "      <td>D2B1D079-8015-4B6D-8E18-E15390306AE1</td>\n",
       "      <td>0</td>\n",
       "      <td>0</td>\n",
       "      <td>0</td>\n",
       "      <td>0</td>\n",
       "      <td>0</td>\n",
       "      <td>0</td>\n",
       "      <td>0</td>\n",
       "      <td>...</td>\n",
       "      <td>0</td>\n",
       "      <td>0</td>\n",
       "      <td>0</td>\n",
       "      <td>0</td>\n",
       "      <td>0</td>\n",
       "      <td>1</td>\n",
       "      <td>0</td>\n",
       "      <td>0</td>\n",
       "      <td>0</td>\n",
       "      <td>0</td>\n",
       "    </tr>\n",
       "    <tr>\n",
       "      <th>85473</th>\n",
       "      <td>Schicksalswahl in der Türkei\\nAm 14. Mai wählt...</td>\n",
       "      <td>E4E9D355-3AF4-4358-8785-9F45F5C0ED0A</td>\n",
       "      <td>0DF1EA31-30F3-48CF-929E-E49498B7F4A8</td>\n",
       "      <td>0</td>\n",
       "      <td>0</td>\n",
       "      <td>0</td>\n",
       "      <td>0</td>\n",
       "      <td>1</td>\n",
       "      <td>0</td>\n",
       "      <td>0</td>\n",
       "      <td>...</td>\n",
       "      <td>0</td>\n",
       "      <td>0</td>\n",
       "      <td>0</td>\n",
       "      <td>0</td>\n",
       "      <td>0</td>\n",
       "      <td>0</td>\n",
       "      <td>0</td>\n",
       "      <td>0</td>\n",
       "      <td>0</td>\n",
       "      <td>0</td>\n",
       "    </tr>\n",
       "    <tr>\n",
       "      <th>23310</th>\n",
       "      <td>Die 90er – ein Jahrzehnt, das musikalisch wied...</td>\n",
       "      <td>3D26A142-0573-4894-8CF5-7A0649331374</td>\n",
       "      <td>1C6E810A-4D8F-4D54-8504-A67E7E1057B7</td>\n",
       "      <td>0</td>\n",
       "      <td>0</td>\n",
       "      <td>0</td>\n",
       "      <td>0</td>\n",
       "      <td>0</td>\n",
       "      <td>0</td>\n",
       "      <td>0</td>\n",
       "      <td>...</td>\n",
       "      <td>0</td>\n",
       "      <td>0</td>\n",
       "      <td>0</td>\n",
       "      <td>0</td>\n",
       "      <td>0</td>\n",
       "      <td>0</td>\n",
       "      <td>0</td>\n",
       "      <td>0</td>\n",
       "      <td>0</td>\n",
       "      <td>0</td>\n",
       "    </tr>\n",
       "  </tbody>\n",
       "</table>\n",
       "<p>6 rows × 29 columns</p>\n",
       "</div>"
      ],
      "text/plain": [
       "                                                 Web-Text  \\\n",
       "41946   Genf ist Spitzenreiter bei elektronischen Pati...   \n",
       "80260   Roger Schawinski im Gespräch mit Moritz Leuenb...   \n",
       "80678   RuPaul gewinnt zum elften Mal den Emmy Award\\n...   \n",
       "105916  Von Menschen und Tieren – wie alles begann\\nBi...   \n",
       "85473   Schicksalswahl in der Türkei\\nAm 14. Mai wählt...   \n",
       "23310   Die 90er – ein Jahrzehnt, das musikalisch wied...   \n",
       "\n",
       "                               Item-WebCmsId  \\\n",
       "41946   904D50E4-D1C0-426C-A599-B1ED9559FC88   \n",
       "80260   E958CDD9-3FD4-4DDA-8DB4-72FA1075155E   \n",
       "80678   D4934C47-CF8B-400F-BC9A-8BB8E60891DF   \n",
       "105916  5175D462-7C07-4E45-BC8B-F65641DBF9C3   \n",
       "85473   E4E9D355-3AF4-4358-8785-9F45F5C0ED0A   \n",
       "23310   3D26A142-0573-4894-8CF5-7A0649331374   \n",
       "\n",
       "                            Program-WebCmsId  ARBEIT.  BILDUNG.  ENERGIE.  \\\n",
       "41946   FF50B97E-78A1-442F-B13D-C34E93923BF9        0         0         0   \n",
       "80260   91F49893-B5F0-4021-AA30-8E6CF977E235        0         0         0   \n",
       "80678   79855E67-1B9D-4DD5-AA60-1B7BF072C989        0         0         0   \n",
       "105916  D2B1D079-8015-4B6D-8E18-E15390306AE1        0         0         0   \n",
       "85473   0DF1EA31-30F3-48CF-929E-E49498B7F4A8        0         0         0   \n",
       "23310   1C6E810A-4D8F-4D54-8504-A67E7E1057B7        0         0         0   \n",
       "\n",
       "        FREIZEIT.  GESCHICHTE.  GESUNDHEIT.  GEWERBE.  ...  SENSATION.  \\\n",
       "41946           0            0            1         0  ...           0   \n",
       "80260           0            0            0         0  ...           0   \n",
       "80678           0            0            0         0  ...           1   \n",
       "105916          0            0            0         0  ...           0   \n",
       "85473           0            1            0         0  ...           0   \n",
       "23310           0            0            0         0  ...           0   \n",
       "\n",
       "        SOZIALES.  STAAT UND POLITIK.  STRAFTAT.  TECHNIK.  UMWELT.  VERKEHR.  \\\n",
       "41946           0                   0          0         1        0         0   \n",
       "80260           0                   0          0         0        0         0   \n",
       "80678           0                   0          0         0        0         0   \n",
       "105916          0                   0          0         0        1         0   \n",
       "85473           0                   0          0         0        0         0   \n",
       "23310           0                   0          0         0        0         0   \n",
       "\n",
       "        VOLKSKULTUR.  WIRTSCHAFT.  WISSENSCHAFT.  \n",
       "41946              0            0              0  \n",
       "80260              0            0              0  \n",
       "80678              0            0              0  \n",
       "105916             0            0              0  \n",
       "85473              0            0              0  \n",
       "23310              0            0              0  \n",
       "\n",
       "[6 rows x 29 columns]"
      ]
     },
     "execution_count": 252,
     "metadata": {},
     "output_type": "execute_result"
    }
   ],
   "source": [
    "df_web_lvl_1.sample(6)"
   ]
  },
  {
   "cell_type": "code",
   "execution_count": 253,
   "id": "d7abfad7",
   "metadata": {},
   "outputs": [
    {
     "data": {
      "text/plain": [
       "(119948, 29)"
      ]
     },
     "execution_count": 253,
     "metadata": {},
     "output_type": "execute_result"
    }
   ],
   "source": [
    "df_web_lvl_1.shape"
   ]
  },
  {
   "cell_type": "markdown",
   "id": "2a1ca7e7",
   "metadata": {},
   "source": [
    "## Add IL Data"
   ]
  },
  {
   "cell_type": "code",
   "execution_count": 254,
   "id": "4c7a95cc",
   "metadata": {},
   "outputs": [],
   "source": [
    "# new_il_data = pd.read_pickle('../Daten/FINAL_il_lead_data.pkl')\n",
    "# new_il_data.columns = ['Item-WebCmsId', 'il_title', 'il_lead']\n",
    "# new_il_data['Item-WebCmsId'] = new_il_data['Item-WebCmsId'].str.upper()\n",
    "# new_il_data['Web-Text-IL'] = new_il_data['il_title'].fillna(' ') + '\\n' + new_il_data['il_lead']\n",
    "# df_web_lvl_1 = df_web_lvl_1.merge(new_il_data.drop(columns=['il_title', 'il_lead']), how='left', on='Item-WebCmsId')"
   ]
  },
  {
   "cell_type": "markdown",
   "id": "0552b561",
   "metadata": {},
   "source": [
    "## Descriptive Statistics"
   ]
  },
  {
   "cell_type": "markdown",
   "id": "5b1d63df",
   "metadata": {},
   "source": [
    "#### Defining final SDES order"
   ]
  },
  {
   "cell_type": "code",
   "execution_count": 255,
   "id": "fbfc74b4",
   "metadata": {},
   "outputs": [],
   "source": [
    "label_names = [\n",
    "    'ARBEIT.', 'BILDUNG.', 'ENERGIE.', 'FREIZEIT.', 'GESCHICHTE.',\n",
    "    'GESUNDHEIT.', 'GEWERBE.', 'INDUSTRIE.', 'JUSTIZ.', 'KULTUR.',\n",
    "    'LANDWIRTSCHAFT.', 'MEDIEN UND KOMMUNIKATION.', 'MENSCH.', 'MILITÄR.',\n",
    "    'PORTRÄT.', 'RELIGION.', 'SENSATION.', 'SOZIALES.',\n",
    "    'STAAT UND POLITIK.', 'STRAFTAT.', 'TECHNIK.', 'UMWELT.', 'VERKEHR.',\n",
    "    'VOLKSKULTUR.', 'WIRTSCHAFT.', 'WISSENSCHAFT.'\n",
    "]"
   ]
  },
  {
   "cell_type": "code",
   "execution_count": 256,
   "id": "f4fab8bd",
   "metadata": {},
   "outputs": [
    {
     "data": {
      "text/plain": [
       "Index(['ARBEIT.', 'BILDUNG.', 'ENERGIE.', 'FREIZEIT.', 'GESCHICHTE.',\n",
       "       'GESUNDHEIT.', 'GEWERBE.', 'INDUSTRIE.', 'JUSTIZ.', 'KULTUR.',\n",
       "       'LANDWIRTSCHAFT.', 'MEDIEN UND KOMMUNIKATION.', 'MENSCH.', 'MILITÄR.',\n",
       "       'PORTRÄT.', 'RELIGION.', 'SENSATION.', 'SOZIALES.',\n",
       "       'STAAT UND POLITIK.', 'STRAFTAT.', 'TECHNIK.', 'UMWELT.', 'VERKEHR.',\n",
       "       'VOLKSKULTUR.', 'WIRTSCHAFT.', 'WISSENSCHAFT.'],\n",
       "      dtype='object')"
      ]
     },
     "execution_count": 256,
     "metadata": {},
     "output_type": "execute_result"
    }
   ],
   "source": [
    "df_web_lvl_1.columns[3:]"
   ]
  },
  {
   "cell_type": "markdown",
   "id": "fc37c09c",
   "metadata": {},
   "source": [
    "#### Oldest and newest Video\n",
    "\n",
    "Oldest: https://www.srf.ch/play/tv/schweiz-aktuell/video/hollaendische-invasion-in-unterterzen?urn=urn:srf:video:ed9d4778-711f-433a-ab05-614fd6125b4a\n",
    "\n",
    "Newest: https://www.srf.ch/play/tv/rec-/video/qa-zur-reportage-wenn-ich-morgen-sterben-sollte---den-eigenen-todesfall-organisieren?urn=urn:srf:video:c6b72078-f7ca-49df-8d76-dffd97408455"
   ]
  },
  {
   "cell_type": "code",
   "execution_count": null,
   "id": "78f00892",
   "metadata": {},
   "outputs": [],
   "source": []
  },
  {
   "cell_type": "code",
   "execution_count": 257,
   "id": "1b4e7cc4",
   "metadata": {},
   "outputs": [
    {
     "data": {
      "text/plain": [
       "Timestamp('2024-04-29 00:00:00')"
      ]
     },
     "execution_count": 257,
     "metadata": {},
     "output_type": "execute_result"
    }
   ],
   "source": [
    "df_faro_expl['Sendedatum'].max()"
   ]
  },
  {
   "cell_type": "code",
   "execution_count": 258,
   "id": "c8df76c0",
   "metadata": {},
   "outputs": [
    {
     "data": {
      "text/plain": [
       "Timestamp('2009-07-14 00:00:00')"
      ]
     },
     "execution_count": 258,
     "metadata": {},
     "output_type": "execute_result"
    }
   ],
   "source": [
    "df_faro_expl['Sendedatum'].min()"
   ]
  },
  {
   "cell_type": "code",
   "execution_count": 259,
   "id": "e54080f2",
   "metadata": {},
   "outputs": [
    {
     "data": {
      "text/html": [
       "<div>\n",
       "<style scoped>\n",
       "    .dataframe tbody tr th:only-of-type {\n",
       "        vertical-align: middle;\n",
       "    }\n",
       "\n",
       "    .dataframe tbody tr th {\n",
       "        vertical-align: top;\n",
       "    }\n",
       "\n",
       "    .dataframe thead th {\n",
       "        text-align: right;\n",
       "    }\n",
       "</style>\n",
       "<table border=\"1\" class=\"dataframe\">\n",
       "  <thead>\n",
       "    <tr style=\"text-align: right;\">\n",
       "      <th></th>\n",
       "      <th>Prg-Id</th>\n",
       "      <th>Sendedatum</th>\n",
       "      <th>Item-Id</th>\n",
       "      <th>Item-Titel</th>\n",
       "      <th>Item-Abstract</th>\n",
       "      <th>Web-Titel</th>\n",
       "      <th>Web-Lead</th>\n",
       "      <th>Web-Description</th>\n",
       "      <th>Deskriptoren</th>\n",
       "      <th>Deskriptoren-Pfad</th>\n",
       "      <th>Item-WebCmsId</th>\n",
       "      <th>Program-WebCmsId</th>\n",
       "      <th>title</th>\n",
       "      <th>lead</th>\n",
       "      <th>Deskriptoren-Pfad-Split</th>\n",
       "      <th>Deskriptoren-Pfad-Split-Level</th>\n",
       "      <th>descriptor_lvl_1</th>\n",
       "      <th>descriptor_lvl_2</th>\n",
       "      <th>descriptor_lvl_3</th>\n",
       "      <th>descriptor_lvl_4</th>\n",
       "    </tr>\n",
       "  </thead>\n",
       "  <tbody>\n",
       "    <tr>\n",
       "      <th>91664</th>\n",
       "      <td>35C8546E-C26F-4A9E-8DEC-8BEED847F6A1</td>\n",
       "      <td>2009-07-14</td>\n",
       "      <td>C80D6772-DE5D-415D-9F1E-4BE75B383886</td>\n",
       "      <td>Live aus Walensee Resort Unterterzen</td>\n",
       "      <td>Schweiz &lt;Unterterzen  SG: Interview mit Famili...</td>\n",
       "      <td>Holländische Invasion in Unterterzen</td>\n",
       "      <td>Es ist Sommerferienzeit  viele Schweizer zieht...</td>\n",
       "      <td>NaN</td>\n",
       "      <td>TOURISMUS</td>\n",
       "      <td>¦FREIZEIT.¦TOURISMUS¦</td>\n",
       "      <td>ED9D4778-711F-433A-AB05-614FD6125B4A</td>\n",
       "      <td>8533A24C-7A26-45ED-982C-3A10DF31C145</td>\n",
       "      <td>Holländische Invasion in Unterterzen</td>\n",
       "      <td>Es ist Sommerferienzeit, viele Schweizer zieht...</td>\n",
       "      <td>¦FREIZEIT.¦TOURISMUS¦</td>\n",
       "      <td>[FREIZEIT., TOURISMUS]</td>\n",
       "      <td>FREIZEIT.</td>\n",
       "      <td>TOURISMUS</td>\n",
       "      <td>NaN</td>\n",
       "      <td>NaN</td>\n",
       "    </tr>\n",
       "  </tbody>\n",
       "</table>\n",
       "</div>"
      ],
      "text/plain": [
       "                                     Prg-Id Sendedatum  \\\n",
       "91664  35C8546E-C26F-4A9E-8DEC-8BEED847F6A1 2009-07-14   \n",
       "\n",
       "                                    Item-Id  \\\n",
       "91664  C80D6772-DE5D-415D-9F1E-4BE75B383886   \n",
       "\n",
       "                                 Item-Titel  \\\n",
       "91664  Live aus Walensee Resort Unterterzen   \n",
       "\n",
       "                                           Item-Abstract  \\\n",
       "91664  Schweiz <Unterterzen  SG: Interview mit Famili...   \n",
       "\n",
       "                                  Web-Titel  \\\n",
       "91664  Holländische Invasion in Unterterzen   \n",
       "\n",
       "                                                Web-Lead Web-Description  \\\n",
       "91664  Es ist Sommerferienzeit  viele Schweizer zieht...             NaN   \n",
       "\n",
       "      Deskriptoren      Deskriptoren-Pfad  \\\n",
       "91664    TOURISMUS  ¦FREIZEIT.¦TOURISMUS¦   \n",
       "\n",
       "                              Item-WebCmsId  \\\n",
       "91664  ED9D4778-711F-433A-AB05-614FD6125B4A   \n",
       "\n",
       "                           Program-WebCmsId  \\\n",
       "91664  8533A24C-7A26-45ED-982C-3A10DF31C145   \n",
       "\n",
       "                                      title  \\\n",
       "91664  Holländische Invasion in Unterterzen   \n",
       "\n",
       "                                                    lead  \\\n",
       "91664  Es ist Sommerferienzeit, viele Schweizer zieht...   \n",
       "\n",
       "      Deskriptoren-Pfad-Split Deskriptoren-Pfad-Split-Level descriptor_lvl_1  \\\n",
       "91664   ¦FREIZEIT.¦TOURISMUS¦        [FREIZEIT., TOURISMUS]        FREIZEIT.   \n",
       "\n",
       "      descriptor_lvl_2 descriptor_lvl_3 descriptor_lvl_4  \n",
       "91664        TOURISMUS              NaN              NaN  "
      ]
     },
     "execution_count": 259,
     "metadata": {},
     "output_type": "execute_result"
    }
   ],
   "source": [
    "df_faro_expl[df_faro_expl['Sendedatum']==df_faro_expl['Sendedatum'].min()].head(1)"
   ]
  },
  {
   "cell_type": "code",
   "execution_count": 260,
   "id": "62101def",
   "metadata": {
    "scrolled": true
   },
   "outputs": [
    {
     "data": {
      "text/html": [
       "<div>\n",
       "<style scoped>\n",
       "    .dataframe tbody tr th:only-of-type {\n",
       "        vertical-align: middle;\n",
       "    }\n",
       "\n",
       "    .dataframe tbody tr th {\n",
       "        vertical-align: top;\n",
       "    }\n",
       "\n",
       "    .dataframe thead th {\n",
       "        text-align: right;\n",
       "    }\n",
       "</style>\n",
       "<table border=\"1\" class=\"dataframe\">\n",
       "  <thead>\n",
       "    <tr style=\"text-align: right;\">\n",
       "      <th></th>\n",
       "      <th>Prg-Id</th>\n",
       "      <th>Sendedatum</th>\n",
       "      <th>Item-Id</th>\n",
       "      <th>Item-Titel</th>\n",
       "      <th>Item-Abstract</th>\n",
       "      <th>Web-Titel</th>\n",
       "      <th>Web-Lead</th>\n",
       "      <th>Web-Description</th>\n",
       "      <th>Deskriptoren</th>\n",
       "      <th>Deskriptoren-Pfad</th>\n",
       "      <th>Item-WebCmsId</th>\n",
       "      <th>Program-WebCmsId</th>\n",
       "      <th>title</th>\n",
       "      <th>lead</th>\n",
       "      <th>Deskriptoren-Pfad-Split</th>\n",
       "      <th>Deskriptoren-Pfad-Split-Level</th>\n",
       "      <th>descriptor_lvl_1</th>\n",
       "      <th>descriptor_lvl_2</th>\n",
       "      <th>descriptor_lvl_3</th>\n",
       "      <th>descriptor_lvl_4</th>\n",
       "    </tr>\n",
       "  </thead>\n",
       "  <tbody>\n",
       "    <tr>\n",
       "      <th>260886</th>\n",
       "      <td>6ADBB4FA-6C89-4B9B-B02E-49495579CF71</td>\n",
       "      <td>2024-04-29</td>\n",
       "      <td>585FA9BB-39A8-469B-93AB-135BED84DAE0</td>\n",
       "      <td>NaN</td>\n",
       "      <td>Schweiz: Redaktor Gian-Marco Maissen reagiert ...</td>\n",
       "      <td>Q&amp;A zur Reportage «Wenn ich morgen sterben sol...</td>\n",
       "      <td>Liebe Community  vielen Dank für die zahlreich...</td>\n",
       "      <td>Vor zwei Jahren ist die Mutter von «rec.»-Repo...</td>\n",
       "      <td>TOD</td>\n",
       "      <td>¦MENSCH.¦STERBEN¦TOD¦</td>\n",
       "      <td>C6B72078-F7CA-49DF-8D76-DFFD97408455</td>\n",
       "      <td>DDB36F1E-89FE-4916-A333-D28EFF240529</td>\n",
       "      <td>Q&amp;A zur Reportage «Wenn ich morgen sterben sol...</td>\n",
       "      <td>Liebe Community, vielen Dank für die zahlreich...</td>\n",
       "      <td>¦MENSCH.¦STERBEN¦TOD¦</td>\n",
       "      <td>[MENSCH., STERBEN, TOD]</td>\n",
       "      <td>MENSCH.</td>\n",
       "      <td>STERBEN</td>\n",
       "      <td>TOD</td>\n",
       "      <td>NaN</td>\n",
       "    </tr>\n",
       "  </tbody>\n",
       "</table>\n",
       "</div>"
      ],
      "text/plain": [
       "                                      Prg-Id Sendedatum  \\\n",
       "260886  6ADBB4FA-6C89-4B9B-B02E-49495579CF71 2024-04-29   \n",
       "\n",
       "                                     Item-Id Item-Titel  \\\n",
       "260886  585FA9BB-39A8-469B-93AB-135BED84DAE0        NaN   \n",
       "\n",
       "                                            Item-Abstract  \\\n",
       "260886  Schweiz: Redaktor Gian-Marco Maissen reagiert ...   \n",
       "\n",
       "                                                Web-Titel  \\\n",
       "260886  Q&A zur Reportage «Wenn ich morgen sterben sol...   \n",
       "\n",
       "                                                 Web-Lead  \\\n",
       "260886  Liebe Community  vielen Dank für die zahlreich...   \n",
       "\n",
       "                                          Web-Description Deskriptoren  \\\n",
       "260886  Vor zwei Jahren ist die Mutter von «rec.»-Repo...          TOD   \n",
       "\n",
       "            Deskriptoren-Pfad                         Item-WebCmsId  \\\n",
       "260886  ¦MENSCH.¦STERBEN¦TOD¦  C6B72078-F7CA-49DF-8D76-DFFD97408455   \n",
       "\n",
       "                            Program-WebCmsId  \\\n",
       "260886  DDB36F1E-89FE-4916-A333-D28EFF240529   \n",
       "\n",
       "                                                    title  \\\n",
       "260886  Q&A zur Reportage «Wenn ich morgen sterben sol...   \n",
       "\n",
       "                                                     lead  \\\n",
       "260886  Liebe Community, vielen Dank für die zahlreich...   \n",
       "\n",
       "       Deskriptoren-Pfad-Split Deskriptoren-Pfad-Split-Level descriptor_lvl_1  \\\n",
       "260886   ¦MENSCH.¦STERBEN¦TOD¦       [MENSCH., STERBEN, TOD]          MENSCH.   \n",
       "\n",
       "       descriptor_lvl_2 descriptor_lvl_3 descriptor_lvl_4  \n",
       "260886          STERBEN              TOD              NaN  "
      ]
     },
     "execution_count": 260,
     "metadata": {},
     "output_type": "execute_result"
    }
   ],
   "source": [
    "df_faro_expl[df_faro_expl['Sendedatum']==df_faro_expl['Sendedatum'].max()].head(1)"
   ]
  },
  {
   "cell_type": "code",
   "execution_count": 261,
   "id": "d3784884",
   "metadata": {},
   "outputs": [
    {
     "data": {
      "image/png": "[encoded data removed]",
      "text/plain": [
       "<Figure size 640x480 with 1 Axes>"
      ]
     },
     "metadata": {},
     "output_type": "display_data"
    }
   ],
   "source": [
    "# Sum each column\n",
    "column_sums = df_web_lvl_1[label_names].sum()\n",
    "\n",
    "# Sort the sums\n",
    "sorted_sums = pd.DataFrame(column_sums.sort_values(ascending=False))\n",
    "sorted_sums\n",
    "\n",
    "# Plot the results\n",
    "sorted_sums.plot(kind='bar')\n",
    "plt.title('Deduplicated and Cleaned SDES-Counts')\n",
    "#plt.xlabel('Columns')\n",
    "plt.ylabel('Count')\n",
    "plt.show()"
   ]
  },
  {
   "cell_type": "code",
   "execution_count": 262,
   "id": "78f697a4",
   "metadata": {},
   "outputs": [
    {
     "data": {
      "text/plain": [
       "ARBEIT.                       4233\n",
       "BILDUNG.                      2373\n",
       "ENERGIE.                      3025\n",
       "FREIZEIT.                     5434\n",
       "GESCHICHTE.                   1403\n",
       "GESUNDHEIT.                  12874\n",
       "GEWERBE.                      7096\n",
       "INDUSTRIE.                    3180\n",
       "JUSTIZ.                       7122\n",
       "KULTUR.                      17545\n",
       "LANDWIRTSCHAFT.               3798\n",
       "MEDIEN UND KOMMUNIKATION.     6751\n",
       "MENSCH.                      15788\n",
       "MILITÄR.                      2903\n",
       "PORTRÄT.                     10618\n",
       "RELIGION.                     2861\n",
       "SENSATION.                    9909\n",
       "SOZIALES.                     9498\n",
       "STAAT UND POLITIK.           30826\n",
       "STRAFTAT.                     7976\n",
       "TECHNIK.                      1671\n",
       "UMWELT.                      11070\n",
       "VERKEHR.                      6119\n",
       "VOLKSKULTUR.                  1845\n",
       "WIRTSCHAFT.                  13363\n",
       "WISSENSCHAFT.                 2826\n",
       "dtype: int64"
      ]
     },
     "execution_count": 262,
     "metadata": {},
     "output_type": "execute_result"
    }
   ],
   "source": [
    "df_web_lvl_1[label_names].sum()"
   ]
  },
  {
   "cell_type": "code",
   "execution_count": 263,
   "id": "a9f78ae7",
   "metadata": {},
   "outputs": [
    {
     "data": {
      "image/png": "[encoded data removed]",
      "text/plain": [
       "<Figure size 640x480 with 1 Axes>"
      ]
     },
     "metadata": {},
     "output_type": "display_data"
    }
   ],
   "source": [
    "row_sums = df_web_lvl_1[label_names].sum(axis=1)\n",
    "\n",
    "# Plot a histogram of the row sums\n",
    "plt.hist(row_sums, bins=row_sums.max())  # 'auto' lets matplotlib decide the number of bins\n",
    "plt.title('Histogram of SDES Counts per Item')\n",
    "plt.xlabel('Unique SDES')\n",
    "plt.ylabel('Frequency')\n",
    "plt.show()"
   ]
  },
  {
   "cell_type": "code",
   "execution_count": 264,
   "id": "902ee6d6",
   "metadata": {},
   "outputs": [
    {
     "data": {
      "text/plain": [
       "1.6849551472304665"
      ]
     },
     "execution_count": 264,
     "metadata": {},
     "output_type": "execute_result"
    }
   ],
   "source": [
    "row_sums.mean()"
   ]
  },
  {
   "cell_type": "code",
   "execution_count": 265,
   "id": "c1360994",
   "metadata": {},
   "outputs": [
    {
     "data": {
      "text/plain": [
       "2.0"
      ]
     },
     "execution_count": 265,
     "metadata": {},
     "output_type": "execute_result"
    }
   ],
   "source": [
    "row_sums.median()"
   ]
  },
  {
   "cell_type": "code",
   "execution_count": 266,
   "id": "1cd2be78",
   "metadata": {
    "scrolled": true
   },
   "outputs": [
    {
     "data": {
      "text/plain": [
       "0.7573427733789804"
      ]
     },
     "execution_count": 266,
     "metadata": {},
     "output_type": "execute_result"
    }
   ],
   "source": [
    "row_sums.std()"
   ]
  },
  {
   "cell_type": "markdown",
   "id": "fc87fdc4",
   "metadata": {},
   "source": [
    "### Test uniqueness"
   ]
  },
  {
   "cell_type": "code",
   "execution_count": 267,
   "id": "64849124",
   "metadata": {},
   "outputs": [
    {
     "data": {
      "text/plain": [
       "119948"
      ]
     },
     "execution_count": 267,
     "metadata": {},
     "output_type": "execute_result"
    }
   ],
   "source": [
    "df_web_lvl_1['Item-WebCmsId'].nunique()"
   ]
  },
  {
   "cell_type": "markdown",
   "id": "e9b6a62a",
   "metadata": {},
   "source": [
    "## Final Data\n",
    "\n",
    "- There will be two final datasets. One containing the full information and one where the data is sampled in order to increase class balance"
   ]
  },
  {
   "cell_type": "code",
   "execution_count": 268,
   "id": "59485fc7",
   "metadata": {},
   "outputs": [
    {
     "data": {
      "text/plain": [
       "Index(['ARBEIT.', 'BILDUNG.', 'ENERGIE.', 'FREIZEIT.', 'GESCHICHTE.',\n",
       "       'GESUNDHEIT.', 'GEWERBE.', 'INDUSTRIE.', 'JUSTIZ.', 'KULTUR.',\n",
       "       'LANDWIRTSCHAFT.', 'MEDIEN UND KOMMUNIKATION.', 'MENSCH.', 'MILITÄR.',\n",
       "       'PORTRÄT.', 'RELIGION.', 'SENSATION.', 'SOZIALES.',\n",
       "       'STAAT UND POLITIK.', 'STRAFTAT.', 'TECHNIK.', 'UMWELT.', 'VERKEHR.',\n",
       "       'VOLKSKULTUR.', 'WIRTSCHAFT.', 'WISSENSCHAFT.'],\n",
       "      dtype='object')"
      ]
     },
     "execution_count": 268,
     "metadata": {},
     "output_type": "execute_result"
    }
   ],
   "source": [
    "df_web_lvl_1.columns[3:]"
   ]
  },
  {
   "cell_type": "code",
   "execution_count": 269,
   "id": "5779246e",
   "metadata": {},
   "outputs": [],
   "source": [
    "# Convert categories into a list\n",
    "df_web_lvl_1['Categories'] = df_web_lvl_1[label_names].apply(lambda row: row.tolist(), axis=1)"
   ]
  },
  {
   "cell_type": "code",
   "execution_count": 270,
   "id": "3c61ec58",
   "metadata": {},
   "outputs": [
    {
     "data": {
      "text/plain": [
       "(119948, 30)"
      ]
     },
     "execution_count": 270,
     "metadata": {},
     "output_type": "execute_result"
    }
   ],
   "source": [
    "df_web_lvl_1.shape"
   ]
  },
  {
   "cell_type": "code",
   "execution_count": 271,
   "id": "dd694d70",
   "metadata": {
    "scrolled": true
   },
   "outputs": [
    {
     "data": {
      "text/html": [
       "<div>\n",
       "<style scoped>\n",
       "    .dataframe tbody tr th:only-of-type {\n",
       "        vertical-align: middle;\n",
       "    }\n",
       "\n",
       "    .dataframe tbody tr th {\n",
       "        vertical-align: top;\n",
       "    }\n",
       "\n",
       "    .dataframe thead th {\n",
       "        text-align: right;\n",
       "    }\n",
       "</style>\n",
       "<table border=\"1\" class=\"dataframe\">\n",
       "  <thead>\n",
       "    <tr style=\"text-align: right;\">\n",
       "      <th></th>\n",
       "      <th>Web-Text</th>\n",
       "      <th>Item-WebCmsId</th>\n",
       "      <th>Program-WebCmsId</th>\n",
       "      <th>ARBEIT.</th>\n",
       "      <th>BILDUNG.</th>\n",
       "      <th>ENERGIE.</th>\n",
       "      <th>FREIZEIT.</th>\n",
       "      <th>GESCHICHTE.</th>\n",
       "      <th>GESUNDHEIT.</th>\n",
       "      <th>GEWERBE.</th>\n",
       "      <th>...</th>\n",
       "      <th>SOZIALES.</th>\n",
       "      <th>STAAT UND POLITIK.</th>\n",
       "      <th>STRAFTAT.</th>\n",
       "      <th>TECHNIK.</th>\n",
       "      <th>UMWELT.</th>\n",
       "      <th>VERKEHR.</th>\n",
       "      <th>VOLKSKULTUR.</th>\n",
       "      <th>WIRTSCHAFT.</th>\n",
       "      <th>WISSENSCHAFT.</th>\n",
       "      <th>Categories</th>\n",
       "    </tr>\n",
       "  </thead>\n",
       "  <tbody>\n",
       "    <tr>\n",
       "      <th>46244</th>\n",
       "      <td>Hausärztinnen und Hausärzte sollen das Impfen ...</td>\n",
       "      <td>A0AE9860-2EF5-40AB-AF7B-1F14DA2948A2</td>\n",
       "      <td>DA26FCC4-9313-45AF-9864-1C097A7A238A</td>\n",
       "      <td>0</td>\n",
       "      <td>0</td>\n",
       "      <td>0</td>\n",
       "      <td>0</td>\n",
       "      <td>0</td>\n",
       "      <td>1</td>\n",
       "      <td>0</td>\n",
       "      <td>...</td>\n",
       "      <td>0</td>\n",
       "      <td>0</td>\n",
       "      <td>0</td>\n",
       "      <td>0</td>\n",
       "      <td>0</td>\n",
       "      <td>0</td>\n",
       "      <td>0</td>\n",
       "      <td>0</td>\n",
       "      <td>0</td>\n",
       "      <td>[0, 0, 0, 0, 0, 1, 0, 0, 0, 0, 0, 0, 0, 0, 0, ...</td>\n",
       "    </tr>\n",
       "    <tr>\n",
       "      <th>87582</th>\n",
       "      <td>Schweizer Forscher verpflanzen erstmals Kunsth...</td>\n",
       "      <td>EFEFDFC6-A7DF-4FF0-BF3E-995C4DADB111</td>\n",
       "      <td>1EC2F70E-912B-46E0-B18E-75922E235879</td>\n",
       "      <td>0</td>\n",
       "      <td>0</td>\n",
       "      <td>0</td>\n",
       "      <td>0</td>\n",
       "      <td>0</td>\n",
       "      <td>1</td>\n",
       "      <td>0</td>\n",
       "      <td>...</td>\n",
       "      <td>0</td>\n",
       "      <td>0</td>\n",
       "      <td>0</td>\n",
       "      <td>0</td>\n",
       "      <td>0</td>\n",
       "      <td>0</td>\n",
       "      <td>0</td>\n",
       "      <td>0</td>\n",
       "      <td>1</td>\n",
       "      <td>[0, 0, 0, 0, 0, 1, 0, 0, 0, 0, 0, 0, 1, 0, 0, ...</td>\n",
       "    </tr>\n",
       "    <tr>\n",
       "      <th>98358</th>\n",
       "      <td>Tierfreundliche Ebermast: Ferkel leiden weiter...</td>\n",
       "      <td>24FC0E5A-274A-4D89-9409-6A9C4B534F7B</td>\n",
       "      <td>81BDC498-D8D7-40B6-A3D8-6DEE971D1BE4</td>\n",
       "      <td>0</td>\n",
       "      <td>0</td>\n",
       "      <td>0</td>\n",
       "      <td>0</td>\n",
       "      <td>0</td>\n",
       "      <td>0</td>\n",
       "      <td>1</td>\n",
       "      <td>...</td>\n",
       "      <td>0</td>\n",
       "      <td>0</td>\n",
       "      <td>0</td>\n",
       "      <td>0</td>\n",
       "      <td>0</td>\n",
       "      <td>0</td>\n",
       "      <td>0</td>\n",
       "      <td>0</td>\n",
       "      <td>0</td>\n",
       "      <td>[0, 0, 0, 0, 0, 0, 1, 0, 0, 0, 1, 0, 0, 0, 0, ...</td>\n",
       "    </tr>\n",
       "    <tr>\n",
       "      <th>109730</th>\n",
       "      <td>Wetter 2010\\nDas Wetter im Jahr 2010 war von E...</td>\n",
       "      <td>3721CE02-D6BC-452C-A2F5-485DDE5BF1F8</td>\n",
       "      <td>1D469821-E609-4AAD-818B-FFCA05F6438D</td>\n",
       "      <td>0</td>\n",
       "      <td>0</td>\n",
       "      <td>0</td>\n",
       "      <td>0</td>\n",
       "      <td>0</td>\n",
       "      <td>0</td>\n",
       "      <td>0</td>\n",
       "      <td>...</td>\n",
       "      <td>0</td>\n",
       "      <td>0</td>\n",
       "      <td>0</td>\n",
       "      <td>0</td>\n",
       "      <td>1</td>\n",
       "      <td>0</td>\n",
       "      <td>0</td>\n",
       "      <td>0</td>\n",
       "      <td>0</td>\n",
       "      <td>[0, 0, 0, 0, 0, 0, 0, 0, 0, 0, 0, 0, 0, 0, 0, ...</td>\n",
       "    </tr>\n",
       "    <tr>\n",
       "      <th>111140</th>\n",
       "      <td>Willkommen bei der SRF-Investigativ-Box\\n</td>\n",
       "      <td>F2A9D3EF-59FA-426A-99EB-F99303B2787F</td>\n",
       "      <td>3DBA7989-9907-4A1C-9EAB-63F9387AB4EF</td>\n",
       "      <td>0</td>\n",
       "      <td>0</td>\n",
       "      <td>0</td>\n",
       "      <td>0</td>\n",
       "      <td>0</td>\n",
       "      <td>0</td>\n",
       "      <td>0</td>\n",
       "      <td>...</td>\n",
       "      <td>0</td>\n",
       "      <td>0</td>\n",
       "      <td>0</td>\n",
       "      <td>0</td>\n",
       "      <td>0</td>\n",
       "      <td>0</td>\n",
       "      <td>0</td>\n",
       "      <td>0</td>\n",
       "      <td>0</td>\n",
       "      <td>[0, 0, 0, 0, 0, 0, 0, 0, 0, 0, 0, 1, 0, 0, 0, ...</td>\n",
       "    </tr>\n",
       "    <tr>\n",
       "      <th>87304</th>\n",
       "      <td>Schweizer Auswanderer: Ruanda, Spanien, Deutsc...</td>\n",
       "      <td>8C0D6805-E634-410C-B799-05B51A8664A9</td>\n",
       "      <td>3097882F-58BA-44E2-9293-F1ACDD0FB206</td>\n",
       "      <td>0</td>\n",
       "      <td>0</td>\n",
       "      <td>0</td>\n",
       "      <td>0</td>\n",
       "      <td>0</td>\n",
       "      <td>0</td>\n",
       "      <td>0</td>\n",
       "      <td>...</td>\n",
       "      <td>0</td>\n",
       "      <td>0</td>\n",
       "      <td>0</td>\n",
       "      <td>0</td>\n",
       "      <td>0</td>\n",
       "      <td>0</td>\n",
       "      <td>0</td>\n",
       "      <td>0</td>\n",
       "      <td>0</td>\n",
       "      <td>[0, 0, 0, 0, 0, 0, 0, 0, 0, 0, 0, 0, 1, 0, 0, ...</td>\n",
       "    </tr>\n",
       "    <tr>\n",
       "      <th>72547</th>\n",
       "      <td>Olympische Spiele finden nicht 2020 statt\\nNeb...</td>\n",
       "      <td>FA8CD005-BBE4-4D99-B10C-69525481F359</td>\n",
       "      <td>82258A57-A57E-4F7C-817F-55BB77C05093</td>\n",
       "      <td>0</td>\n",
       "      <td>0</td>\n",
       "      <td>0</td>\n",
       "      <td>0</td>\n",
       "      <td>0</td>\n",
       "      <td>1</td>\n",
       "      <td>0</td>\n",
       "      <td>...</td>\n",
       "      <td>0</td>\n",
       "      <td>0</td>\n",
       "      <td>0</td>\n",
       "      <td>0</td>\n",
       "      <td>0</td>\n",
       "      <td>0</td>\n",
       "      <td>0</td>\n",
       "      <td>0</td>\n",
       "      <td>0</td>\n",
       "      <td>[0, 0, 0, 0, 0, 1, 0, 0, 0, 0, 0, 0, 0, 0, 0, ...</td>\n",
       "    </tr>\n",
       "    <tr>\n",
       "      <th>97118</th>\n",
       "      <td>Task-Force des Bundes soll Blackouts verhinder...</td>\n",
       "      <td>14A2E501-2A74-4F8B-9BF9-1ED42B6DE166</td>\n",
       "      <td>7C895ACE-F821-4FF6-8C02-33C01124FC14</td>\n",
       "      <td>0</td>\n",
       "      <td>0</td>\n",
       "      <td>1</td>\n",
       "      <td>0</td>\n",
       "      <td>0</td>\n",
       "      <td>0</td>\n",
       "      <td>0</td>\n",
       "      <td>...</td>\n",
       "      <td>0</td>\n",
       "      <td>1</td>\n",
       "      <td>0</td>\n",
       "      <td>0</td>\n",
       "      <td>0</td>\n",
       "      <td>0</td>\n",
       "      <td>0</td>\n",
       "      <td>0</td>\n",
       "      <td>0</td>\n",
       "      <td>[0, 0, 1, 0, 0, 0, 0, 0, 0, 0, 0, 0, 0, 0, 0, ...</td>\n",
       "    </tr>\n",
       "    <tr>\n",
       "      <th>60377</th>\n",
       "      <td>Linthal 2015 - Grossbaustelle Pumpspeicherwerk...</td>\n",
       "      <td>E5C0757C-346D-44F5-93F0-F9D1641E6C9B</td>\n",
       "      <td>2B36A86B-73DD-4A28-B919-AA2BA5A22B54</td>\n",
       "      <td>1</td>\n",
       "      <td>0</td>\n",
       "      <td>1</td>\n",
       "      <td>0</td>\n",
       "      <td>0</td>\n",
       "      <td>0</td>\n",
       "      <td>1</td>\n",
       "      <td>...</td>\n",
       "      <td>0</td>\n",
       "      <td>0</td>\n",
       "      <td>0</td>\n",
       "      <td>0</td>\n",
       "      <td>0</td>\n",
       "      <td>0</td>\n",
       "      <td>0</td>\n",
       "      <td>0</td>\n",
       "      <td>0</td>\n",
       "      <td>[1, 0, 1, 0, 0, 0, 1, 0, 0, 0, 0, 0, 0, 0, 0, ...</td>\n",
       "    </tr>\n",
       "    <tr>\n",
       "      <th>60829</th>\n",
       "      <td>Long Covid – Wer bezahlt Medikamente und Thera...</td>\n",
       "      <td>64EAB555-E6B4-4C1E-ACA5-2D8E62A3D343</td>\n",
       "      <td>513812E6-8B40-46AA-8B93-AF9210F9B5C6</td>\n",
       "      <td>0</td>\n",
       "      <td>0</td>\n",
       "      <td>0</td>\n",
       "      <td>0</td>\n",
       "      <td>0</td>\n",
       "      <td>1</td>\n",
       "      <td>0</td>\n",
       "      <td>...</td>\n",
       "      <td>0</td>\n",
       "      <td>0</td>\n",
       "      <td>0</td>\n",
       "      <td>0</td>\n",
       "      <td>0</td>\n",
       "      <td>0</td>\n",
       "      <td>0</td>\n",
       "      <td>0</td>\n",
       "      <td>0</td>\n",
       "      <td>[0, 0, 0, 0, 0, 1, 0, 0, 0, 0, 0, 0, 0, 0, 0, ...</td>\n",
       "    </tr>\n",
       "  </tbody>\n",
       "</table>\n",
       "<p>10 rows × 30 columns</p>\n",
       "</div>"
      ],
      "text/plain": [
       "                                                 Web-Text  \\\n",
       "46244   Hausärztinnen und Hausärzte sollen das Impfen ...   \n",
       "87582   Schweizer Forscher verpflanzen erstmals Kunsth...   \n",
       "98358   Tierfreundliche Ebermast: Ferkel leiden weiter...   \n",
       "109730  Wetter 2010\\nDas Wetter im Jahr 2010 war von E...   \n",
       "111140          Willkommen bei der SRF-Investigativ-Box\\n   \n",
       "87304   Schweizer Auswanderer: Ruanda, Spanien, Deutsc...   \n",
       "72547   Olympische Spiele finden nicht 2020 statt\\nNeb...   \n",
       "97118   Task-Force des Bundes soll Blackouts verhinder...   \n",
       "60377   Linthal 2015 - Grossbaustelle Pumpspeicherwerk...   \n",
       "60829   Long Covid – Wer bezahlt Medikamente und Thera...   \n",
       "\n",
       "                               Item-WebCmsId  \\\n",
       "46244   A0AE9860-2EF5-40AB-AF7B-1F14DA2948A2   \n",
       "87582   EFEFDFC6-A7DF-4FF0-BF3E-995C4DADB111   \n",
       "98358   24FC0E5A-274A-4D89-9409-6A9C4B534F7B   \n",
       "109730  3721CE02-D6BC-452C-A2F5-485DDE5BF1F8   \n",
       "111140  F2A9D3EF-59FA-426A-99EB-F99303B2787F   \n",
       "87304   8C0D6805-E634-410C-B799-05B51A8664A9   \n",
       "72547   FA8CD005-BBE4-4D99-B10C-69525481F359   \n",
       "97118   14A2E501-2A74-4F8B-9BF9-1ED42B6DE166   \n",
       "60377   E5C0757C-346D-44F5-93F0-F9D1641E6C9B   \n",
       "60829   64EAB555-E6B4-4C1E-ACA5-2D8E62A3D343   \n",
       "\n",
       "                            Program-WebCmsId  ARBEIT.  BILDUNG.  ENERGIE.  \\\n",
       "46244   DA26FCC4-9313-45AF-9864-1C097A7A238A        0         0         0   \n",
       "87582   1EC2F70E-912B-46E0-B18E-75922E235879        0         0         0   \n",
       "98358   81BDC498-D8D7-40B6-A3D8-6DEE971D1BE4        0         0         0   \n",
       "109730  1D469821-E609-4AAD-818B-FFCA05F6438D        0         0         0   \n",
       "111140  3DBA7989-9907-4A1C-9EAB-63F9387AB4EF        0         0         0   \n",
       "87304   3097882F-58BA-44E2-9293-F1ACDD0FB206        0         0         0   \n",
       "72547   82258A57-A57E-4F7C-817F-55BB77C05093        0         0         0   \n",
       "97118   7C895ACE-F821-4FF6-8C02-33C01124FC14        0         0         1   \n",
       "60377   2B36A86B-73DD-4A28-B919-AA2BA5A22B54        1         0         1   \n",
       "60829   513812E6-8B40-46AA-8B93-AF9210F9B5C6        0         0         0   \n",
       "\n",
       "        FREIZEIT.  GESCHICHTE.  GESUNDHEIT.  GEWERBE.  ...  SOZIALES.  \\\n",
       "46244           0            0            1         0  ...          0   \n",
       "87582           0            0            1         0  ...          0   \n",
       "98358           0            0            0         1  ...          0   \n",
       "109730          0            0            0         0  ...          0   \n",
       "111140          0            0            0         0  ...          0   \n",
       "87304           0            0            0         0  ...          0   \n",
       "72547           0            0            1         0  ...          0   \n",
       "97118           0            0            0         0  ...          0   \n",
       "60377           0            0            0         1  ...          0   \n",
       "60829           0            0            1         0  ...          0   \n",
       "\n",
       "        STAAT UND POLITIK.  STRAFTAT.  TECHNIK.  UMWELT.  VERKEHR.  \\\n",
       "46244                    0          0         0        0         0   \n",
       "87582                    0          0         0        0         0   \n",
       "98358                    0          0         0        0         0   \n",
       "109730                   0          0         0        1         0   \n",
       "111140                   0          0         0        0         0   \n",
       "87304                    0          0         0        0         0   \n",
       "72547                    0          0         0        0         0   \n",
       "97118                    1          0         0        0         0   \n",
       "60377                    0          0         0        0         0   \n",
       "60829                    0          0         0        0         0   \n",
       "\n",
       "        VOLKSKULTUR.  WIRTSCHAFT.  WISSENSCHAFT.  \\\n",
       "46244              0            0              0   \n",
       "87582              0            0              1   \n",
       "98358              0            0              0   \n",
       "109730             0            0              0   \n",
       "111140             0            0              0   \n",
       "87304              0            0              0   \n",
       "72547              0            0              0   \n",
       "97118              0            0              0   \n",
       "60377              0            0              0   \n",
       "60829              0            0              0   \n",
       "\n",
       "                                               Categories  \n",
       "46244   [0, 0, 0, 0, 0, 1, 0, 0, 0, 0, 0, 0, 0, 0, 0, ...  \n",
       "87582   [0, 0, 0, 0, 0, 1, 0, 0, 0, 0, 0, 0, 1, 0, 0, ...  \n",
       "98358   [0, 0, 0, 0, 0, 0, 1, 0, 0, 0, 1, 0, 0, 0, 0, ...  \n",
       "109730  [0, 0, 0, 0, 0, 0, 0, 0, 0, 0, 0, 0, 0, 0, 0, ...  \n",
       "111140  [0, 0, 0, 0, 0, 0, 0, 0, 0, 0, 0, 1, 0, 0, 0, ...  \n",
       "87304   [0, 0, 0, 0, 0, 0, 0, 0, 0, 0, 0, 0, 1, 0, 0, ...  \n",
       "72547   [0, 0, 0, 0, 0, 1, 0, 0, 0, 0, 0, 0, 0, 0, 0, ...  \n",
       "97118   [0, 0, 1, 0, 0, 0, 0, 0, 0, 0, 0, 0, 0, 0, 0, ...  \n",
       "60377   [1, 0, 1, 0, 0, 0, 1, 0, 0, 0, 0, 0, 0, 0, 0, ...  \n",
       "60829   [0, 0, 0, 0, 0, 1, 0, 0, 0, 0, 0, 0, 0, 0, 0, ...  \n",
       "\n",
       "[10 rows x 30 columns]"
      ]
     },
     "execution_count": 271,
     "metadata": {},
     "output_type": "execute_result"
    }
   ],
   "source": [
    "df_web_lvl_1.sample(10)"
   ]
  },
  {
   "cell_type": "markdown",
   "id": "ecd595c4",
   "metadata": {},
   "source": [
    "### Full Dataset"
   ]
  },
  {
   "cell_type": "code",
   "execution_count": 272,
   "id": "5484f783",
   "metadata": {},
   "outputs": [],
   "source": [
    "df_web_lvl_1.to_pickle('../Daten/FINAL_faro_cleaned.pkl')"
   ]
  },
  {
   "cell_type": "markdown",
   "id": "12c69b51",
   "metadata": {},
   "source": [
    "### Enthropy Minimized Data Set\n",
    "\n",
    "This function can be used to analyze the diversity of label distributions in a machine learning classification dataset. High entropy would suggest that the dataset is balanced across different labels, which is generally desirable for training classification models. Conversely, low entropy might indicate an imbalance, suggesting the need for techniques like resampling to balance the dataset before training."
   ]
  },
  {
   "cell_type": "code",
   "execution_count": 287,
   "id": "fab5d510",
   "metadata": {},
   "outputs": [],
   "source": [
    "def categorical_entropy(df, labels=label_names):\n",
    "    \"\"\"\n",
    "    Calculate the entropy of categorical labels in a DataFrame.\n",
    "\n",
    "    Parameters:\n",
    "    - df (DataFrame): The pandas DataFrame containing the dataset.\n",
    "    - labels (list): A list of column names in the DataFrame that represent categorical labels.\n",
    "\n",
    "    Returns:\n",
    "    - float: The calculated entropy of the label distribution.\n",
    "\n",
    "    Formula for entropy:\n",
    "    H = -sum(p(l) * log2(p(l)))\n",
    "    where p(l) is the probability of label l occurring in the dataset.\n",
    "    \"\"\"\n",
    "\n",
    "    # Calculate the total number of occurrences for each label\n",
    "    cat_sums = df[labels].sum()\n",
    "\n",
    "    # Calculate the total occurrences of all labels combined\n",
    "    total = cat_sums.sum()\n",
    "\n",
    "    # Calculate the probability of each label (number of occurrences of each label / total occurrences)\n",
    "    cat_probs = cat_sums / total\n",
    "    print('Probability of each label:')\n",
    "    print('   (number of occurrences of each label / total occurrences)')\n",
    "    print(cat_probs.sort_values(ascending=False))\n",
    "    \n",
    "    # Calculate the entropy using the entropy formula:\n",
    "    # Entropy = Sum of (probability of each label * -log2 of the probability of each label)\n",
    "    entropy = -np.sum(cat_probs * np.log2(cat_probs))\n",
    "\n",
    "    return f'Entropy: {entropy}'"
   ]
  },
  {
   "cell_type": "markdown",
   "id": "4dae608f",
   "metadata": {},
   "source": [
    "To determine the maximum entropy for a set of categorical labels, where the maximum entropy occurs when all possible outcomes are equally likely, we first need to understand the nature of entropy and the specifics of your dataset.\n",
    "\n",
    "### Understanding Maximum Entropy\n",
    "\n",
    "**Entropy** is a measure of the uncertainty or unpredictability of a data source, calculated using the probabilities of the outcomes. For categorical data, the formula for entropy, \\( H \\), in a system with \\( n \\) outcomes is given by:\n",
    "\n",
    "\\[ H = -\\sum_{i=1}^n p_i \\log_2(p_i) \\]\n",
    "\n",
    "where \\( p_i \\) is the probability of the \\( i \\)-th outcome.\n",
    "\n",
    "**Maximum entropy** occurs when all outcomes are equally likely. In such a case, the probabilities \\( p_i \\) for all labels are equal. For \\( n \\) equally likely outcomes, \\( p_i = \\frac{1}{n} \\) for all \\( i \\). The entropy formula simplifies to:\n",
    "\n",
    "\\[ H = -n \\left( \\frac{1}{n} \\log_2 \\left(\\frac{1}{n}\\right) \\right) = \\log_2(n) \\]\n",
    "\n",
    "This means the maximum entropy for \\( n \\) categories is \\( \\log_2(n) \\), which is achieved when each category is equally probable.\n",
    "\n",
    "### Applying to Your Dataset\n",
    "\n",
    "To achieve maximum entropy for 26 unique categories, each category would need to have an equal probability of occurring. This is a theoretical state where each category is equally likely, irrespective of the actual counts you provided.\n",
    "\n",
    "### Calculating Maximum Entropy for 26 Labels\n",
    "\n",
    "For your dataset with 26 unique labels, the maximum entropy would be:\n",
    "\n",
    "\\[ H_{max} = \\log_2(26) \\]\n",
    "\n",
    "Let's compute that:"
   ]
  },
  {
   "cell_type": "code",
   "execution_count": 288,
   "id": "2d3d0708",
   "metadata": {},
   "outputs": [
    {
     "name": "stdout",
     "output_type": "stream",
     "text": [
      "The maximum entropy for 26 equally likely labels is: 4.7004 bits\n"
     ]
    }
   ],
   "source": [
    "num_labels = len(label_names)  # As it seems there are 26 unique labels\n",
    "max_entropy = np.log2(num_labels)\n",
    "print(f\"The maximum entropy for {num_labels} equally likely labels is: {max_entropy:.4f} bits\")\n"
   ]
  },
  {
   "cell_type": "code",
   "execution_count": 289,
   "id": "2141907a",
   "metadata": {},
   "outputs": [
    {
     "data": {
      "text/plain": [
       "4.700439718141092"
      ]
     },
     "execution_count": 289,
     "metadata": {},
     "output_type": "execute_result"
    }
   ],
   "source": [
    "-26 * (1/26 * np.log2(1/26))"
   ]
  },
  {
   "cell_type": "code",
   "execution_count": 290,
   "id": "4d75bacb",
   "metadata": {},
   "outputs": [
    {
     "data": {
      "text/plain": [
       "0.038461538461538464"
      ]
     },
     "execution_count": 290,
     "metadata": {},
     "output_type": "execute_result"
    }
   ],
   "source": [
    "1/26"
   ]
  },
  {
   "cell_type": "markdown",
   "id": "ba0473f7",
   "metadata": {},
   "source": [
    "This computation will tell us the highest level of uncertainty possible with 26 labels, where each label has an equal chance of appearing. This theoretical maximum is useful for comparing against the actual entropy calculated from your data's distribution to understand how balanced or imbalanced your label distribution is relative to the most uncertain (balanced) state possible.\n",
    "\n",
    "### Concliusion\n",
    "\n",
    "If your entropy calculation from the actual data is close to this maximum, it suggests that your labels are relatively balanced. If it is much lower, it indicates a skewed distribution with some labels being much more frequent than others, which might necessitate resampling or other methods to balance the data before using it for training machine learning models.\n",
    "\n",
    "### Enthropy for Full Dataset"
   ]
  },
  {
   "cell_type": "code",
   "execution_count": 291,
   "id": "3dc3e438",
   "metadata": {},
   "outputs": [
    {
     "name": "stdout",
     "output_type": "stream",
     "text": [
      "Probability of each label:\n",
      "   (number of occurrences of each label / total occurrences)\n",
      "STAAT UND POLITIK.           0.152523\n",
      "KULTUR.                      0.086810\n",
      "MENSCH.                      0.078117\n",
      "WIRTSCHAFT.                  0.066118\n",
      "GESUNDHEIT.                  0.063699\n",
      "UMWELT.                      0.054773\n",
      "PORTRÄT.                     0.052537\n",
      "SENSATION.                   0.049028\n",
      "SOZIALES.                    0.046995\n",
      "STRAFTAT.                    0.039464\n",
      "JUSTIZ.                      0.035239\n",
      "GEWERBE.                     0.035110\n",
      "MEDIEN UND KOMMUNIKATION.    0.033403\n",
      "VERKEHR.                     0.030276\n",
      "FREIZEIT.                    0.026887\n",
      "ARBEIT.                      0.020944\n",
      "LANDWIRTSCHAFT.              0.018792\n",
      "INDUSTRIE.                   0.015734\n",
      "ENERGIE.                     0.014967\n",
      "MILITÄR.                     0.014364\n",
      "RELIGION.                    0.014156\n",
      "WISSENSCHAFT.                0.013983\n",
      "BILDUNG.                     0.011741\n",
      "VOLKSKULTUR.                 0.009129\n",
      "TECHNIK.                     0.008268\n",
      "GESCHICHTE.                  0.006942\n",
      "dtype: float64\n"
     ]
    },
    {
     "data": {
      "text/plain": [
       "'Entropy: 4.288061472921206'"
      ]
     },
     "execution_count": 291,
     "metadata": {},
     "output_type": "execute_result"
    }
   ],
   "source": [
    "categorical_entropy(df_web_lvl_1, labels = label_names)"
   ]
  },
  {
   "cell_type": "markdown",
   "id": "a208aaaf",
   "metadata": {},
   "source": [
    "## Resampled Dataset"
   ]
  },
  {
   "cell_type": "code",
   "execution_count": 292,
   "id": "a0047220",
   "metadata": {},
   "outputs": [],
   "source": [
    "label_frequencies = df_web_lvl_1[label_names].sum().sort_values()"
   ]
  },
  {
   "cell_type": "code",
   "execution_count": 293,
   "id": "aaaf7a5f",
   "metadata": {},
   "outputs": [
    {
     "data": {
      "text/plain": [
       "GESCHICHTE.                   1403\n",
       "TECHNIK.                      1671\n",
       "VOLKSKULTUR.                  1845\n",
       "BILDUNG.                      2373\n",
       "WISSENSCHAFT.                 2826\n",
       "RELIGION.                     2861\n",
       "MILITÄR.                      2903\n",
       "ENERGIE.                      3025\n",
       "INDUSTRIE.                    3180\n",
       "LANDWIRTSCHAFT.               3798\n",
       "ARBEIT.                       4233\n",
       "FREIZEIT.                     5434\n",
       "VERKEHR.                      6119\n",
       "MEDIEN UND KOMMUNIKATION.     6751\n",
       "GEWERBE.                      7096\n",
       "JUSTIZ.                       7122\n",
       "STRAFTAT.                     7976\n",
       "SOZIALES.                     9498\n",
       "SENSATION.                    9909\n",
       "PORTRÄT.                     10618\n",
       "UMWELT.                      11070\n",
       "GESUNDHEIT.                  12874\n",
       "WIRTSCHAFT.                  13363\n",
       "MENSCH.                      15788\n",
       "KULTUR.                      17545\n",
       "STAAT UND POLITIK.           30826\n",
       "dtype: int64"
      ]
     },
     "execution_count": 293,
     "metadata": {},
     "output_type": "execute_result"
    }
   ],
   "source": [
    "label_frequencies"
   ]
  },
  {
   "cell_type": "code",
   "execution_count": 294,
   "id": "d75612a2",
   "metadata": {},
   "outputs": [
    {
     "data": {
      "text/plain": [
       "1403"
      ]
     },
     "execution_count": 294,
     "metadata": {},
     "output_type": "execute_result"
    }
   ],
   "source": [
    "min_label_count = label_frequencies.min()\n",
    "min_label_count"
   ]
  },
  {
   "cell_type": "code",
   "execution_count": 295,
   "id": "75d0afd8",
   "metadata": {},
   "outputs": [],
   "source": [
    "df = df_web_lvl_1\n",
    "\n",
    "balanced_df = pd.DataFrame()\n",
    "\n",
    "for label in label_names:\n",
    "    # Filter rows where the current label is 1\n",
    "    label_df = df[df[label] == 1]\n",
    "\n",
    "    # Sampling\n",
    "    if len(label_df) >= min_label_count:\n",
    "        sampled_df = label_df.sample(n=min_label_count, random_state=42)\n",
    "    else:\n",
    "        # If less data than min_label_count, oversample with replacement\n",
    "        sampled_df = label_df.sample(n=min_label_count, replace=True, random_state=42)\n",
    "\n",
    "    # Append sampled data to the balanced DataFrame\n",
    "    balanced_df = pd.concat([balanced_df, sampled_df], ignore_index=True)\n",
    "\n",
    "# Removing duplicates while retaining the index order\n",
    "balanced_df = balanced_df.drop_duplicates(subset=['Web-Text', 'Item-WebCmsId', 'Program-WebCmsId']).reset_index(drop=True)"
   ]
  },
  {
   "cell_type": "code",
   "execution_count": 296,
   "id": "e6690a00",
   "metadata": {},
   "outputs": [
    {
     "data": {
      "text/plain": [
       "(32799, 30)"
      ]
     },
     "execution_count": 296,
     "metadata": {},
     "output_type": "execute_result"
    }
   ],
   "source": [
    "balanced_df.shape"
   ]
  },
  {
   "cell_type": "code",
   "execution_count": 297,
   "id": "f7c18c1a",
   "metadata": {},
   "outputs": [
    {
     "data": {
      "text/html": [
       "<div>\n",
       "<style scoped>\n",
       "    .dataframe tbody tr th:only-of-type {\n",
       "        vertical-align: middle;\n",
       "    }\n",
       "\n",
       "    .dataframe tbody tr th {\n",
       "        vertical-align: top;\n",
       "    }\n",
       "\n",
       "    .dataframe thead th {\n",
       "        text-align: right;\n",
       "    }\n",
       "</style>\n",
       "<table border=\"1\" class=\"dataframe\">\n",
       "  <thead>\n",
       "    <tr style=\"text-align: right;\">\n",
       "      <th></th>\n",
       "      <th>Web-Text</th>\n",
       "      <th>Item-WebCmsId</th>\n",
       "      <th>Program-WebCmsId</th>\n",
       "      <th>ARBEIT.</th>\n",
       "      <th>BILDUNG.</th>\n",
       "      <th>ENERGIE.</th>\n",
       "      <th>FREIZEIT.</th>\n",
       "      <th>GESCHICHTE.</th>\n",
       "      <th>GESUNDHEIT.</th>\n",
       "      <th>GEWERBE.</th>\n",
       "      <th>...</th>\n",
       "      <th>SOZIALES.</th>\n",
       "      <th>STAAT UND POLITIK.</th>\n",
       "      <th>STRAFTAT.</th>\n",
       "      <th>TECHNIK.</th>\n",
       "      <th>UMWELT.</th>\n",
       "      <th>VERKEHR.</th>\n",
       "      <th>VOLKSKULTUR.</th>\n",
       "      <th>WIRTSCHAFT.</th>\n",
       "      <th>WISSENSCHAFT.</th>\n",
       "      <th>Categories</th>\n",
       "    </tr>\n",
       "  </thead>\n",
       "  <tbody>\n",
       "    <tr>\n",
       "      <th>0</th>\n",
       "      <td>Kanton Neuenburg: Geld für Firmen die Arbeitsl...</td>\n",
       "      <td>EA6813CF-DD56-4DD0-87C6-73BC110095AA</td>\n",
       "      <td>A8613547-A3E2-4D81-91B8-7C5F3F2D5439</td>\n",
       "      <td>1</td>\n",
       "      <td>0</td>\n",
       "      <td>0</td>\n",
       "      <td>0</td>\n",
       "      <td>0</td>\n",
       "      <td>0</td>\n",
       "      <td>0</td>\n",
       "      <td>...</td>\n",
       "      <td>0</td>\n",
       "      <td>1</td>\n",
       "      <td>0</td>\n",
       "      <td>0</td>\n",
       "      <td>0</td>\n",
       "      <td>0</td>\n",
       "      <td>0</td>\n",
       "      <td>0</td>\n",
       "      <td>0</td>\n",
       "      <td>[1, 0, 0, 0, 0, 0, 0, 0, 0, 0, 0, 0, 0, 0, 0, ...</td>\n",
       "    </tr>\n",
       "    <tr>\n",
       "      <th>1</th>\n",
       "      <td>Flüchtlinge sollen in der Schweiz arbeiten dür...</td>\n",
       "      <td>0A613907-A6DF-4861-9AFC-2EB288C03C32</td>\n",
       "      <td>ADAE6D37-23BB-4960-A51A-88EC2CD6D19B</td>\n",
       "      <td>1</td>\n",
       "      <td>0</td>\n",
       "      <td>0</td>\n",
       "      <td>0</td>\n",
       "      <td>0</td>\n",
       "      <td>0</td>\n",
       "      <td>0</td>\n",
       "      <td>...</td>\n",
       "      <td>0</td>\n",
       "      <td>0</td>\n",
       "      <td>0</td>\n",
       "      <td>0</td>\n",
       "      <td>0</td>\n",
       "      <td>0</td>\n",
       "      <td>0</td>\n",
       "      <td>0</td>\n",
       "      <td>0</td>\n",
       "      <td>[1, 0, 0, 0, 0, 0, 0, 0, 0, 0, 0, 0, 1, 0, 0, ...</td>\n",
       "    </tr>\n",
       "    <tr>\n",
       "      <th>2</th>\n",
       "      <td>Uber-Urteil zieht sich hin\\nOb «Uber» ein Arbe...</td>\n",
       "      <td>5FCFADE8-EC82-4923-83E6-6ED1398C6E3D</td>\n",
       "      <td>87E2E34D-BF2E-4E02-A333-221C12F2D261</td>\n",
       "      <td>1</td>\n",
       "      <td>0</td>\n",
       "      <td>0</td>\n",
       "      <td>0</td>\n",
       "      <td>0</td>\n",
       "      <td>0</td>\n",
       "      <td>0</td>\n",
       "      <td>...</td>\n",
       "      <td>0</td>\n",
       "      <td>0</td>\n",
       "      <td>0</td>\n",
       "      <td>0</td>\n",
       "      <td>0</td>\n",
       "      <td>0</td>\n",
       "      <td>0</td>\n",
       "      <td>0</td>\n",
       "      <td>0</td>\n",
       "      <td>[1, 0, 0, 0, 0, 0, 0, 0, 1, 0, 0, 0, 0, 0, 0, ...</td>\n",
       "    </tr>\n",
       "    <tr>\n",
       "      <th>3</th>\n",
       "      <td>Probleme mit Billigcoiffeuren\\nBilligcoiffeure...</td>\n",
       "      <td>9C7692CE-BB12-4124-9850-1240458CDD94</td>\n",
       "      <td>BF1F2044-73ED-472F-BEC3-A4118B3D977C</td>\n",
       "      <td>1</td>\n",
       "      <td>0</td>\n",
       "      <td>0</td>\n",
       "      <td>0</td>\n",
       "      <td>0</td>\n",
       "      <td>0</td>\n",
       "      <td>1</td>\n",
       "      <td>...</td>\n",
       "      <td>0</td>\n",
       "      <td>0</td>\n",
       "      <td>0</td>\n",
       "      <td>0</td>\n",
       "      <td>0</td>\n",
       "      <td>0</td>\n",
       "      <td>0</td>\n",
       "      <td>0</td>\n",
       "      <td>0</td>\n",
       "      <td>[1, 0, 0, 0, 0, 0, 1, 0, 0, 0, 0, 0, 0, 0, 0, ...</td>\n",
       "    </tr>\n",
       "    <tr>\n",
       "      <th>4</th>\n",
       "      <td>Mindestlohninitiative soll Lohndruck ausgleich...</td>\n",
       "      <td>DD68BFAB-8119-4B26-A3B5-DC4F3C468340</td>\n",
       "      <td>713C4040-C93C-45EC-B810-08050E898100</td>\n",
       "      <td>1</td>\n",
       "      <td>0</td>\n",
       "      <td>0</td>\n",
       "      <td>0</td>\n",
       "      <td>0</td>\n",
       "      <td>0</td>\n",
       "      <td>0</td>\n",
       "      <td>...</td>\n",
       "      <td>0</td>\n",
       "      <td>0</td>\n",
       "      <td>0</td>\n",
       "      <td>0</td>\n",
       "      <td>0</td>\n",
       "      <td>0</td>\n",
       "      <td>0</td>\n",
       "      <td>0</td>\n",
       "      <td>0</td>\n",
       "      <td>[1, 0, 0, 0, 0, 0, 0, 0, 0, 0, 0, 0, 0, 0, 0, ...</td>\n",
       "    </tr>\n",
       "  </tbody>\n",
       "</table>\n",
       "<p>5 rows × 30 columns</p>\n",
       "</div>"
      ],
      "text/plain": [
       "                                            Web-Text  \\\n",
       "0  Kanton Neuenburg: Geld für Firmen die Arbeitsl...   \n",
       "1  Flüchtlinge sollen in der Schweiz arbeiten dür...   \n",
       "2  Uber-Urteil zieht sich hin\\nOb «Uber» ein Arbe...   \n",
       "3  Probleme mit Billigcoiffeuren\\nBilligcoiffeure...   \n",
       "4  Mindestlohninitiative soll Lohndruck ausgleich...   \n",
       "\n",
       "                          Item-WebCmsId                      Program-WebCmsId  \\\n",
       "0  EA6813CF-DD56-4DD0-87C6-73BC110095AA  A8613547-A3E2-4D81-91B8-7C5F3F2D5439   \n",
       "1  0A613907-A6DF-4861-9AFC-2EB288C03C32  ADAE6D37-23BB-4960-A51A-88EC2CD6D19B   \n",
       "2  5FCFADE8-EC82-4923-83E6-6ED1398C6E3D  87E2E34D-BF2E-4E02-A333-221C12F2D261   \n",
       "3  9C7692CE-BB12-4124-9850-1240458CDD94  BF1F2044-73ED-472F-BEC3-A4118B3D977C   \n",
       "4  DD68BFAB-8119-4B26-A3B5-DC4F3C468340  713C4040-C93C-45EC-B810-08050E898100   \n",
       "\n",
       "   ARBEIT.  BILDUNG.  ENERGIE.  FREIZEIT.  GESCHICHTE.  GESUNDHEIT.  GEWERBE.  \\\n",
       "0        1         0         0          0            0            0         0   \n",
       "1        1         0         0          0            0            0         0   \n",
       "2        1         0         0          0            0            0         0   \n",
       "3        1         0         0          0            0            0         1   \n",
       "4        1         0         0          0            0            0         0   \n",
       "\n",
       "   ...  SOZIALES.  STAAT UND POLITIK.  STRAFTAT.  TECHNIK.  UMWELT.  VERKEHR.  \\\n",
       "0  ...          0                   1          0         0        0         0   \n",
       "1  ...          0                   0          0         0        0         0   \n",
       "2  ...          0                   0          0         0        0         0   \n",
       "3  ...          0                   0          0         0        0         0   \n",
       "4  ...          0                   0          0         0        0         0   \n",
       "\n",
       "   VOLKSKULTUR.  WIRTSCHAFT.  WISSENSCHAFT.  \\\n",
       "0             0            0              0   \n",
       "1             0            0              0   \n",
       "2             0            0              0   \n",
       "3             0            0              0   \n",
       "4             0            0              0   \n",
       "\n",
       "                                          Categories  \n",
       "0  [1, 0, 0, 0, 0, 0, 0, 0, 0, 0, 0, 0, 0, 0, 0, ...  \n",
       "1  [1, 0, 0, 0, 0, 0, 0, 0, 0, 0, 0, 0, 1, 0, 0, ...  \n",
       "2  [1, 0, 0, 0, 0, 0, 0, 0, 1, 0, 0, 0, 0, 0, 0, ...  \n",
       "3  [1, 0, 0, 0, 0, 0, 1, 0, 0, 0, 0, 0, 0, 0, 0, ...  \n",
       "4  [1, 0, 0, 0, 0, 0, 0, 0, 0, 0, 0, 0, 0, 0, 0, ...  \n",
       "\n",
       "[5 rows x 30 columns]"
      ]
     },
     "execution_count": 297,
     "metadata": {},
     "output_type": "execute_result"
    }
   ],
   "source": [
    "balanced_df.head()"
   ]
  },
  {
   "cell_type": "code",
   "execution_count": 298,
   "id": "688d4d63",
   "metadata": {},
   "outputs": [
    {
     "data": {
      "image/png": "[encoded data removed]",
      "text/plain": [
       "<Figure size 640x480 with 1 Axes>"
      ]
     },
     "metadata": {},
     "output_type": "display_data"
    }
   ],
   "source": [
    "df_plot = pd.DataFrame(balanced_df[label_names].sum()).reset_index().sort_values(0, ascending=False)\n",
    "# Plot the results\n",
    "df_plot.plot(x='index', kind='bar')\n",
    "plt.title('Balanced Dataset: Deduplicated and Cleaned SDES-Counts')\n",
    "#plt.xlabel('Columns')\n",
    "plt.ylabel('Count of Web-Texts with Descriptor')\n",
    "plt.xlabel('')\n",
    "plt.show()"
   ]
  },
  {
   "cell_type": "code",
   "execution_count": 299,
   "id": "2a29a13d",
   "metadata": {},
   "outputs": [
    {
     "name": "stdout",
     "output_type": "stream",
     "text": [
      "Probability of each label:\n",
      "   (number of occurrences of each label / total occurrences)\n",
      "STAAT UND POLITIK.           0.095054\n",
      "MENSCH.                      0.060736\n",
      "WIRTSCHAFT.                  0.058093\n",
      "KULTUR.                      0.055390\n",
      "GESUNDHEIT.                  0.053583\n",
      "UMWELT.                      0.051492\n",
      "SOZIALES.                    0.044607\n",
      "PORTRÄT.                     0.043368\n",
      "SENSATION.                   0.042547\n",
      "STRAFTAT.                    0.042173\n",
      "JUSTIZ.                      0.039052\n",
      "GEWERBE.                     0.037021\n",
      "MEDIEN UND KOMMUNIKATION.    0.035781\n",
      "VERKEHR.                     0.033347\n",
      "FREIZEIT.                    0.032048\n",
      "ARBEIT.                      0.029957\n",
      "LANDWIRTSCHAFT.              0.028330\n",
      "INDUSTRIE.                   0.026941\n",
      "WISSENSCHAFT.                0.026164\n",
      "RELIGION.                    0.025447\n",
      "ENERGIE.                     0.024925\n",
      "MILITÄR.                     0.024551\n",
      "BILDUNG.                     0.024223\n",
      "TECHNIK.                     0.022251\n",
      "VOLKSKULTUR.                 0.021968\n",
      "GESCHICHTE.                  0.020952\n",
      "dtype: float64\n"
     ]
    },
    {
     "data": {
      "text/plain": [
       "'Entropy: 4.584848748655336'"
      ]
     },
     "execution_count": 299,
     "metadata": {},
     "output_type": "execute_result"
    }
   ],
   "source": [
    "categorical_entropy(balanced_df, labels = label_names)"
   ]
  },
  {
   "cell_type": "code",
   "execution_count": 300,
   "id": "512a78d7",
   "metadata": {},
   "outputs": [],
   "source": [
    "balanced_df.to_pickle('../Daten/FINAL_faro_cleaned_balanced.pkl')"
   ]
  },
  {
   "cell_type": "markdown",
   "id": "4bb9fc51",
   "metadata": {},
   "source": [
    "## Test Label Probability"
   ]
  },
  {
   "cell_type": "code",
   "execution_count": 2,
   "id": "919087fd",
   "metadata": {},
   "outputs": [],
   "source": [
    "import pandas as pd\n",
    "import numpy as np\n",
    "from ast import literal_eval"
   ]
  },
  {
   "cell_type": "code",
   "execution_count": 3,
   "id": "e4adc316",
   "metadata": {},
   "outputs": [
    {
     "data": {
      "text/plain": [
       "26"
      ]
     },
     "execution_count": 3,
     "metadata": {},
     "output_type": "execute_result"
    }
   ],
   "source": [
    "label_names = [\n",
    "    'ARBEIT.', 'BILDUNG.', 'ENERGIE.', 'FREIZEIT.', 'GESCHICHTE.',\n",
    "    'GESUNDHEIT.', 'GEWERBE.', 'INDUSTRIE.', 'JUSTIZ.', 'KULTUR.',\n",
    "    'LANDWIRTSCHAFT.', 'MEDIEN UND KOMMUNIKATION.', 'MENSCH.', 'MILITÄR.',\n",
    "    'PORTRÄT.', 'RELIGION.', 'SENSATION.', 'SOZIALES.',\n",
    "    'STAAT UND POLITIK.', 'STRAFTAT.', 'TECHNIK.', 'UMWELT.', 'VERKEHR.',\n",
    "    'VOLKSKULTUR.', 'WIRTSCHAFT.', 'WISSENSCHAFT.'\n",
    "]\n",
    "len(label_names)"
   ]
  },
  {
   "cell_type": "code",
   "execution_count": 4,
   "id": "05fa1a99",
   "metadata": {},
   "outputs": [],
   "source": [
    "df_0 = pd.read_pickle('../Daten/FINAL_faro_cleaned_embeddings_full.pkl')#.sample(10000)   "
   ]
  },
  {
   "cell_type": "code",
   "execution_count": 5,
   "id": "b83e9e54",
   "metadata": {},
   "outputs": [],
   "source": [
    "df_1 = pd.read_pickle('../Daten/FINAL_faro_cleaned_embeddings_balanced.pkl')#.sample(10000)   "
   ]
  },
  {
   "cell_type": "code",
   "execution_count": 42,
   "id": "c24ec673",
   "metadata": {},
   "outputs": [
    {
     "data": {
      "text/plain": [
       "1.8233916356331277"
      ]
     },
     "execution_count": 42,
     "metadata": {},
     "output_type": "execute_result"
    }
   ],
   "source": [
    "from scipy.stats import skew\n",
    "skew(df_0[df_0.columns[3:-3]].astype(int).sum(), axis=0, bias=True)"
   ]
  },
  {
   "cell_type": "code",
   "execution_count": 43,
   "id": "5149b88e",
   "metadata": {},
   "outputs": [
    {
     "data": {
      "text/plain": [
       "1.5801725695016142"
      ]
     },
     "execution_count": 43,
     "metadata": {},
     "output_type": "execute_result"
    }
   ],
   "source": [
    "skew(df_1[df_1.columns[3:-3]].astype(int).sum(), axis=0, bias=True)"
   ]
  },
  {
   "cell_type": "markdown",
   "id": "336432f5",
   "metadata": {},
   "source": [
    "Probability based on column counts:"
   ]
  },
  {
   "cell_type": "code",
   "execution_count": 39,
   "id": "22408485",
   "metadata": {},
   "outputs": [
    {
     "data": {
      "image/png": "[encoded data removed]",
      "text/plain": [
       "<Figure size 640x480 with 1 Axes>"
      ]
     },
     "metadata": {},
     "output_type": "display_data"
    }
   ],
   "source": [
    "import matplotlib.pyplot as plt\n",
    "(df_1[df_1.columns[3:-3]].astype(int).sum()/len(df_1)).hist(bins=10)\n",
    "plt.show()"
   ]
  },
  {
   "cell_type": "code",
   "execution_count": 40,
   "id": "4f9febf0",
   "metadata": {
    "scrolled": false
   },
   "outputs": [
    {
     "data": {
      "image/png": "[encoded data removed]",
      "text/plain": [
       "<Figure size 640x480 with 1 Axes>"
      ]
     },
     "metadata": {},
     "output_type": "display_data"
    }
   ],
   "source": [
    "import matplotlib.pyplot as plt\n",
    "(df_0[df_0.columns[3:-3]].astype(int).sum()/len(df_0)).hist(bins=10)\n",
    "plt.show()"
   ]
  },
  {
   "cell_type": "code",
   "execution_count": 44,
   "id": "76a70704",
   "metadata": {},
   "outputs": [
    {
     "data": {
      "text/plain": [
       "ARBEIT.                      0.061160\n",
       "BILDUNG.                     0.049453\n",
       "ENERGIE.                     0.050886\n",
       "FREIZEIT.                    0.065429\n",
       "GESCHICHTE.                  0.042776\n",
       "GESUNDHEIT.                  0.109394\n",
       "GEWERBE.                     0.075582\n",
       "INDUSTRIE.                   0.055002\n",
       "JUSTIZ.                      0.079728\n",
       "KULTUR.                      0.113083\n",
       "LANDWIRTSCHAFT.              0.057837\n",
       "MEDIEN UND KOMMUNIKATION.    0.073051\n",
       "MENSCH.                      0.123998\n",
       "MILITÄR.                     0.050123\n",
       "PORTRÄT.                     0.088539\n",
       "RELIGION.                    0.051953\n",
       "SENSATION.                   0.086862\n",
       "SOZIALES.                    0.091070\n",
       "STAAT UND POLITIK.           0.194061\n",
       "STRAFTAT.                    0.086100\n",
       "TECHNIK.                     0.045428\n",
       "UMWELT.                      0.105125\n",
       "VERKEHR.                     0.068081\n",
       "VOLKSKULTUR.                 0.044849\n",
       "WIRTSCHAFT.                  0.118601\n",
       "WISSENSCHAFT.                0.053416\n",
       "dtype: float64"
      ]
     },
     "execution_count": 44,
     "metadata": {},
     "output_type": "execute_result"
    }
   ],
   "source": [
    "df_1[df_1.columns[3:-3]].astype(int).sum()/len(df_1)"
   ]
  },
  {
   "cell_type": "code",
   "execution_count": 45,
   "id": "fecd6ea7",
   "metadata": {},
   "outputs": [
    {
     "data": {
      "text/plain": [
       "ARBEIT.                      0.035290\n",
       "BILDUNG.                     0.019784\n",
       "ENERGIE.                     0.025219\n",
       "FREIZEIT.                    0.045303\n",
       "GESCHICHTE.                  0.011697\n",
       "GESUNDHEIT.                  0.107330\n",
       "GEWERBE.                     0.059159\n",
       "INDUSTRIE.                   0.026511\n",
       "JUSTIZ.                      0.059376\n",
       "KULTUR.                      0.146272\n",
       "LANDWIRTSCHAFT.              0.031664\n",
       "MEDIEN UND KOMMUNIKATION.    0.056283\n",
       "MENSCH.                      0.131624\n",
       "MILITÄR.                     0.024202\n",
       "PORTRÄT.                     0.088522\n",
       "RELIGION.                    0.023852\n",
       "SENSATION.                   0.082611\n",
       "SOZIALES.                    0.079184\n",
       "STAAT UND POLITIK.           0.256995\n",
       "STRAFTAT.                    0.066495\n",
       "TECHNIK.                     0.013931\n",
       "UMWELT.                      0.092290\n",
       "VERKEHR.                     0.051014\n",
       "VOLKSKULTUR.                 0.015382\n",
       "WIRTSCHAFT.                  0.111407\n",
       "WISSENSCHAFT.                0.023560\n",
       "dtype: float64"
      ]
     },
     "execution_count": 45,
     "metadata": {},
     "output_type": "execute_result"
    }
   ],
   "source": [
    "df_0[df_0.columns[3:-3]].astype(int).sum()/len(df_0)"
   ]
  },
  {
   "cell_type": "code",
   "execution_count": 5,
   "id": "d2794a92",
   "metadata": {},
   "outputs": [],
   "source": [
    "def stratified_random_baseline(actuals, num_simulations=1000):\n",
    "    # Determine the number of samples and labels from the shape of the actuals array\n",
    "    num_samples, num_labels = actuals.shape\n",
    "    # Initialize a predictions array with zeros, shaped to store all simulations for all samples and labels\n",
    "    predictions = np.zeros((num_simulations, num_samples, num_labels), dtype=int)\n",
    "    \n",
    "    # Loop through each label\n",
    "    # Extract the unique values and their counts for the current label across all samples\n",
    "    # Calculate the probability of each unique value based on its frequency\n",
    "    # Generate predictions for the current label, for all simulations and all samples, based on the calculated probabilities\n",
    "    for label_idx in range(num_labels):\n",
    "        label_values = actuals[:, label_idx]\n",
    "        unique, counts = np.unique(label_values, return_counts=True)\n",
    "        probabilities = counts / counts.sum()\n",
    "        print(f'Label: {label_names[label_idx]}, Prob 0: {probabilities[0]:.3f}, Prob 1: {probabilities[1]:.3f}')\n",
    "        predictions[:, :, label_idx] = np.random.choice(unique, size=(num_simulations, num_samples), p=probabilities)\n",
    "    \n",
    "    # Calculate the accuracy for each simulation by comparing predictions with actual values across all labels and samples\n",
    "    accuracies = (predictions == actuals).mean(axis=(1, 2))\n",
    "    return accuracies.mean()"
   ]
  },
  {
   "cell_type": "code",
   "execution_count": 6,
   "id": "67fc961b",
   "metadata": {},
   "outputs": [
    {
     "name": "stdout",
     "output_type": "stream",
     "text": [
      "Label: ARBEIT., Prob 0: 0.939, Prob 1: 0.061\n",
      "Label: BILDUNG., Prob 0: 0.951, Prob 1: 0.049\n",
      "Label: ENERGIE., Prob 0: 0.949, Prob 1: 0.051\n",
      "Label: FREIZEIT., Prob 0: 0.935, Prob 1: 0.065\n",
      "Label: GESCHICHTE., Prob 0: 0.957, Prob 1: 0.043\n",
      "Label: GESUNDHEIT., Prob 0: 0.891, Prob 1: 0.109\n",
      "Label: GEWERBE., Prob 0: 0.924, Prob 1: 0.076\n",
      "Label: INDUSTRIE., Prob 0: 0.945, Prob 1: 0.055\n",
      "Label: JUSTIZ., Prob 0: 0.920, Prob 1: 0.080\n",
      "Label: KULTUR., Prob 0: 0.887, Prob 1: 0.113\n",
      "Label: LANDWIRTSCHAFT., Prob 0: 0.942, Prob 1: 0.058\n",
      "Label: MEDIEN UND KOMMUNIKATION., Prob 0: 0.927, Prob 1: 0.073\n",
      "Label: MENSCH., Prob 0: 0.876, Prob 1: 0.124\n",
      "Label: MILITÄR., Prob 0: 0.950, Prob 1: 0.050\n",
      "Label: PORTRÄT., Prob 0: 0.911, Prob 1: 0.089\n",
      "Label: RELIGION., Prob 0: 0.948, Prob 1: 0.052\n",
      "Label: SENSATION., Prob 0: 0.913, Prob 1: 0.087\n",
      "Label: SOZIALES., Prob 0: 0.909, Prob 1: 0.091\n",
      "Label: STAAT UND POLITIK., Prob 0: 0.806, Prob 1: 0.194\n",
      "Label: STRAFTAT., Prob 0: 0.914, Prob 1: 0.086\n",
      "Label: TECHNIK., Prob 0: 0.955, Prob 1: 0.045\n",
      "Label: UMWELT., Prob 0: 0.895, Prob 1: 0.105\n",
      "Label: VERKEHR., Prob 0: 0.932, Prob 1: 0.068\n",
      "Label: VOLKSKULTUR., Prob 0: 0.955, Prob 1: 0.045\n",
      "Label: WIRTSCHAFT., Prob 0: 0.881, Prob 1: 0.119\n",
      "Label: WISSENSCHAFT., Prob 0: 0.947, Prob 1: 0.053\n",
      "Stratified Random Baseline Accuracy: 85.75%\n"
     ]
    }
   ],
   "source": [
    "# Convert the list actuals to a numpy array and pass it to the function\n",
    "stratified_random_accuracy = stratified_random_baseline(np.array(df_1['Categories'].tolist()))\n",
    "# Print the calculated stratified random baseline accuracy as a percentage\n",
    "print(f\"Stratified Random Baseline Accuracy: {stratified_random_accuracy * 100:.2f}%\")"
   ]
  },
  {
   "cell_type": "code",
   "execution_count": 10,
   "id": "e0cedaca",
   "metadata": {},
   "outputs": [
    {
     "name": "stdout",
     "output_type": "stream",
     "text": [
      "Label: ARBEIT., Prob 0: 0.965, Prob 1: 0.035\n",
      "Label: BILDUNG., Prob 0: 0.980, Prob 1: 0.020\n",
      "Label: ENERGIE., Prob 0: 0.975, Prob 1: 0.025\n",
      "Label: FREIZEIT., Prob 0: 0.955, Prob 1: 0.045\n",
      "Label: GESCHICHTE., Prob 0: 0.988, Prob 1: 0.012\n",
      "Label: GESUNDHEIT., Prob 0: 0.893, Prob 1: 0.107\n",
      "Label: GEWERBE., Prob 0: 0.941, Prob 1: 0.059\n",
      "Label: INDUSTRIE., Prob 0: 0.973, Prob 1: 0.027\n",
      "Label: JUSTIZ., Prob 0: 0.941, Prob 1: 0.059\n",
      "Label: KULTUR., Prob 0: 0.854, Prob 1: 0.146\n",
      "Label: LANDWIRTSCHAFT., Prob 0: 0.968, Prob 1: 0.032\n",
      "Label: MEDIEN UND KOMMUNIKATION., Prob 0: 0.944, Prob 1: 0.056\n",
      "Label: MENSCH., Prob 0: 0.868, Prob 1: 0.132\n",
      "Label: MILITÄR., Prob 0: 0.976, Prob 1: 0.024\n",
      "Label: PORTRÄT., Prob 0: 0.911, Prob 1: 0.089\n",
      "Label: RELIGION., Prob 0: 0.976, Prob 1: 0.024\n",
      "Label: SENSATION., Prob 0: 0.917, Prob 1: 0.083\n",
      "Label: SOZIALES., Prob 0: 0.921, Prob 1: 0.079\n",
      "Label: STAAT UND POLITIK., Prob 0: 0.743, Prob 1: 0.257\n",
      "Label: STRAFTAT., Prob 0: 0.934, Prob 1: 0.066\n",
      "Label: TECHNIK., Prob 0: 0.986, Prob 1: 0.014\n",
      "Label: UMWELT., Prob 0: 0.908, Prob 1: 0.092\n",
      "Label: VERKEHR., Prob 0: 0.949, Prob 1: 0.051\n",
      "Label: VOLKSKULTUR., Prob 0: 0.985, Prob 1: 0.015\n",
      "Label: WIRTSCHAFT., Prob 0: 0.889, Prob 1: 0.111\n",
      "Label: WISSENSCHAFT., Prob 0: 0.976, Prob 1: 0.024\n",
      "Stratified Random Baseline Accuracy: 88.45%\n"
     ]
    }
   ],
   "source": [
    "# Convert the list actuals to a numpy array and pass it to the function\n",
    "stratified_random_accuracy = stratified_random_baseline(np.array(df_0['Categories'].tolist()))\n",
    "# Print the calculated stratified random baseline accuracy as a percentage\n",
    "print(f\"Stratified Random Baseline Accuracy: {stratified_random_accuracy * 100:.2f}%\")"
   ]
  },
  {
   "cell_type": "code",
   "execution_count": null,
   "id": "91e3d68a",
   "metadata": {},
   "outputs": [],
   "source": []
  }
 ],
 "metadata": {
  "hide_input": false,
  "kernelspec": {
   "display_name": "Python 3",
   "language": "python",
   "name": "python3"
  },
  "language_info": {
   "codemirror_mode": {
    "name": "ipython",
    "version": 3
   },
   "file_extension": ".py",
   "mimetype": "text/x-python",
   "name": "python",
   "nbconvert_exporter": "python",
   "pygments_lexer": "ipython3",
   "version": "3.10.9"
  }
 },
 "nbformat": 4,
 "nbformat_minor": 5
}
