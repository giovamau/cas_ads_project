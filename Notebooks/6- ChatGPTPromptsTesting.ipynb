{
 "cells": [
  {
   "cell_type": "code",
   "execution_count": 1,
   "id": "048e1876",
   "metadata": {},
   "outputs": [],
   "source": [
    "import pandas as pd\n",
    "import numpy as np\n",
    "import openai\n",
    "from tqdm import tqdm\n",
    "from sklearn.metrics import accuracy_score, classification_report\n",
    "from ast import literal_eval\n",
    "from sklearn.model_selection import train_test_split\n",
    "import matplotlib.pyplot as plt"
   ]
  },
  {
   "cell_type": "code",
   "execution_count": 2,
   "id": "0f39c1d2",
   "metadata": {},
   "outputs": [
    {
     "name": "stdout",
     "output_type": "stream",
     "text": [
      "AZURE_OPENAI_ENDPOINT········\n",
      "AZURE_OPENAI_API_KEY········\n"
     ]
    }
   ],
   "source": [
    "from openai import AzureOpenAI \n",
    "from getpass import getpass\n",
    "\n",
    "api_base = getpass(\"AZURE_OPENAI_ENDPOINT\")\n",
    "api_key= getpass(\"AZURE_OPENAI_API_KEY\")\n"
   ]
  },
  {
   "cell_type": "code",
   "execution_count": 55,
   "id": "2cdd6f07",
   "metadata": {},
   "outputs": [
    {
     "data": {
      "text/plain": [
       "26"
      ]
     },
     "execution_count": 55,
     "metadata": {},
     "output_type": "execute_result"
    }
   ],
   "source": [
    "label_names = [\n",
    "    'ARBEIT.', 'BILDUNG.', 'ENERGIE.', 'FREIZEIT.', 'GESCHICHTE.',\n",
    "    'GESUNDHEIT.', 'GEWERBE.', 'INDUSTRIE.', 'JUSTIZ.', 'KULTUR.',\n",
    "    'LANDWIRTSCHAFT.', 'MEDIEN UND KOMMUNIKATION.', 'MENSCH.', 'MILITÄR.',\n",
    "    'PORTRÄT.', 'RELIGION.', 'SENSATION.', 'SOZIALES.',\n",
    "    'STAAT UND POLITIK.', 'STRAFTAT.', 'TECHNIK.', 'UMWELT.', 'VERKEHR.',\n",
    "    'VOLKSKULTUR.', 'WIRTSCHAFT.', 'WISSENSCHAFT.'\n",
    "]\n",
    "len(label_names)"
   ]
  },
  {
   "cell_type": "code",
   "execution_count": 87,
   "id": "b33d746b",
   "metadata": {},
   "outputs": [],
   "source": [
    "# df_full = pd.read_excel('../Datenlieferung FARO/Tabelle_Level1und2.xlsx')\n",
    "# df_full\n",
    "df_sub = pd.read_excel('../Datenlieferung FARO/Tabelle_Level1und2.xlsx', sheet_name=1).loc[:0, :].set_index('Bezeichnung')\n",
    "markdown_table = df_sub.to_markdown()\n"
   ]
  },
  {
   "cell_type": "code",
   "execution_count": 5,
   "id": "5d255c6f",
   "metadata": {},
   "outputs": [],
   "source": [
    "# Load and preprocess dataset\n",
    "df = pd.read_pickle('../Daten/FINAL_faro_cleaned_balanced.pkl')#.sample(10000)   \n",
    "\n",
    "\n",
    "# Convert stringified lists to actual lists\n",
    "if type(df['Categories'][0])!=list:\n",
    "    print('Convert Categories to list ...')\n",
    "    df['Categories'] = df['Categories'].apply(literal_eval)  \n",
    "\n",
    "# if type(df['web_embeddings'][0])!=list:\n",
    "#     print('Convert Embeddings to list ...')\n",
    "#     df['web_embeddings'] = df['web_embeddings'].apply(literal_eval)     \n",
    "    \n",
    "\n",
    "# Sample 300 to test Prompts\n",
    "df_sample_ = df.sample(300, random_state=42)"
   ]
  },
  {
   "cell_type": "code",
   "execution_count": 6,
   "id": "d32947bc",
   "metadata": {},
   "outputs": [
    {
     "data": {
      "text/plain": [
       "(32799, 30)"
      ]
     },
     "execution_count": 6,
     "metadata": {},
     "output_type": "execute_result"
    }
   ],
   "source": [
    "df.shape"
   ]
  },
  {
   "cell_type": "code",
   "execution_count": 7,
   "id": "c95f8a70",
   "metadata": {},
   "outputs": [],
   "source": [
    "# Feature list\n",
    "X = df['Web-Text']\n",
    "# Label list \n",
    "y = df['Categories'].tolist()  "
   ]
  },
  {
   "cell_type": "code",
   "execution_count": 8,
   "id": "3cb90f1f",
   "metadata": {},
   "outputs": [],
   "source": [
    "# First split: Separate out the test set\n",
    "X_train, X_test, y_train, y_test = train_test_split(X, y, test_size=0.2, random_state=42)\n",
    "\n",
    "# Second split: Separate the remaining data into training and validation sets\n",
    "#X_train, X_val, y_train, y_val = train_test_split(X_temp, y_temp, test_size=0.25, random_state=42)  # 0.25 x 0.8 = 0.2\n",
    "\n",
    "# Convert to numpy arrays\n",
    "X_train = np.array(X_train)\n",
    "#X_val = np.array(X_val)\n",
    "X_test = np.array(X_test)\n",
    "\n",
    "y_train = np.array(y_train)\n",
    "#y_val = np.array(y_val)\n",
    "y_test = np.array(y_test)"
   ]
  },
  {
   "cell_type": "code",
   "execution_count": 9,
   "id": "1858aec8",
   "metadata": {},
   "outputs": [
    {
     "data": {
      "text/plain": [
       "(26239,)"
      ]
     },
     "execution_count": 9,
     "metadata": {},
     "output_type": "execute_result"
    }
   ],
   "source": [
    "X_train.shape"
   ]
  },
  {
   "cell_type": "code",
   "execution_count": 10,
   "id": "554aca3f",
   "metadata": {},
   "outputs": [
    {
     "data": {
      "text/plain": [
       "(6560,)"
      ]
     },
     "execution_count": 10,
     "metadata": {},
     "output_type": "execute_result"
    }
   ],
   "source": [
    "X_test.shape"
   ]
  },
  {
   "cell_type": "code",
   "execution_count": 11,
   "id": "8c43d1bb",
   "metadata": {},
   "outputs": [
    {
     "data": {
      "text/plain": [
       "(26239, 26)"
      ]
     },
     "execution_count": 11,
     "metadata": {},
     "output_type": "execute_result"
    }
   ],
   "source": [
    "y_train.shape"
   ]
  },
  {
   "cell_type": "code",
   "execution_count": 12,
   "id": "44a05ea8",
   "metadata": {},
   "outputs": [
    {
     "data": {
      "text/plain": [
       "(6560, 26)"
      ]
     },
     "execution_count": 12,
     "metadata": {},
     "output_type": "execute_result"
    }
   ],
   "source": [
    "y_test.shape"
   ]
  },
  {
   "cell_type": "code",
   "execution_count": 13,
   "id": "67034061",
   "metadata": {},
   "outputs": [],
   "source": [
    "# Detect Non-German Texts\n",
    "# from langdetect import detect_langs\n",
    "# from tqdm import tqdm\n",
    "# tqdm.pandas()\n",
    "\n",
    "# def detect_language_with_langdetect(line): \n",
    "#     try: \n",
    "#         langs = detect_langs(line) \n",
    "#         for item in langs: # The first one returned is the one that has the highest probability\n",
    "#             return item.lang, item.prob \n",
    "#     except: \n",
    "#         return \"err\", 0.0 \n",
    "    \n",
    "# df['lang'] = df['Web-Text'].progress_apply(detect_language_with_langdetect)\n",
    "# df['lang'], df['lang_prob'] = df['lang'].str[0], df['lang'].str[1]"
   ]
  },
  {
   "cell_type": "markdown",
   "id": "6bebcf47",
   "metadata": {},
   "source": [
    "## Test Chat GPT Prompts"
   ]
  },
  {
   "cell_type": "code",
   "execution_count": 95,
   "id": "052c0fd0",
   "metadata": {},
   "outputs": [],
   "source": [
    "import re\n",
    "\n",
    "def match_and_encode_tags(output, real_tags):\n",
    "    real_tags = [tag.replace('.', '') for tag in real_tags]\n",
    "    \n",
    "    # Define the regex pattern to capture tags with and without trailing dots\n",
    "    tag_pattern = re.compile(r'\\b(' + '|'.join(real_tags) + r')\\.?\\b', re.IGNORECASE)\n",
    "    \n",
    "    # Extract tags from the output\n",
    "    matched_tags = tag_pattern.findall(output)\n",
    "    \n",
    "    # Normalize matched tags by converting them to uppercase and removing trailing dots\n",
    "    matched_tags = [tag.upper().replace('.', '') for tag in matched_tags]\n",
    "\n",
    "    # Check if matched_tags are valid, otherwise set all values to zero\n",
    "    if not matched_tags or any(tag not in real_tags for tag in matched_tags):\n",
    "        one_hot_encoded = [0] * len(real_tags)\n",
    "    else:\n",
    "        # Initialize a one-hot encoded list\n",
    "        one_hot_encoded = [1 if tag in matched_tags else 0 for tag in real_tags]\n",
    "\n",
    "    return one_hot_encoded"
   ]
  },
  {
   "cell_type": "code",
   "execution_count": 96,
   "id": "7d824ce4",
   "metadata": {},
   "outputs": [],
   "source": [
    "def visualisation_encodings(response, test_text, df_text):\n",
    "    \n",
    "    # The regex pattern\n",
    "    pattern = r\"^\\['[A-ZÄÖÜẞ\\s]+\\.'(\\s*,\\s*'[A-ZÄÖÜẞ\\s]+\\.')?\\]$\"\n",
    "\n",
    "    print(f'Text: {test_text}')\n",
    "    # Check each string against the regex\n",
    "    if re.match(pattern, response.choices[0].message.content):\n",
    "        print(f\"Output Tags (correct format): {response.choices[0].message.content}\")\n",
    "    else:\n",
    "        print(f\"Output Tags (incorrect format): {response.choices[0].message.content}\")\n",
    "        \n",
    "    # Finding indexes where the value is 1\n",
    "    print(f'Real Tags: {df_text.columns[df_text.loc[0] == 1].tolist()}')\n",
    "    print('')\n",
    "    "
   ]
  },
  {
   "cell_type": "code",
   "execution_count": 97,
   "id": "c140eeff",
   "metadata": {},
   "outputs": [],
   "source": [
    "def hamming_accuracy(actuals, predictions):\n",
    "    return (actuals == predictions).mean()"
   ]
  },
  {
   "cell_type": "code",
   "execution_count": 98,
   "id": "55752f64",
   "metadata": {},
   "outputs": [],
   "source": [
    "deployment_name = 'gpt-35-turbo' \n",
    "#deployment_name = 'gpt-4-preview'\n",
    "api_version = '2023-12-01-preview' # this might change in the future\n",
    "client = AzureOpenAI( api_key=api_key, api_version=api_version, base_url=f\"{api_base}/openai/deployments/{deployment_name}\" )"
   ]
  },
  {
   "cell_type": "markdown",
   "id": "4fdf6913",
   "metadata": {},
   "source": [
    "## Prompt 0: Tags Only Table (Description AND Keywords)"
   ]
  },
  {
   "cell_type": "code",
   "execution_count": 29,
   "id": "c3a33ee9",
   "metadata": {},
   "outputs": [
    {
     "data": {
      "application/vnd.jupyter.widget-view+json": {
       "model_id": "5ea7eb68e3984476860a3c8ad4139e24",
       "version_major": 2,
       "version_minor": 0
      },
      "text/plain": [
       "  0%|          | 0/300 [00:00<?, ?it/s]"
      ]
     },
     "metadata": {},
     "output_type": "display_data"
    },
    {
     "name": "stdout",
     "output_type": "stream",
     "text": [
      "Text: Türkei stimmt für Schwedens Nato-Beitritt\n",
      "Das türkische Parlament hat den Beitritt Schwedens in die Nato gebilligt. Nun muss Präsident Erdogan das sogenannte Beitrittsprotokoll noch unterschreiben, was als so gut wie sicher gilt.\n",
      "Output Tags (incorrect format): ['STAAT UND POLITIK']\n",
      "Real Tags: ['MILITÄR.']\n",
      "\n",
      "Text: Wie funktionieren Wetten?\n",
      "In einem Beitrag werden die diversen möglichen Wetten aufgezeigt, die auf jedes Spiel eingegangen werden können. Zudem wird klar, dass man auf irgendein Spiel setzen kann  ganz egal, wo es stattfindet. Roger Hegi betont, dass Wetten auf die manipulierten Schweizer Spiele vor allem in Asien platziert wurden. Markus Stähli begründet, wieso alle Thuner Spieler eine Erklärung unterschreiben mussten, dass sie nicht betrogen haben.\n",
      "Output Tags (incorrect format): ['FREIZEIT', 'SPORT']\n",
      "Real Tags: ['FREIZEIT.', 'MEDIEN UND KOMMUNIKATION.', 'STRAFTAT.']\n",
      "\n",
      "Text: Langlauf und Tourenskifahren sind die besten Kalorien-Killer\n",
      "Die Hauptmotivation von Wintersportlern ist wohl nicht das Abnehmen. Trotzdem können Kalorien auch beim Schneesport vernichtet werden. Vorausgesetzt man wählt die richtige Disziplin und füllt den Speicher nicht gleich wieder mit deftigem Essen und alkoholischen Getränken.\n",
      "Output Tags (incorrect format): ['GESUNDHEIT', 'FREIZEIT']\n",
      "Real Tags: ['FREIZEIT.', 'GESUNDHEIT.']\n",
      "\n",
      "Text: Der Promi-Uhrmacher von Island\n",
      "Dieser Tage findet in Basel die Messe für Uhren und Schmuck statt, die Baselworld. Ein Stelldichein der grossen und teuren Marken, die Kleinen bleiben aussen vor. Etwa Gilbert Guðjónsson: Der 65-Jährige fertigt seine Uhren in Island auf einer Fläche von gerade einmal vier Quadratmetern. Zu seinen Kunden zählen aber Filmgrössen wie Tom Cruise und Quentin Tarantino.\n",
      "Output Tags (incorrect format): ['PORTRÄT', 'GESCHICHTE']\n",
      "Real Tags: ['INDUSTRIE.', 'PORTRÄT.']\n",
      "\n",
      "Text: FOKUS: Kampf um die Asylgesetzesrevision\n",
      "Die Präsidenten von SP, FDP und CVP haben heute in Begleitung der Medien das Testzentrum Zürich besichtigt. Als Befürworter der Asylgesetzesrevision haben sie die Gelegenheit genutzt, die Vorzüge des neuen Verfahrens zu loben. Nicht dabei war der SVP-Präsident - seine Partei lehnt die Asylgesetzesrevision ab.\n",
      "Output Tags (incorrect format): ['STAAT UND POLITIK', 'MEDIEN UND KOMMUNIKATION']\n",
      "Real Tags: ['MENSCH.', 'STAAT UND POLITIK.']\n",
      "\n",
      "Text: Türkischer Abstimmungskampf in der Schweiz\n",
      "Der türkische Aussenminister Cavusoglu hat sich für einen Besuch in der Schweiz angemeldet. Er will auch bei den Schweiz-Türken für die Verfassungsreform werben, die Präsident Erdogan mehr Macht geben soll.\n",
      "Output Tags (incorrect format): ['STAAT UND POLITIK']\n",
      "Real Tags: ['JUSTIZ.', 'STAAT UND POLITIK.']\n",
      "\n",
      "Text: Swiss Hate: Shaming mit Renato Kaiser | Advents-Special\n",
      "Wir sprechen über Shaming – etwas, das zur Zeit in der Schweiz rege betrieben wird. So sehr, dass wir eine neue Fernsehshow ins Leben gerufen haben. Angelehnt an die altbekannte Sendung «Swiss Date» möchten wir nun mit «Swiss Hate» hasserfüllte Menschen zusammenbringen. Heute als Gast mit dabei: Renato Kaiser\n",
      "Output Tags (incorrect format): ['MEDIEN UND KOMMUNIKATION', 'GESCHICHTE']\n",
      "Real Tags: ['VOLKSKULTUR.']\n",
      "\n",
      "Text: Gaddafi feiert\n",
      "In Libyen findet die Feier zum 40-jährigen Jubiläum der Machtergreifung Gaddafis statt. Begangen wird die Revolution des 1. Septembers 1969. Der Anlass fiel äusserst pompös aus.\n",
      "Output Tags (incorrect format): ['GESCHICHTE', 'STAAT UND POLITIK']\n",
      "Real Tags: ['STAAT UND POLITIK.']\n",
      "\n",
      "Text: Reicht ein bisschen Frühenglisch?\n",
      "Kinder eignen sich eine Sprache einfacher an als Erwachsene: Im Hirn bauen sie schneller die dafür nötigen Vernetzungen auf. Deshalb lernen heute in vielen Kantonen Schüler Englisch bereits in der zweiten Klasse. Verändert sich im Hirn der Kinder tatsächlich etwas, wenn sie zweimal pro Woche in Englisch unterrichtet werden? Psychologen der Universität Zürich haben untersucht, was im Hirn der Kinder geschieht, wenn sie Frühenglisch büffeln.\n",
      "Output Tags (incorrect format): ['BILDUNG']\n",
      "Real Tags: ['BILDUNG.', 'WISSENSCHAFT.']\n",
      "\n",
      "Text: Alessio Lindenmann lässt die High Society abheben\n",
      "Jedes Jahr können sich Lehrlinge aus den Kantonen Basel-Stadt und Basel-Landschaft für den Titel «Lehrling des Jahres» bewerben. Die zehn Besten stellen sich einer Fachjury und per Online-Voting der Öffentlichkeit. Im November wurde der 26-jährige Polymechaniker Alessio Lindenmann mit dem Titel ausgezeichnet. Polymechaniker sorgt bei Jet Aviation dafür, dass die Reichen, Schönen und Erfolgreichen nicht auf dem Boden bleiben.\n",
      "Output Tags (incorrect format): ['ARBEIT', 'GESCHICHTE']\n",
      "Real Tags: ['BILDUNG.', 'PORTRÄT.']\n",
      "\n",
      "Text: IKRK-Chef Maurer unterwegs in der Ukraine\n",
      "Mit fast 50 Millionen Franken engagiert sich das Internationale Komitee vom Roten Kreuz (IKRK) derzeit in der Ukraine. Und es soll noch mehr werden. Denn die humanitäre Lage der Menschen im Konfliktgebiet selber, aber auch für die hunderttausenden von Vertriebenen, ist sehr angespannt. IKRK-Präsident Peter Maurer ist in diesen Tagen zwischen Moskau und Kiew unterwegs.\n",
      "Output Tags (incorrect format): ['HUMANITÄRE LAGE', 'KRIEG', 'UKRAINE', 'IKRK', 'VERTRIEBENE']\n",
      "Real Tags: ['SOZIALES.', 'STAAT UND POLITIK.']\n",
      "\n",
      "Text: Freiburg: Sprechstunde von Studenten für Studenten\n",
      "Eine Gesundheitssprechstunde für 15 Franken: Dies gibt es an der Hochschule für Gesundheit in Freiburg. Unter fachmännischer Aufsicht bieten Studierende diese Dienstleistung anderen Studierenden an.\n",
      "Output Tags (incorrect format): ['GESUNDHEIT', 'BILDUNG']\n",
      "Real Tags: ['BILDUNG.', 'GESUNDHEIT.']\n",
      "\n",
      "Text: Nazi-Raubkunst: Das Zittern der Schweizer Museen\n",
      "Diese Woche eröffnet das Kunstmuseum Bern die Gurlitt-Ausstellung. Dabei setzt Bern neue Massstäbe bezüglich der Definition von Nazi-Raubkunst: Schweizer Museen sollen die Bilder zurückgeben, welche ihre jüdischen Besitzer wegen der Nazi-Verfolgung verloren hatten. Das bringt andere Schweizer Kunstmuseen in Bedrängnis.\n",
      "Output Tags (incorrect format): ['KULTUR', 'GESCHICHTE']\n",
      "Real Tags: ['GESCHICHTE.', 'KULTUR.']\n",
      "\n",
      "Error processing text:expected string or bytes-like object\n",
      "None\n",
      "Text: Heftige Ausschreitungen in Griechenland\n",
      "Während der Demonstrationen in Griechenland sind drei Menschen ums Leben gekommen. Einschätzungen von Alexandra Gubser, SF-Sonderkorrespondentin, Athen.\n",
      "Output Tags (incorrect format): ['GEWALT', 'STAAT UND POLITIK']\n",
      "Real Tags: ['ARBEIT.', 'SOZIALES.', 'STAAT UND POLITIK.']\n",
      "\n",
      "Text: Gewinne bei Axpo bleiben aus\n",
      "Zum dritten Mal in Folge bricht der Gewinn des Schweizer Stromversorgers Axpo ein. Die Hauptgründe für den Gewinneinbruch sieht die Axpo vor allem in der Stärke des Frankens gegenüber dem Euro.\n",
      "Output Tags (incorrect format): [\"ENERGIE\", \"WIRTSCHAFT\"]\n",
      "Real Tags: ['ENERGIE.', 'WIRTSCHAFT.']\n",
      "\n",
      "Text: SRF Börse vom 07.09.2020\n",
      "Die Burkhalter Gruppe ist auf ihre Elektro-Installateure, Automatiker und weiteren Fachkräfte angewiesen. Um diese bei der Stange zu halten, habe Burkhalter ihnen auch während der Corona-bedingten Kurzarbeit 100 Prozent des Lohnes gezahlt, sagt Konzernchef Marco Syfrig. SMI +1.4%\n",
      "Output Tags (incorrect format): ['GEWERBE', 'ARBEIT']\n",
      "Real Tags: ['GESUNDHEIT.', 'TECHNIK.']\n",
      "\n",
      "Text: Nati schrammt an der Sensation vorbei\n",
      "Die verjüngte Schweizer Nationalmannschaft hat auch ihr 2. EM-Quali-Spiel verloren. Beim 22:23 gegen Europameister Deutschland schnupperten die Schützlinge von Trainer Michael Suter aber bis zuletzt am ganz grossen Coup.\n",
      "Output Tags (incorrect format): ['SPORT']\n",
      "Real Tags: ['SENSATION.']\n",
      "\n",
      "Text: Sion renoviert seine Weinbau-Terrassen\n",
      "\n",
      "Output Tags (incorrect format): [\"LANDWIRTSCHAFT\", \"UMWELT\"]\n",
      "Real Tags: ['LANDWIRTSCHAFT.']\n",
      "\n",
      "Text: Herz und Portemonnaie für Solarenergie\n",
      "Der Bauunternehmer Markus Affentranger hat sich vorgenommen, in den nächsten Jahren seinen gesamten Maschinenpark mit Strom statt mit Diesel zu betreiben. Auf Solarenergie setzt er aus Überzeugung. Aber nicht nur, er ist sich sicher, dass es sich auch auszahlen wird.\n",
      "Output Tags (incorrect format): ['ENERGIE', 'WIRTSCHAFT']\n",
      "Real Tags: ['ENERGIE.', 'WIRTSCHAFT.']\n",
      "\n",
      "Text: Strenger Säckelmeister\n",
      "Bundesrat Ueli Maurer hat keine einfache Aufgabe in der Corona-Krise. Landauf, landab wird der oberste Säckelmeister der Nation aufgerufen, er solle endlich die Schatullen öffnen und mehr Geld in die Corona-Hilfe pumpen. Doch der Finanzminister gefällt sich wenig in der Rolle des Krisen-Retters um jeden Preis. Die widersprüchliche Rolle des Finanzministers in der Pandemie.\n",
      "Output Tags (incorrect format): ['STAAT UND POLITIK']\n",
      "Real Tags: ['GESUNDHEIT.', 'STAAT UND POLITIK.', 'WIRTSCHAFT.']\n",
      "\n"
     ]
    },
    {
     "name": "stdout",
     "output_type": "stream",
     "text": [
      "628.8021972179413\n"
     ]
    }
   ],
   "source": [
    "from tqdm.notebook import tqdm\n",
    "prompt_0_accuracy = []\n",
    "prompt_0_targets = []\n",
    "prompt_0_outputs = []\n",
    "\n",
    "import time\n",
    "start = time.time()\n",
    "\n",
    "counter = 0\n",
    "for test_text in tqdm(df_sample_['Web-Text']):\n",
    "    prompt = f\"\"\"\n",
    "                Bitte klassifizieren Sie den folgenden Text, indem Sie bis zu zwei relevante Tags aus der bereitgestellten \n",
    "                Liste zuweisen. Wählen Sie ein Tag, wenn es eindeutig am relevantesten ist, oder zwei, wenn zwei Themen \n",
    "                gleichermaßen prominent sind. Die Tags sollten die Hauptthemen des Textes widerspiegeln und mit den \n",
    "                Inhalten des öffentlich-rechtlichen Rundfunks übereinstimmen.\n",
    "\n",
    "                Die Tags sind:\n",
    "                - ARBEIT.\n",
    "                - BILDUNG.\n",
    "                - ENERGIE.\n",
    "                - FREIZEIT.\n",
    "                - GESCHICHTE.\n",
    "                - GESUNDHEIT.\n",
    "                - GEWERBE.\n",
    "                - INDUSTRIE.\n",
    "                - JUSTIZ.\n",
    "                - KULTUR.\n",
    "                - LANDWIRTSCHAFT.\n",
    "                - MEDIEN UND KOMMUNIKATION.\n",
    "                - MENSCH.\n",
    "                - MILITÄR.\n",
    "                - PORTRÄT.\n",
    "                - RELIGION.\n",
    "                - SENSATION.\n",
    "                - SOZIALES.\n",
    "                - STAAT UND POLITIK.\n",
    "                - STRAFTAT.\n",
    "                - TECHNIK.\n",
    "                - UMWELT.\n",
    "                - VERKEHR.\n",
    "                - VOLKSKULTUR.\n",
    "                - WIRTSCHAFT.\n",
    "                - WISSENSCHAFT.\n",
    "\n",
    "                Text zum Klassifizieren: '{test_text}'\n",
    "\n",
    "                Geben Sie nur die Tags als Python-Liste aus.\n",
    "            \"\"\"\n",
    "\n",
    "    try:\n",
    "        response = client.chat.completions.create(\n",
    "            model=deployment_name,\n",
    "            messages=[\n",
    "                {\"role\": \"system\", \"content\": \"Sie sind ein hilfreicher Assistent, der dem Redaktionsteam des öffentlich-rechtlichen Rundfunks hilft, zentrale Themen aus beschreibenden Videotexten zu extrahieren.\"},\n",
    "                {\"role\": \"user\", \"content\": prompt}\n",
    "            ]\n",
    "        )\n",
    "    except Exception as e:\n",
    "        continue\n",
    "        print(f\"API Error: {test_text}, Error: {e}\")\n",
    "    \n",
    "     # Transfer ChatGPT output to One-Hot encoded list\n",
    "    try:\n",
    "        output_tags = response.choices[0].message.content\n",
    "        one_hot_encoded_tags = match_and_encode_tags(output_tags, label_names)\n",
    "        df_text = df[df['Web-Text'] == test_text].reset_index(drop=True)   \n",
    "    except Exception as e:\n",
    "        print(f\"Error processing text:{e}\")\n",
    "        print(response.choices[0].message.content)\n",
    "        continue\n",
    "    \n",
    "    prompt_0_outputs.append(one_hot_encoded_tags)\n",
    "    prompt_0_targets.append(df_text['Categories'][0])    \n",
    "    # Compute Accuracy on the fly\n",
    "    match_percent = sum(i==j for i,j in zip(df_text['Categories'][0],one_hot_encoded_tags))/len(one_hot_encoded_tags)\n",
    "    prompt_0_accuracy.append(match_percent)\n",
    "    \n",
    "    # Print some of the Answers\n",
    "    if counter % 15 == 0:\n",
    "        # Show the Answer\n",
    "        visualisation_encodings(response, test_text, df_text)\n",
    "    \n",
    "    counter += 1\n",
    "    \n",
    "end = time.time()\n",
    "print(end - start)"
   ]
  },
  {
   "cell_type": "code",
   "execution_count": 30,
   "id": "573e2e53",
   "metadata": {},
   "outputs": [
    {
     "data": {
      "text/plain": [
       "0.9283686112545174"
      ]
     },
     "execution_count": 30,
     "metadata": {},
     "output_type": "execute_result"
    }
   ],
   "source": [
    "np.mean(prompt_0_accuracy)\n",
    "# prompt_0_targets\n",
    "# prompt_0_outputs"
   ]
  },
  {
   "cell_type": "code",
   "execution_count": 31,
   "id": "733cec09",
   "metadata": {},
   "outputs": [
    {
     "data": {
      "text/plain": [
       "0.9283686112545173"
      ]
     },
     "execution_count": 31,
     "metadata": {},
     "output_type": "execute_result"
    }
   ],
   "source": [
    "hamming_accuracy(np.array(prompt_0_targets),np.array(prompt_0_outputs))"
   ]
  },
  {
   "cell_type": "code",
   "execution_count": 64,
   "id": "4a666c69",
   "metadata": {},
   "outputs": [
    {
     "name": "stdout",
     "output_type": "stream",
     "text": [
      "                           precision    recall  f1-score   support\n",
      "\n",
      "                  ARBEIT.       0.30      0.50      0.37        12\n",
      "                 BILDUNG.       0.38      0.67      0.48         9\n",
      "                 ENERGIE.       1.00      0.74      0.85        19\n",
      "                FREIZEIT.       0.52      0.46      0.49        24\n",
      "              GESCHICHTE.       0.21      0.80      0.33        10\n",
      "              GESUNDHEIT.       0.80      0.67      0.73        36\n",
      "                 GEWERBE.       0.42      0.17      0.24        29\n",
      "               INDUSTRIE.       1.00      0.12      0.21        17\n",
      "                  JUSTIZ.       0.60      0.52      0.56        23\n",
      "                  KULTUR.       0.68      0.66      0.67        35\n",
      "          LANDWIRTSCHAFT.       0.83      0.40      0.54        25\n",
      "MEDIEN UND KOMMUNIKATION.       0.43      0.48      0.45        25\n",
      "                  MENSCH.       0.33      0.11      0.17        27\n",
      "                 MILITÄR.       0.83      0.53      0.65        19\n",
      "                 PORTRÄT.       0.71      0.17      0.28        29\n",
      "                RELIGION.       0.78      0.64      0.70        11\n",
      "               SENSATION.       0.00      0.00      0.00        26\n",
      "                SOZIALES.       0.44      0.15      0.23        26\n",
      "       STAAT UND POLITIK.       0.64      0.52      0.57        54\n",
      "                STRAFTAT.       0.40      0.08      0.13        25\n",
      "                 TECHNIK.       0.47      0.44      0.45        16\n",
      "                  UMWELT.       0.63      0.71      0.67        31\n",
      "                 VERKEHR.       0.50      0.53      0.51        17\n",
      "             VOLKSKULTUR.       0.00      0.00      0.00        11\n",
      "              WIRTSCHAFT.       0.70      0.73      0.71        44\n",
      "            WISSENSCHAFT.       0.31      0.24      0.27        17\n",
      "\n",
      "                micro avg       0.57      0.43      0.49       617\n",
      "                macro avg       0.53      0.42      0.43       617\n",
      "             weighted avg       0.57      0.43      0.46       617\n",
      "              samples avg       0.58      0.46      0.48       617\n",
      "\n"
     ]
    },
    {
     "name": "stderr",
     "output_type": "stream",
     "text": [
      "C:\\Program Files\\Anaconda3\\lib\\site-packages\\sklearn\\metrics\\_classification.py:1344: UndefinedMetricWarning: Precision and F-score are ill-defined and being set to 0.0 in labels with no predicted samples. Use `zero_division` parameter to control this behavior.\n",
      "  _warn_prf(average, modifier, msg_start, len(result))\n",
      "C:\\Program Files\\Anaconda3\\lib\\site-packages\\sklearn\\metrics\\_classification.py:1344: UndefinedMetricWarning: Precision and F-score are ill-defined and being set to 0.0 in samples with no predicted labels. Use `zero_division` parameter to control this behavior.\n",
      "  _warn_prf(average, modifier, msg_start, len(result))\n"
     ]
    }
   ],
   "source": [
    "from sklearn.metrics import classification_report\n",
    "\n",
    "report = classification_report(prompt_0_targets, prompt_0_outputs, target_names=label_names)\n",
    "print(report)"
   ]
  },
  {
   "cell_type": "code",
   "execution_count": 74,
   "id": "70eb38d4",
   "metadata": {},
   "outputs": [
    {
     "name": "stderr",
     "output_type": "stream",
     "text": [
      "C:\\Program Files\\Anaconda3\\lib\\site-packages\\sklearn\\metrics\\_classification.py:1344: UndefinedMetricWarning: Precision and F-score are ill-defined and being set to 0.0 in samples with no predicted labels. Use `zero_division` parameter to control this behavior.\n",
      "  _warn_prf(average, modifier, msg_start, len(result))\n"
     ]
    },
    {
     "data": {
      "text/plain": [
       "[0.5822147651006712,\n",
       " 0.45665548098434006,\n",
       " 0.4840044742729307,\n",
       " None,\n",
       " 0.9283686112545173]"
      ]
     },
     "execution_count": 74,
     "metadata": {},
     "output_type": "execute_result"
    }
   ],
   "source": [
    "results_0 = list(precision_recall_fscore_support(prompt_0_targets, prompt_0_outputs, average='samples'))\n",
    "results_0.append(hamming_accuracy(np.array(prompt_0_targets),np.array(prompt_0_outputs)))\n",
    "results_0"
   ]
  },
  {
   "cell_type": "code",
   "execution_count": 67,
   "id": "5c756e7f",
   "metadata": {},
   "outputs": [
    {
     "name": "stderr",
     "output_type": "stream",
     "text": [
      "C:\\Program Files\\Anaconda3\\lib\\site-packages\\sklearn\\metrics\\_classification.py:1344: UndefinedMetricWarning: Precision and F-score are ill-defined and being set to 0.0 in samples with no predicted labels. Use `zero_division` parameter to control this behavior.\n",
      "  _warn_prf(average, modifier, msg_start, len(result))\n"
     ]
    },
    {
     "data": {
      "text/plain": [
       "(0.5822147651006712, 0.45665548098434006, 0.4840044742729307, None)"
      ]
     },
     "execution_count": 67,
     "metadata": {},
     "output_type": "execute_result"
    }
   ],
   "source": [
    "# from sklearn.metrics import precision_recall_fscore_support\n",
    "# precision_recall_fscore_support(prompt_0_targets, prompt_0_outputs, average='samples')"
   ]
  },
  {
   "cell_type": "code",
   "execution_count": 75,
   "id": "510e3ca3",
   "metadata": {},
   "outputs": [],
   "source": [
    "# from sklearn.metrics import average_precision_score\n",
    "# average_precision_score(prompt_0_targets, prompt_0_outputs)\n",
    "\n",
    "# from sklearn.metrics import hamming_loss\n",
    "# 1 - hamming_loss(prompt_0_targets, prompt_0_outputs)\n",
    "\n",
    "\n",
    "# from sklearn.metrics import jaccard_score\n",
    "# jaccard_score(prompt_0_targets, prompt_0_outputs, average='samples')"
   ]
  },
  {
   "cell_type": "code",
   "execution_count": null,
   "id": "05dbc05c",
   "metadata": {},
   "outputs": [],
   "source": [
    "prompt = f\"\"\"\n",
    "            Angesichts der folgenden beschreibenden Webtexte, die verschiedene Arten von Videos beschreiben, \n",
    "            die von Schweizer Radio und Fernsehen veröffentlicht werden, klassifizieren Sie bitte jeden Ausschnitt, \n",
    "            indem Sie bis zu zwei relevante Tags aus der bereitgestellten Tag-Liste zuweisen. \n",
    "            Wählen Sie ein Tag, wenn es eindeutig am relevantesten ist, oder zwei Tags, \n",
    "            wenn zwei Themen gleichermaßen prominent sind. \n",
    "            Die Tags sollten die Hauptthemen des Textes genau widerspiegeln \n",
    "            und zum Portfolio eines öffentlich-rechtlichen Senders passen.\n",
    "\n",
    "            Die Tags und ihre zugehörigen Themen und Schlüsselwörter sind in der folgenden Tabelle beschrieben:\n",
    "\n",
    "            | Tag | Beschreibung | Schlüsselwörter |\n",
    "            |:---|:------------|:----------------|\n",
    "            | ARBEIT. | Was sich auf den Arbeitsbereich aus Sicht von Arbeitnehmern und Gewerkschaften bezieht (nicht Politik). Beinhaltet Arbeitsbedingungen, Arbeitskonflikte, Arbeitslosigkeit, Arbeitsmarkt, Karrieren und Pensionierung. Schließt Arbeitgeber, Unternehmen und bildungsbezogene Themen aus. | Arbeit, Arbeitnehmer, Arbeitsbedingung, Arbeitsrecht, Arbeitskonflikt, Arbeitslosigkeit, Arbeitsmarkt, Arbeitsvermittlung, Beruf, Einkommen, Gastarbeiter, Heimarbeit, Kinderarbeit, Karriere, Pensionierung, Schwarzarbeit, Sozialpartnerschaft |\n",
    "            | BILDUNG. | Öffentliche und elterliche Erziehung bis zur Erfüllung der Schulpflicht, einschließlich aller Schulstufen, Hochschulbildung und betriebsinterne Weiterbildung. Schließt reine Freizeitbildung wie Gartenbaukurse aus. | Berufsbildung, Bildung, Eltern, Erwachsenenbildung, Erziehung, Hochschule, Höhere Fachschule, Fachmittelschule, Gymnasium, Kindergarten, Lehrer, Heil- und Sonderpädagogik, Primarschule, Privatschule, Schule, Schüler, Schulinhalt, Schulreform, Sekundarschule, Stipendium, Sportschule, Studierende |\n",
    "            | ENERGIE. | Bezieht sich auf Energieträger, Ressourcen, Produktion, Verteilung, Verbrauch und energiepolitische Themen (nicht Politik). Schließt Umweltschäden und Atomwaffen aus. | Atomenergie, Brennstoff, Elektrizität, Energie, Energieverbrauch, Energietransport, Energiespeicher, Energiepolitik, Erneuerbare Energie, Fossile Energie, Kraftwerk, Staudamm |\n",
    "            | FREIZEIT. | Nicht-professionelle Freizeitaktivitäten, Breitensport. Schließt arbeitsbezogene Bildung und alle professionellen Sportarten aus. | Alpinismus, Badeanstalt, Breitensport, Denksport, Ferien, Freizeit, Freizeitgarten, Freizeittanz, Geselligkeit, Glücksspiel, Hobby, Jahrmarkt, Nachtleben, Spielen, Sportanlage, Sportgerät, Tourismus, Verein, Wandern |\n",
    "            | GESCHICHTE. | Historische Ereignisse und Epochen. Schließt Geschichtswissenschaft und Baugeschichte aus. | Geschichte, Geschichte-Früheste, Geschichte-Alte, Geschichte-Mittelalter, Geschichte-Neuere, Geschichte-Neueste |\n",
    "            | GESUNDHEIT. | Themen rund um Gesundheit und Krankheit; Geburt; Patientenrechte (nicht Justiz); Rettungsdienste (nicht Verkehr); medizinische Forschung (nicht Wissenschaft); Sportmedizin (nicht Sport). Schließt Sterben aus. | Alternativmedizin, Arzt, Drogenpolitik, Ernährung, Gesundheit, Gesundheitswesen, Hygiene, Krankenversicherung, Krankheit, Kur, Medikament, Medizin, Medizinische Forschung, Patientenrecht, Psychiatrie, Rettungswesen, Schwangerschaft, Sucht, Zahnmedizin |\n",
    "            | GEWERBE. | Kleine und mittlere Unternehmen ohne klare Abgrenzung zur Industrie, basierend auf der Allgemeinen Systematik der Wirtschaftszweige (NOGA). Schließt Industrie und Kultur aus. | Autogewerbe, Baugewerbe, Detailhandel, Dienstleistung, Gartenbau, Gastgewerbe, Getränk, Gewerbe, Handwerk, Haustechnik, Immobilienhandel, Kochen, Lebensmittelbranche, Logistik, Möbelbranche, Reiseunternehmen, Sicherheitsbranche |\n",
    "            | INDUSTRIE. | Industrielle Produktion ohne klare Abgrenzung zum Handel, basierend auf NOGA. Schließt alle arbeitsbezogenen Themen aus. | Autoindustrie, Bergbau, Chemieindustrie, Computerindustrie, Druckindustrie, Flugzeugindustrie, Industrie, Industriestandort, Maschinenindustrie, Metallindustrie, Papierindustrie, Pharmaindustrie, Rohstoff, Rüstungsindustrie, Schiffsbau, Schuhindustrie, Sportartikelindustrie, Tabakindustrie, Textilindustrie, Uhrenindustrie, Unterhaltungselektronik |\n",
    "            | JUSTIZ. | Rechtliche Angelegenheiten: Justiz, Gesetze, Rechtsprechung, internationales Recht (nicht Politik). Schließt Verbrechen, Polizei, Militärjustiz aus. | Bürgerrecht, Eigentumsrecht, Gericht, Gesetz, Internationales Recht, Justiz, Meinungsfreiheit, Menschenrecht, Ombudsstelle, Persönlichkeitsschutz, Personendokument, Strafrecht, Strafverfahren, Strafvollzug, Strafvollzugsanstalt, Urheberrecht, Wettbewerbsrecht, Zivilrecht |\n",
    "            | KULTUR. | Kulturelle Aktivitäten und künstlerische Schöpfung; Kino, Bibliotheken, Archive (nicht Medien). Schließt Medien, Volkskultur aus. | Architektur, Ausstellung, Denkmal, Design, Film, Fotografie, Gedächtnisinstitution, Kino, Kultur, Kulturpolitik, Kulturförderung, Kulturzentrum, Kunst, Literatur, Mode, Musik, Sprache und Schrift, Tanz, Theater, Unterhaltungsbranche |\n",
    "            | LANDWIRTSCHAFT. | Landwirtschaftliche Produktion; Fischerei; Forstwirtschaft; Jagd; Pflanzen; Tiere; Veterinärmedizin. Schließt Umweltprobleme und den Vertrieb/Verkauf landwirtschaftlicher Produkte aus. | Agrarpolitik, Berglandwirtschaft, Biologische Landwirtschaft, Fischerei, Fleischproduktion, Forstwirtschaft, Jagd, Landwirtschaft, Landwirtschaftsprodukt, Milch, Nutzpflanze, Tierhaltung, Veterinärmedizin, Weinbau |\n",
    "            | MEDIEN UND KOMMUNIKATION. | Presse, Bücher, TV, Radio, Video, neue (soziale) Medien; Nachrichtenagenturen (nicht Wirtschaft); Post (nicht Wirtschaft, nicht Staat). Schließt Kultur, Literatur, Musik aus. | Fernsehen, Internet, Journalismus, Medien, Medien und Kommunikation, Medien- und Multimedia-Unternehmen, Medienpolitik, Nachrichtenagentur, Post, Presse, Radio, Satellitenkommunikation, Telekommunikation, Verlag, Video, Zensur |\n",
    "            | MENSCH. | Soziale Gruppen nach Alter, Geschlecht, Status oder Orientierung; Minderheiten; Wohnen. Schließt Sozialwesen, politische Gruppen, religiöse Gruppen, Kinder und Jugendliche aus. | Alltag, Alter, Asylpolitik, Ausländer, Auslandschweizer, Behinderung, Bevölkerung, Diskriminierung, Ehe, Ethnie, Familie, Flüchtling, Frau, Frauenaktivität, Gesellschaftsform, Gesellschaftsfragen, Grenzgänger, Haushalt, Jugend, Kind, Konkubinat, Liebe, Mann, Mensch, Migration, Minderheit, Randständige, Seelisches, Sexualität, Sterben, Verhalten, Wohnen |\n",
    "            | MILITÄR. | Militärbezogene Themen; Militärjustiz (nicht Justiz); Dienstpflicht (nicht Justiz); Zivildienst (nicht Staat). Schließt Militärunfälle, paramilitärische Gruppen aus. | Internationales Militärbündnis, Kriegsvorsorge, Militär, Militäranlage, Militärausgaben, Militärdienst, Militärjustiz, Militärschau, Rüstung, Schweizergarde, Truppengattung, Truppenstationierung, Waffe, Militär, Waffe, Privat, Zivildienst, Zivilschutz |\n",
    "            | PORTRÄT. | Porträts in Bezug auf Geografie, Körperschaften, Personen, Themen. | Porträt Geografie, Porträt Körperschaften, Porträt Personen, Porträt Thema |\n",
    "            | RELIGION. | Alle Religionen und religiösen Themen. | Christentum, Christliche Kirche, Glaube, Gott, Mission, Nichtchristliche Religion, Ökumene, Religiöse Schriften, Religiöser Fundamentalismus, Religiöse Sondergemeinschaft, Religion, Spiritualität |\n",
    "            | SENSATION. | Themen mit medialem „Sensationswert“, wie spektakuläre Unfälle, Naturkatastrophen oder Aktivitäten, die im Guinness-Buch stehen könnten. Auch Skandale oder Berichte über berühmte Personen (Boulevard). | Affäre, Auszeichnung, Brand, Erfindung, Expedition, Explosion, Kuriosa, Prominenz, Sensation, Showbusiness, Unfall |\n",
    "            | SOZIALES. | Sozialarbeit und Institutionen; Sozialpolitik (nicht Politik). Schließt politische Gruppen, religiöse Gruppen, Kinder und Jugendliche aus. | Altersvorsorge, Armut, Demoskopie, Feier, Heim, Hilfswerk, Humanitäre Hilfe, Lebensstandard, Reichtum, Sozialarbeit, Soziale Bewegung, Soziales, Sozialhilfe, Sozialpolitik, Sozialversicherung, Protest, Vormundschaft, Zukunft |\n",
    "            | STAAT UND POLITIK. | Sehr allgemeine politische Themen: Weltpolitik, Innen- und Außenpolitik; staatliche Institutionen, Organe und Aktivitäten auf Bundes-, Kantons- und Gemeindeebene; Staatsbetriebe; Subventionen; Staatsformen. Schließt Verbrechen, Militär, Post, Energiepolitik, Kulturpolitik, Medienpolitik, Sozialpolitik, Verkehrspolitik, Wirtschaftspolitik, Bundesgericht, Raumplanung aus. | Abstimmung, Amtsausübung, Aussenpolitik, Bund, Europäische Integration, Feuerwehr, Finanzen, Frieden, Gemeinde, Gewaltentrennung, Gleichstellung, Grenze, Heimat, Ideologie, Initiative, Innenpolitik, Internationale Organisation, Kanton, Krieg, Landesausstellung, Lobbyismus, Mass, Neutralität, Ost-West, Parlament, Politische Gruppierung, Polizei, Referendum, Reformprozess, Regierung, Regionalismus, Siedlungspolitik, Staat und Politik, Staatsbetrieb, Staatsfeier, Staatsform, Staatssicherheit, Staatszugehörigkeit, Steuer, Subvention, Umsturz, Unruhen, Verfassung, Verwaltung, Wahl, Wiedergutmachung, Weltausstellung, Widerstandsbewegung, Zoll, Zwischenstaatlicher Konflikt |\n",
    "            | STRAFTAT. | Straftaten in allen Bereichen. Schließt Militärjustiz, politische Verbrechen und Spionage aus. | Bombenalarm, Doping, Drogendelikt, Ehrendelikt, Eigentumsdelikt, Fälschung, Gewalt gegen Personen, Korruption, Kriminelle Vereinigung, Kriegsverbrechen, Politische Verbrechen, Sachbeschädigung, Sexualdelikt, Straftat, Spionage, Tötungsdelikt, Verbrechensverhütung, Verkehrsdelikt, Wirtschaftskriminalität |\n",
    "            | TECHNIK. | Technisch umgesetzte Ergebnisse naturwissenschaftlicher Forschung; Informatik-Forschung; Ingenieurwesen. | Automatisierung, Computertechnik, Digitalisierung, Elektrotechnik, Präzisionsinstrument, Raumfahrttechnik, Software, Technik, Überwachungstechnik, Werkstoff, Werkzeug |\n",
    "            | UMWELT. | Umweltthemen in Bezug auf Luft, Wasser und Boden; Heimatschutz; Raumplanung. Schließt Energiepolitik und umweltbezogene Verkehrsprobleme aus. | Abfall, Atom, Atommüll, Boden, Gewässer, Giftstoff, Heimatschutz, Klima, Lärm, Landschaft, Luft, Naturkatastrophe, Raumplanung, Recycling, Schädlingsbekämpfung, Stadt, Tier, Umwelt, Umweltschutz, Wald, Wasser, Wetter |\n",
    "            | VERKEHR. | Verkehrsmittel und Verkehrsinfrastruktur, privat und öffentlich; Fußgänger. Schließt umweltbezogene Verkehrsprobleme, Verkehrspolitik und Verkehrsdelikte aus. | Alpentransversale, Auto, Autobahn, Bahn, Bahnanlage, Bus, Bergbahn, Brücke, E-Fahrzeug, Fahrplan, Fahrpreis, Fahrrad, Fluggesellschaft, Flughafen, Flugzeug, Fussgänger, Güterverkehr, Historische Verkehrsmittel, Luftverkehr, Motorrad, Nahverkehr, Öffentlicher Verkehr, Parken, Pendlen, Raumfahrt, Schifffahrt, Strassenbau und Unterhalt, Strassenverkehr, Tram, Tunnel, Verkehr, Verkehrsverband, Verkehrsverbund, Verkehrspolitik |\n",
    "            | VOLKSKULTUR. | Volkskunde, Traditionen, Bräuche eines Landes oder einer Region: traditionelle Sportarten, Feste und Veranstaltungen im Jahreszyklus. Schließt private Veranstaltungen aus. | Brauchtum, Brauchtumssport, Feiertag, Jahreszeit, Zunft |\n",
    "            | WIRTSCHAFT. | Wirtschaftliche Aktivitäten, Finanzmarkt, Unternehmen, Verbraucher basierend auf NOGA. Schließt Themen aus Industrie, Handel, Kultur und Landwirtschaft aus. | Arbeitgeber, Aussenwirtschaft, Betriebsänderung, Bodenmarkt, Finanzbranche, Geld, Gold, Handel, Investition, Kapitalmarkt, Kartell, Konjunktur, Konkurs, Konsum, Kredit, Preisniveau, Selbstständigkeit, Sponsoring, Unternehmen, Unternehmenskonzentration, Versicherungsbranche, Währung, Weltwirtschaft, Werbung, Wirtschaft, Wirtschaftspolitik, Wirtschaftsstatistik, Zentralbank |\n",
    "            | WISSENSCHAFT. | Was an Hochschulen gelehrt und erforscht wird, einschließlich Teilgebiete und Methoden; Grenzwissenschaften. Schließt technische Forschungsergebnisse und medizinische Forschung aus. | Archäologie, Astronomie, Biologie, Chemie, Ethnologie, Geisteswissenschaft, Genetik, Geografie, Geologie, Geschichtswissenschaft, Grenzwissenschaft, Informatik, Kartografie, Literaturwissenschaft, Mathematik, Meteorologie, Naturwissenschaft, Paläontologie, Philosophie, Physik, Politologie, Psychologie, Rechtswissenschaft, Religionswissenschaft, Soziologie, Sportwissenschaft, Sprachwissenschaft, Theologie, Wirtschaftswissenschaft, Wissenschaft |\n",
    "\n",
    "            Text zum Klassifizieren: '{test_text}'\n",
    "\n",
    "            Ihre Aufgabe ist es, den Ausschnitt zu lesen und die am besten passenden Tags zuzuweisen, \n",
    "            die den Inhalt am besten widerspiegeln, unter Berücksichtigung ihrer Relevanz für den öffentlich-rechtlichen\n",
    "            Rundfunk und die Informationen in der Tabelle. \n",
    "            Geben Sie nur die Tags als Python-Liste aus.\n",
    "        \"\"\""
   ]
  },
  {
   "cell_type": "markdown",
   "id": "98b47dcc",
   "metadata": {},
   "source": [
    "## Level 2 Keywoards and Descriptions"
   ]
  },
  {
   "cell_type": "code",
   "execution_count": 33,
   "id": "3184cb0c",
   "metadata": {
    "scrolled": true
   },
   "outputs": [
    {
     "data": {
      "application/vnd.jupyter.widget-view+json": {
       "model_id": "eada1d1fcf9149aa8c115bd3e798d297",
       "version_major": 2,
       "version_minor": 0
      },
      "text/plain": [
       "  0%|          | 0/300 [00:00<?, ?it/s]"
      ]
     },
     "metadata": {},
     "output_type": "display_data"
    },
    {
     "name": "stdout",
     "output_type": "stream",
     "text": [
      "Text: Türkei stimmt für Schwedens Nato-Beitritt\n",
      "Das türkische Parlament hat den Beitritt Schwedens in die Nato gebilligt. Nun muss Präsident Erdogan das sogenannte Beitrittsprotokoll noch unterschreiben, was als so gut wie sicher gilt.\n",
      "Output Tags (incorrect format): ['STAAT UND POLITIK']\n",
      "Real Tags: ['MILITÄR.']\n",
      "\n",
      "Text: AKW-Befürworter nur knapp in Mehrzahl\n",
      "Die Entscheidung war knapp. Die Befürworter eines neuen AKW Mühleberg sind nur leicht in Überzahl. Einschätzungen von Urs Wiedmer, SF-Korrespondent in Bern.\n",
      "Output Tags (incorrect format): ['ENERGIE']\n",
      "Real Tags: ['ENERGIE.', 'STAAT UND POLITIK.']\n",
      "\n",
      "Text: Bombenanschlag: Bekennerschreiben aufgetaucht\n",
      "Für den Bombenanschlag in Olten sind italienische Anarchisten verantwortlich. Dies hat die Bundesanwaltschaft heute mitgeteilt.\n",
      "Output Tags (incorrect format): ['STRAFTAT']\n",
      "Real Tags: ['ENERGIE.', 'STRAFTAT.']\n",
      "\n",
      "Text: Saudische Intervention im Jemen geht weiter\n",
      "Die Allianz unter Führung von Saudi-Arabien hat ihre Militärintervention im Jemen fortgesetzt. Kampfflugzeuge haben in den Gebieten, die von den Huthi-Rebellen kontrolliert werden, Stellungen bombardiert.\n",
      "Output Tags (incorrect format): ['MILITÄR', 'STRAFTAT']\n",
      "Real Tags: ['MILITÄR.', 'STAAT UND POLITIK.']\n",
      "\n",
      "Text: Mali: Rebellen dringen weiter vor\n",
      "\n",
      "Output Tags (incorrect format): ['GESCHICHTE', 'KRIEG', 'POLITIK']\n",
      "Real Tags: ['MILITÄR.', 'RELIGION.', 'STRAFTAT.']\n",
      "\n",
      "Text: Schweizer Städte nehmen Nachtleben ins Visier\n",
      "\n",
      "Output Tags (incorrect format): ['FREIZEIT']\n",
      "Real Tags: ['FREIZEIT.']\n",
      "\n",
      "Text: Schweiz: Konsumentenstimmung verschlechtert sich\n",
      "Gemäss der aktuellen Umfrage des Seco drücken die internationalen Krisen bei Schweizer Konsumentinnen und Konsumenten auf die Stimmung. Es werden wirtschaftlich noch schwierigere Zeiten erwartet und jetzt deshalb bereits der Gürtel enger geschnallt.\n",
      "Output Tags (incorrect format): [\"WIRTSCHAFT\"]\n",
      "Real Tags: ['WIRTSCHAFT.']\n",
      "\n",
      "Text: Käse zum Früchtebrot\n",
      "Zum Früchtebrot passt ein guter Käse aus dem Toggenburg. Myriam begleitet Werner in die Ostschweiz zum Käser Willy Schmid.\n",
      "Output Tags (incorrect format): ['KULTUR', 'PORTRÄT']\n",
      "Real Tags: ['GEWERBE.']\n",
      "\n",
      "Text: Jungunternehmer beim Vernetzen am SEF\n",
      "Am Swiss Economic Forum in Interlaken suchen Jungunternehmerinnen und -unternehmer Austausch, Startkapital und den Zugang zu Netzwerken. Zwei von ihnen erzählen von ihren Erfahrungen.\n",
      "Output Tags (incorrect format): [\"ARBEIT\", \"GEWERBE\"]\n",
      "Real Tags: ['GEWERBE.', 'WIRTSCHAFT.']\n",
      "\n",
      "Text: Muammar Gaddafi und seine absolute Macht\n",
      "Ob und wann die in Libyen festgehaltenen Schweizer in die Heimat zurückkehren können, das liegt allein in den Händen von Muammar Gaddafi. 1969 stürtze er als Offizier den damals herrschenden König von Libyen. Soziologe Jean Ziegler und Islamwissenschafter Reinhard Schulze schätzen den Machthaber und sein Reich ein.\n",
      "Output Tags (incorrect format): ['STAAT UN\n",
      "Real Tags: ['PORTRÄT.', 'SENSATION.', 'STAAT UND POLITIK.', 'STRAFTAT.']\n",
      "\n",
      "Text: Roter Seealpsee\n",
      "Das Wasser des auf 1141 Meter über Meer gelegenen Seealpsees im Alpstein (AI) ist seit Anfang Woche rötlichverfärbt. Das Innerrhoder Amt für Umweltschutz steht vor einem Rätsel.\n",
      "Output Tags (incorrect format): ['UMWELT']\n",
      "Real Tags: ['UMWELT.', 'VOLKSKULTUR.']\n",
      "\n",
      "Text: Auch Schweden prüft nun NATO-Beitritt\n",
      "Nach Finnland spricht nun auch Schweden über einen Beitritt zum westlichen Militärbündnis. In einer von der Regierung verfassten Sicherheitsanalyse wurde aber keine klare Empfehlung für oder gegen einen NATO-Beitritt geleifert. Einschätzungen von SRF-Korrespondent Sebastian Ramspeck.\n",
      "Output Tags (incorrect format): ['STAAT UND POLITIK', 'MILITÄR']\n",
      "Real Tags: ['MILITÄR.', 'STAAT UND POLITIK.']\n",
      "\n",
      "Text: Zoo Eichberg muss definitiv schliessen\n",
      "Sämtliche Rettungsversuche sind gescheitert, die notwendige Finanzspritze von einer Million Franken konnte nicht aufgetrieben werden. Zwei Angestellte verlieren ihren Job. Die beiden Lehrlinge und sämtliche Tiere werden von anderen Zoos übernommen.\n",
      "Output Tags (incorrect format): ['TIERE', 'ARBEIT.']\n",
      "Real Tags: ['LANDWIRTSCHAFT.', 'WIRTSCHAFT.']\n",
      "\n",
      "Text: Mehrere Verhaftungen an Silvester\n",
      "Das Sicherheitsaufgebot war an den Silvester-Feierlichkeiten in den grossen Städten erhöht. Am Zürcher Hauptbahnhof hat die Polizei mehrere Männer verhaftet. Auch in Köln hat die Polizei knapp hundert Personen festgenommen.\n",
      "Output Tags (incorrect format): ['JUSTIZ', 'GESCHICHTE']\n",
      "Real Tags: ['VOLKSKULTUR.']\n",
      "\n",
      "Text: Bundesrat gegen Mindestlohn\n",
      "\n",
      "Output Tags (incorrect format): ['STAAT UND POLITIK', 'ARBEIT.']\n",
      "Real Tags: ['ARBEIT.', 'STAAT UND POLITIK.']\n",
      "\n",
      "Text: Swiss am Pranger: Konsumentenschutz klagt an\n",
      "\n",
      "Output Tags (incorrect format): ['JUSTIZ', 'KONSUMENTENSCHUTZ']\n",
      "Real Tags: ['JUSTIZ.', 'VERKEHR.', 'WIRTSCHAFT.']\n",
      "\n",
      "Text: Facettenreich: Hockey-Star Florence Schelling auf fremdem Terrain\n",
      "Florence Schelling ist eine der erfolgreichsten Eishockey-Torhüterinnen der Welt. Jetzt zieht sie für den Sport nach Schweden. «Glanz & Gloria» begleitet die Sportlerin bei ihrem letzten öffentlichen Auftritt vor dem Auswandern – einem Benefiz-Golfturnier.\n",
      "Output Tags (incorrect format): ['SPORT', 'PORTTRAT']\n",
      "Real Tags: ['PORTRÄT.']\n",
      "\n",
      "Text: Ost und West – Hat der Mauerfall Europa geeint?\n",
      "Vor 25 Jahren fiel die Mauer – eine Zäsur, die nicht nur für Deutschland eine Wende bedeutete. Die Zäsur am Ende des 20. Jahrhunderts beendete gleichzeitig das «Zeitalter der Ideologien». Katja Gentinetta unterhält sich mit dem Historiker Heinrich August Winkler über das Ereignis und dessen Folgen.\n",
      "Output Tags (incorrect format): ['GESCHICHTE', 'STAAT\n",
      "Real Tags: ['GESCHICHTE.']\n",
      "\n",
      "637.0603733062744\n"
     ]
    }
   ],
   "source": [
    "from tqdm.notebook import tqdm\n",
    "prompt_1_accuracy = []\n",
    "prompt_1_targets = []\n",
    "prompt_1_outputs = []\n",
    "\n",
    "import time\n",
    "start = time.time()\n",
    "\n",
    "counter = 0\n",
    "for test_text in tqdm(df_sample_['Web-Text']):\n",
    "    \n",
    "    prompt = f\"\"\"\n",
    "                Angesichts der folgenden beschreibenden Webtexte, die verschiedene Arten von Videos beschreiben, \n",
    "                die von Schweizer Radio und Fernsehen veröffentlicht werden, klassifizieren Sie bitte jeden Ausschnitt, \n",
    "                indem Sie bis zu zwei relevante Tags aus der bereitgestellten Tag-Liste zuweisen. \n",
    "                Wählen Sie ein Tag, wenn es eindeutig am relevantesten ist, oder zwei Tags, \n",
    "                wenn zwei Themen gleichermaßen prominent sind. \n",
    "                Die Tags sollten die Hauptthemen des Textes genau widerspiegeln \n",
    "                und zum Portfolio eines öffentlich-rechtlichen Senders passen.\n",
    "\n",
    "                Die Tags und ihre zugehörigen Themen und Schlüsselwörter sind in der folgenden Tabelle beschrieben:\n",
    "\n",
    "                | Tag | Beschreibung | Schlüsselwörter |\n",
    "                |:---|:------------|:----------------|\n",
    "                | ARBEIT. | Was sich auf den Arbeitsbereich aus Sicht von Arbeitnehmern und Gewerkschaften bezieht (nicht Politik). Beinhaltet Arbeitsbedingungen, Arbeitskonflikte, Arbeitslosigkeit, Arbeitsmarkt, Karrieren und Pensionierung. Schließt Arbeitgeber, Unternehmen und bildungsbezogene Themen aus. | Arbeit, Arbeitnehmer, Arbeitsbedingung, Arbeitsrecht, Arbeitskonflikt, Arbeitslosigkeit, Arbeitsmarkt, Arbeitsvermittlung, Beruf, Einkommen, Gastarbeiter, Heimarbeit, Kinderarbeit, Karriere, Pensionierung, Schwarzarbeit, Sozialpartnerschaft |\n",
    "                | BILDUNG. | Öffentliche und elterliche Erziehung bis zur Erfüllung der Schulpflicht, einschließlich aller Schulstufen, Hochschulbildung und betriebsinterne Weiterbildung. Schließt reine Freizeitbildung wie Gartenbaukurse aus. | Berufsbildung, Bildung, Eltern, Erwachsenenbildung, Erziehung, Hochschule, Höhere Fachschule, Fachmittelschule, Gymnasium, Kindergarten, Lehrer, Heil- und Sonderpädagogik, Primarschule, Privatschule, Schule, Schüler, Schulinhalt, Schulreform, Sekundarschule, Stipendium, Sportschule, Studierende |\n",
    "                | ENERGIE. | Bezieht sich auf Energieträger, Ressourcen, Produktion, Verteilung, Verbrauch und energiepolitische Themen (nicht Politik). Schließt Umweltschäden und Atomwaffen aus. | Atomenergie, Brennstoff, Elektrizität, Energie, Energieverbrauch, Energietransport, Energiespeicher, Energiepolitik, Erneuerbare Energie, Fossile Energie, Kraftwerk, Staudamm |\n",
    "                | FREIZEIT. | Nicht-professionelle Freizeitaktivitäten, Breitensport. Schließt arbeitsbezogene Bildung und alle professionellen Sportarten aus. | Alpinismus, Badeanstalt, Breitensport, Denksport, Ferien, Freizeit, Freizeitgarten, Freizeittanz, Geselligkeit, Glücksspiel, Hobby, Jahrmarkt, Nachtleben, Spielen, Sportanlage, Sportgerät, Tourismus, Verein, Wandern |\n",
    "                | GESCHICHTE. | Historische Ereignisse und Epochen. Schließt Geschichtswissenschaft und Baugeschichte aus. | Geschichte, Geschichte-Früheste, Geschichte-Alte, Geschichte-Mittelalter, Geschichte-Neuere, Geschichte-Neueste |\n",
    "                | GESUNDHEIT. | Themen rund um Gesundheit und Krankheit; Geburt; Patientenrechte (nicht Justiz); Rettungsdienste (nicht Verkehr); medizinische Forschung (nicht Wissenschaft); Sportmedizin (nicht Sport). Schließt Sterben aus. | Alternativmedizin, Arzt, Drogenpolitik, Ernährung, Gesundheit, Gesundheitswesen, Hygiene, Krankenversicherung, Krankheit, Kur, Medikament, Medizin, Medizinische Forschung, Patientenrecht, Psychiatrie, Rettungswesen, Schwangerschaft, Sucht, Zahnmedizin |\n",
    "                | GEWERBE. | Kleine und mittlere Unternehmen ohne klare Abgrenzung zur Industrie, basierend auf der Allgemeinen Systematik der Wirtschaftszweige (NOGA). Schließt Industrie und Kultur aus. | Autogewerbe, Baugewerbe, Detailhandel, Dienstleistung, Gartenbau, Gastgewerbe, Getränk, Gewerbe, Handwerk, Haustechnik, Immobilienhandel, Kochen, Lebensmittelbranche, Logistik, Möbelbranche, Reiseunternehmen, Sicherheitsbranche |\n",
    "                | INDUSTRIE. | Industrielle Produktion ohne klare Abgrenzung zum Handel, basierend auf NOGA. Schließt alle arbeitsbezogenen Themen aus. | Autoindustrie, Bergbau, Chemieindustrie, Computerindustrie, Druckindustrie, Flugzeugindustrie, Industrie, Industriestandort, Maschinenindustrie, Metallindustrie, Papierindustrie, Pharmaindustrie, Rohstoff, Rüstungsindustrie, Schiffsbau, Schuhindustrie, Sportartikelindustrie, Tabakindustrie, Textilindustrie, Uhrenindustrie, Unterhaltungselektronik |\n",
    "                | JUSTIZ. | Rechtliche Angelegenheiten: Justiz, Gesetze, Rechtsprechung, internationales Recht (nicht Politik). Schließt Verbrechen, Polizei, Militärjustiz aus. | Bürgerrecht, Eigentumsrecht, Gericht, Gesetz, Internationales Recht, Justiz, Meinungsfreiheit, Menschenrecht, Ombudsstelle, Persönlichkeitsschutz, Personendokument, Strafrecht, Strafverfahren, Strafvollzug, Strafvollzugsanstalt, Urheberrecht, Wettbewerbsrecht, Zivilrecht |\n",
    "                | KULTUR. | Kulturelle Aktivitäten und künstlerische Schöpfung; Kino, Bibliotheken, Archive (nicht Medien). Schließt Medien, Volkskultur aus. | Architektur, Ausstellung, Denkmal, Design, Film, Fotografie, Gedächtnisinstitution, Kino, Kultur, Kulturpolitik, Kulturförderung, Kulturzentrum, Kunst, Literatur, Mode, Musik, Sprache und Schrift, Tanz, Theater, Unterhaltungsbranche |\n",
    "                | LANDWIRTSCHAFT. | Landwirtschaftliche Produktion; Fischerei; Forstwirtschaft; Jagd; Pflanzen; Tiere; Veterinärmedizin. Schließt Umweltprobleme und den Vertrieb/Verkauf landwirtschaftlicher Produkte aus. | Agrarpolitik, Berglandwirtschaft, Biologische Landwirtschaft, Fischerei, Fleischproduktion, Forstwirtschaft, Jagd, Landwirtschaft, Landwirtschaftsprodukt, Milch, Nutzpflanze, Tierhaltung, Veterinärmedizin, Weinbau |\n",
    "                | MEDIEN UND KOMMUNIKATION. | Presse, Bücher, TV, Radio, Video, neue (soziale) Medien; Nachrichtenagenturen (nicht Wirtschaft); Post (nicht Wirtschaft, nicht Staat). Schließt Kultur, Literatur, Musik aus. | Fernsehen, Internet, Journalismus, Medien, Medien und Kommunikation, Medien- und Multimedia-Unternehmen, Medienpolitik, Nachrichtenagentur, Post, Presse, Radio, Satellitenkommunikation, Telekommunikation, Verlag, Video, Zensur |\n",
    "                | MENSCH. | Soziale Gruppen nach Alter, Geschlecht, Status oder Orientierung; Minderheiten; Wohnen. Schließt Sozialwesen, politische Gruppen, religiöse Gruppen, Kinder und Jugendliche aus. | Alltag, Alter, Asylpolitik, Ausländer, Auslandschweizer, Behinderung, Bevölkerung, Diskriminierung, Ehe, Ethnie, Familie, Flüchtling, Frau, Frauenaktivität, Gesellschaftsform, Gesellschaftsfragen, Grenzgänger, Haushalt, Jugend, Kind, Konkubinat, Liebe, Mann, Mensch, Migration, Minderheit, Randständige, Seelisches, Sexualität, Sterben, Verhalten, Wohnen |\n",
    "                | MILITÄR. | Militärbezogene Themen; Militärjustiz (nicht Justiz); Dienstpflicht (nicht Justiz); Zivildienst (nicht Staat). Schließt Militärunfälle, paramilitärische Gruppen aus. | Internationales Militärbündnis, Kriegsvorsorge, Militär, Militäranlage, Militärausgaben, Militärdienst, Militärjustiz, Militärschau, Rüstung, Schweizergarde, Truppengattung, Truppenstationierung, Waffe, Militär, Waffe, Privat, Zivildienst, Zivilschutz |\n",
    "                | PORTRÄT. | Porträts in Bezug auf Geografie, Körperschaften, Personen, Themen. | Porträt Geografie, Porträt Körperschaften, Porträt Personen, Porträt Thema |\n",
    "                | RELIGION. | Alle Religionen und religiösen Themen. | Christentum, Christliche Kirche, Glaube, Gott, Mission, Nichtchristliche Religion, Ökumene, Religiöse Schriften, Religiöser Fundamentalismus, Religiöse Sondergemeinschaft, Religion, Spiritualität |\n",
    "                | SENSATION. | Themen mit medialem „Sensationswert“, wie spektakuläre Unfälle, Naturkatastrophen oder Aktivitäten, die im Guinness-Buch stehen könnten. Auch Skandale oder Berichte über berühmte Personen (Boulevard). | Affäre, Auszeichnung, Brand, Erfindung, Expedition, Explosion, Kuriosa, Prominenz, Sensation, Showbusiness, Unfall |\n",
    "                | SOZIALES. | Sozialarbeit und Institutionen; Sozialpolitik (nicht Politik). Schließt politische Gruppen, religiöse Gruppen, Kinder und Jugendliche aus. | Altersvorsorge, Armut, Demoskopie, Feier, Heim, Hilfswerk, Humanitäre Hilfe, Lebensstandard, Reichtum, Sozialarbeit, Soziale Bewegung, Soziales, Sozialhilfe, Sozialpolitik, Sozialversicherung, Protest, Vormundschaft, Zukunft |\n",
    "                | STAAT UND POLITIK. | Sehr allgemeine politische Themen: Weltpolitik, Innen- und Außenpolitik; staatliche Institutionen, Organe und Aktivitäten auf Bundes-, Kantons- und Gemeindeebene; Staatsbetriebe; Subventionen; Staatsformen. Schließt Verbrechen, Militär, Post, Energiepolitik, Kulturpolitik, Medienpolitik, Sozialpolitik, Verkehrspolitik, Wirtschaftspolitik, Bundesgericht, Raumplanung aus. | Abstimmung, Amtsausübung, Aussenpolitik, Bund, Europäische Integration, Feuerwehr, Finanzen, Frieden, Gemeinde, Gewaltentrennung, Gleichstellung, Grenze, Heimat, Ideologie, Initiative, Innenpolitik, Internationale Organisation, Kanton, Krieg, Landesausstellung, Lobbyismus, Mass, Neutralität, Ost-West, Parlament, Politische Gruppierung, Polizei, Referendum, Reformprozess, Regierung, Regionalismus, Siedlungspolitik, Staat und Politik, Staatsbetrieb, Staatsfeier, Staatsform, Staatssicherheit, Staatszugehörigkeit, Steuer, Subvention, Umsturz, Unruhen, Verfassung, Verwaltung, Wahl, Wiedergutmachung, Weltausstellung, Widerstandsbewegung, Zoll, Zwischenstaatlicher Konflikt |\n",
    "                | STRAFTAT. | Straftaten in allen Bereichen. Schließt Militärjustiz, politische Verbrechen und Spionage aus. | Bombenalarm, Doping, Drogendelikt, Ehrendelikt, Eigentumsdelikt, Fälschung, Gewalt gegen Personen, Korruption, Kriminelle Vereinigung, Kriegsverbrechen, Politische Verbrechen, Sachbeschädigung, Sexualdelikt, Straftat, Spionage, Tötungsdelikt, Verbrechensverhütung, Verkehrsdelikt, Wirtschaftskriminalität |\n",
    "                | TECHNIK. | Technisch umgesetzte Ergebnisse naturwissenschaftlicher Forschung; Informatik-Forschung; Ingenieurwesen. | Automatisierung, Computertechnik, Digitalisierung, Elektrotechnik, Präzisionsinstrument, Raumfahrttechnik, Software, Technik, Überwachungstechnik, Werkstoff, Werkzeug |\n",
    "                | UMWELT. | Umweltthemen in Bezug auf Luft, Wasser und Boden; Heimatschutz; Raumplanung. Schließt Energiepolitik und umweltbezogene Verkehrsprobleme aus. | Abfall, Atom, Atommüll, Boden, Gewässer, Giftstoff, Heimatschutz, Klima, Lärm, Landschaft, Luft, Naturkatastrophe, Raumplanung, Recycling, Schädlingsbekämpfung, Stadt, Tier, Umwelt, Umweltschutz, Wald, Wasser, Wetter |\n",
    "                | VERKEHR. | Verkehrsmittel und Verkehrsinfrastruktur, privat und öffentlich; Fußgänger. Schließt umweltbezogene Verkehrsprobleme, Verkehrspolitik und Verkehrsdelikte aus. | Alpentransversale, Auto, Autobahn, Bahn, Bahnanlage, Bus, Bergbahn, Brücke, E-Fahrzeug, Fahrplan, Fahrpreis, Fahrrad, Fluggesellschaft, Flughafen, Flugzeug, Fussgänger, Güterverkehr, Historische Verkehrsmittel, Luftverkehr, Motorrad, Nahverkehr, Öffentlicher Verkehr, Parken, Pendlen, Raumfahrt, Schifffahrt, Strassenbau und Unterhalt, Strassenverkehr, Tram, Tunnel, Verkehr, Verkehrsverband, Verkehrsverbund, Verkehrspolitik |\n",
    "                | VOLKSKULTUR. | Volkskunde, Traditionen, Bräuche eines Landes oder einer Region: traditionelle Sportarten, Feste und Veranstaltungen im Jahreszyklus. Schließt private Veranstaltungen aus. | Brauchtum, Brauchtumssport, Feiertag, Jahreszeit, Zunft |\n",
    "                | WIRTSCHAFT. | Wirtschaftliche Aktivitäten, Finanzmarkt, Unternehmen, Verbraucher basierend auf NOGA. Schließt Themen aus Industrie, Handel, Kultur und Landwirtschaft aus. | Arbeitgeber, Aussenwirtschaft, Betriebsänderung, Bodenmarkt, Finanzbranche, Geld, Gold, Handel, Investition, Kapitalmarkt, Kartell, Konjunktur, Konkurs, Konsum, Kredit, Preisniveau, Selbstständigkeit, Sponsoring, Unternehmen, Unternehmenskonzentration, Versicherungsbranche, Währung, Weltwirtschaft, Werbung, Wirtschaft, Wirtschaftspolitik, Wirtschaftsstatistik, Zentralbank |\n",
    "                | WISSENSCHAFT. | Was an Hochschulen gelehrt und erforscht wird, einschließlich Teilgebiete und Methoden; Grenzwissenschaften. Schließt technische Forschungsergebnisse und medizinische Forschung aus. | Archäologie, Astronomie, Biologie, Chemie, Ethnologie, Geisteswissenschaft, Genetik, Geografie, Geologie, Geschichtswissenschaft, Grenzwissenschaft, Informatik, Kartografie, Literaturwissenschaft, Mathematik, Meteorologie, Naturwissenschaft, Paläontologie, Philosophie, Physik, Politologie, Psychologie, Rechtswissenschaft, Religionswissenschaft, Soziologie, Sportwissenschaft, Sprachwissenschaft, Theologie, Wirtschaftswissenschaft, Wissenschaft |\n",
    "\n",
    "                Text zum Klassifizieren: '{test_text}'\n",
    "\n",
    "                Ihre Aufgabe ist es, den Ausschnitt zu lesen und die am besten passenden Tags zuzuweisen, \n",
    "                die den Inhalt am besten widerspiegeln, unter Berücksichtigung ihrer Relevanz für den öffentlich-rechtlichen\n",
    "                Rundfunk und die Informationen in der Tabelle. \n",
    "                Geben Sie nur die Tags als Python-Liste aus.\n",
    "            \"\"\"\n",
    "    \n",
    "    try:\n",
    "        response = client.chat.completions.create(\n",
    "            model=deployment_name,\n",
    "            messages=[\n",
    "                {\"role\": \"system\", \"content\": \"Sie sind ein hilfreicher Assistent, der dem Redaktionsteam des öffentlich-rechtlichen Rundfunks hilft, zentrale Themen aus beschreibenden Videotexten zu extrahieren.\"},\n",
    "                {\"role\": \"user\", \"content\": prompt}\n",
    "            ]\n",
    "        )\n",
    "    except Exception as e:\n",
    "        continue\n",
    "        print(f\"API Error: {test_text}, Error: {e}\")\n",
    "    \n",
    "     # Transfer ChatGPT output to One-Hot encoded list\n",
    "    try:\n",
    "        output_tags = response.choices[0].message.content\n",
    "        one_hot_encoded_tags = match_and_encode_tags(output_tags, label_names)\n",
    "        df_text = df[df['Web-Text'] == test_text].reset_index(drop=True)   \n",
    "    except Exception as e:\n",
    "        print(f\"Error processing text:{e}\")\n",
    "        print(response.choices[0].message.content)\n",
    "        continue\n",
    "    \n",
    "    prompt_1_outputs.append(one_hot_encoded_tags)\n",
    "    prompt_1_targets.append(df_text['Categories'][0])    \n",
    "    # Compute Accuracy on the fly\n",
    "    match_percent = sum(i==j for i,j in zip(df_text['Categories'][0],one_hot_encoded_tags))/len(one_hot_encoded_tags)\n",
    "    prompt_1_accuracy.append(match_percent)\n",
    "    \n",
    "    # Print some of the Answers\n",
    "    if counter % 15 == 0:\n",
    "        # Show the Answer\n",
    "        visualisation_encodings(response, test_text, df_text)\n",
    "    \n",
    "    counter += 1\n",
    "      \n",
    "end = time.time()\n",
    "print(end - start)"
   ]
  },
  {
   "cell_type": "code",
   "execution_count": 34,
   "id": "ec32a015",
   "metadata": {},
   "outputs": [
    {
     "data": {
      "text/plain": [
       "0.9275932400932402"
      ]
     },
     "execution_count": 34,
     "metadata": {},
     "output_type": "execute_result"
    }
   ],
   "source": [
    "np.mean(prompt_1_accuracy)"
   ]
  },
  {
   "cell_type": "code",
   "execution_count": 35,
   "id": "db6fd635",
   "metadata": {},
   "outputs": [
    {
     "data": {
      "text/plain": [
       "0.9275932400932401"
      ]
     },
     "execution_count": 35,
     "metadata": {},
     "output_type": "execute_result"
    }
   ],
   "source": [
    "hamming_accuracy(np.array(prompt_1_targets),np.array(prompt_1_outputs))"
   ]
  },
  {
   "cell_type": "code",
   "execution_count": 36,
   "id": "4e9d18e8",
   "metadata": {},
   "outputs": [
    {
     "name": "stdout",
     "output_type": "stream",
     "text": [
      "                           precision    recall  f1-score   support\n",
      "\n",
      "                  ARBEIT.       0.29      0.64      0.40        11\n",
      "                 BILDUNG.       0.62      0.71      0.67         7\n",
      "                 ENERGIE.       0.92      0.61      0.73        18\n",
      "                FREIZEIT.       0.41      0.39      0.40        18\n",
      "              GESCHICHTE.       0.25      0.50      0.33        10\n",
      "              GESUNDHEIT.       0.78      0.56      0.65        32\n",
      "                 GEWERBE.       0.50      0.11      0.18        27\n",
      "               INDUSTRIE.       0.50      0.07      0.12        15\n",
      "                  JUSTIZ.       0.58      0.50      0.54        22\n",
      "                  KULTUR.       0.65      0.52      0.58        29\n",
      "          LANDWIRTSCHAFT.       0.90      0.38      0.53        24\n",
      "MEDIEN UND KOMMUNIKATION.       0.64      0.32      0.42        22\n",
      "                  MENSCH.       0.45      0.24      0.31        21\n",
      "                 MILITÄR.       1.00      0.20      0.33        15\n",
      "                 PORTRÄT.       0.33      0.43      0.38        23\n",
      "                RELIGION.       0.86      0.60      0.71        10\n",
      "               SENSATION.       0.64      0.28      0.39        25\n",
      "                SOZIALES.       0.50      0.05      0.08        22\n",
      "       STAAT UND POLITIK.       0.54      0.46      0.49        48\n",
      "                STRAFTAT.       0.50      0.24      0.32        21\n",
      "                 TECHNIK.       0.42      0.36      0.38        14\n",
      "                  UMWELT.       0.75      0.32      0.45        28\n",
      "                 VERKEHR.       0.62      0.47      0.53        17\n",
      "             VOLKSKULTUR.       1.00      0.20      0.33        10\n",
      "              WIRTSCHAFT.       0.64      0.62      0.63        40\n",
      "            WISSENSCHAFT.       0.43      0.23      0.30        13\n",
      "\n",
      "                micro avg       0.56      0.39      0.46       542\n",
      "                macro avg       0.60      0.38      0.43       542\n",
      "             weighted avg       0.61      0.39      0.44       542\n",
      "              samples avg       0.53      0.41      0.44       542\n",
      "\n"
     ]
    },
    {
     "name": "stderr",
     "output_type": "stream",
     "text": [
      "C:\\Program Files\\Anaconda3\\lib\\site-packages\\sklearn\\metrics\\_classification.py:1344: UndefinedMetricWarning: Precision and F-score are ill-defined and being set to 0.0 in samples with no predicted labels. Use `zero_division` parameter to control this behavior.\n",
      "  _warn_prf(average, modifier, msg_start, len(result))\n"
     ]
    }
   ],
   "source": [
    "from sklearn.metrics import classification_report\n",
    "\n",
    "report = classification_report(prompt_1_targets, prompt_1_outputs, target_names=label_names)\n",
    "print(report)"
   ]
  },
  {
   "cell_type": "code",
   "execution_count": 76,
   "id": "a84caad7",
   "metadata": {},
   "outputs": [
    {
     "name": "stderr",
     "output_type": "stream",
     "text": [
      "C:\\Program Files\\Anaconda3\\lib\\site-packages\\sklearn\\metrics\\_classification.py:1344: UndefinedMetricWarning: Precision and F-score are ill-defined and being set to 0.0 in samples with no predicted labels. Use `zero_division` parameter to control this behavior.\n",
      "  _warn_prf(average, modifier, msg_start, len(result))\n"
     ]
    },
    {
     "data": {
      "text/plain": [
       "[0.5340909090909091,\n",
       " 0.4097222222222222,\n",
       " 0.4390151515151515,\n",
       " None,\n",
       " 0.9275932400932401]"
      ]
     },
     "execution_count": 76,
     "metadata": {},
     "output_type": "execute_result"
    }
   ],
   "source": [
    "results_1 = list(precision_recall_fscore_support(prompt_1_targets, prompt_1_outputs, average='samples'))\n",
    "results_1.append(hamming_accuracy(np.array(prompt_1_targets),np.array(prompt_1_outputs)))\n",
    "results_1"
   ]
  },
  {
   "cell_type": "markdown",
   "id": "b61860f1",
   "metadata": {},
   "source": [
    "## Descriptions"
   ]
  },
  {
   "cell_type": "code",
   "execution_count": 37,
   "id": "3c921bd1",
   "metadata": {
    "scrolled": true
   },
   "outputs": [
    {
     "data": {
      "application/vnd.jupyter.widget-view+json": {
       "model_id": "c142fca20de7433e8e13c6c5521824e8",
       "version_major": 2,
       "version_minor": 0
      },
      "text/plain": [
       "  0%|          | 0/300 [00:00<?, ?it/s]"
      ]
     },
     "metadata": {},
     "output_type": "display_data"
    },
    {
     "name": "stdout",
     "output_type": "stream",
     "text": [
      "Text: Türkei stimmt für Schwedens Nato-Beitritt\n",
      "Das türkische Parlament hat den Beitritt Schwedens in die Nato gebilligt. Nun muss Präsident Erdogan das sogenannte Beitrittsprotokoll noch unterschreiben, was als so gut wie sicher gilt.\n",
      "Output Tags (incorrect format): ['STAAT UND POLITIK', 'MILITÄR']\n",
      "Real Tags: ['MILITÄR.']\n",
      "\n",
      "Text: Wie funktionieren Wetten?\n",
      "In einem Beitrag werden die diversen möglichen Wetten aufgezeigt, die auf jedes Spiel eingegangen werden können. Zudem wird klar, dass man auf irgendein Spiel setzen kann  ganz egal, wo es stattfindet. Roger Hegi betont, dass Wetten auf die manipulierten Schweizer Spiele vor allem in Asien platziert wurden. Markus Stähli begründet, wieso alle Thuner Spieler eine Erklärung unterschreiben mussten, dass sie nicht betrogen haben.\n",
      "Output Tags (incorrect format): ['FREIZEIT', 'GESCHICHTE']\n",
      "Real Tags: ['FREIZEIT.', 'MEDIEN UND KOMMUNIKATION.', 'STRAFTAT.']\n",
      "\n",
      "Text: Langlauf und Tourenskifahren sind die besten Kalorien-Killer\n",
      "Die Hauptmotivation von Wintersportlern ist wohl nicht das Abnehmen. Trotzdem können Kalorien auch beim Schneesport vernichtet werden. Vorausgesetzt man wählt die richtige Disziplin und füllt den Speicher nicht gleich wieder mit deftigem Essen und alkoholischen Getränken.\n",
      "Output Tags (incorrect format): ['GESUNDHEIT', 'FREIZEIT']\n",
      "Real Tags: ['FREIZEIT.', 'GESUNDHEIT.']\n",
      "\n",
      "Text: Der Promi-Uhrmacher von Island\n",
      "Dieser Tage findet in Basel die Messe für Uhren und Schmuck statt, die Baselworld. Ein Stelldichein der grossen und teuren Marken, die Kleinen bleiben aussen vor. Etwa Gilbert Guðjónsson: Der 65-Jährige fertigt seine Uhren in Island auf einer Fläche von gerade einmal vier Quadratmetern. Zu seinen Kunden zählen aber Filmgrössen wie Tom Cruise und Quentin Tarantino.\n",
      "Output Tags (incorrect format): ['PORTRÄT', 'KULTUR']\n",
      "Real Tags: ['INDUSTRIE.', 'PORTRÄT.']\n",
      "\n",
      "Text: FOKUS: Kampf um die Asylgesetzesrevision\n",
      "Die Präsidenten von SP, FDP und CVP haben heute in Begleitung der Medien das Testzentrum Zürich besichtigt. Als Befürworter der Asylgesetzesrevision haben sie die Gelegenheit genutzt, die Vorzüge des neuen Verfahrens zu loben. Nicht dabei war der SVP-Präsident - seine Partei lehnt die Asylgesetzesrevision ab.\n",
      "Output Tags (incorrect format): ['STAAT UND POLITIK', 'JUSTIZ']\n",
      "Real Tags: ['MENSCH.', 'STAAT UND POLITIK.']\n",
      "\n",
      "Text: Türkischer Abstimmungskampf in der Schweiz\n",
      "Der türkische Aussenminister Cavusoglu hat sich für einen Besuch in der Schweiz angemeldet. Er will auch bei den Schweiz-Türken für die Verfassungsreform werben, die Präsident Erdogan mehr Macht geben soll.\n",
      "Output Tags (incorrect format): ['STAAT UND POLITIK']\n",
      "Real Tags: ['JUSTIZ.', 'STAAT UND POLITIK.']\n",
      "\n",
      "Text: Swiss Hate: Shaming mit Renato Kaiser | Advents-Special\n",
      "Wir sprechen über Shaming – etwas, das zur Zeit in der Schweiz rege betrieben wird. So sehr, dass wir eine neue Fernsehshow ins Leben gerufen haben. Angelehnt an die altbekannte Sendung «Swiss Date» möchten wir nun mit «Swiss Hate» hasserfüllte Menschen zusammenbringen. Heute als Gast mit dabei: Renato Kaiser\n",
      "Output Tags (incorrect format): ['MEDIEN UND KOMMUNIKATION', 'GESCHICHTE']\n",
      "Real Tags: ['VOLKSKULTUR.']\n",
      "\n",
      "Text: Gaddafi feiert\n",
      "In Libyen findet die Feier zum 40-jährigen Jubiläum der Machtergreifung Gaddafis statt. Begangen wird die Revolution des 1. Septembers 1969. Der Anlass fiel äusserst pompös aus.\n",
      "Output Tags (incorrect format): ['GESCHICHTE', 'STAAT UND POLITIK']\n",
      "Real Tags: ['STAAT UND POLITIK.']\n",
      "\n",
      "Text: Reicht ein bisschen Frühenglisch?\n",
      "Kinder eignen sich eine Sprache einfacher an als Erwachsene: Im Hirn bauen sie schneller die dafür nötigen Vernetzungen auf. Deshalb lernen heute in vielen Kantonen Schüler Englisch bereits in der zweiten Klasse. Verändert sich im Hirn der Kinder tatsächlich etwas, wenn sie zweimal pro Woche in Englisch unterrichtet werden? Psychologen der Universität Zürich haben untersucht, was im Hirn der Kinder geschieht, wenn sie Frühenglisch büffeln.\n",
      "Output Tags (correct format): ['BILDUNG.', 'WISSENSCHAFT.']\n",
      "Real Tags: ['BILDUNG.', 'WISSENSCHAFT.']\n",
      "\n",
      "Text: Alessio Lindenmann lässt die High Society abheben\n",
      "Jedes Jahr können sich Lehrlinge aus den Kantonen Basel-Stadt und Basel-Landschaft für den Titel «Lehrling des Jahres» bewerben. Die zehn Besten stellen sich einer Fachjury und per Online-Voting der Öffentlichkeit. Im November wurde der 26-jährige Polymechaniker Alessio Lindenmann mit dem Titel ausgezeichnet. Polymechaniker sorgt bei Jet Aviation dafür, dass die Reichen, Schönen und Erfolgreichen nicht auf dem Boden bleiben.\n",
      "Output Tags (correct format): ['ARBEIT.', 'GESCHICHTE.']\n",
      "Real Tags: ['BILDUNG.', 'PORTRÄT.']\n",
      "\n",
      "Error processing text:expected string or bytes-like object\n",
      "None\n",
      "Text: SRF Börse vom 22.08.2016\n",
      "Amerika gibt China überraschend grünes Licht für Schweizer Grossübernahme. Der Aktienkurs von Syngenta schiesst rund 11 Prozent in die Höhe. Gut für Anleger, schlecht für Bauern: Die Umpflügung der Agrochemie-Branche in monopolistische Strukturen geht also weiter. SMI: +0.4 Prozent.\n",
      "Output Tags (incorrect format): ['WIRTSCHAFT', 'LANDWIRTSCHAFT']\n",
      "Real Tags: ['INDUSTRIE.', 'WIRTSCHAFT.']\n",
      "\n",
      "Text: Endlich Schnee\n",
      "Pünktlich zum Sportferien-Start in vielen Kantonen hat es in den vergangenen Tagen in den Bergen kräftig geschneit. Nach einem miserablen Saisonstart hoffen die Bergbahnen nun endlich auf klingelnde Kassen. Doch selbst wenn – viele Betreiber sprechen bestenfalls von Schadensbegrenzung.\n",
      "Output Tags (incorrect format): ['FREIZEIT', 'WIRTSCHAFT']\n",
      "Real Tags: ['UMWELT.', 'VERKEHR.']\n",
      "\n",
      "Text: «Ich oder Du»: Mister Handicap Michael Fässler und Schwester Ramona\n",
      "\n",
      "Output Tags (incorrect format): ['PORTRÄT', 'MENSCH']\n",
      "Real Tags: ['MEDIEN UND KOMMUNIKATION.']\n",
      "\n",
      "Text: Heftige Ausschreitungen in Griechenland\n",
      "Während der Demonstrationen in Griechenland sind drei Menschen ums Leben gekommen. Einschätzungen von Alexandra Gubser, SF-Sonderkorrespondentin, Athen.\n",
      "Output Tags (incorrect format): ['STAAT UND POLITIK', 'SOZIALES']\n",
      "Real Tags: ['ARBEIT.', 'SOZIALES.', 'STAAT UND POLITIK.']\n",
      "\n",
      "Text: Gewinne bei Axpo bleiben aus\n",
      "Zum dritten Mal in Folge bricht der Gewinn des Schweizer Stromversorgers Axpo ein. Die Hauptgründe für den Gewinneinbruch sieht die Axpo vor allem in der Stärke des Frankens gegenüber dem Euro.\n",
      "Output Tags (incorrect format): ['ENERGIE', 'WIRTSCHAFT']\n",
      "Real Tags: ['ENERGIE.', 'WIRTSCHAFT.']\n",
      "\n",
      "Text: SRF Börse vom 07.09.2020\n",
      "Die Burkhalter Gruppe ist auf ihre Elektro-Installateure, Automatiker und weiteren Fachkräfte angewiesen. Um diese bei der Stange zu halten, habe Burkhalter ihnen auch während der Corona-bedingten Kurzarbeit 100 Prozent des Lohnes gezahlt, sagt Konzernchef Marco Syfrig. SMI +1.4%\n",
      "Output Tags (incorrect format): [\"ARBEIT.\", \"GESCHICHTE.\"]\n",
      "Real Tags: ['GESUNDHEIT.', 'TECHNIK.']\n",
      "\n",
      "Text: Nati schrammt an der Sensation vorbei\n",
      "Die verjüngte Schweizer Nationalmannschaft hat auch ihr 2. EM-Quali-Spiel verloren. Beim 22:23 gegen Europameister Deutschland schnupperten die Schützlinge von Trainer Michael Suter aber bis zuletzt am ganz grossen Coup.\n",
      "Output Tags (incorrect format): ['SPORT', 'SENSATION']\n",
      "Real Tags: ['SENSATION.']\n",
      "\n",
      "Text: Sion renoviert seine Weinbau-Terrassen\n",
      "\n",
      "Output Tags (incorrect format): ['LANDWIRTSCHAFT', 'UMWELT']\n",
      "Real Tags: ['LANDWIRTSCHAFT.']\n",
      "\n",
      "Text: Herz und Portemonnaie für Solarenergie\n",
      "Der Bauunternehmer Markus Affentranger hat sich vorgenommen, in den nächsten Jahren seinen gesamten Maschinenpark mit Strom statt mit Diesel zu betreiben. Auf Solarenergie setzt er aus Überzeugung. Aber nicht nur, er ist sich sicher, dass es sich auch auszahlen wird.\n",
      "Output Tags (incorrect format): ['ENERGIE', 'WIRTSCHAFT']\n",
      "Real Tags: ['ENERGIE.', 'WIRTSCHAFT.']\n",
      "\n",
      "Text: Strenger Säckelmeister\n",
      "Bundesrat Ueli Maurer hat keine einfache Aufgabe in der Corona-Krise. Landauf, landab wird der oberste Säckelmeister der Nation aufgerufen, er solle endlich die Schatullen öffnen und mehr Geld in die Corona-Hilfe pumpen. Doch der Finanzminister gefällt sich wenig in der Rolle des Krisen-Retters um jeden Preis. Die widersprüchliche Rolle des Finanzministers in der Pandemie.\n",
      "Output Tags (incorrect format): ['STAAT UND POLITIK', 'PORTRÄT']\n",
      "Real Tags: ['GESUNDHEIT.', 'STAAT UND POLITIK.', 'WIRTSCHAFT.']\n",
      "\n",
      "631.7808272838593\n"
     ]
    }
   ],
   "source": [
    "from tqdm.notebook import tqdm\n",
    "prompt_2_accuracy = []\n",
    "prompt_2_targets = []\n",
    "prompt_2_outputs = []\n",
    "\n",
    "import time\n",
    "start = time.time()\n",
    "\n",
    "counter = 0\n",
    "for test_text in tqdm(df_sample_['Web-Text']):\n",
    "    \n",
    "    prompt = f\"\"\"\n",
    "                Angesichts der folgenden beschreibenden Webtexte, die verschiedene Arten von Videos beschreiben, die von Schweizer Radio und Fernsehen veröffentlicht werden, klassifizieren Sie bitte jeden Ausschnitt, indem Sie bis zu zwei relevante Tags aus der bereitgestellten Tag-Liste zuweisen. Wählen Sie ein Tag, wenn es eindeutig am relevantesten ist, oder zwei Tags, wenn zwei Themen gleichermaßen prominent sind. Die Tags sollten die Hauptthemen des Textes genau widerspiegeln und zum Portfolio eines öffentlich-rechtlichen Senders passen.\n",
    "\n",
    "                Die Tags und ihre zugehörigen Themen sind in der folgenden Tabelle beschrieben:\n",
    "\n",
    "                | Tag | Beschreibung |\n",
    "                |:---|:------------|\n",
    "                | ARBEIT. | Was sich auf den Arbeitsbereich aus Sicht von Arbeitnehmern und Gewerkschaften bezieht (nicht Politik). Beinhaltet Arbeitsbedingungen, Arbeitskonflikte, Arbeitslosigkeit, Arbeitsmarkt, Karrieren und Pensionierung. Schließt Arbeitgeber, Unternehmen und bildungsbezogene Themen aus. |\n",
    "                | BILDUNG. | Öffentliche und elterliche Erziehung bis zur Erfüllung der Schulpflicht, einschließlich aller Schulstufen, Hochschulbildung und betriebsinterne Weiterbildung. Schließt reine Freizeitbildung wie Gartenbaukurse aus. |\n",
    "                | ENERGIE. | Bezieht sich auf Energieträger, Ressourcen, Produktion, Verteilung, Verbrauch und energiepolitische Themen (nicht Politik). Schließt Umweltschäden und Atomwaffen aus. |\n",
    "                | FREIZEIT. | Nicht-professionelle Freizeitaktivitäten, Breitensport. Schließt arbeitsbezogene Bildung und alle professionellen Sportarten aus. |\n",
    "                | GESCHICHTE. | Historische Ereignisse und Epochen. Schließt Geschichtswissenschaft und Baugeschichte aus. |\n",
    "                | GESUNDHEIT. | Themen rund um Gesundheit und Krankheit; Geburt; Patientenrechte (nicht Justiz); Rettungsdienste (nicht Verkehr); medizinische Forschung (nicht Wissenschaft); Sportmedizin (nicht Sport). Schließt Sterben aus. |\n",
    "                | GEWERBE. | Kleine und mittlere Unternehmen ohne klare Abgrenzung zur Industrie, basierend auf der Allgemeinen Systematik der Wirtschaftszweige (NOGA). Schließt Industrie und Kultur aus. |\n",
    "                | INDUSTRIE. | Industrielle Produktion ohne klare Abgrenzung zum Handel, basierend auf NOGA. Schließt alle arbeitsbezogenen Themen aus. |\n",
    "                | JUSTIZ. | Rechtliche Angelegenheiten: Justiz, Gesetze, Rechtsprechung, internationales Recht (nicht Politik). Schließt Verbrechen, Polizei, Militärjustiz aus. |\n",
    "                | KULTUR. | Kulturelle Aktivitäten und künstlerische Schöpfung; Kino, Bibliotheken, Archive (nicht Medien). Schließt Medien, Volkskultur aus. |\n",
    "                | LANDWIRTSCHAFT. | Landwirtschaftliche Produktion; Fischerei; Forstwirtschaft; Jagd; Pflanzen; Tiere; Veterinärmedizin. Schließt Umweltprobleme und den Vertrieb/Verkauf landwirtschaftlicher Produkte aus. |\n",
    "                | MEDIEN UND KOMMUNIKATION. | Presse, Bücher, TV, Radio, Video, neue (soziale) Medien; Nachrichtenagenturen (nicht Wirtschaft); Post (nicht Wirtschaft, nicht Staat). Schließt Kultur, Literatur, Musik aus. |\n",
    "                | MENSCH. | Soziale Gruppen nach Alter, Geschlecht, Status oder Orientierung; Minderheiten; Wohnen. Schließt Sozialwesen, politische Gruppen, religiöse Gruppen, Kinder und Jugendliche aus. |\n",
    "                | MILITÄR. | Militärbezogene Themen; Militärjustiz (nicht Justiz); Dienstpflicht (nicht Justiz); Zivildienst (nicht Staat). Schließt Militärunfälle, paramilitärische Gruppen aus. |\n",
    "                | PORTRÄT. | Porträts in Bezug auf Geografie, Körperschaften, Personen, Themen. |\n",
    "                | RELIGION. | Alle Religionen und religiösen Themen. |\n",
    "                | SENSATION. | Themen mit medialem „Sensationswert“, wie spektakuläre Unfälle, Naturkatastrophen oder Aktivitäten, die im Guinness-Buch stehen könnten. Auch Skandale oder Berichte über berühmte Personen (Boulevard). |\n",
    "                | SOZIALES. | Sozialarbeit und Institutionen; Sozialpolitik (nicht Politik). Schließt politische Gruppen, religiöse Gruppen, Kinder und Jugendliche aus. |\n",
    "                | STAAT UND POLITIK. | Sehr allgemeine politische Themen: Weltpolitik, Innen- und Außenpolitik; staatliche Institutionen, Organe und Aktivitäten auf Bundes-, Kantons- und Gemeindeebene; Staatsbetriebe; Subventionen; Staatsformen. Schließt Verbrechen, Militär, Post, Energiepolitik, Kulturpolitik, Medienpolitik, Sozialpolitik, Verkehrspolitik, Wirtschaftspolitik, Bundesgericht, Raumplanung aus. |\n",
    "                | STRAFTAT. | Straftaten in allen Bereichen. Schließt Militärjustiz, politische Verbrechen und Spionage aus. |\n",
    "                | TECHNIK. | Technisch umgesetzte Ergebnisse naturwissenschaftlicher Forschung; Informatik-Forschung; Ingenieurwesen. |\n",
    "                | UMWELT. | Umweltthemen in Bezug auf Luft, Wasser und Boden; Heimatschutz; Raumplanung. Schließt Energiepolitik und umweltbezogene Verkehrsprobleme aus. |\n",
    "                | VERKEHR. | Verkehrsmittel und Verkehrsinfrastruktur, privat und öffentlich; Fußgänger. Schließt umweltbezogene Verkehrsprobleme, Verkehrspolitik und Verkehrsdelikte aus. |\n",
    "                | VOLKSKULTUR. | Volkskunde, Traditionen, Bräuche eines Landes oder einer Region: traditionelle Sportarten, Feste und Veranstaltungen im Jahreszyklus. Schließt private Veranstaltungen aus. |\n",
    "                | WIRTSCHAFT. | Wirtschaftliche Aktivitäten, Finanzmarkt, Unternehmen, Verbraucher basierend auf NOGA. Schließt Themen aus Industrie, Handel, Kultur und Landwirtschaft aus. |\n",
    "                | WISSENSCHAFT. | Was an Hochschulen gelehrt und erforscht wird, einschließlich Teilgebiete und Methoden; Grenzwissenschaften. Schließt technische Forschungsergebnisse und medizinische Forschung aus. |\n",
    "\n",
    "                Text zum Klassifizieren: '{test_text}'\n",
    "\n",
    "                Ihre Aufgabe ist es, den Ausschnitt zu lesen und die am besten passenden Tags zuzuweisen, die den Inhalt am besten widerspiegeln, unter Berücksichtigung ihrer Relevanz für den öffentlich-rechtlichen Rundfunk und die Informationen in der Tabelle. \n",
    "                Geben Sie nur die Tags als Python-Liste aus.\n",
    "            \"\"\"\n",
    "    \n",
    "    try:\n",
    "        response = client.chat.completions.create(\n",
    "            model=deployment_name,\n",
    "            messages=[\n",
    "                {\"role\": \"system\", \"content\": \"Sie sind ein hilfreicher Assistent, der dem Redaktionsteam des öffentlich-rechtlichen Rundfunks hilft, zentrale Themen aus beschreibenden Videotexten zu extrahieren.\"},\n",
    "                {\"role\": \"user\", \"content\": prompt}\n",
    "            ]\n",
    "        )\n",
    "    except Exception as e:\n",
    "        continue\n",
    "        print(f\"API Error: {test_text}, Error: {e}\")\n",
    "    \n",
    "     # Transfer ChatGPT output to One-Hot encoded list\n",
    "    try:\n",
    "        output_tags = response.choices[0].message.content\n",
    "        one_hot_encoded_tags = match_and_encode_tags(output_tags, label_names)\n",
    "        df_text = df[df['Web-Text'] == test_text].reset_index(drop=True)   \n",
    "    except Exception as e:\n",
    "        print(f\"Error processing text:{e}\")\n",
    "        print(response.choices[0].message.content)\n",
    "        continue\n",
    "    \n",
    "    prompt_2_outputs.append(one_hot_encoded_tags)\n",
    "    prompt_2_targets.append(df_text['Categories'][0])    \n",
    "    # Compute Accuracy on the fly\n",
    "    match_percent = sum(i==j for i,j in zip(df_text['Categories'][0],one_hot_encoded_tags))/len(one_hot_encoded_tags)\n",
    "    prompt_2_accuracy.append(match_percent)\n",
    "    \n",
    "    # Print some of the Answers\n",
    "    if counter % 15 == 0:\n",
    "        # Show the Answer\n",
    "        visualisation_encodings(response, test_text, df_text)\n",
    "        \n",
    "    counter += 1\n",
    "    \n",
    "end = time.time()\n",
    "print(end - start)"
   ]
  },
  {
   "cell_type": "code",
   "execution_count": 38,
   "id": "8a0a3b95",
   "metadata": {},
   "outputs": [
    {
     "data": {
      "text/plain": [
       "0.9228187919463087"
      ]
     },
     "execution_count": 38,
     "metadata": {},
     "output_type": "execute_result"
    }
   ],
   "source": [
    "np.mean(prompt_2_accuracy)"
   ]
  },
  {
   "cell_type": "code",
   "execution_count": 39,
   "id": "d356e355",
   "metadata": {},
   "outputs": [
    {
     "data": {
      "text/plain": [
       "0.9228187919463087"
      ]
     },
     "execution_count": 39,
     "metadata": {},
     "output_type": "execute_result"
    }
   ],
   "source": [
    "hamming_accuracy(np.array(prompt_2_targets),np.array(prompt_2_outputs))"
   ]
  },
  {
   "cell_type": "code",
   "execution_count": null,
   "id": "b430f653",
   "metadata": {},
   "outputs": [],
   "source": [
    "from sklearn.metrics import f1_score\n"
   ]
  },
  {
   "cell_type": "code",
   "execution_count": 40,
   "id": "68319e59",
   "metadata": {},
   "outputs": [
    {
     "name": "stdout",
     "output_type": "stream",
     "text": [
      "                           precision    recall  f1-score   support\n",
      "\n",
      "                  ARBEIT.       0.27      0.58      0.37        12\n",
      "                 BILDUNG.       0.67      0.67      0.67         9\n",
      "                 ENERGIE.       1.00      0.68      0.81        19\n",
      "                FREIZEIT.       0.37      0.42      0.39        24\n",
      "              GESCHICHTE.       0.17      0.50      0.26        10\n",
      "              GESUNDHEIT.       0.79      0.61      0.69        36\n",
      "                 GEWERBE.       0.29      0.17      0.21        30\n",
      "               INDUSTRIE.       1.00      0.06      0.11        17\n",
      "                  JUSTIZ.       0.47      0.65      0.55        23\n",
      "                  KULTUR.       0.67      0.51      0.58        35\n",
      "          LANDWIRTSCHAFT.       0.77      0.40      0.53        25\n",
      "MEDIEN UND KOMMUNIKATION.       0.45      0.40      0.43        25\n",
      "                  MENSCH.       0.60      0.33      0.43        27\n",
      "                 MILITÄR.       0.82      0.47      0.60        19\n",
      "                 PORTRÄT.       0.32      0.52      0.39        29\n",
      "                RELIGION.       0.60      0.27      0.37        11\n",
      "               SENSATION.       0.44      0.27      0.33        26\n",
      "                SOZIALES.       0.50      0.08      0.14        25\n",
      "       STAAT UND POLITIK.       0.52      0.59      0.55        54\n",
      "                STRAFTAT.       0.40      0.08      0.13        25\n",
      "                 TECHNIK.       0.46      0.38      0.41        16\n",
      "                  UMWELT.       0.66      0.61      0.63        31\n",
      "                 VERKEHR.       0.53      0.47      0.50        17\n",
      "             VOLKSKULTUR.       1.00      0.09      0.17        11\n",
      "              WIRTSCHAFT.       0.66      0.57      0.61        44\n",
      "            WISSENSCHAFT.       0.75      0.35      0.48        17\n",
      "\n",
      "                micro avg       0.52      0.43      0.47       617\n",
      "                macro avg       0.58      0.41      0.44       617\n",
      "             weighted avg       0.58      0.43      0.46       617\n",
      "              samples avg       0.54      0.46      0.47       617\n",
      "\n"
     ]
    },
    {
     "name": "stderr",
     "output_type": "stream",
     "text": [
      "C:\\Program Files\\Anaconda3\\lib\\site-packages\\sklearn\\metrics\\_classification.py:1344: UndefinedMetricWarning: Precision and F-score are ill-defined and being set to 0.0 in samples with no predicted labels. Use `zero_division` parameter to control this behavior.\n",
      "  _warn_prf(average, modifier, msg_start, len(result))\n"
     ]
    }
   ],
   "source": [
    "from sklearn.metrics import classification_report\n",
    "\n",
    "report = classification_report(prompt_2_targets, prompt_2_outputs, target_names=label_names)\n",
    "print(report)"
   ]
  },
  {
   "cell_type": "code",
   "execution_count": 77,
   "id": "78e32ddd",
   "metadata": {},
   "outputs": [
    {
     "name": "stderr",
     "output_type": "stream",
     "text": [
      "C:\\Program Files\\Anaconda3\\lib\\site-packages\\sklearn\\metrics\\_classification.py:1344: UndefinedMetricWarning: Precision and F-score are ill-defined and being set to 0.0 in samples with no predicted labels. Use `zero_division` parameter to control this behavior.\n",
      "  _warn_prf(average, modifier, msg_start, len(result))\n"
     ]
    },
    {
     "data": {
      "text/plain": [
       "[0.5380313199105146,\n",
       " 0.4600111856823266,\n",
       " 0.47035794183445195,\n",
       " None,\n",
       " 0.9228187919463087]"
      ]
     },
     "execution_count": 77,
     "metadata": {},
     "output_type": "execute_result"
    }
   ],
   "source": [
    "results_2 = list(precision_recall_fscore_support(prompt_2_targets, prompt_2_outputs, average='samples'))\n",
    "results_2.append(hamming_accuracy(np.array(prompt_2_targets),np.array(prompt_2_outputs)))\n",
    "results_2"
   ]
  },
  {
   "cell_type": "markdown",
   "id": "53fd539a",
   "metadata": {},
   "source": [
    "## Level 2 Keywords\n",
    "\n"
   ]
  },
  {
   "cell_type": "code",
   "execution_count": 41,
   "id": "b48a13d2",
   "metadata": {},
   "outputs": [
    {
     "data": {
      "application/vnd.jupyter.widget-view+json": {
       "model_id": "",
       "version_major": 2,
       "version_minor": 0
      },
      "text/plain": [
       "  0%|          | 0/300 [00:00<?, ?it/s]"
      ]
     },
     "metadata": {},
     "output_type": "display_data"
    },
    {
     "name": "stdout",
     "output_type": "stream",
     "text": [
      "Text: Türkei stimmt für Schwedens Nato-Beitritt\n",
      "Das türkische Parlament hat den Beitritt Schwedens in die Nato gebilligt. Nun muss Präsident Erdogan das sogenannte Beitrittsprotokoll noch unterschreiben, was als so gut wie sicher gilt.\n",
      "Output Tags (incorrect format): ['STAAT UND POLITIK', 'MILITÄR']\n",
      "Real Tags: ['MILITÄR.']\n",
      "\n",
      "Text: Wie funktionieren Wetten?\n",
      "In einem Beitrag werden die diversen möglichen Wetten aufgezeigt, die auf jedes Spiel eingegangen werden können. Zudem wird klar, dass man auf irgendein Spiel setzen kann  ganz egal, wo es stattfindet. Roger Hegi betont, dass Wetten auf die manipulierten Schweizer Spiele vor allem in Asien platziert wurden. Markus Stähli begründet, wieso alle Thuner Spieler eine Erklärung unterschreiben mussten, dass sie nicht betrogen haben.\n",
      "Output Tags (correct format): ['FREIZEIT.', 'STRAFTAT.']\n",
      "Real Tags: ['FREIZEIT.', 'MEDIEN UND KOMMUNIKATION.', 'STRAFTAT.']\n",
      "\n",
      "Text: Langlauf und Tourenskifahren sind die besten Kalorien-Killer\n",
      "Die Hauptmotivation von Wintersportlern ist wohl nicht das Abnehmen. Trotzdem können Kalorien auch beim Schneesport vernichtet werden. Vorausgesetzt man wählt die richtige Disziplin und füllt den Speicher nicht gleich wieder mit deftigem Essen und alkoholischen Getränken.\n",
      "Output Tags (correct format): ['FREIZEIT.', 'GESUNDHEIT.']\n",
      "Real Tags: ['FREIZEIT.', 'GESUNDHEIT.']\n",
      "\n",
      "Text: Der Promi-Uhrmacher von Island\n",
      "Dieser Tage findet in Basel die Messe für Uhren und Schmuck statt, die Baselworld. Ein Stelldichein der grossen und teuren Marken, die Kleinen bleiben aussen vor. Etwa Gilbert Guðjónsson: Der 65-Jährige fertigt seine Uhren in Island auf einer Fläche von gerade einmal vier Quadratmetern. Zu seinen Kunden zählen aber Filmgrössen wie Tom Cruise und Quentin Tarantino.\n",
      "Output Tags (correct format): ['KULTUR.', 'PORTRÄT.']\n",
      "Real Tags: ['INDUSTRIE.', 'PORTRÄT.']\n",
      "\n",
      "Text: FOKUS: Kampf um die Asylgesetzesrevision\n",
      "Die Präsidenten von SP, FDP und CVP haben heute in Begleitung der Medien das Testzentrum Zürich besichtigt. Als Befürworter der Asylgesetzesrevision haben sie die Gelegenheit genutzt, die Vorzüge des neuen Verfahrens zu loben. Nicht dabei war der SVP-Präsident - seine Partei lehnt die Asylgesetzesrevision ab.\n",
      "Output Tags (incorrect format): ['STAAT UND POLITIK', 'MENSCH']\n",
      "Real Tags: ['MENSCH.', 'STAAT UND POLITIK.']\n",
      "\n",
      "Text: Türkischer Abstimmungskampf in der Schweiz\n",
      "Der türkische Aussenminister Cavusoglu hat sich für einen Besuch in der Schweiz angemeldet. Er will auch bei den Schweiz-Türken für die Verfassungsreform werben, die Präsident Erdogan mehr Macht geben soll.\n",
      "Output Tags (correct format): ['STAAT UND POLITIK.']\n",
      "Real Tags: ['JUSTIZ.', 'STAAT UND POLITIK.']\n",
      "\n",
      "Text: Swiss Hate: Shaming mit Renato Kaiser | Advents-Special\n",
      "Wir sprechen über Shaming – etwas, das zur Zeit in der Schweiz rege betrieben wird. So sehr, dass wir eine neue Fernsehshow ins Leben gerufen haben. Angelehnt an die altbekannte Sendung «Swiss Date» möchten wir nun mit «Swiss Hate» hasserfüllte Menschen zusammenbringen. Heute als Gast mit dabei: Renato Kaiser\n",
      "Output Tags (correct format): ['MEDIEN UND KOMMUNIKATION.', 'GESCHICHTE.']\n",
      "Real Tags: ['VOLKSKULTUR.']\n",
      "\n",
      "Text: Gaddafi feiert\n",
      "In Libyen findet die Feier zum 40-jährigen Jubiläum der Machtergreifung Gaddafis statt. Begangen wird die Revolution des 1. Septembers 1969. Der Anlass fiel äusserst pompös aus.\n",
      "Output Tags (incorrect format): ['GESCHICHTE']\n",
      "Real Tags: ['STAAT UND POLITIK.']\n",
      "\n",
      "Text: Reicht ein bisschen Frühenglisch?\n",
      "Kinder eignen sich eine Sprache einfacher an als Erwachsene: Im Hirn bauen sie schneller die dafür nötigen Vernetzungen auf. Deshalb lernen heute in vielen Kantonen Schüler Englisch bereits in der zweiten Klasse. Verändert sich im Hirn der Kinder tatsächlich etwas, wenn sie zweimal pro Woche in Englisch unterrichtet werden? Psychologen der Universität Zürich haben untersucht, was im Hirn der Kinder geschieht, wenn sie Frühenglisch büffeln.\n",
      "Output Tags (correct format): ['BILDUNG.', 'WISSENSCHAFT.']\n",
      "Real Tags: ['BILDUNG.', 'WISSENSCHAFT.']\n",
      "\n",
      "Text: Alessio Lindenmann lässt die High Society abheben\n",
      "Jedes Jahr können sich Lehrlinge aus den Kantonen Basel-Stadt und Basel-Landschaft für den Titel «Lehrling des Jahres» bewerben. Die zehn Besten stellen sich einer Fachjury und per Online-Voting der Öffentlichkeit. Im November wurde der 26-jährige Polymechaniker Alessio Lindenmann mit dem Titel ausgezeichnet. Polymechaniker sorgt bei Jet Aviation dafür, dass die Reichen, Schönen und Erfolgreichen nicht auf dem Boden bleiben.\n",
      "Output Tags (correct format): ['BILDUNG.', 'GEWERBE.']\n",
      "Real Tags: ['BILDUNG.', 'PORTRÄT.']\n",
      "\n",
      "Text: IKRK-Chef Maurer unterwegs in der Ukraine\n",
      "Mit fast 50 Millionen Franken engagiert sich das Internationale Komitee vom Roten Kreuz (IKRK) derzeit in der Ukraine. Und es soll noch mehr werden. Denn die humanitäre Lage der Menschen im Konfliktgebiet selber, aber auch für die hunderttausenden von Vertriebenen, ist sehr angespannt. IKRK-Präsident Peter Maurer ist in diesen Tagen zwischen Moskau und Kiew unterwegs.\n",
      "Output Tags (incorrect format): ['STAAT UND POLITIK', 'HUMANITÄRE HILFE']\n",
      "Real Tags: ['SOZIALES.', 'STAAT UND POLITIK.']\n",
      "\n",
      "Text: Freiburg: Sprechstunde von Studenten für Studenten\n",
      "Eine Gesundheitssprechstunde für 15 Franken: Dies gibt es an der Hochschule für Gesundheit in Freiburg. Unter fachmännischer Aufsicht bieten Studierende diese Dienstleistung anderen Studierenden an.\n",
      "Output Tags (correct format): ['BILDUNG.', 'GESUNDHEIT.']\n",
      "Real Tags: ['BILDUNG.', 'GESUNDHEIT.']\n",
      "\n",
      "Text: Nazi-Raubkunst: Das Zittern der Schweizer Museen\n",
      "Diese Woche eröffnet das Kunstmuseum Bern die Gurlitt-Ausstellung. Dabei setzt Bern neue Massstäbe bezüglich der Definition von Nazi-Raubkunst: Schweizer Museen sollen die Bilder zurückgeben, welche ihre jüdischen Besitzer wegen der Nazi-Verfolgung verloren hatten. Das bringt andere Schweizer Kunstmuseen in Bedrängnis.\n",
      "Output Tags (correct format): ['KULTUR.', 'GESCHICHTE.']\n",
      "Real Tags: ['GESCHICHTE.', 'KULTUR.']\n",
      "\n",
      "Text: Der Schnee vermiest das Geschäft\n",
      "\n",
      "Output Tags (incorrect format): [\"WIRTSCHAFT.\", \"UMWELT.\"]\n",
      "Real Tags: ['GEWERBE.', 'UMWELT.']\n",
      "\n",
      "Text: Günstigere Prämien für Gesundheitsbewusste (Teil 1)\n",
      "Sportliche und gesundheitsbewusste Menschen sollen weniger für ihre Krankenkassenprämien zahlen müssen – diese Vision gibt es schon länger. Um ein solches Bonus-Malus-System in der Praxis umsetzen zu können, sollen Gesundheitsdaten via App gleich der Krankenkasse weitergeleitet werden.\n",
      "Output Tags (incorrect format): ['GESUNDHEIT', 'TECHNIK']\n",
      "Real Tags: ['GESUNDHEIT.', 'MEDIEN UND KOMMUNIKATION.', 'TECHNIK.']\n",
      "\n",
      "Text: Russland erhöht Drohkulisse gegen den Westen\n",
      "Der Angriffskrieg Russlands gegen die Ukraine läuft nicht gut. Nach gut 400 Kriegstagen steckt der Angriff fest, der ukrainische Widerstand ist dank westlicher Unterstützung ungebrochen. Das hat die russische Führung veranlasst, die atomare Drohkulisse gegenüber dem Westen nochmals deutlich auszubauen – die UNO besorgt. Einschätzungen von SRF-Korrespondent Christof Franzen.\n",
      "Output Tags (correct format): ['MILITÄR.', 'STAAT UND POLITIK.']\n",
      "Real Tags: ['MILITÄR.', 'STAAT UND POLITIK.']\n",
      "\n",
      "Text: Bundesrat gegen Mindestlohn\n",
      "\n",
      "Output Tags (correct format): ['ARBEIT.']\n",
      "Real Tags: ['ARBEIT.', 'STAAT UND POLITIK.']\n",
      "\n",
      "Text: Ueli Schmezer verlässt SRF\n",
      "Seit 25 Jahren gibt Ueli Schmezer dem «Kassensturz» ein Gesicht. Der Moderator verlässt das Unternehmen auf Eigeninitiative per Ende Januar 2022.\n",
      "Output Tags (correct format): ['MEDIEN UND KOMMUNIKATION.']\n",
      "Real Tags: ['MEDIEN UND KOMMUNIKATION.', 'PORTRÄT.']\n",
      "\n",
      "Text: Die ersten Franz-Carl-Weber-Filialen verschwinden\n",
      "Franz Carl Weber weckt bei vielen Erinnerungen an die Kindheit. Nun werden die ersten Spielwarenläden zu Müller-Filialen, die hauptsächlich Drogerieprodukte verkaufen.\n",
      "Output Tags (incorrect format): ['GESCHICHTE', 'INDUSTRIE']\n",
      "Real Tags: ['FREIZEIT.', 'GEWERBE.', 'WIRTSCHAFT.']\n",
      "\n",
      "Text: Yvonne Bischof, SG (Staffel 4, Folge 3)\n",
      "Für das dritte Landfrauenessen reisen die sieben Protagonistinnen ins Toggenburg, nach Stein SG.\n",
      "Output Tags (incorrect format): ['PORTRÄT', 'LANDWIRTSCHAFT']\n",
      "Real Tags: ['GEWERBE.', 'LANDWIRTSCHAFT.']\n",
      "\n",
      "633.9591128826141\n"
     ]
    }
   ],
   "source": [
    "from tqdm.notebook import tqdm\n",
    "prompt_3_accuracy = []\n",
    "prompt_3_targets = []\n",
    "prompt_3_outputs = []\n",
    "\n",
    "import time\n",
    "start = time.time()\n",
    "\n",
    "counter = 0\n",
    "for test_text in tqdm(df_sample_['Web-Text']):\n",
    "    \n",
    "    prompt = f\"\"\"\n",
    "                Angesichts der folgenden beschreibenden Inhalte aus verschiedenen Videos, klassifizieren Sie bitte jeden Ausschnitt, indem Sie bis zu zwei relevante Tags aus der bereitgestellten Tag-Liste zuweisen. Wählen Sie ein Tag, wenn es eindeutig am relevantesten ist, oder zwei Tags, wenn zwei Themen gleichermaßen prominent sind. Die Tags sollten die Hauptthemen des Textes genau widerspiegeln und zum Portfolio eines öffentlich-rechtlichen Senders passen.\n",
    "\n",
    "                Die Tags und ihre zugehörigen Schlüsselwörter sind in der folgenden Tabelle beschrieben:\n",
    "\n",
    "                | Tag | Schlüsselwörter |\n",
    "                |:----|:----------------|\n",
    "                | ARBEIT. | Arbeit, Arbeitnehmer, Arbeitsbedingung, Arbeitsrecht, Arbeitskonflikt, Arbeitslosigkeit, Arbeitsmarkt, Arbeitsvermittlung, Beruf, Einkommen, Gastarbeiter, Heimarbeit, Kinderarbeit, Karriere, Pensionierung, Schwarzarbeit, Sozialpartnerschaft |\n",
    "                | BILDUNG. | Berufsbildung, Bildung, Eltern, Erwachsenenbildung, Erziehung, Hochschule, Höhere Fachschule, Fachmittelschule, Gymnasium, Kindergarten, Lehrer, Heil- und Sonderpädagogik, Primarschule, Privatschule, Schule, Schüler, Schulinhalt, Schulreform, Sekundarschule, Stipendium, Sportschule, Studierende |\n",
    "                | ENERGIE. | Atomenergie, Brennstoff, Elektrizität, Energie, Energieverbrauch, Energietransport, Energiespeicher, Energiepolitik, Erneuerbare Energie, Fossile Energie, Kraftwerk, Staudamm |\n",
    "                | FREIZEIT. | Alpinismus, Badeanstalt, Breitensport, Denksport, Ferien, Freizeit, Freizeitgarten, Freizeittanz, Geselligkeit, Glücksspiel, Hobby, Jahrmarkt, Nachtleben, Spielen, Sportanlage, Sportgerät, Tourismus, Verein, Wandern |\n",
    "                | GESCHICHTE. | Geschichte, Geschichte-Früheste, Geschichte-Alte, Geschichte-Mittelalter, Geschichte-Neuere, Geschichte-Neueste |\n",
    "                | GESUNDHEIT. | Alternativmedizin, Arzt, Drogenpolitik, Ernährung, Gesundheit, Gesundheitswesen, Hygiene, Krankenversicherung, Krankheit, Kur, Medikament, Medizin, Medizinische Forschung, Patientenrecht, Psychiatrie, Rettungswesen, Schwangerschaft, Sucht, Zahnmedizin |\n",
    "                | GEWERBE. | Autogewerbe, Baugewerbe, Detailhandel, Dienstleistung, Gartenbau, Gastgewerbe, Getränk, Gewerbe, Handwerk, Haustechnik, Immobilienhandel, Kochen, Lebensmittelbranche, Logistik, Möbelbranche, Reiseunternehmen, Sicherheitsbranche |\n",
    "                | INDUSTRIE. | Autoindustrie, Bergbau, Chemieindustrie, Computerindustrie, Druckindustrie, Flugzeugindustrie, Industrie, Industriestandort, Maschinenindustrie, Metallindustrie, Papierindustrie, Pharmaindustrie, Rohstoff, Rüstungsindustrie, Schiffsbau, Schuhindustrie, Sportartikelindustrie, Tabakindustrie, Textilindustrie, Uhrenindustrie, Unterhaltungselektronik |\n",
    "                | JUSTIZ. | Bürgerrecht, Eigentumsrecht, Gericht, Gesetz, Internationales Recht, Justiz, Meinungsfreiheit, Menschenrecht, Ombudsstelle, Persönlichkeitsschutz, Personendokument, Strafrecht, Strafverfahren, Strafvollzug, Strafvollzugsanstalt, Urheberrecht, Wettbewerbsrecht, Zivilrecht |\n",
    "                | KULTUR. | Architektur, Ausstellung, Denkmal, Design, Film, Fotografie, Gedächtnisinstitution, Kino, Kultur, Kulturpolitik, Kulturförderung, Kulturzentrum, Kunst, Literatur, Mode, Musik, Sprache und Schrift, Tanz, Theater, Unterhaltungsbranche |\n",
    "                | LANDWIRTSCHAFT. | Agrarpolitik, Berglandwirtschaft, Biologische Landwirtschaft, Fischerei, Fleischproduktion, Forstwirtschaft, Jagd, Landwirtschaft, Landwirtschaftsprodukt, Milch, Nutzpflanze, Tierhaltung, Veterinärmedizin, Weinbau |\n",
    "                | MEDIEN UND KOMMUNIKATION. | Fernsehen, Internet, Journalismus, Medien, Medien und Kommunikation, Medien- und Multimedia-Unternehmen, Medienpolitik, Nachrichtenagentur, Post, Presse, Radio, Satellitenkommunikation, Telekommunikation, Verlag, Video, Zensur |\n",
    "                | MENSCH. | Alltag, Alter, Asylpolitik, Ausländer, Auslandschweizer, Behinderung, Bevölkerung, Diskriminierung, Ehe, Ethnie, Familie, Flüchtling, Frau, Frauenaktivität, Gesellschaftsform, Gesellschaftsfragen, Grenzgänger, Haushalt, Jugend, Kind, Konkubinat, Liebe, Mann, Mensch, Migration, Minderheit, Randständige, Seelisches, Sexualität, Sterben, Verhalten, Wohnen |\n",
    "                | MILITÄR. | Internationales Militärbündnis, Kriegsvorsorge, Militär, Militäranlage, Militärausgaben, Militärdienst, Militärjustiz, Militärschau, Rüstung, Schweizergarde, Truppengattung, Truppenstationierung, Waffe, Militär, Waffe, Privat, Zivildienst, Zivilschutz |\n",
    "                | PORTRÄT. | Porträt Geografie, Porträt Körperschaften, Porträt Personen, Porträt Thema |\n",
    "                | RELIGION. | Christentum, Christliche Kirche, Glaube, Gott, Mission, Nichtchristliche Religion, Ökumene, Religiöse Schriften, Religiöser Fundamentalismus, Religiöse Sondergemeinschaft, Religion, Spiritualität |\n",
    "                | SENSATION. | Affäre, Auszeichnung, Brand, Erfindung, Expedition, Explosion, Kuriosa, Prominenz, Sensation, Showbusiness, Unfall |\n",
    "                | SOZIALES. | Altersvorsorge, Armut, Demoskopie, Feier, Heim, Hilfswerk, Humanitäre Hilfe, Lebensstandard, Reichtum, Sozialarbeit, Soziale Bewegung, Soziales, Sozialhilfe, Sozialpolitik, Sozialversicherung, Protest, Vormundschaft, Zukunft |\n",
    "                | STAAT UND POLITIK. | Abstimmung, Amtsausübung, Aussenpolitik, Bund, Europäische Integration, Feuerwehr, Finanzen, Frieden, Gemeinde, Gewaltentrennung, Gleichstellung, Grenze, Heimat, Ideologie, Initiative, Innenpolitik, Internationale Organisation, Kanton, Krieg, Landesausstellung, Lobbyismus, Mass, Neutralität, Ost-West, Parlament, Politische Gruppierung, Polizei, Referendum, Reformprozess, Regierung, Regionalismus, Siedlungspolitik, Staat und Politik, Staatsbetrieb, Staatsfeier, Staatsform, Staatssicherheit, Staatszugehörigkeit, Steuer, Subvention, Umsturz, Unruhen, Verfassung, Verwaltung, Wahl, Wiedergutmachung, Weltausstellung, Widerstandsbewegung, Zoll, Zwischenstaatlicher Konflikt |\n",
    "                | STRAFTAT. | Bombenalarm, Doping, Drogendelikt, Ehrendelikt, Eigentumsdelikt, Fälschung, Gewalt gegen Personen, Korruption, Kriminelle Vereinigung, Kriegsverbrechen, Politische Verbrechen, Sachbeschädigung, Sexualdelikt, Straftat, Spionage, Tötungsdelikt, Verbrechensverhütung, Verkehrsdelikt, Wirtschaftskriminalität |\n",
    "                | TECHNIK. | Automatisierung, Computertechnik, Digitalisierung, Elektrotechnik, Präzisionsinstrument, Raumfahrttechnik, Software, Technik, Überwachungstechnik, Werkstoff, Werkzeug |\n",
    "                | UMWELT. | Abfall, Atom, Atommüll, Boden, Gewässer, Giftstoff, Heimatschutz, Klima, Lärm, Landschaft, Luft, Naturkatastrophe, Raumplanung, Recycling, Schädlingsbekämpfung, Stadt, Tier, Umwelt, Umweltschutz, Wald, Wasser, Wetter |\n",
    "                | VERKEHR. | Alpentransversale, Auto, Autobahn, Bahn, Bahnanlage, Bus, Bergbahn, Brücke, E-Fahrzeug, Fahrplan, Fahrpreis, Fahrrad, Fluggesellschaft, Flughafen, Flugzeug, Fussgänger, Güterverkehr, Historische Verkehrsmittel, Luftverkehr, Motorrad, Nahverkehr, Öffentlicher Verkehr, Parken, Pendlen, Raumfahrt, Schifffahrt, Strassenbau und Unterhalt, Strassenverkehr, Tram, Tunnel, Verkehr, Verkehrsverband, Verkehrsverbund, Verkehrspolitik |\n",
    "                | VOLKSKULTUR. | Brauchtum, Brauchtumssport, Feiertag, Jahreszeit, Zunft |\n",
    "                | WIRTSCHAFT. | Arbeitgeber, Aussenwirtschaft, Betriebsänderung, Bodenmarkt, Finanzbranche, Geld, Gold, Handel, Investition, Kapitalmarkt, Kartell, Konjunktur, Konkurs, Konsum, Kredit, Preisniveau, Selbstständigkeit, Sponsoring, Unternehmen, Unternehmenskonzentration, Versicherungsbranche, Währung, Weltwirtschaft, Werbung, Wirtschaft, Wirtschaftspolitik, Wirtschaftsstatistik, Zentralbank |\n",
    "                | WISSENSCHAFT. | Archäologie, Astronomie, Biologie, Chemie, Ethnologie, Geisteswissenschaft, Genetik, Geografie, Geologie, Geschichtswissenschaft, Grenzwissenschaft, Informatik, Kartografie, Literaturwissenschaft, Mathematik, Meteorologie, Naturwissenschaft, Paläontologie, Philosophie, Physik, Politologie, Psychologie, Rechtswissenschaft, Religionswissenschaft, Soziologie, Sportwissenschaft, Sprachwissenschaft, Theologie, Wirtschaftswissenschaft, Wissenschaft |\n",
    "\n",
    "                Text zum Klassifizieren: '{test_text}'\n",
    "\n",
    "                Ihre Aufgabe ist es, den Ausschnitt zu lesen und die am besten passenden Tags zuzuweisen, die den Inhalt am besten widerspiegeln, unter Berücksichtigung ihrer Relevanz für den öffentlich-rechtlichen Rundfunk und die Informationen in der Tabelle. \n",
    "                Geben Sie nur die Tags als Python-Liste aus.\n",
    "            \"\"\"\n",
    "    \n",
    "    try:\n",
    "        response = client.chat.completions.create(\n",
    "            model=deployment_name,\n",
    "            messages=[\n",
    "                {\"role\": \"system\", \"content\": \"Sie sind ein hilfreicher Assistent, der dem Redaktionsteam des öffentlich-rechtlichen Rundfunks hilft, zentrale Themen aus beschreibenden Videotexten zu extrahieren.\"},\n",
    "                {\"role\": \"user\", \"content\": prompt}\n",
    "            ]\n",
    "        )\n",
    "    except Exception as e:\n",
    "        continue\n",
    "        print(f\"API Error: {test_text}, Error: {e}\")\n",
    "    \n",
    "     # Transfer ChatGPT output to One-Hot encoded list\n",
    "    try:\n",
    "        output_tags = response.choices[0].message.content\n",
    "        one_hot_encoded_tags = match_and_encode_tags(output_tags, label_names)\n",
    "        df_text = df[df['Web-Text'] == test_text].reset_index(drop=True)   \n",
    "    except Exception as e:\n",
    "        print(f\"Error processing text:{e}\")\n",
    "        print(response.choices[0].message.content)\n",
    "        continue\n",
    "    \n",
    "    prompt_3_outputs.append(one_hot_encoded_tags)\n",
    "    prompt_3_targets.append(df_text['Categories'][0])    \n",
    "    # Compute Accuracy on the fly\n",
    "    match_percent = sum(i==j for i,j in zip(df_text['Categories'][0],one_hot_encoded_tags))/len(one_hot_encoded_tags)\n",
    "    prompt_3_accuracy.append(match_percent)\n",
    "    \n",
    "    # Print some of the Answers\n",
    "    if counter % 15 == 0:\n",
    "        # Show the Answer\n",
    "        visualisation_encodings(response, test_text, df_text)\n",
    "    counter += 1\n",
    "    \n",
    "\n",
    "end = time.time()\n",
    "print(end - start)"
   ]
  },
  {
   "cell_type": "code",
   "execution_count": 42,
   "id": "c390647a",
   "metadata": {},
   "outputs": [
    {
     "data": {
      "text/plain": [
       "0.9319526627218936"
      ]
     },
     "execution_count": 42,
     "metadata": {},
     "output_type": "execute_result"
    }
   ],
   "source": [
    "np.mean(prompt_3_accuracy)"
   ]
  },
  {
   "cell_type": "code",
   "execution_count": 43,
   "id": "ac44533b",
   "metadata": {},
   "outputs": [
    {
     "data": {
      "text/plain": [
       "0.9319526627218935"
      ]
     },
     "execution_count": 43,
     "metadata": {},
     "output_type": "execute_result"
    }
   ],
   "source": [
    "hamming_accuracy(np.array(prompt_3_targets),np.array(prompt_3_outputs))"
   ]
  },
  {
   "cell_type": "code",
   "execution_count": 44,
   "id": "5ddfea77",
   "metadata": {},
   "outputs": [
    {
     "name": "stdout",
     "output_type": "stream",
     "text": [
      "                           precision    recall  f1-score   support\n",
      "\n",
      "                  ARBEIT.       0.30      0.58      0.40        12\n",
      "                 BILDUNG.       0.50      0.78      0.61         9\n",
      "                 ENERGIE.       1.00      0.74      0.85        19\n",
      "                FREIZEIT.       0.58      0.46      0.51        24\n",
      "              GESCHICHTE.       0.24      0.60      0.34        10\n",
      "              GESUNDHEIT.       0.88      0.64      0.74        36\n",
      "                 GEWERBE.       0.29      0.07      0.11        30\n",
      "               INDUSTRIE.       0.75      0.18      0.29        17\n",
      "                  JUSTIZ.       0.65      0.48      0.55        23\n",
      "                  KULTUR.       0.62      0.69      0.65        35\n",
      "          LANDWIRTSCHAFT.       0.91      0.40      0.56        25\n",
      "MEDIEN UND KOMMUNIKATION.       0.47      0.32      0.38        25\n",
      "                  MENSCH.       0.50      0.30      0.37        27\n",
      "                 MILITÄR.       0.90      0.47      0.62        19\n",
      "                 PORTRÄT.       0.43      0.34      0.38        29\n",
      "                RELIGION.       1.00      0.55      0.71        11\n",
      "               SENSATION.       0.75      0.23      0.35        26\n",
      "                SOZIALES.       0.67      0.08      0.14        26\n",
      "       STAAT UND POLITIK.       0.56      0.49      0.52        55\n",
      "                STRAFTAT.       0.56      0.20      0.29        25\n",
      "                 TECHNIK.       0.53      0.56      0.55        16\n",
      "                  UMWELT.       0.72      0.58      0.64        31\n",
      "                 VERKEHR.       0.42      0.47      0.44        17\n",
      "             VOLKSKULTUR.       1.00      0.27      0.43        11\n",
      "              WIRTSCHAFT.       0.69      0.70      0.70        44\n",
      "            WISSENSCHAFT.       0.60      0.35      0.44        17\n",
      "\n",
      "                micro avg       0.60      0.44      0.51       619\n",
      "                macro avg       0.64      0.44      0.48       619\n",
      "             weighted avg       0.63      0.44      0.49       619\n",
      "              samples avg       0.61      0.48      0.51       619\n",
      "\n"
     ]
    },
    {
     "name": "stderr",
     "output_type": "stream",
     "text": [
      "C:\\Program Files\\Anaconda3\\lib\\site-packages\\sklearn\\metrics\\_classification.py:1344: UndefinedMetricWarning: Precision and F-score are ill-defined and being set to 0.0 in samples with no predicted labels. Use `zero_division` parameter to control this behavior.\n",
      "  _warn_prf(average, modifier, msg_start, len(result))\n"
     ]
    }
   ],
   "source": [
    "from sklearn.metrics import classification_report\n",
    "\n",
    "report = classification_report(prompt_3_targets, prompt_3_outputs, target_names=label_names)\n",
    "print(report)"
   ]
  },
  {
   "cell_type": "code",
   "execution_count": 78,
   "id": "ffad5172",
   "metadata": {},
   "outputs": [
    {
     "name": "stderr",
     "output_type": "stream",
     "text": [
      "C:\\Program Files\\Anaconda3\\lib\\site-packages\\sklearn\\metrics\\_classification.py:1344: UndefinedMetricWarning: Precision and F-score are ill-defined and being set to 0.0 in samples with no predicted labels. Use `zero_division` parameter to control this behavior.\n",
      "  _warn_prf(average, modifier, msg_start, len(result))\n"
     ]
    },
    {
     "data": {
      "text/plain": [
       "[0.6070234113712375,\n",
       " 0.47686733556298777,\n",
       " 0.5054626532887402,\n",
       " None,\n",
       " 0.9319526627218935]"
      ]
     },
     "execution_count": 78,
     "metadata": {},
     "output_type": "execute_result"
    }
   ],
   "source": [
    "results_3 = list(precision_recall_fscore_support(prompt_3_targets, prompt_3_outputs, average='samples'))\n",
    "results_3.append(hamming_accuracy(np.array(prompt_3_targets),np.array(prompt_3_outputs)))\n",
    "results_3"
   ]
  },
  {
   "cell_type": "markdown",
   "id": "4bbdf77c",
   "metadata": {},
   "source": [
    "# Level 3 Keywoards"
   ]
  },
  {
   "cell_type": "code",
   "execution_count": 101,
   "id": "0b5ada7f",
   "metadata": {},
   "outputs": [
    {
     "data": {
      "application/vnd.jupyter.widget-view+json": {
       "model_id": "d250f935abb34034a89635bb13dc57bd",
       "version_major": 2,
       "version_minor": 0
      },
      "text/plain": [
       "  0%|          | 0/300 [00:00<?, ?it/s]"
      ]
     },
     "metadata": {},
     "output_type": "display_data"
    },
    {
     "name": "stdout",
     "output_type": "stream",
     "text": [
      "Text: Türkei stimmt für Schwedens Nato-Beitritt\n",
      "Das türkische Parlament hat den Beitritt Schwedens in die Nato gebilligt. Nun muss Präsident Erdogan das sogenannte Beitrittsprotokoll noch unterschreiben, was als so gut wie sicher gilt.\n",
      "Output Tags (incorrect format): ['STAAT UND POLITIK', 'MILITÄR']\n",
      "Real Tags: ['MILITÄR.']\n",
      "\n",
      "Text: Wie funktionieren Wetten?\n",
      "In einem Beitrag werden die diversen möglichen Wetten aufgezeigt, die auf jedes Spiel eingegangen werden können. Zudem wird klar, dass man auf irgendein Spiel setzen kann  ganz egal, wo es stattfindet. Roger Hegi betont, dass Wetten auf die manipulierten Schweizer Spiele vor allem in Asien platziert wurden. Markus Stähli begründet, wieso alle Thuner Spieler eine Erklärung unterschreiben mussten, dass sie nicht betrogen haben.\n",
      "Output Tags (incorrect format): ['SPORT', 'JUSTIZ']\n",
      "Real Tags: ['FREIZEIT.', 'MEDIEN UND KOMMUNIKATION.', 'STRAFTAT.']\n",
      "\n",
      "API Error: Blutiger Verlauf der Geiselnahme in Algerien\n",
      "Dramatische Stunden heute in Algerien. Beim Versuch der algerischen Armee ausländische Geiseln aus der Hand von Islamisten zu befreien, hat es offenbar viele Tote gegeben. Zuerst war von bis zu 50 Toten die Rede. Inzwischen ist diese Zahl reduziert worden. Über die Geiselnehmer herrscht Verwirrung. Laut algerischen Regierungskreisen hat sich die islamistische Gruppierung „Maskierte Brigade“ um Kommandant Mochtar Almochtar zur Tat bekannt. Dazu ein Interview mit Islamwissenschaftler Peter Heine., Error: Error code: 400 - {'error': {'message': \"The response was filtered due to the prompt triggering Azure OpenAI's content management policy. Please modify your prompt and retry. To learn more about our content filtering policies please read our documentation: https://go.microsoft.com/fwlink/?linkid=2198766\", 'type': None, 'param': 'prompt', 'code': 'content_filter', 'status': 400, 'innererror': {'code': 'ResponsibleAIPolicyViolation', 'content_filter_result': {'hate': {'filtered': False, 'severity': 'safe'}, 'self_harm': {'filtered': False, 'severity': 'safe'}, 'sexual': {'filtered': False, 'severity': 'safe'}, 'violence': {'filtered': True, 'severity': 'medium'}}}}}\n",
      "Text: Langlauf und Tourenskifahren sind die besten Kalorien-Killer\n",
      "Die Hauptmotivation von Wintersportlern ist wohl nicht das Abnehmen. Trotzdem können Kalorien auch beim Schneesport vernichtet werden. Vorausgesetzt man wählt die richtige Disziplin und füllt den Speicher nicht gleich wieder mit deftigem Essen und alkoholischen Getränken.\n",
      "Output Tags (incorrect format): ['GESUNDHEIT', 'SPORT']\n",
      "Real Tags: ['FREIZEIT.', 'GESUNDHEIT.']\n",
      "\n",
      "Text: Der Promi-Uhrmacher von Island\n",
      "Dieser Tage findet in Basel die Messe für Uhren und Schmuck statt, die Baselworld. Ein Stelldichein der grossen und teuren Marken, die Kleinen bleiben aussen vor. Etwa Gilbert Guðjónsson: Der 65-Jährige fertigt seine Uhren in Island auf einer Fläche von gerade einmal vier Quadratmetern. Zu seinen Kunden zählen aber Filmgrössen wie Tom Cruise und Quentin Tarantino.\n",
      "Output Tags (incorrect format): [\"PORTRÄT.\", \"WIRTSCHAFT.\"]\n",
      "Real Tags: ['INDUSTRIE.', 'PORTRÄT.']\n",
      "\n",
      "Text: FOKUS: Kampf um die Asylgesetzesrevision\n",
      "Die Präsidenten von SP, FDP und CVP haben heute in Begleitung der Medien das Testzentrum Zürich besichtigt. Als Befürworter der Asylgesetzesrevision haben sie die Gelegenheit genutzt, die Vorzüge des neuen Verfahrens zu loben. Nicht dabei war der SVP-Präsident - seine Partei lehnt die Asylgesetzesrevision ab.\n",
      "Output Tags (incorrect format): ['STAAT UND POLITIK', 'ASYL']\n",
      "Real Tags: ['MENSCH.', 'STAAT UND POLITIK.']\n",
      "\n",
      "Text: Türkischer Abstimmungskampf in der Schweiz\n",
      "Der türkische Aussenminister Cavusoglu hat sich für einen Besuch in der Schweiz angemeldet. Er will auch bei den Schweiz-Türken für die Verfassungsreform werben, die Präsident Erdogan mehr Macht geben soll.\n",
      "Output Tags (correct format): ['STAAT UND POLITIK.', 'RELIGION.']\n",
      "Real Tags: ['JUSTIZ.', 'STAAT UND POLITIK.']\n",
      "\n",
      "Text: Swiss Hate: Shaming mit Renato Kaiser | Advents-Special\n",
      "Wir sprechen über Shaming – etwas, das zur Zeit in der Schweiz rege betrieben wird. So sehr, dass wir eine neue Fernsehshow ins Leben gerufen haben. Angelehnt an die altbekannte Sendung «Swiss Date» möchten wir nun mit «Swiss Hate» hasserfüllte Menschen zusammenbringen. Heute als Gast mit dabei: Renato Kaiser\n",
      "Output Tags (incorrect format): ['GESCHICHTE']\n",
      "Real Tags: ['VOLKSKULTUR.']\n",
      "\n",
      "Text: Gaddafi feiert\n",
      "In Libyen findet die Feier zum 40-jährigen Jubiläum der Machtergreifung Gaddafis statt. Begangen wird die Revolution des 1. Septembers 1969. Der Anlass fiel äusserst pompös aus.\n",
      "Output Tags (incorrect format): ['GESCHICHTE']\n",
      "Real Tags: ['STAAT UND POLITIK.']\n",
      "\n",
      "Text: Reicht ein bisschen Frühenglisch?\n",
      "Kinder eignen sich eine Sprache einfacher an als Erwachsene: Im Hirn bauen sie schneller die dafür nötigen Vernetzungen auf. Deshalb lernen heute in vielen Kantonen Schüler Englisch bereits in der zweiten Klasse. Verändert sich im Hirn der Kinder tatsächlich etwas, wenn sie zweimal pro Woche in Englisch unterrichtet werden? Psychologen der Universität Zürich haben untersucht, was im Hirn der Kinder geschieht, wenn sie Frühenglisch büffeln.\n",
      "Output Tags (correct format): ['BILDUNG.']\n",
      "Real Tags: ['BILDUNG.', 'WISSENSCHAFT.']\n",
      "\n",
      "Text: Alessio Lindenmann lässt die High Society abheben\n",
      "Jedes Jahr können sich Lehrlinge aus den Kantonen Basel-Stadt und Basel-Landschaft für den Titel «Lehrling des Jahres» bewerben. Die zehn Besten stellen sich einer Fachjury und per Online-Voting der Öffentlichkeit. Im November wurde der 26-jährige Polymechaniker Alessio Lindenmann mit dem Titel ausgezeichnet. Polymechaniker sorgt bei Jet Aviation dafür, dass die Reichen, Schönen und Erfolgreichen nicht auf dem Boden bleiben.\n",
      "Output Tags (incorrect format): [\"BILDUNG.\", \"ARBEIT.\"]\n",
      "Real Tags: ['BILDUNG.', 'PORTRÄT.']\n",
      "\n",
      "Text: IKRK-Chef Maurer unterwegs in der Ukraine\n",
      "Mit fast 50 Millionen Franken engagiert sich das Internationale Komitee vom Roten Kreuz (IKRK) derzeit in der Ukraine. Und es soll noch mehr werden. Denn die humanitäre Lage der Menschen im Konfliktgebiet selber, aber auch für die hunderttausenden von Vertriebenen, ist sehr angespannt. IKRK-Präsident Peter Maurer ist in diesen Tagen zwischen Moskau und Kiew unterwegs.\n",
      "Output Tags (incorrect format): ['HUMANITÄT', 'KONFLIKT']\n",
      "Real Tags: ['SOZIALES.', 'STAAT UND POLITIK.']\n",
      "\n",
      "Text: Freiburg: Sprechstunde von Studenten für Studenten\n",
      "Eine Gesundheitssprechstunde für 15 Franken: Dies gibt es an der Hochschule für Gesundheit in Freiburg. Unter fachmännischer Aufsicht bieten Studierende diese Dienstleistung anderen Studierenden an.\n",
      "Output Tags (correct format): ['BILDUNG.', 'GESUNDHEIT.']\n",
      "Real Tags: ['BILDUNG.', 'GESUNDHEIT.']\n",
      "\n",
      "Text: Nazi-Raubkunst: Das Zittern der Schweizer Museen\n",
      "Diese Woche eröffnet das Kunstmuseum Bern die Gurlitt-Ausstellung. Dabei setzt Bern neue Massstäbe bezüglich der Definition von Nazi-Raubkunst: Schweizer Museen sollen die Bilder zurückgeben, welche ihre jüdischen Besitzer wegen der Nazi-Verfolgung verloren hatten. Das bringt andere Schweizer Kunstmuseen in Bedrängnis.\n",
      "Output Tags (correct format): ['KULTUR.', 'GESCHICHTE.']\n",
      "Real Tags: ['GESCHICHTE.', 'KULTUR.']\n",
      "\n",
      "Text: Der Schnee vermiest das Geschäft\n",
      "\n",
      "Output Tags (correct format): ['WIRTSCHAFT.']\n",
      "Real Tags: ['GEWERBE.', 'UMWELT.']\n",
      "\n",
      "Text: Günstigere Prämien für Gesundheitsbewusste (Teil 1)\n",
      "Sportliche und gesundheitsbewusste Menschen sollen weniger für ihre Krankenkassenprämien zahlen müssen – diese Vision gibt es schon länger. Um ein solches Bonus-Malus-System in der Praxis umsetzen zu können, sollen Gesundheitsdaten via App gleich der Krankenkasse weitergeleitet werden.\n",
      "Output Tags (correct format): ['GESUNDHEIT.', 'MEDIZIN.']\n",
      "Real Tags: ['GESUNDHEIT.', 'MEDIEN UND KOMMUNIKATION.', 'TECHNIK.']\n",
      "\n",
      "Text: Russland erhöht Drohkulisse gegen den Westen\n",
      "Der Angriffskrieg Russlands gegen die Ukraine läuft nicht gut. Nach gut 400 Kriegstagen steckt der Angriff fest, der ukrainische Widerstand ist dank westlicher Unterstützung ungebrochen. Das hat die russische Führung veranlasst, die atomare Drohkulisse gegenüber dem Westen nochmals deutlich auszubauen – die UNO besorgt. Einschätzungen von SRF-Korrespondent Christof Franzen.\n",
      "Output Tags (correct format): ['STAAT UND POLITIK.', 'MILITÄR.']\n",
      "Real Tags: ['MILITÄR.', 'STAAT UND POLITIK.']\n",
      "\n"
     ]
    },
    {
     "name": "stdout",
     "output_type": "stream",
     "text": [
      "Text: Bundesrat gegen Mindestlohn\n",
      "\n",
      "Output Tags (correct format): ['STAAT UND POLITIK.', 'ARBEIT.']\n",
      "Real Tags: ['ARBEIT.', 'STAAT UND POLITIK.']\n",
      "\n",
      "Text: Ueli Schmezer verlässt SRF\n",
      "Seit 25 Jahren gibt Ueli Schmezer dem «Kassensturz» ein Gesicht. Der Moderator verlässt das Unternehmen auf Eigeninitiative per Ende Januar 2022.\n",
      "Output Tags (correct format): ['MEDIEN UND KOMMUNIKATION.']\n",
      "Real Tags: ['MEDIEN UND KOMMUNIKATION.', 'PORTRÄT.']\n",
      "\n",
      "Error processing text:expected string or bytes-like object\n",
      "None\n",
      "Text: Herz und Portemonnaie für Solarenergie\n",
      "Der Bauunternehmer Markus Affentranger hat sich vorgenommen, in den nächsten Jahren seinen gesamten Maschinenpark mit Strom statt mit Diesel zu betreiben. Auf Solarenergie setzt er aus Überzeugung. Aber nicht nur, er ist sich sicher, dass es sich auch auszahlen wird.\n",
      "Output Tags (incorrect format): ['ENERGIE', 'GEWERBE']\n",
      "Real Tags: ['ENERGIE.', 'WIRTSCHAFT.']\n",
      "\n",
      "Error processing text:expected string or bytes-like object\n",
      "None\n",
      "Text: WEF sorgt sich um Globalisierungsverlierer\n",
      "Langezeit wurde am WEF in Davos die Globalisierung gepriesen. Doch deren Verlierer werden immer zahlreicher. Deshalb hat das WEF in diesem Jahr ein besonderes Augenmerk auf die Benachteiligten der Globalisierung.\n",
      "Output Tags (correct format): ['WIRTSCHAFT.', 'GESCHICHTE.']\n",
      "Real Tags: ['GESCHICHTE.', 'WIRTSCHAFT.']\n",
      "\n",
      "633.6970944404602\n"
     ]
    }
   ],
   "source": [
    "from tqdm.notebook import tqdm\n",
    "prompt_4_accuracy = []\n",
    "prompt_4_targets = []\n",
    "prompt_4_outputs = []\n",
    "\n",
    "import time\n",
    "start = time.time()\n",
    "\n",
    "counter = 0\n",
    "for test_text in tqdm(df_sample_['Web-Text']):\n",
    "    \n",
    "    prompt = f\"\"\"\n",
    "                Angesichts der folgenden beschreibenden Inhalte aus verschiedenen Videos, klassifizieren Sie bitte jeden Ausschnitt, indem Sie bis zu zwei relevante Tags aus der bereitgestellten Tag-Liste zuweisen. Wählen Sie ein Tag, wenn es eindeutig am relevantesten ist, oder zwei Tags, wenn zwei Themen gleichermaßen prominent sind. Die Tags sollten die Hauptthemen des Textes genau widerspiegeln und zum Portfolio eines öffentlich-rechtlichen Senders passen.\n",
    "\n",
    "                Die Tags und ihre zugehörigen Schlüsselwörter sind in der folgenden Tabelle beschrieben:\n",
    "\n",
    "                | Tag |  Schlüsselwörter (Level 2) |\n",
    "                |:----|:--------------------------|\n",
    "                | ARBEIT. | Arbeitszeit, Streik, Berufsporträt, Familienzulage, Sporthilfe, Saisonnier, Gewerkschaft |\n",
    "                | BILDUNG. | Berufsschule, Berufsmittelschule, Lehre, Fremdsprachenunterricht, Lehrmittel, Lehrplan |\n",
    "                | ENERGIE. | Brennstoffersatz, Fernwärme, Pipeline, Stromleitung, Energiesparen, Geothermie, Sonnenenergie, Wasserkraft, Windenergie, Erdgas, Erdöl, Kohle |\n",
    "                | FREIZEIT. | Bergsteigen, Jassen, Freizeitanlage, Spielzeug, Videospiel, Camping, Erlebnisurlaub, Ferienwohnung, Jugendherberge, Reisen, Verkehrsverein |\n",
    "                | GESCHICHTE. | Industrialisierung, Kolonialismus, Reformation, Globalisierung, Weltkrieg-I, Weltkrieg-II |\n",
    "                | GESUNDHEIT. | Naturheilkunde, Naturheilmittel, Drogenabgabe, Drogenlegalisierung, Diät, Essgewohnheit, Gesundheitsvorsorge, Präventivmedizin, Stress, Ambulante Pflege, Pflegeheim, Spital, Körperpflege, Kosmetik, Krankenkasse, AIDS, Demenz, Depression, Epidemie, Grippe, Krebs, Pandemie, Blutspenden, Chirurgie, Impfen, Organhandel, Organtransplantation, Plastische Chirurgie, Sportmedizin, Familienplanung, Geburt, Künstliche Befruchtung, Schwangerschaftsabbruch, Verhütungsmittel, Alkoholismus, Drogen, Medikamentensucht, Rauchen, Suchtbekämpfung, Suchtprävention, Zahnpflege |\n",
    "                | GEWERBE. | Bauschaden, Buchhandel, Einkaufszentrum, Flohmarkt, Ladenöffnungszeiten, Marktstand, Second-Hand-Laden, Versandhandel, Taxi, Hotellerie, Restaurant, Verpflegungsservice, Alkoholisches Getränk, Nichtalkoholisches Getränk, Baubiologie |\n",
    "                | INDUSTRIE. | Tabakindustrie, Edelmetall, Edelstein, Salz, Kriegsmaterialexport, Sportartikel |\n",
    "                | JUSTIZ. | Einbürgerung, Initiativ- und Referendumsrecht, Wahl- und Stimmrecht, Wahlalter, Enteignung, Erbrecht, Bundesgericht, Internationales Gericht, Verfassungsgericht, Auslieferung, Bilaterales Recht, Völkerrecht, Vermummungsverbot, Versammlungsfreiheit, Folter, Sklaverei, Pass (Ausweis), Amtsgeheimnis, Datenschutz, Personenüberwachung, Prozess, Strafermittlungsverfahren, Strafmaß, Untersuchungshaft, Amnestie, Begnadigung, Buße, Haftentlassung, Resozialisierung, Todesstrafe, Gefängnis, Haftbedingungen, Unlauterer Wettbewerb, Obligationenrecht, Zivilgesetzbuch |\n",
    "                | KULTUR. | Baugeschichte, Bauwerk, Innenarchitektur, Städtearchitektur, Kunstausstellung, Technische Ausstellung, Wissenschaftliche Ausstellung, Filmfestival, Filmproduktion, Archiv, Bibliothek, Dokumentationsstelle, Museum, Antiquitäten, Bildhauerei, Kunsthandwerk, Malerei, Performancekunst, Sakralkunst, Literarisches Werk, Literaturbesprechung, Literaturveranstaltung, Lyrik, Märchen, Schriftstellerin, Modeschau, Schmuck, E-Musik, Filmmusik, Musikbusiness, Musiker, Musikfestival, Musikinstrument, Musikrezension, Musikszene, Musiktext, Musikveranstaltung, U-Musik, Dialekt, Rechtschreibung, Schrift, Sprachminderheit, Zweisprachigkeit, Ballett, Tanztheater, Kabarett, Pantomime, Theaterstück, Varieté, Zirkus |\n",
    "                | LANDWIRTSCHAFT. | Gemüse, Getreide, Obst, Käse, Milchprodukt, Futtermittel, Haustier, Nutztierhaltung, Tierversuch, Wildtierhaltung, Zoo und Tierpark, Tierkrankheit, Tierseuche |\n",
    "                | MEDIEN UND KOMMUNIKATION. | Fernsehanstalt Ausländische, SF, Social Media, SRF, SRG, Briefmarke, PTT, Radiostation Ausländische, SR DRS, Datenübertragung, Telefon, Buch, Pressefreiheit |\n",
    "                | MENSCH. | Ausländerausweisung, Ausländerintegration, Behinderung Geistig, Behinderung Körperlich, Demographie, Pendeln (Verkehr), Antisemitismus, Fremdenfeindlichkeit, Rassismus, Hochzeit, Scheidung, Mutter, Frauenhaus, Feminismus, Generationenkonflikt, Jugendgruppe, Jugendhaus, Adoption, Kinderbetreuung, Kinderheim, Pflegekind, Säugling, Paarbeziehung, Vater, Auswanderung, Einwanderung, Fahrende, Angst, Eifersucht, Fantasie, Glück, Humor, Psychotherapie, Aufklärung (Sexualität), Erotik, Pornografie, Prostitution, Sexuelle Identität, Sexuelle Orientierung, Bestattung, Friedhof, Sterbehilfe, Suizid, Tod, Aggression, Feindschaft, Freundschaft, Gewalt, Hausbesetzung, Mieter, Mieterschutz, Wohnbauförderung, Wohneigentum, Wohngemeinschaft |\n",
    "                | MILITÄR. | NATO, Warschauer Pakt, Kulturgüterschutz, Armeeereform, Dienstpflicht, Militäreinsatz im Ausland, Militäreinsatz im Innern, Militärpersonal, Manöver, Militärausbildung, Dienstverweigerung, Abrüstung, Waffenbeschaffung, Truppenabzug, Atomwaffe, Biologische Waffe, Chemische Waffe, Kriegsschiff, Militärfahrzeug, Militärflugzeug, Rakete (Militär) |\n",
    "                | PORTRÄT. | Porträt Geografie, Porträt Körperschaften, Porträt Personen, Porträt Thema |\n",
    "                | RELIGION. | Christkatholische Kirche, Katholische Kirche, Ordensgemeinschaft, Orthodoxe Kirche, Reformierte Kirche, Buddhismus, Hinduismus, Islam, Judentum, Naturreligion, Bibel, Meditation |\n",
    "                | SENSATION. | Misswahl, Misterwahl, Nobelpreis, Preisverleihung, Rekord, Adel, Atomunfall, Bahnunfall, Flugunfall, Schiffsunfall, Verkehrsunfall |\n",
    "                | SOZIALES. | Dritte Säule, Erste Säule, Zweite Säule, Obdachlosigkeit, Geburtstag, Gedenktag, Jubiläum, Hilfsaktion, Hilfsfonds, Entwicklungshilfe, Entwicklungsland, Globale Ungleichheit, Demonstration, Regimekritik, Fürsorge, 68er-Bewegung, Arbeiterbewegung, Jugendbewegung, Sozialversicherung, Fürsorgerische Zwangsmaßnahmen |\n",
    "                | STAAT UND POLITIK. | Abstimmungsanalyse, Abstimmungsergebnis, Abstimmungsparole, Abstimmungsvorschau, Diplomatie, Handelsabkommen, Internationale Beziehungen, Staatsvertrag, EU, EU-Schweiz, Budget, Finanzausgleich, Verschuldung, Gemeindefusion, Illegaler Grenzübertritt, Faschismus, Kapitalismus, Liberalismus, Nationalismus, Sozialismus, Föderalismus, Internationale Konferenz, UNO, UNO-Schweiz, Landsgemeinde, Bürgerkrieg, Kriegsverbrechen, Zeitrechnung, Zeitumstellung, Kalter Krieg, Gemeindeparlament, Kantonsparlament, Nationalrat, Ständerat, Linksgruppe, Partei, Rechtsgruppe, Personenfahndung, Bundesrat, Gemeinderegierung, Kantonsregierung, Koalition, Privatisierung, Verstaatlichung, Demokratie, Diktatur, Monarchie, Bundesanwaltschaft, Staatsschutz, Mehrwertsteuer, Steuerhinterziehung, Putsch, Revolution, Bundesverfassung, Kantonsverfassung, Wahlanalyse, Wahlergebnis, Wahlkampf, Autonomie- und Unabhängigkeitsbewegung, Wirtschaftssanktion |\n",
    "                | STRAFTAT. | Dopingfall, Dopingkontrolle, Dopingmittel/-methode, Drogenhandel, Drogenkonsum, Diebstahl, Einbruch, Plagiat, Attentat, Entführung, Erpressung, Flugzeugentführung, Geiselnahme, Kindsmisshandlung, Körperverletzung, Misshandlung, Piraterie, Terrorismus, Brandanschlag, Friedhofsschändung, Vandalismus, Inzest, Kindsmissbrauch, Vergewaltigung, Korruption, Spionage, Sprengstoffanschlag, Verbrechensverhütung, Amoklauf, Massenmord, Mord, Geldwäsche, Insidergeschäft, Schmuggel |\n",
    "                | TECHNIK. | Roboter, Computer |\n",
    "                | UMWELT. | Kehrichtverbrennung, Müllverbrennung, Sondermüll, Radioaktivität, Fischsterben, Fluss, Gewässerregulierung, Gewässerverschmutzung, Meer, See, Denkmalschutz, Klimaveränderung, Berg, Gletscher, Moorlandschaft, Wüste, Elektrosmog, Luftverschmutzung, Berg- und Felssturz, Dürre, Erdbeben, Erdrutsch, Hagel, Lawine, Seebeben, Sturmkatastrophe, Überschwemmung, Vulkan, Waldbrand, Amphibie, Fisch, Insekt, Reptil, Säugetier, Spinnen, Tierschutz, Vogel, Wirbeltiere, Natur, Ökologie, Umweltforschung, Umweltverschmutzung, Artenschutz, Landschaftsschutz, Nationalpark, Pflanzenschutz, Umweltorganisation, Holz, Waldsterben, Abwasser, Grundwasser, Kanalisation, Kläranlage, Wasserverschmutzung |\n",
    "                | VERKEHR. | NEAT, Elektromobilität, Autobahngebühr, BLS, Privatbahn, RhB, S-Bahn, SBB, Bahnhof, Radweg, Swiss, Swissair, Wanderweg, Flugsicherung, Bus, Postauto, Tram, U-Bahn, Verkehrsverbund, Binnenschifffahrt, Hafen, Hochseeschifffahrt, Autoverlad, Fahrschule, Verkehrskontrolle, Verkehrsregelung, Tempolimit, Verkehrsabgabe, Verkehrsberuhigung, Verkehrsplanung |\n",
    "                | VOLKSKULTUR. | Fasnacht, Jahreswende, Nationalfeiertag, Ostern, Weihnachtszeit |\n",
    "                | WIRTSCHAFT. | Arbeitgeberorganisation, Unternehmer, Export, Import, Betriebsschließung, Stellenabbau, Ausländerbodenerwerb, Bankenkontrolle, Bankgeheimnis, Finanzplatz, Genossenschaftsbank, Großbank, Kantonalbank, Nachrichtenlose Vermögen, Privatbank, Banknote, Kreditkarte, Münze, Zahlungsverkehr, Messe, Versteigerung, Aktienhandel, Börse, Devisenhandel, Obligationenhandel, Aufschwung, Rezession, Betreibung, Konsumentenschutz, Warendeklaration, Hypothek, Zins, Deflation, Inflation, Preisüberwachung, Bilanz, Marketing, Unternehmensform, Unternehmensstandort, Betriebsübernahme, Fusion, Haftpflichtversicherung, Devisenkurs, EWS, Wirtschaftskonferenz, Wirtschaftsverband, Währungspolitik, Wirtschaftsförderung, Nationalbank |\n",
    "                | WISSENSCHAFT. | Botanik, Zoologie, Biotechnologie, Gentechnologie, Aberglaube, Astrologie, Esoterik, Künstliche Intelligenz, Ethik, Atomphysik, Konflikt- und Friedensforschung, Forschung |\n",
    "\n",
    "                Text zum Klassifizieren: '{test_text}'\n",
    "\n",
    "                Ihre Aufgabe ist es, den Ausschnitt zu lesen und die am besten passenden Tags zuzuweisen, die den Inhalt am besten widerspiegeln, unter Berücksichtigung ihrer Relevanz für den öffentlich-rechtlichen Rundfunk und die Informationen in der Tabelle. \n",
    "                Geben Sie nur die Tags als Python-Liste aus.\n",
    "            \"\"\"\n",
    "\n",
    "    \n",
    "    try:\n",
    "        response = client.chat.completions.create(\n",
    "            model=deployment_name,\n",
    "            messages=[\n",
    "                {\"role\": \"system\", \"content\": \"Sie sind ein hilfreicher Assistent, der dem Redaktionsteam des öffentlich-rechtlichen Rundfunks hilft, zentrale Themen aus beschreibenden Videotexten zu extrahieren.\"},\n",
    "                {\"role\": \"user\", \"content\": prompt}\n",
    "            ]\n",
    "        )\n",
    "    except Exception as e: \n",
    "        print(f\"API Error: {test_text}, Error: {e}\")\n",
    "        continue\n",
    "    \n",
    "     # Transfer ChatGPT output to One-Hot encoded list\n",
    "    try:\n",
    "        output_tags = response.choices[0].message.content\n",
    "        one_hot_encoded_tags = match_and_encode_tags(output_tags, label_names)\n",
    "        df_text = df[df['Web-Text'] == test_text].reset_index(drop=True)   \n",
    "    except Exception as e:\n",
    "        print(f\"Error processing text:{e}\")\n",
    "        print(response.choices[0].message.content)\n",
    "        continue\n",
    "    \n",
    "    prompt_4_outputs.append(one_hot_encoded_tags)\n",
    "    prompt_4_targets.append(df_text['Categories'][0])    \n",
    "    # Compute Accuracy on the fly\n",
    "    match_percent = sum(i==j for i,j in zip(df_text['Categories'][0],one_hot_encoded_tags))/len(one_hot_encoded_tags)\n",
    "    prompt_4_accuracy.append(match_percent)\n",
    "    \n",
    "    # Print some of the Answers\n",
    "    if counter % 15 == 0:\n",
    "        # Show the Answer\n",
    "        visualisation_encodings(response, test_text, df_text)\n",
    "    counter += 1\n",
    "    \n",
    "\n",
    "end = time.time()\n",
    "print(end - start)"
   ]
  },
  {
   "cell_type": "code",
   "execution_count": 102,
   "id": "421e0582",
   "metadata": {},
   "outputs": [
    {
     "data": {
      "text/plain": [
       "[0.9615384615384616,\n",
       " 0.9615384615384616,\n",
       " 0.8846153846153846,\n",
       " 0.9230769230769231,\n",
       " 0.9615384615384616,\n",
       " 0.8846153846153846,\n",
       " 0.9615384615384616,\n",
       " 0.8076923076923077,\n",
       " 0.9230769230769231,\n",
       " 0.9615384615384616,\n",
       " 0.9615384615384616,\n",
       " 0.8846153846153846,\n",
       " 1.0,\n",
       " 0.9615384615384616,\n",
       " 0.8846153846153846,\n",
       " 0.8461538461538461,\n",
       " 0.9615384615384616,\n",
       " 0.9615384615384616,\n",
       " 0.9615384615384616,\n",
       " 0.9230769230769231,\n",
       " 0.9615384615384616,\n",
       " 0.9230769230769231,\n",
       " 1.0,\n",
       " 0.9615384615384616,\n",
       " 0.9615384615384616,\n",
       " 0.9230769230769231,\n",
       " 0.9615384615384616,\n",
       " 0.9615384615384616,\n",
       " 0.9615384615384616,\n",
       " 0.9615384615384616,\n",
       " 0.9615384615384616,\n",
       " 0.9230769230769231,\n",
       " 0.8846153846153846,\n",
       " 0.9615384615384616,\n",
       " 0.9230769230769231,\n",
       " 1.0,\n",
       " 0.9230769230769231,\n",
       " 0.9230769230769231,\n",
       " 0.9230769230769231,\n",
       " 0.8461538461538461,\n",
       " 0.9615384615384616,\n",
       " 0.8846153846153846,\n",
       " 0.8461538461538461,\n",
       " 0.9230769230769231,\n",
       " 0.9230769230769231,\n",
       " 0.9230769230769231,\n",
       " 0.9615384615384616,\n",
       " 0.9615384615384616,\n",
       " 0.8846153846153846,\n",
       " 0.9230769230769231,\n",
       " 0.9230769230769231,\n",
       " 0.9230769230769231,\n",
       " 0.9615384615384616,\n",
       " 0.9230769230769231,\n",
       " 0.9230769230769231,\n",
       " 0.9230769230769231,\n",
       " 0.9615384615384616,\n",
       " 0.8846153846153846,\n",
       " 0.8846153846153846,\n",
       " 0.8846153846153846,\n",
       " 0.9615384615384616,\n",
       " 0.8846153846153846,\n",
       " 0.9230769230769231,\n",
       " 0.9615384615384616,\n",
       " 0.9230769230769231,\n",
       " 0.8461538461538461,\n",
       " 0.9230769230769231,\n",
       " 0.8846153846153846,\n",
       " 0.8846153846153846,\n",
       " 0.9615384615384616,\n",
       " 0.9615384615384616,\n",
       " 0.9230769230769231,\n",
       " 0.9230769230769231,\n",
       " 0.9230769230769231,\n",
       " 0.9615384615384616,\n",
       " 0.9230769230769231,\n",
       " 0.9230769230769231,\n",
       " 1.0,\n",
       " 0.9230769230769231,\n",
       " 0.8846153846153846,\n",
       " 0.9615384615384616,\n",
       " 0.9615384615384616,\n",
       " 0.9230769230769231,\n",
       " 0.8076923076923077,\n",
       " 0.9230769230769231,\n",
       " 0.9615384615384616,\n",
       " 1.0,\n",
       " 0.9230769230769231,\n",
       " 1.0,\n",
       " 0.9615384615384616,\n",
       " 0.9230769230769231,\n",
       " 1.0,\n",
       " 1.0,\n",
       " 0.9615384615384616,\n",
       " 1.0,\n",
       " 0.9230769230769231,\n",
       " 0.9615384615384616,\n",
       " 0.9230769230769231,\n",
       " 0.8461538461538461,\n",
       " 0.9230769230769231,\n",
       " 0.9615384615384616,\n",
       " 1.0,\n",
       " 0.9615384615384616,\n",
       " 0.9615384615384616,\n",
       " 0.9230769230769231,\n",
       " 0.9230769230769231,\n",
       " 0.8846153846153846,\n",
       " 0.9230769230769231,\n",
       " 0.9230769230769231,\n",
       " 0.8846153846153846,\n",
       " 0.8846153846153846,\n",
       " 0.9230769230769231,\n",
       " 0.9230769230769231,\n",
       " 1.0,\n",
       " 0.9230769230769231,\n",
       " 0.9230769230769231,\n",
       " 0.9615384615384616,\n",
       " 0.9230769230769231,\n",
       " 0.9230769230769231,\n",
       " 0.9230769230769231,\n",
       " 0.9615384615384616,\n",
       " 0.9615384615384616,\n",
       " 0.9615384615384616,\n",
       " 0.9230769230769231,\n",
       " 0.9230769230769231,\n",
       " 0.9230769230769231,\n",
       " 0.8461538461538461,\n",
       " 0.8846153846153846,\n",
       " 0.8846153846153846,\n",
       " 0.8846153846153846,\n",
       " 1.0,\n",
       " 1.0,\n",
       " 0.9230769230769231,\n",
       " 0.8461538461538461,\n",
       " 0.9230769230769231,\n",
       " 0.9230769230769231,\n",
       " 0.9615384615384616,\n",
       " 0.8461538461538461,\n",
       " 0.9230769230769231,\n",
       " 0.8461538461538461,\n",
       " 0.9615384615384616,\n",
       " 0.9230769230769231,\n",
       " 0.9230769230769231,\n",
       " 0.9230769230769231,\n",
       " 0.9230769230769231,\n",
       " 0.9615384615384616,\n",
       " 1.0,\n",
       " 1.0,\n",
       " 0.9230769230769231,\n",
       " 0.9615384615384616,\n",
       " 0.9230769230769231,\n",
       " 0.9615384615384616,\n",
       " 0.8846153846153846,\n",
       " 1.0,\n",
       " 0.9230769230769231,\n",
       " 1.0,\n",
       " 0.8846153846153846,\n",
       " 0.9615384615384616,\n",
       " 1.0,\n",
       " 0.9615384615384616,\n",
       " 1.0,\n",
       " 0.8846153846153846,\n",
       " 0.8846153846153846,\n",
       " 0.8846153846153846,\n",
       " 0.9615384615384616,\n",
       " 1.0,\n",
       " 0.8846153846153846,\n",
       " 0.9230769230769231,\n",
       " 0.9615384615384616,\n",
       " 0.9615384615384616,\n",
       " 0.9615384615384616,\n",
       " 0.9615384615384616,\n",
       " 0.8846153846153846,\n",
       " 0.9230769230769231,\n",
       " 0.9615384615384616,\n",
       " 0.9615384615384616,\n",
       " 0.9615384615384616,\n",
       " 0.9230769230769231,\n",
       " 0.9230769230769231,\n",
       " 0.9230769230769231,\n",
       " 1.0,\n",
       " 0.8846153846153846,\n",
       " 0.8846153846153846,\n",
       " 0.9615384615384616,\n",
       " 0.9230769230769231,\n",
       " 0.9615384615384616,\n",
       " 0.9615384615384616,\n",
       " 0.8846153846153846,\n",
       " 1.0,\n",
       " 0.8461538461538461,\n",
       " 0.9230769230769231,\n",
       " 0.9615384615384616,\n",
       " 0.9615384615384616,\n",
       " 1.0,\n",
       " 0.9230769230769231,\n",
       " 0.8846153846153846,\n",
       " 0.8846153846153846,\n",
       " 0.8461538461538461,\n",
       " 0.9230769230769231,\n",
       " 0.9615384615384616,\n",
       " 1.0,\n",
       " 0.9230769230769231,\n",
       " 1.0,\n",
       " 0.9230769230769231,\n",
       " 0.9615384615384616,\n",
       " 0.8846153846153846,\n",
       " 1.0,\n",
       " 1.0,\n",
       " 0.9230769230769231,\n",
       " 0.9615384615384616,\n",
       " 0.9230769230769231,\n",
       " 0.9615384615384616,\n",
       " 0.9615384615384616,\n",
       " 0.9615384615384616,\n",
       " 0.8461538461538461,\n",
       " 0.9615384615384616,\n",
       " 0.8461538461538461,\n",
       " 0.9230769230769231,\n",
       " 0.9615384615384616,\n",
       " 0.8461538461538461,\n",
       " 0.8846153846153846,\n",
       " 0.9615384615384616,\n",
       " 0.9230769230769231,\n",
       " 1.0,\n",
       " 0.9615384615384616,\n",
       " 1.0,\n",
       " 0.8461538461538461,\n",
       " 0.9230769230769231,\n",
       " 0.8846153846153846,\n",
       " 0.9230769230769231,\n",
       " 0.9230769230769231,\n",
       " 0.9615384615384616,\n",
       " 0.9230769230769231,\n",
       " 0.9615384615384616,\n",
       " 1.0,\n",
       " 1.0,\n",
       " 0.9615384615384616,\n",
       " 0.9615384615384616,\n",
       " 0.9615384615384616,\n",
       " 0.9615384615384616,\n",
       " 1.0,\n",
       " 1.0,\n",
       " 0.8846153846153846,\n",
       " 0.9230769230769231,\n",
       " 0.9615384615384616,\n",
       " 0.9615384615384616,\n",
       " 1.0,\n",
       " 0.9615384615384616,\n",
       " 1.0,\n",
       " 0.9230769230769231,\n",
       " 0.8846153846153846,\n",
       " 0.9615384615384616,\n",
       " 0.9615384615384616,\n",
       " 0.8846153846153846,\n",
       " 0.8461538461538461,\n",
       " 0.9615384615384616,\n",
       " 0.8846153846153846,\n",
       " 0.8461538461538461,\n",
       " 0.9230769230769231,\n",
       " 0.8076923076923077,\n",
       " 0.8846153846153846,\n",
       " 0.8846153846153846,\n",
       " 1.0,\n",
       " 0.9615384615384616,\n",
       " 0.9230769230769231,\n",
       " 0.9615384615384616,\n",
       " 0.9615384615384616,\n",
       " 1.0,\n",
       " 0.8846153846153846,\n",
       " 0.9615384615384616,\n",
       " 0.9230769230769231,\n",
       " 0.9615384615384616,\n",
       " 0.9615384615384616,\n",
       " 1.0,\n",
       " 1.0,\n",
       " 1.0,\n",
       " 0.9615384615384616,\n",
       " 0.8846153846153846,\n",
       " 0.9230769230769231,\n",
       " 0.9615384615384616,\n",
       " 0.9615384615384616,\n",
       " 0.8076923076923077,\n",
       " 0.9615384615384616,\n",
       " 0.8846153846153846,\n",
       " 0.9615384615384616,\n",
       " 1.0,\n",
       " 0.9230769230769231,\n",
       " 0.9615384615384616,\n",
       " 1.0,\n",
       " 0.9615384615384616,\n",
       " 1.0,\n",
       " 0.9615384615384616,\n",
       " 0.8461538461538461,\n",
       " 1.0,\n",
       " 0.9230769230769231,\n",
       " 0.9615384615384616,\n",
       " 1.0]"
      ]
     },
     "execution_count": 102,
     "metadata": {},
     "output_type": "execute_result"
    }
   ],
   "source": [
    "prompt_4_accuracy"
   ]
  },
  {
   "cell_type": "code",
   "execution_count": 108,
   "id": "2fdcd7b0",
   "metadata": {},
   "outputs": [
    {
     "data": {
      "text/plain": [
       "0.9356384356384355"
      ]
     },
     "execution_count": 108,
     "metadata": {},
     "output_type": "execute_result"
    }
   ],
   "source": [
    "np.mean(prompt_4_accuracy)"
   ]
  },
  {
   "cell_type": "code",
   "execution_count": 104,
   "id": "ce282883",
   "metadata": {},
   "outputs": [
    {
     "data": {
      "text/plain": [
       "0.9356384356384356"
      ]
     },
     "execution_count": 104,
     "metadata": {},
     "output_type": "execute_result"
    }
   ],
   "source": [
    "hamming_accuracy(np.array(prompt_4_targets),np.array(prompt_4_outputs))"
   ]
  },
  {
   "cell_type": "code",
   "execution_count": 105,
   "id": "8f279e00",
   "metadata": {},
   "outputs": [
    {
     "name": "stdout",
     "output_type": "stream",
     "text": [
      "                           precision    recall  f1-score   support\n",
      "\n",
      "                  ARBEIT.       0.37      0.58      0.45        12\n",
      "                 BILDUNG.       0.88      0.78      0.82         9\n",
      "                 ENERGIE.       1.00      0.74      0.85        19\n",
      "                FREIZEIT.       0.62      0.42      0.50        24\n",
      "              GESCHICHTE.       0.32      0.67      0.43         9\n",
      "              GESUNDHEIT.       0.83      0.69      0.76        36\n",
      "                 GEWERBE.       0.31      0.17      0.22        29\n",
      "               INDUSTRIE.       0.67      0.12      0.20        17\n",
      "                  JUSTIZ.       0.80      0.52      0.63        23\n",
      "                  KULTUR.       0.74      0.71      0.72        35\n",
      "          LANDWIRTSCHAFT.       0.89      0.33      0.48        24\n",
      "MEDIEN UND KOMMUNIKATION.       0.43      0.24      0.31        25\n",
      "                  MENSCH.       0.57      0.15      0.24        27\n",
      "                 MILITÄR.       0.90      0.50      0.64        18\n",
      "                 PORTRÄT.       0.46      0.38      0.42        29\n",
      "                RELIGION.       0.45      0.45      0.45        11\n",
      "               SENSATION.       0.57      0.15      0.24        26\n",
      "                SOZIALES.       0.25      0.04      0.07        26\n",
      "       STAAT UND POLITIK.       0.74      0.48      0.58        54\n",
      "                STRAFTAT.       0.64      0.28      0.39        25\n",
      "                 TECHNIK.       0.56      0.56      0.56        16\n",
      "                  UMWELT.       0.61      0.57      0.59        30\n",
      "                 VERKEHR.       0.64      0.41      0.50        17\n",
      "             VOLKSKULTUR.       0.50      0.18      0.27        11\n",
      "              WIRTSCHAFT.       0.79      0.68      0.73        44\n",
      "            WISSENSCHAFT.       0.57      0.24      0.33        17\n",
      "\n",
      "                micro avg       0.64      0.43      0.51       613\n",
      "                macro avg       0.62      0.43      0.48       613\n",
      "             weighted avg       0.64      0.43      0.49       613\n",
      "              samples avg       0.63      0.46      0.50       613\n",
      "\n"
     ]
    },
    {
     "name": "stderr",
     "output_type": "stream",
     "text": [
      "C:\\Program Files\\Anaconda3\\lib\\site-packages\\sklearn\\metrics\\_classification.py:1344: UndefinedMetricWarning: Precision and F-score are ill-defined and being set to 0.0 in samples with no predicted labels. Use `zero_division` parameter to control this behavior.\n",
      "  _warn_prf(average, modifier, msg_start, len(result))\n"
     ]
    }
   ],
   "source": [
    "from sklearn.metrics import classification_report\n",
    "\n",
    "report = classification_report(prompt_4_targets, prompt_4_outputs, target_names=label_names)\n",
    "print(report)"
   ]
  },
  {
   "cell_type": "code",
   "execution_count": 106,
   "id": "70159ca5",
   "metadata": {},
   "outputs": [
    {
     "name": "stderr",
     "output_type": "stream",
     "text": [
      "C:\\Program Files\\Anaconda3\\lib\\site-packages\\sklearn\\metrics\\_classification.py:1344: UndefinedMetricWarning: Precision and F-score are ill-defined and being set to 0.0 in samples with no predicted labels. Use `zero_division` parameter to control this behavior.\n",
      "  _warn_prf(average, modifier, msg_start, len(result))\n"
     ]
    },
    {
     "data": {
      "text/plain": [
       "[0.6346801346801347,\n",
       " 0.4609988776655443,\n",
       " 0.5042648709315376,\n",
       " None,\n",
       " 0.9356384356384356]"
      ]
     },
     "execution_count": 106,
     "metadata": {},
     "output_type": "execute_result"
    }
   ],
   "source": [
    "results_4 = list(precision_recall_fscore_support(prompt_4_targets, prompt_4_outputs, average='samples'))\n",
    "results_4.append(hamming_accuracy(np.array(prompt_4_targets),np.array(prompt_4_outputs)))\n",
    "results_4"
   ]
  },
  {
   "cell_type": "markdown",
   "id": "1c3f26a8",
   "metadata": {},
   "source": [
    "# Compare Prompts"
   ]
  },
  {
   "cell_type": "code",
   "execution_count": 248,
   "id": "3ac31c1b",
   "metadata": {},
   "outputs": [
    {
     "data": {
      "text/html": [
       "<div>\n",
       "<style scoped>\n",
       "    .dataframe tbody tr th:only-of-type {\n",
       "        vertical-align: middle;\n",
       "    }\n",
       "\n",
       "    .dataframe tbody tr th {\n",
       "        vertical-align: top;\n",
       "    }\n",
       "\n",
       "    .dataframe thead th {\n",
       "        text-align: right;\n",
       "    }\n",
       "</style>\n",
       "<table border=\"1\" class=\"dataframe\">\n",
       "  <thead>\n",
       "    <tr style=\"text-align: right;\">\n",
       "      <th></th>\n",
       "      <th>avg_sample_precision</th>\n",
       "      <th>avg_sample_recall</th>\n",
       "      <th>avg_sample_f1-score</th>\n",
       "      <th>avg_sample_hamming_acc</th>\n",
       "      <th>time_seconds</th>\n",
       "      <th>version</th>\n",
       "    </tr>\n",
       "  </thead>\n",
       "  <tbody>\n",
       "    <tr>\n",
       "      <th>Lvl1 Labels Only</th>\n",
       "      <td>0.582215</td>\n",
       "      <td>0.456655</td>\n",
       "      <td>0.484004</td>\n",
       "      <td>0.928369</td>\n",
       "      <td>628.802197</td>\n",
       "      <td>chatGPT 3</td>\n",
       "    </tr>\n",
       "    <tr>\n",
       "      <th>Lvl2 Labels + Description</th>\n",
       "      <td>0.534091</td>\n",
       "      <td>0.409722</td>\n",
       "      <td>0.439015</td>\n",
       "      <td>0.927593</td>\n",
       "      <td>637.060373</td>\n",
       "      <td>chatGPT 3</td>\n",
       "    </tr>\n",
       "    <tr>\n",
       "      <th>Description Only</th>\n",
       "      <td>0.538031</td>\n",
       "      <td>0.460011</td>\n",
       "      <td>0.470358</td>\n",
       "      <td>0.922819</td>\n",
       "      <td>631.780827</td>\n",
       "      <td>chatGPT 3</td>\n",
       "    </tr>\n",
       "    <tr>\n",
       "      <th>Lvl2 Labels Only</th>\n",
       "      <td>0.607023</td>\n",
       "      <td>0.476867</td>\n",
       "      <td>0.505463</td>\n",
       "      <td>0.931953</td>\n",
       "      <td>633.959113</td>\n",
       "      <td>chatGPT 3</td>\n",
       "    </tr>\n",
       "    <tr>\n",
       "      <th>Lvl3 Labels Only</th>\n",
       "      <td>0.634680</td>\n",
       "      <td>0.460999</td>\n",
       "      <td>0.504265</td>\n",
       "      <td>0.935638</td>\n",
       "      <td>633.697094</td>\n",
       "      <td>chatGPT 3</td>\n",
       "    </tr>\n",
       "  </tbody>\n",
       "</table>\n",
       "</div>"
      ],
      "text/plain": [
       "                           avg_sample_precision  avg_sample_recall  \\\n",
       "Lvl1 Labels Only                       0.582215           0.456655   \n",
       "Lvl2 Labels + Description              0.534091           0.409722   \n",
       "Description Only                       0.538031           0.460011   \n",
       "Lvl2 Labels Only                       0.607023           0.476867   \n",
       "Lvl3 Labels Only                       0.634680           0.460999   \n",
       "\n",
       "                           avg_sample_f1-score  avg_sample_hamming_acc  \\\n",
       "Lvl1 Labels Only                      0.484004                0.928369   \n",
       "Lvl2 Labels + Description             0.439015                0.927593   \n",
       "Description Only                      0.470358                0.922819   \n",
       "Lvl2 Labels Only                      0.505463                0.931953   \n",
       "Lvl3 Labels Only                      0.504265                0.935638   \n",
       "\n",
       "                           time_seconds    version  \n",
       "Lvl1 Labels Only             628.802197  chatGPT 3  \n",
       "Lvl2 Labels + Description    637.060373  chatGPT 3  \n",
       "Description Only             631.780827  chatGPT 3  \n",
       "Lvl2 Labels Only             633.959113  chatGPT 3  \n",
       "Lvl3 Labels Only             633.697094  chatGPT 3  "
      ]
     },
     "execution_count": 248,
     "metadata": {},
     "output_type": "execute_result"
    }
   ],
   "source": [
    "df_prompt_comparison = pd.DataFrame([results_0, results_1, results_2, results_3, results_4])\n",
    "df_prompt_comparison.columns = ['avg_sample_precision','avg_sample_recall','avg_sample_f1-score','support', 'avg_sample_hamming_acc']\n",
    "df_prompt_comparison.index = ['Lvl1 Labels Only','Lvl2 Labels + Description','Description Only','Lvl2 Labels Only','Lvl3 Labels Only']\n",
    "df_prompt_comparison['time_seconds'] = [628.8021972179413, 637.0603733062744, 631.7808272838593, 633.9591128826141, 633.6970944404602]\n",
    "df_prompt_comparison['version'] = ['chatGPT 3','chatGPT 3','chatGPT 3','chatGPT 3','chatGPT 3']\n",
    "df_prompt_comparison = df_prompt_comparison.drop(columns='support')\n",
    "df_prompt_comparison"
   ]
  },
  {
   "cell_type": "code",
   "execution_count": 252,
   "id": "54ccfdbf",
   "metadata": {},
   "outputs": [
    {
     "data": {
      "image/png": "[encoded data removed]",
      "text/plain": [
       "<Figure size 1000x600 with 1 Axes>"
      ]
     },
     "metadata": {},
     "output_type": "display_data"
    }
   ],
   "source": [
    "# Plot\n",
    "ax = df_prompt_comparison[['avg_sample_f1-score','avg_sample_hamming_acc']].plot(kind='bar', figsize=(10, 6), edgecolor='black')\n",
    "\n",
    "# Title and labels\n",
    "plt.title('Prompt Sample Performance Comparison', fontsize=16)\n",
    "plt.ylabel('Scores', fontsize=14)\n",
    "\n",
    "# Customize ticks\n",
    "plt.xticks(rotation=45, ha='right', rotation_mode='anchor', fontsize=12)\n",
    "plt.yticks(fontsize=12)\n",
    "\n",
    "# Add gridlines for both x and y axis for better readability\n",
    "plt.grid(axis='y', linestyle='--', linewidth=0.7, which='both')\n",
    "\n",
    "# Add legend with title\n",
    "plt.legend(title='Metrics', fontsize=12, title_fontsize=14, labels=['F1-Score', 'Accuracy'], loc='center left', bbox_to_anchor=(1.0, 0.5))\n",
    "\n",
    "# Show the plot\n",
    "plt.tight_layout()\n",
    "plt.show()"
   ]
  },
  {
   "cell_type": "markdown",
   "id": "975127c2",
   "metadata": {},
   "source": [
    "## Test Chat GPT 4"
   ]
  },
  {
   "cell_type": "code",
   "execution_count": 185,
   "id": "3ad887d3",
   "metadata": {},
   "outputs": [],
   "source": [
    "#deployment_name = 'gpt-35-turbo' \n",
    "deployment_name = 'gpt-4-preview'\n",
    "api_version = '2023-12-01-preview' # this might change in the future\n",
    "client = AzureOpenAI( api_key=api_key, api_version=api_version, base_url=f\"{api_base}/openai/deployments/{deployment_name}\" )"
   ]
  },
  {
   "cell_type": "code",
   "execution_count": 187,
   "id": "cb719f6d",
   "metadata": {},
   "outputs": [
    {
     "data": {
      "application/vnd.jupyter.widget-view+json": {
       "model_id": "7438e03b32a4411c9d9184303b177eee",
       "version_major": 2,
       "version_minor": 0
      },
      "text/plain": [
       "  0%|          | 0/300 [00:00<?, ?it/s]"
      ]
     },
     "metadata": {},
     "output_type": "display_data"
    },
    {
     "name": "stdout",
     "output_type": "stream",
     "text": [
      "Text: Türkei stimmt für Schwedens Nato-Beitritt\n",
      "Das türkische Parlament hat den Beitritt Schwedens in die Nato gebilligt. Nun muss Präsident Erdogan das sogenannte Beitrittsprotokoll noch unterschreiben, was als so gut wie sicher gilt.\n",
      "Output Tags (incorrect format): ```python\n",
      "[\"STAAT UND POLITIK\", \"MILITÄ\n",
      "Real Tags: ['MILITÄR.']\n",
      "\n",
      "Text: Wie funktionieren Wetten?\n",
      "In einem Beitrag werden die diversen möglichen Wetten aufgezeigt, die auf jedes Spiel eingegangen werden können. Zudem wird klar, dass man auf irgendein Spiel setzen kann  ganz egal, wo es stattfindet. Roger Hegi betont, dass Wetten auf die manipulierten Schweizer Spiele vor allem in Asien platziert wurden. Markus Stähli begründet, wieso alle Thuner Spieler eine Erklärung unterschreiben mussten, dass sie nicht betrogen haben.\n",
      "Output Tags (incorrect format): [\"FREIZEIT.\", \"JUSTIZ.\"]\n",
      "Real Tags: ['FREIZEIT.', 'MEDIEN UND KOMMUNIKATION.', 'STRAFTAT.']\n",
      "\n",
      "Text: Langlauf und Tourenskifahren sind die besten Kalorien-Killer\n",
      "Die Hauptmotivation von Wintersportlern ist wohl nicht das Abnehmen. Trotzdem können Kalorien auch beim Schneesport vernichtet werden. Vorausgesetzt man wählt die richtige Disziplin und füllt den Speicher nicht gleich wieder mit deftigem Essen und alkoholischen Getränken.\n",
      "Output Tags (incorrect format): [\"FREIZEIT.\", \"GESUNDHEIT.\"]\n",
      "Real Tags: ['FREIZEIT.', 'GESUNDHEIT.']\n",
      "\n",
      "Text: Der Promi-Uhrmacher von Island\n",
      "Dieser Tage findet in Basel die Messe für Uhren und Schmuck statt, die Baselworld. Ein Stelldichein der grossen und teuren Marken, die Kleinen bleiben aussen vor. Etwa Gilbert Guðjónsson: Der 65-Jährige fertigt seine Uhren in Island auf einer Fläche von gerade einmal vier Quadratmetern. Zu seinen Kunden zählen aber Filmgrössen wie Tom Cruise und Quentin Tarantino.\n",
      "Output Tags (incorrect format): [\"INDUSTRIE.\", \"KULTUR.\"]\n",
      "Real Tags: ['INDUSTRIE.', 'PORTRÄT.']\n",
      "\n",
      "Text: FOKUS: Kampf um die Asylgesetzesrevision\n",
      "Die Präsidenten von SP, FDP und CVP haben heute in Begleitung der Medien das Testzentrum Zürich besichtigt. Als Befürworter der Asylgesetzesrevision haben sie die Gelegenheit genutzt, die Vorzüge des neuen Verfahrens zu loben. Nicht dabei war der SVP-Präsident - seine Partei lehnt die Asylgesetzesrevision ab.\n",
      "Output Tags (incorrect format): [\"STAAT UND POLITIK.\", \"MENSCH.\"]\n",
      "Real Tags: ['MENSCH.', 'STAAT UND POLITIK.']\n",
      "\n",
      "Text: Türkischer Abstimmungskampf in der Schweiz\n",
      "Der türkische Aussenminister Cavusoglu hat sich für einen Besuch in der Schweiz angemeldet. Er will auch bei den Schweiz-Türken für die Verfassungsreform werben, die Präsident Erdogan mehr Macht geben soll.\n",
      "Output Tags (incorrect format): [\"STAAT UND POLITIK.\", \"MENSCH.\"]\n",
      "Real Tags: ['JUSTIZ.', 'STAAT UND POLITIK.']\n",
      "\n",
      "Text: Swiss Hate: Shaming mit Renato Kaiser | Advents-Special\n",
      "Wir sprechen über Shaming – etwas, das zur Zeit in der Schweiz rege betrieben wird. So sehr, dass wir eine neue Fernsehshow ins Leben gerufen haben. Angelehnt an die altbekannte Sendung «Swiss Date» möchten wir nun mit «Swiss Hate» hasserfüllte Menschen zusammenbringen. Heute als Gast mit dabei: Renato Kaiser\n",
      "Output Tags (incorrect format): [\"MEDIEN UND KOMMUNIKATION\", \"KULT\n",
      "Real Tags: ['VOLKSKULTUR.']\n",
      "\n",
      "Text: Gaddafi feiert\n",
      "In Libyen findet die Feier zum 40-jährigen Jubiläum der Machtergreifung Gaddafis statt. Begangen wird die Revolution des 1. Septembers 1969. Der Anlass fiel äusserst pompös aus.\n",
      "Output Tags (incorrect format): [\"GESCHICHTE.\", \"STAAT UND POLITIK.\"]\n",
      "Real Tags: ['STAAT UND POLITIK.']\n",
      "\n",
      "Text: Reicht ein bisschen Frühenglisch?\n",
      "Kinder eignen sich eine Sprache einfacher an als Erwachsene: Im Hirn bauen sie schneller die dafür nötigen Vernetzungen auf. Deshalb lernen heute in vielen Kantonen Schüler Englisch bereits in der zweiten Klasse. Verändert sich im Hirn der Kinder tatsächlich etwas, wenn sie zweimal pro Woche in Englisch unterrichtet werden? Psychologen der Universität Zürich haben untersucht, was im Hirn der Kinder geschieht, wenn sie Frühenglisch büffeln.\n",
      "Output Tags (incorrect format): [\"BILDUNG.\", \"WISSENSCHAFT.\"]\n",
      "Real Tags: ['BILDUNG.', 'WISSENSCHAFT.']\n",
      "\n",
      "Text: Alessio Lindenmann lässt die High Society abheben\n",
      "Jedes Jahr können sich Lehrlinge aus den Kantonen Basel-Stadt und Basel-Landschaft für den Titel «Lehrling des Jahres» bewerben. Die zehn Besten stellen sich einer Fachjury und per Online-Voting der Öffentlichkeit. Im November wurde der 26-jährige Polymechaniker Alessio Lindenmann mit dem Titel ausgezeichnet. Polymechaniker sorgt bei Jet Aviation dafür, dass die Reichen, Schönen und Erfolgreichen nicht auf dem Boden bleiben.\n",
      "Output Tags (incorrect format): [\"ARBEIT.\", \"BILDUNG.\"]\n",
      "Real Tags: ['BILDUNG.', 'PORTRÄT.']\n",
      "\n",
      "Text: IKRK-Chef Maurer unterwegs in der Ukraine\n",
      "Mit fast 50 Millionen Franken engagiert sich das Internationale Komitee vom Roten Kreuz (IKRK) derzeit in der Ukraine. Und es soll noch mehr werden. Denn die humanitäre Lage der Menschen im Konfliktgebiet selber, aber auch für die hunderttausenden von Vertriebenen, ist sehr angespannt. IKRK-Präsident Peter Maurer ist in diesen Tagen zwischen Moskau und Kiew unterwegs.\n",
      "Output Tags (incorrect format): [\"SOZIALES\", \"STAAT UND POLITIK\"]\n",
      "Real Tags: ['SOZIALES.', 'STAAT UND POLITIK.']\n",
      "\n",
      "Text: Freiburg: Sprechstunde von Studenten für Studenten\n",
      "Eine Gesundheitssprechstunde für 15 Franken: Dies gibt es an der Hochschule für Gesundheit in Freiburg. Unter fachmännischer Aufsicht bieten Studierende diese Dienstleistung anderen Studierenden an.\n",
      "Output Tags (incorrect format): ```python\n",
      "[\"GESUNDHEIT.\", \"BILDUNG.\"]\n",
      "```\n",
      "Real Tags: ['BILDUNG.', 'GESUNDHEIT.']\n",
      "\n",
      "Text: Nazi-Raubkunst: Das Zittern der Schweizer Museen\n",
      "Diese Woche eröffnet das Kunstmuseum Bern die Gurlitt-Ausstellung. Dabei setzt Bern neue Massstäbe bezüglich der Definition von Nazi-Raubkunst: Schweizer Museen sollen die Bilder zurückgeben, welche ihre jüdischen Besitzer wegen der Nazi-Verfolgung verloren hatten. Das bringt andere Schweizer Kunstmuseen in Bedrängnis.\n",
      "Output Tags (incorrect format): [\"KULTUR.\", \"GESCHICHTE.\"]\n",
      "Real Tags: ['GESCHICHTE.', 'KULTUR.']\n",
      "\n",
      "Text: Der Schnee vermiest das Geschäft\n",
      "\n",
      "Output Tags (incorrect format): [\"WIRTSCHAFT\", \"UMWELT\"]\n",
      "Real Tags: ['GEWERBE.', 'UMWELT.']\n",
      "\n",
      "Text: Günstigere Prämien für Gesundheitsbewusste (Teil 1)\n",
      "Sportliche und gesundheitsbewusste Menschen sollen weniger für ihre Krankenkassenprämien zahlen müssen – diese Vision gibt es schon länger. Um ein solches Bonus-Malus-System in der Praxis umsetzen zu können, sollen Gesundheitsdaten via App gleich der Krankenkasse weitergeleitet werden.\n",
      "Output Tags (incorrect format): ```python\n",
      "[\"GESUNDHEIT.\", \"TECHNIK.\"]\n",
      "```\n",
      "Real Tags: ['GESUNDHEIT.', 'MEDIEN UND KOMMUNIKATION.', 'TECHNIK.']\n",
      "\n",
      "Text: Russland erhöht Drohkulisse gegen den Westen\n",
      "Der Angriffskrieg Russlands gegen die Ukraine läuft nicht gut. Nach gut 400 Kriegstagen steckt der Angriff fest, der ukrainische Widerstand ist dank westlicher Unterstützung ungebrochen. Das hat die russische Führung veranlasst, die atomare Drohkulisse gegenüber dem Westen nochmals deutlich auszubauen – die UNO besorgt. Einschätzungen von SRF-Korrespondent Christof Franzen.\n",
      "Output Tags (incorrect format): ```python\n",
      "[\"STAAT UND POLITIK.\", \"MILITÄ\n",
      "Real Tags: ['MILITÄR.', 'STAAT UND POLITIK.']\n",
      "\n",
      "Text: Bundesrat gegen Mindestlohn\n",
      "\n",
      "Output Tags (incorrect format): ```python\n",
      "[STAAT UND POLITIK, ARBEIT]\n",
      "```\n",
      "Real Tags: ['ARBEIT.', 'STAAT UND POLITIK.']\n",
      "\n",
      "Text: Ueli Schmezer verlässt SRF\n",
      "Seit 25 Jahren gibt Ueli Schmezer dem «Kassensturz» ein Gesicht. Der Moderator verlässt das Unternehmen auf Eigeninitiative per Ende Januar 2022.\n",
      "Output Tags (incorrect format): [\"MEDIEN UND KOMMUNIKATION\", \"PORTR\n",
      "Real Tags: ['MEDIEN UND KOMMUNIKATION.', 'PORTRÄT.']\n",
      "\n",
      "Text: Die ersten Franz-Carl-Weber-Filialen verschwinden\n",
      "Franz Carl Weber weckt bei vielen Erinnerungen an die Kindheit. Nun werden die ersten Spielwarenläden zu Müller-Filialen, die hauptsächlich Drogerieprodukte verkaufen.\n",
      "Output Tags (incorrect format): [\"WIRTSCHAFT.\", \"GEWERBE.\"]\n",
      "Real Tags: ['FREIZEIT.', 'GEWERBE.', 'WIRTSCHAFT.']\n",
      "\n",
      "Text: Yvonne Bischof, SG (Staffel 4, Folge 3)\n",
      "Für das dritte Landfrauenessen reisen die sieben Protagonistinnen ins Toggenburg, nach Stein SG.\n",
      "Output Tags (incorrect format): ```python\n",
      "[PORTRÄT, FREIZEIT]\n",
      "```\n",
      "Real Tags: ['GEWERBE.', 'LANDWIRTSCHAFT.']\n",
      "\n"
     ]
    },
    {
     "name": "stdout",
     "output_type": "stream",
     "text": [
      "933.2201433181763\n"
     ]
    }
   ],
   "source": [
    "from tqdm.notebook import tqdm\n",
    "prompt_5_accuracy = []\n",
    "prompt_5_targets = []\n",
    "prompt_5_outputs = []\n",
    "\n",
    "import time\n",
    "start = time.time()\n",
    "\n",
    "counter = 0\n",
    "for test_text in tqdm(df_sample_['Web-Text']):\n",
    "    \n",
    "    prompt = f\"\"\"\n",
    "                Angesichts der folgenden beschreibenden Inhalte aus verschiedenen Videos, klassifizieren Sie bitte jeden Ausschnitt, indem Sie bis zu zwei relevante Tags aus der bereitgestellten Tag-Liste zuweisen. Wählen Sie ein Tag, wenn es eindeutig am relevantesten ist, oder zwei Tags, wenn zwei Themen gleichermaßen prominent sind. Die Tags sollten die Hauptthemen des Textes genau widerspiegeln und zum Portfolio eines öffentlich-rechtlichen Senders passen.\n",
    "\n",
    "                Die Tags und ihre zugehörigen Schlüsselwörter sind in der folgenden Tabelle beschrieben:\n",
    "\n",
    "                | Tag | Schlüsselwörter |\n",
    "                |:----|:----------------|\n",
    "                | ARBEIT. | Arbeit, Arbeitnehmer, Arbeitsbedingung, Arbeitsrecht, Arbeitskonflikt, Arbeitslosigkeit, Arbeitsmarkt, Arbeitsvermittlung, Beruf, Einkommen, Gastarbeiter, Heimarbeit, Kinderarbeit, Karriere, Pensionierung, Schwarzarbeit, Sozialpartnerschaft |\n",
    "                | BILDUNG. | Berufsbildung, Bildung, Eltern, Erwachsenenbildung, Erziehung, Hochschule, Höhere Fachschule, Fachmittelschule, Gymnasium, Kindergarten, Lehrer, Heil- und Sonderpädagogik, Primarschule, Privatschule, Schule, Schüler, Schulinhalt, Schulreform, Sekundarschule, Stipendium, Sportschule, Studierende |\n",
    "                | ENERGIE. | Atomenergie, Brennstoff, Elektrizität, Energie, Energieverbrauch, Energietransport, Energiespeicher, Energiepolitik, Erneuerbare Energie, Fossile Energie, Kraftwerk, Staudamm |\n",
    "                | FREIZEIT. | Alpinismus, Badeanstalt, Breitensport, Denksport, Ferien, Freizeit, Freizeitgarten, Freizeittanz, Geselligkeit, Glücksspiel, Hobby, Jahrmarkt, Nachtleben, Spielen, Sportanlage, Sportgerät, Tourismus, Verein, Wandern |\n",
    "                | GESCHICHTE. | Geschichte, Geschichte-Früheste, Geschichte-Alte, Geschichte-Mittelalter, Geschichte-Neuere, Geschichte-Neueste |\n",
    "                | GESUNDHEIT. | Alternativmedizin, Arzt, Drogenpolitik, Ernährung, Gesundheit, Gesundheitswesen, Hygiene, Krankenversicherung, Krankheit, Kur, Medikament, Medizin, Medizinische Forschung, Patientenrecht, Psychiatrie, Rettungswesen, Schwangerschaft, Sucht, Zahnmedizin |\n",
    "                | GEWERBE. | Autogewerbe, Baugewerbe, Detailhandel, Dienstleistung, Gartenbau, Gastgewerbe, Getränk, Gewerbe, Handwerk, Haustechnik, Immobilienhandel, Kochen, Lebensmittelbranche, Logistik, Möbelbranche, Reiseunternehmen, Sicherheitsbranche |\n",
    "                | INDUSTRIE. | Autoindustrie, Bergbau, Chemieindustrie, Computerindustrie, Druckindustrie, Flugzeugindustrie, Industrie, Industriestandort, Maschinenindustrie, Metallindustrie, Papierindustrie, Pharmaindustrie, Rohstoff, Rüstungsindustrie, Schiffsbau, Schuhindustrie, Sportartikelindustrie, Tabakindustrie, Textilindustrie, Uhrenindustrie, Unterhaltungselektronik |\n",
    "                | JUSTIZ. | Bürgerrecht, Eigentumsrecht, Gericht, Gesetz, Internationales Recht, Justiz, Meinungsfreiheit, Menschenrecht, Ombudsstelle, Persönlichkeitsschutz, Personendokument, Strafrecht, Strafverfahren, Strafvollzug, Strafvollzugsanstalt, Urheberrecht, Wettbewerbsrecht, Zivilrecht |\n",
    "                | KULTUR. | Architektur, Ausstellung, Denkmal, Design, Film, Fotografie, Gedächtnisinstitution, Kino, Kultur, Kulturpolitik, Kulturförderung, Kulturzentrum, Kunst, Literatur, Mode, Musik, Sprache und Schrift, Tanz, Theater, Unterhaltungsbranche |\n",
    "                | LANDWIRTSCHAFT. | Agrarpolitik, Berglandwirtschaft, Biologische Landwirtschaft, Fischerei, Fleischproduktion, Forstwirtschaft, Jagd, Landwirtschaft, Landwirtschaftsprodukt, Milch, Nutzpflanze, Tierhaltung, Veterinärmedizin, Weinbau |\n",
    "                | MEDIEN UND KOMMUNIKATION. | Fernsehen, Internet, Journalismus, Medien, Medien und Kommunikation, Medien- und Multimedia-Unternehmen, Medienpolitik, Nachrichtenagentur, Post, Presse, Radio, Satellitenkommunikation, Telekommunikation, Verlag, Video, Zensur |\n",
    "                | MENSCH. | Alltag, Alter, Asylpolitik, Ausländer, Auslandschweizer, Behinderung, Bevölkerung, Diskriminierung, Ehe, Ethnie, Familie, Flüchtling, Frau, Frauenaktivität, Gesellschaftsform, Gesellschaftsfragen, Grenzgänger, Haushalt, Jugend, Kind, Konkubinat, Liebe, Mann, Mensch, Migration, Minderheit, Randständige, Seelisches, Sexualität, Sterben, Verhalten, Wohnen |\n",
    "                | MILITÄR. | Internationales Militärbündnis, Kriegsvorsorge, Militär, Militäranlage, Militärausgaben, Militärdienst, Militärjustiz, Militärschau, Rüstung, Schweizergarde, Truppengattung, Truppenstationierung, Waffe, Militär, Waffe, Privat, Zivildienst, Zivilschutz |\n",
    "                | PORTRÄT. | Porträt Geografie, Porträt Körperschaften, Porträt Personen, Porträt Thema |\n",
    "                | RELIGION. | Christentum, Christliche Kirche, Glaube, Gott, Mission, Nichtchristliche Religion, Ökumene, Religiöse Schriften, Religiöser Fundamentalismus, Religiöse Sondergemeinschaft, Religion, Spiritualität |\n",
    "                | SENSATION. | Affäre, Auszeichnung, Brand, Erfindung, Expedition, Explosion, Kuriosa, Prominenz, Sensation, Showbusiness, Unfall |\n",
    "                | SOZIALES. | Altersvorsorge, Armut, Demoskopie, Feier, Heim, Hilfswerk, Humanitäre Hilfe, Lebensstandard, Reichtum, Sozialarbeit, Soziale Bewegung, Soziales, Sozialhilfe, Sozialpolitik, Sozialversicherung, Protest, Vormundschaft, Zukunft |\n",
    "                | STAAT UND POLITIK. | Abstimmung, Amtsausübung, Aussenpolitik, Bund, Europäische Integration, Feuerwehr, Finanzen, Frieden, Gemeinde, Gewaltentrennung, Gleichstellung, Grenze, Heimat, Ideologie, Initiative, Innenpolitik, Internationale Organisation, Kanton, Krieg, Landesausstellung, Lobbyismus, Mass, Neutralität, Ost-West, Parlament, Politische Gruppierung, Polizei, Referendum, Reformprozess, Regierung, Regionalismus, Siedlungspolitik, Staat und Politik, Staatsbetrieb, Staatsfeier, Staatsform, Staatssicherheit, Staatszugehörigkeit, Steuer, Subvention, Umsturz, Unruhen, Verfassung, Verwaltung, Wahl, Wiedergutmachung, Weltausstellung, Widerstandsbewegung, Zoll, Zwischenstaatlicher Konflikt |\n",
    "                | STRAFTAT. | Bombenalarm, Doping, Drogendelikt, Ehrendelikt, Eigentumsdelikt, Fälschung, Gewalt gegen Personen, Korruption, Kriminelle Vereinigung, Kriegsverbrechen, Politische Verbrechen, Sachbeschädigung, Sexualdelikt, Straftat, Spionage, Tötungsdelikt, Verbrechensverhütung, Verkehrsdelikt, Wirtschaftskriminalität |\n",
    "                | TECHNIK. | Automatisierung, Computertechnik, Digitalisierung, Elektrotechnik, Präzisionsinstrument, Raumfahrttechnik, Software, Technik, Überwachungstechnik, Werkstoff, Werkzeug |\n",
    "                | UMWELT. | Abfall, Atom, Atommüll, Boden, Gewässer, Giftstoff, Heimatschutz, Klima, Lärm, Landschaft, Luft, Naturkatastrophe, Raumplanung, Recycling, Schädlingsbekämpfung, Stadt, Tier, Umwelt, Umweltschutz, Wald, Wasser, Wetter |\n",
    "                | VERKEHR. | Alpentransversale, Auto, Autobahn, Bahn, Bahnanlage, Bus, Bergbahn, Brücke, E-Fahrzeug, Fahrplan, Fahrpreis, Fahrrad, Fluggesellschaft, Flughafen, Flugzeug, Fussgänger, Güterverkehr, Historische Verkehrsmittel, Luftverkehr, Motorrad, Nahverkehr, Öffentlicher Verkehr, Parken, Pendlen, Raumfahrt, Schifffahrt, Strassenbau und Unterhalt, Strassenverkehr, Tram, Tunnel, Verkehr, Verkehrsverband, Verkehrsverbund, Verkehrspolitik |\n",
    "                | VOLKSKULTUR. | Brauchtum, Brauchtumssport, Feiertag, Jahreszeit, Zunft |\n",
    "                | WIRTSCHAFT. | Arbeitgeber, Aussenwirtschaft, Betriebsänderung, Bodenmarkt, Finanzbranche, Geld, Gold, Handel, Investition, Kapitalmarkt, Kartell, Konjunktur, Konkurs, Konsum, Kredit, Preisniveau, Selbstständigkeit, Sponsoring, Unternehmen, Unternehmenskonzentration, Versicherungsbranche, Währung, Weltwirtschaft, Werbung, Wirtschaft, Wirtschaftspolitik, Wirtschaftsstatistik, Zentralbank |\n",
    "                | WISSENSCHAFT. | Archäologie, Astronomie, Biologie, Chemie, Ethnologie, Geisteswissenschaft, Genetik, Geografie, Geologie, Geschichtswissenschaft, Grenzwissenschaft, Informatik, Kartografie, Literaturwissenschaft, Mathematik, Meteorologie, Naturwissenschaft, Paläontologie, Philosophie, Physik, Politologie, Psychologie, Rechtswissenschaft, Religionswissenschaft, Soziologie, Sportwissenschaft, Sprachwissenschaft, Theologie, Wirtschaftswissenschaft, Wissenschaft |\n",
    "\n",
    "                Text zum Klassifizieren: '{test_text}'\n",
    "\n",
    "                Ihre Aufgabe ist es, den Ausschnitt zu lesen und die am besten passenden Tags zuzuweisen, die den Inhalt am besten widerspiegeln, unter Berücksichtigung ihrer Relevanz für den öffentlich-rechtlichen Rundfunk und die Informationen in der Tabelle. \n",
    "                Geben Sie nur die Tags als Python-Liste aus.\n",
    "            \"\"\"\n",
    "    \n",
    "    try:\n",
    "        response = client.chat.completions.create(\n",
    "            model=deployment_name,\n",
    "            messages=[\n",
    "                {\"role\": \"system\", \"content\": \"Sie sind ein hilfreicher Assistent, der dem Redaktionsteam des öffentlich-rechtlichen Rundfunks hilft, zentrale Themen aus beschreibenden Videotexten zu extrahieren.\"},\n",
    "                {\"role\": \"user\", \"content\": prompt}\n",
    "            ]\n",
    "        )\n",
    "    except Exception as e:\n",
    "        continue\n",
    "        print(f\"API Error: {test_text}, Error: {e}\")\n",
    "    \n",
    "     # Transfer ChatGPT output to One-Hot encoded list\n",
    "    try:\n",
    "        output_tags = response.choices[0].message.content\n",
    "        one_hot_encoded_tags = match_and_encode_tags(output_tags, label_names)\n",
    "        df_text = df[df['Web-Text'] == test_text].reset_index(drop=True)   \n",
    "    except Exception as e:\n",
    "        print(f\"Error processing text:{e}\")\n",
    "        print(response.choices[0].message.content)\n",
    "        continue\n",
    "    \n",
    "    prompt_5_outputs.append(one_hot_encoded_tags)\n",
    "    prompt_5_targets.append(df_text['Categories'][0])    \n",
    "    # Compute Accuracy on the fly\n",
    "    match_percent = sum(i==j for i,j in zip(df_text['Categories'][0],one_hot_encoded_tags))/len(one_hot_encoded_tags)\n",
    "    prompt_5_accuracy.append(match_percent)\n",
    "    \n",
    "    # Print some of the Answers\n",
    "    if counter % 15 == 0:\n",
    "        # Show the Answer\n",
    "        visualisation_encodings(response, test_text, df_text)\n",
    "    counter += 1\n",
    "    \n",
    "\n",
    "end = time.time()\n",
    "print(end - start)\n"
   ]
  },
  {
   "cell_type": "code",
   "execution_count": 253,
   "id": "90e27b0a",
   "metadata": {
    "scrolled": true
   },
   "outputs": [
    {
     "name": "stderr",
     "output_type": "stream",
     "text": [
      "C:\\Program Files\\Anaconda3\\lib\\site-packages\\sklearn\\metrics\\_classification.py:1344: UndefinedMetricWarning: Precision and F-score are ill-defined and being set to 0.0 in samples with no predicted labels. Use `zero_division` parameter to control this behavior.\n",
      "  _warn_prf(average, modifier, msg_start, len(result))\n"
     ]
    },
    {
     "data": {
      "text/plain": [
       "[0.6153846153846154,\n",
       " 0.5370680044593088,\n",
       " 0.5486064659977703,\n",
       " None,\n",
       " 0.934525340879856]"
      ]
     },
     "execution_count": 253,
     "metadata": {},
     "output_type": "execute_result"
    }
   ],
   "source": [
    "results_5 = list(precision_recall_fscore_support(prompt_5_targets, prompt_5_outputs, average='samples'))\n",
    "results_5.append(hamming_accuracy(np.array(prompt_5_targets),np.array(prompt_5_outputs)))\n",
    "results_5"
   ]
  },
  {
   "cell_type": "code",
   "execution_count": 254,
   "id": "f7c756ed",
   "metadata": {},
   "outputs": [
    {
     "data": {
      "text/plain": [
       "0.9345253408798558"
      ]
     },
     "execution_count": 254,
     "metadata": {},
     "output_type": "execute_result"
    }
   ],
   "source": [
    "np.mean(prompt_5_accuracy)"
   ]
  },
  {
   "cell_type": "code",
   "execution_count": 255,
   "id": "90221634",
   "metadata": {},
   "outputs": [
    {
     "data": {
      "text/plain": [
       "0.934525340879856"
      ]
     },
     "execution_count": 255,
     "metadata": {},
     "output_type": "execute_result"
    }
   ],
   "source": [
    "hamming_accuracy(np.array(prompt_5_targets),np.array(prompt_5_outputs))"
   ]
  },
  {
   "cell_type": "code",
   "execution_count": 256,
   "id": "52823bb8",
   "metadata": {
    "scrolled": true
   },
   "outputs": [
    {
     "name": "stdout",
     "output_type": "stream",
     "text": [
      "                           precision    recall  f1-score   support\n",
      "\n",
      "                  ARBEIT.       0.40      0.67      0.50        12\n",
      "                 BILDUNG.       0.60      0.67      0.63         9\n",
      "                 ENERGIE.       1.00      0.74      0.85        19\n",
      "                FREIZEIT.       0.58      0.46      0.51        24\n",
      "              GESCHICHTE.       0.35      0.60      0.44        10\n",
      "              GESUNDHEIT.       0.92      0.64      0.75        36\n",
      "                 GEWERBE.       0.75      0.20      0.32        30\n",
      "               INDUSTRIE.       0.56      0.29      0.38        17\n",
      "                  JUSTIZ.       0.45      0.65      0.54        23\n",
      "                  KULTUR.       0.64      0.77      0.70        35\n",
      "          LANDWIRTSCHAFT.       0.75      0.36      0.49        25\n",
      "MEDIEN UND KOMMUNIKATION.       0.50      0.20      0.29        25\n",
      "                  MENSCH.       0.57      0.30      0.39        27\n",
      "                 MILITÄR.       0.88      0.37      0.52        19\n",
      "                 PORTRÄT.       0.50      0.41      0.45        29\n",
      "                RELIGION.       0.62      0.45      0.53        11\n",
      "               SENSATION.       0.50      0.35      0.41        26\n",
      "                SOZIALES.       0.54      0.27      0.36        26\n",
      "       STAAT UND POLITIK.       0.60      0.71      0.65        55\n",
      "                STRAFTAT.       0.56      0.20      0.29        25\n",
      "                 TECHNIK.       0.60      0.75      0.67        16\n",
      "                  UMWELT.       0.61      0.65      0.62        31\n",
      "                 VERKEHR.       0.64      0.53      0.58        17\n",
      "             VOLKSKULTUR.       0.50      0.36      0.42        11\n",
      "              WIRTSCHAFT.       0.70      0.75      0.73        44\n",
      "            WISSENSCHAFT.       0.50      0.35      0.41        17\n",
      "\n",
      "                micro avg       0.61      0.50      0.55       619\n",
      "                macro avg       0.61      0.49      0.52       619\n",
      "             weighted avg       0.63      0.50      0.53       619\n",
      "              samples avg       0.62      0.54      0.55       619\n",
      "\n"
     ]
    },
    {
     "name": "stderr",
     "output_type": "stream",
     "text": [
      "C:\\Program Files\\Anaconda3\\lib\\site-packages\\sklearn\\metrics\\_classification.py:1344: UndefinedMetricWarning: Precision and F-score are ill-defined and being set to 0.0 in samples with no predicted labels. Use `zero_division` parameter to control this behavior.\n",
      "  _warn_prf(average, modifier, msg_start, len(result))\n"
     ]
    }
   ],
   "source": [
    "from sklearn.metrics import classification_report\n",
    "\n",
    "report = classification_report(prompt_5_targets, prompt_5_outputs, target_names=label_names)\n",
    "print(report)"
   ]
  },
  {
   "cell_type": "code",
   "execution_count": null,
   "id": "8ff5d704",
   "metadata": {},
   "outputs": [],
   "source": []
  },
  {
   "cell_type": "code",
   "execution_count": 257,
   "id": "c625e7cc",
   "metadata": {},
   "outputs": [],
   "source": [
    "df_prompt_comparison.loc['Lvl2 Labels Only GPT4', ['avg_sample_precision','avg_sample_recall','avg_sample_f1-score','avg_sample_hamming_acc','time_seconds','version']] = results_5[0:3] + results_5[-1:] + [933.2201433181763, 'chatGPT 4']"
   ]
  },
  {
   "cell_type": "code",
   "execution_count": 271,
   "id": "009d37b0",
   "metadata": {},
   "outputs": [],
   "source": [
    "df_prompt_comparison['time_minutes'] = df_prompt_comparison['time_seconds']/30/60"
   ]
  },
  {
   "cell_type": "code",
   "execution_count": 272,
   "id": "732cb359",
   "metadata": {},
   "outputs": [
    {
     "data": {
      "text/html": [
       "<div>\n",
       "<style scoped>\n",
       "    .dataframe tbody tr th:only-of-type {\n",
       "        vertical-align: middle;\n",
       "    }\n",
       "\n",
       "    .dataframe tbody tr th {\n",
       "        vertical-align: top;\n",
       "    }\n",
       "\n",
       "    .dataframe thead th {\n",
       "        text-align: right;\n",
       "    }\n",
       "</style>\n",
       "<table border=\"1\" class=\"dataframe\">\n",
       "  <thead>\n",
       "    <tr style=\"text-align: right;\">\n",
       "      <th></th>\n",
       "      <th>avg_sample_precision</th>\n",
       "      <th>avg_sample_recall</th>\n",
       "      <th>avg_sample_f1-score</th>\n",
       "      <th>avg_sample_hamming_acc</th>\n",
       "      <th>time_seconds</th>\n",
       "      <th>version</th>\n",
       "      <th>time_minutes</th>\n",
       "    </tr>\n",
       "  </thead>\n",
       "  <tbody>\n",
       "    <tr>\n",
       "      <th>Lvl1 Labels Only</th>\n",
       "      <td>0.582215</td>\n",
       "      <td>0.456655</td>\n",
       "      <td>0.484004</td>\n",
       "      <td>0.928369</td>\n",
       "      <td>628.802197</td>\n",
       "      <td>chatGPT 3</td>\n",
       "      <td>0.349335</td>\n",
       "    </tr>\n",
       "    <tr>\n",
       "      <th>Lvl2 Labels + Description</th>\n",
       "      <td>0.534091</td>\n",
       "      <td>0.409722</td>\n",
       "      <td>0.439015</td>\n",
       "      <td>0.927593</td>\n",
       "      <td>637.060373</td>\n",
       "      <td>chatGPT 3</td>\n",
       "      <td>0.353922</td>\n",
       "    </tr>\n",
       "    <tr>\n",
       "      <th>Description Only</th>\n",
       "      <td>0.538031</td>\n",
       "      <td>0.460011</td>\n",
       "      <td>0.470358</td>\n",
       "      <td>0.922819</td>\n",
       "      <td>631.780827</td>\n",
       "      <td>chatGPT 3</td>\n",
       "      <td>0.350989</td>\n",
       "    </tr>\n",
       "    <tr>\n",
       "      <th>Lvl2 Labels Only</th>\n",
       "      <td>0.607023</td>\n",
       "      <td>0.476867</td>\n",
       "      <td>0.505463</td>\n",
       "      <td>0.931953</td>\n",
       "      <td>633.959113</td>\n",
       "      <td>chatGPT 3</td>\n",
       "      <td>0.352200</td>\n",
       "    </tr>\n",
       "    <tr>\n",
       "      <th>Lvl3 Labels Only</th>\n",
       "      <td>0.634680</td>\n",
       "      <td>0.460999</td>\n",
       "      <td>0.504265</td>\n",
       "      <td>0.935638</td>\n",
       "      <td>633.697094</td>\n",
       "      <td>chatGPT 3</td>\n",
       "      <td>0.352054</td>\n",
       "    </tr>\n",
       "    <tr>\n",
       "      <th>Lvl2 Labels Only GPT4</th>\n",
       "      <td>0.615385</td>\n",
       "      <td>0.537068</td>\n",
       "      <td>0.548606</td>\n",
       "      <td>0.934525</td>\n",
       "      <td>933.220143</td>\n",
       "      <td>chatGPT 4</td>\n",
       "      <td>0.518456</td>\n",
       "    </tr>\n",
       "  </tbody>\n",
       "</table>\n",
       "</div>"
      ],
      "text/plain": [
       "                           avg_sample_precision  avg_sample_recall  \\\n",
       "Lvl1 Labels Only                       0.582215           0.456655   \n",
       "Lvl2 Labels + Description              0.534091           0.409722   \n",
       "Description Only                       0.538031           0.460011   \n",
       "Lvl2 Labels Only                       0.607023           0.476867   \n",
       "Lvl3 Labels Only                       0.634680           0.460999   \n",
       "Lvl2 Labels Only GPT4                  0.615385           0.537068   \n",
       "\n",
       "                           avg_sample_f1-score  avg_sample_hamming_acc  \\\n",
       "Lvl1 Labels Only                      0.484004                0.928369   \n",
       "Lvl2 Labels + Description             0.439015                0.927593   \n",
       "Description Only                      0.470358                0.922819   \n",
       "Lvl2 Labels Only                      0.505463                0.931953   \n",
       "Lvl3 Labels Only                      0.504265                0.935638   \n",
       "Lvl2 Labels Only GPT4                 0.548606                0.934525   \n",
       "\n",
       "                           time_seconds    version  time_minutes  \n",
       "Lvl1 Labels Only             628.802197  chatGPT 3      0.349335  \n",
       "Lvl2 Labels + Description    637.060373  chatGPT 3      0.353922  \n",
       "Description Only             631.780827  chatGPT 3      0.350989  \n",
       "Lvl2 Labels Only             633.959113  chatGPT 3      0.352200  \n",
       "Lvl3 Labels Only             633.697094  chatGPT 3      0.352054  \n",
       "Lvl2 Labels Only GPT4        933.220143  chatGPT 4      0.518456  "
      ]
     },
     "execution_count": 272,
     "metadata": {},
     "output_type": "execute_result"
    }
   ],
   "source": [
    "df_prompt_comparison"
   ]
  },
  {
   "cell_type": "code",
   "execution_count": 279,
   "id": "038c8ea8",
   "metadata": {},
   "outputs": [
    {
     "data": {
      "image/png": "[encoded data removed]",
      "text/plain": [
       "<Figure size 1000x600 with 1 Axes>"
      ]
     },
     "metadata": {},
     "output_type": "display_data"
    }
   ],
   "source": [
    "# Plot\n",
    "ax = df_prompt_comparison[['avg_sample_f1-score','avg_sample_hamming_acc', 'time_minutes']].iloc[[3,5], :].plot(kind='bar', figsize=(10, 6), edgecolor='black')\n",
    "\n",
    "# Title and labels\n",
    "plt.title('Prompt Sample Performance Comparison (n=300)', fontsize=16)\n",
    "plt.ylabel('Scores', fontsize=14)\n",
    "\n",
    "# Customize ticks\n",
    "plt.xticks(rotation=0, fontsize=10)\n",
    "plt.yticks(fontsize=12)\n",
    "\n",
    "# Add more y-ticks for better readability\n",
    "ax.set_yticks([i * 0.05 for i in range(0, 21)])  # y-ticks from 0 to 1 with step of 0.05\n",
    "\n",
    "# Add gridlines for both x and y axis for better readability\n",
    "plt.grid(axis='y', linestyle='--', linewidth=0.7, which='both')\n",
    "\n",
    "# Add legend with title\n",
    "plt.legend(title='Metrics', fontsize=12, title_fontsize=14, labels=['F1-Score', 'Accuracy', 'Minutes for Batch of 10'], loc='center left', bbox_to_anchor=(1.0, 0.5))\n",
    "\n",
    "# Show the plot\n",
    "# Adjust layout to make space for the legend\n",
    "plt.tight_layout(rect=[0, 0, 1, 1])\n",
    "plt.show()"
   ]
  },
  {
   "cell_type": "code",
   "execution_count": null,
   "id": "0ec41de6",
   "metadata": {},
   "outputs": [],
   "source": []
  }
 ],
 "metadata": {
  "hide_input": false,
  "kernelspec": {
   "display_name": "Python 3",
   "language": "python",
   "name": "python3"
  },
  "language_info": {
   "codemirror_mode": {
    "name": "ipython",
    "version": 3
   },
   "file_extension": ".py",
   "mimetype": "text/x-python",
   "name": "python",
   "nbconvert_exporter": "python",
   "pygments_lexer": "ipython3",
   "version": "3.10.9"
  }
 },
 "nbformat": 4,
 "nbformat_minor": 5
}
